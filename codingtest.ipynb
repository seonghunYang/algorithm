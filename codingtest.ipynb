{
 "cells": [
  {
   "cell_type": "code",
   "execution_count": 3,
   "metadata": {},
   "outputs": [
    {
     "name": "stdout",
     "output_type": "stream",
     "text": [
      "8\n",
      "85 42 79 95 37 11 72 32\n",
      "84\n"
     ]
    }
   ],
   "source": [
    "#15969\n",
    "import sys\n",
    "# input = sys.stdin.readline\n",
    "# print = sys.stdout.write\n",
    "\n",
    "N = int(input())\n",
    "data = list(map(int, input().split()))\n",
    "\n",
    "print(max(data) - min(data))\n",
    "#꼼수 예제보고 입력보면 더 빠른이해"
   ]
  },
  {
   "cell_type": "code",
   "execution_count": 7,
   "metadata": {},
   "outputs": [
    {
     "name": "stdout",
     "output_type": "stream",
     "text": [
      "5\n",
      "1 2 2 3 4\n",
      "1 3 2 6 8\n"
     ]
    }
   ],
   "source": [
    "#10539\n",
    "import sys\n",
    "# input = sys.stdin.readline\n",
    "# print = sys.stdout.write\n",
    "\n",
    "N = int(input())\n",
    "B = list(map(int, input().split()))\n",
    "A = [B[0]]\n",
    "\n",
    "for i in range(1, N):\n",
    "    A.append(B[i] * (i+1) - B[i-1] * i)\n",
    "    \n",
    "print(*A)"
   ]
  },
  {
   "cell_type": "code",
   "execution_count": 16,
   "metadata": {},
   "outputs": [
    {
     "name": "stdout",
     "output_type": "stream",
     "text": [
      "3 2\n",
      "BOJ IN\n",
      "1%\n"
     ]
    }
   ],
   "source": [
    "#17269\n",
    "import sys\n",
    "# input = sys.stdin.readline\n",
    "# print = sys.stdout.write\n",
    "\n",
    "N, M = map(int, input().split())\n",
    "A, B = input().split()\n",
    "change = [3, 2, 1, 2, 4, 3, 1, 3, 1, 1, 3, 1, 3, 2, 1, 2,2,2, 1, 2, 1, 1, 1, 2, 2, 1]\n",
    "data = []\n",
    "n, m = 0, 0\n",
    "while n <= N-1 and m <= M-1:\n",
    "    data.append(A[n])\n",
    "    data.append(B[m])\n",
    "    n += 1\n",
    "    m += 1\n",
    "\n",
    "while n <= N-1:\n",
    "    data.append(A[n])\n",
    "    n += 1\n",
    "while m <= M-1:\n",
    "    data.append(B[m])\n",
    "    m += 1\n",
    "    \n",
    "for i in range(len(data)):\n",
    "    data[i] = change[ord(data[i]) - 65]\n",
    "    \n",
    "for i in range(len(data)-2):\n",
    "    for j in range(len(data) - i - 1):\n",
    "        data[j] = (data[j] + data[j+1]) % 10\n",
    "tmp = \"\"\n",
    "if data[0] != 0:\n",
    "    tmp += str(data[0])\n",
    "tmp += str(data[1])\n",
    "print(tmp + \"%\")"
   ]
  },
  {
   "cell_type": "code",
   "execution_count": 28,
   "metadata": {},
   "outputs": [
    {
     "name": "stdout",
     "output_type": "stream",
     "text": [
      "2 2\n",
      "AB CD\n",
      "77\n"
     ]
    }
   ],
   "source": [
    "import sys\n",
    "# input = sys.stdin.readline\n",
    "# print = sys.stdout.write\n",
    "\n",
    "N, M = map(int, input().split())\n",
    "A, B = input().split()\n",
    "change = [3, 2, 1, 2, 4, 3, 1, 3, 1, 1, 3, 1, 3, 2, 1, 2,2,2, 1, 2, 1, 1, 1, 2, 2, 1]\n",
    "\n",
    "AB = ''\n",
    "min_len = min(N, M)\n",
    "for i in range(min_len):\n",
    "    AB += A[i] + B[i]\n",
    "    \n",
    "AB += A[min_len:] + B[min_len:]\n",
    "\n",
    "data = [ change[ord(el) - ord('A')] for el in AB]\n",
    "\n",
    "for i in range(N+M-2):\n",
    "    for j in range(N+M-i-1):\n",
    "        data[j] += data[j+1]\n",
    "print(\"{}%\".format(data[0] % 10 * 10 + data[1] % 10))"
   ]
  },
  {
   "cell_type": "code",
   "execution_count": 30,
   "metadata": {},
   "outputs": [
    {
     "name": "stdout",
     "output_type": "stream",
     "text": [
      "8\n",
      "XOOOXOOX\n",
      "26\n"
     ]
    }
   ],
   "source": [
    "#17389\n",
    "import sys\n",
    "# input = sys.stdin.readline\n",
    "# print = sys.stdout.write\n",
    "\n",
    "N = int(input())\n",
    "S = input().strip()\n",
    "ans = 0\n",
    "bonus = 0\n",
    "for i in range(N):\n",
    "    if S[i] == \"O\":\n",
    "        ans += i + 1 + bonus\n",
    "        bonus += 1\n",
    "    else:\n",
    "        bonus = 0\n",
    "print(ans)"
   ]
  },
  {
   "cell_type": "code",
   "execution_count": 32,
   "metadata": {},
   "outputs": [
    {
     "name": "stdout",
     "output_type": "stream",
     "text": [
      "5\n",
      "4 1 5 2 3\n",
      "5\n",
      "1 3 7 9 5\n",
      "1\n",
      "1\n",
      "0\n",
      "0\n",
      "1\n"
     ]
    }
   ],
   "source": [
    "#1920\n",
    "import sys\n",
    "# input = sys.stdin.readline\n",
    "# print = sys.stdout.write\n",
    "\n",
    "def bst(val):\n",
    "    isin = 0\n",
    "    start = 0\n",
    "    end = len(A)-1\n",
    "    while start <= end:\n",
    "        mid = (end + start) // 2\n",
    "        if A[mid] == val:\n",
    "            isin = 1\n",
    "            break\n",
    "        elif A[mid] > val:\n",
    "            end = mid-1\n",
    "        else:\n",
    "            start = mid + 1\n",
    "    return isin\n",
    "    \n",
    "    \n",
    "N = int(input())\n",
    "A = sorted(list(map(int, input().split())))\n",
    "M = int(input())\n",
    "data = list(map(int, input().split()))\n",
    "\n",
    "for el in data:\n",
    "    ans = bst(el)\n",
    "    print(ans)"
   ]
  },
  {
   "cell_type": "code",
   "execution_count": 36,
   "metadata": {},
   "outputs": [
    {
     "name": "stdout",
     "output_type": "stream",
     "text": [
      "1 3\n",
      "red\n",
      "3\n",
      "a\n",
      "b\n",
      "c\n",
      "a\n",
      "1\n",
      "red\n",
      "red\n",
      "0\n",
      "a\n",
      "b\n",
      "c\n"
     ]
    },
    {
     "ename": "KeyboardInterrupt",
     "evalue": "Interrupted by user",
     "output_type": "error",
     "traceback": [
      "\u001b[1;31m---------------------------------------------------------------------------\u001b[0m",
      "\u001b[1;31mKeyboardInterrupt\u001b[0m                         Traceback (most recent call last)",
      "\u001b[1;32m<ipython-input-36-64fb71975631>\u001b[0m in \u001b[0;36m<module>\u001b[1;34m\u001b[0m\n\u001b[0;32m     13\u001b[0m \u001b[1;33m\u001b[0m\u001b[0m\n\u001b[0;32m     14\u001b[0m \u001b[1;32mfor\u001b[0m \u001b[0m_\u001b[0m \u001b[1;32min\u001b[0m \u001b[0mrange\u001b[0m\u001b[1;33m(\u001b[0m\u001b[0mM\u001b[0m\u001b[1;33m)\u001b[0m\u001b[1;33m:\u001b[0m\u001b[1;33m\u001b[0m\u001b[1;33m\u001b[0m\u001b[0m\n\u001b[1;32m---> 15\u001b[1;33m     \u001b[0mname\u001b[0m \u001b[1;33m=\u001b[0m \u001b[0minput\u001b[0m\u001b[1;33m(\u001b[0m\u001b[1;33m)\u001b[0m\u001b[1;33m.\u001b[0m\u001b[0mstrip\u001b[0m\u001b[1;33m(\u001b[0m\u001b[1;33m)\u001b[0m\u001b[1;33m\u001b[0m\u001b[1;33m\u001b[0m\u001b[0m\n\u001b[0m\u001b[0;32m     16\u001b[0m     \u001b[0ms\u001b[0m \u001b[1;33m=\u001b[0m \u001b[0mint\u001b[0m\u001b[1;33m(\u001b[0m\u001b[0minput\u001b[0m\u001b[1;33m(\u001b[0m\u001b[1;33m)\u001b[0m\u001b[1;33m)\u001b[0m\u001b[1;33m\u001b[0m\u001b[1;33m\u001b[0m\u001b[0m\n\u001b[0;32m     17\u001b[0m     \u001b[0mans\u001b[0m \u001b[1;33m=\u001b[0m \u001b[1;33m[\u001b[0m\u001b[1;33m]\u001b[0m\u001b[1;33m\u001b[0m\u001b[1;33m\u001b[0m\u001b[0m\n",
      "\u001b[1;32m~\\Anaconda3\\Lib\\site-packages\\ipykernel\\kernelbase.py\u001b[0m in \u001b[0;36mraw_input\u001b[1;34m(self, prompt)\u001b[0m\n\u001b[0;32m    861\u001b[0m             \u001b[0mself\u001b[0m\u001b[1;33m.\u001b[0m\u001b[0m_parent_ident\u001b[0m\u001b[1;33m,\u001b[0m\u001b[1;33m\u001b[0m\u001b[1;33m\u001b[0m\u001b[0m\n\u001b[0;32m    862\u001b[0m             \u001b[0mself\u001b[0m\u001b[1;33m.\u001b[0m\u001b[0m_parent_header\u001b[0m\u001b[1;33m,\u001b[0m\u001b[1;33m\u001b[0m\u001b[1;33m\u001b[0m\u001b[0m\n\u001b[1;32m--> 863\u001b[1;33m             \u001b[0mpassword\u001b[0m\u001b[1;33m=\u001b[0m\u001b[1;32mFalse\u001b[0m\u001b[1;33m,\u001b[0m\u001b[1;33m\u001b[0m\u001b[1;33m\u001b[0m\u001b[0m\n\u001b[0m\u001b[0;32m    864\u001b[0m         )\n\u001b[0;32m    865\u001b[0m \u001b[1;33m\u001b[0m\u001b[0m\n",
      "\u001b[1;32m~\\Anaconda3\\Lib\\site-packages\\ipykernel\\kernelbase.py\u001b[0m in \u001b[0;36m_input_request\u001b[1;34m(self, prompt, ident, parent, password)\u001b[0m\n\u001b[0;32m    902\u001b[0m             \u001b[1;32mexcept\u001b[0m \u001b[0mKeyboardInterrupt\u001b[0m\u001b[1;33m:\u001b[0m\u001b[1;33m\u001b[0m\u001b[1;33m\u001b[0m\u001b[0m\n\u001b[0;32m    903\u001b[0m                 \u001b[1;31m# re-raise KeyboardInterrupt, to truncate traceback\u001b[0m\u001b[1;33m\u001b[0m\u001b[1;33m\u001b[0m\u001b[1;33m\u001b[0m\u001b[0m\n\u001b[1;32m--> 904\u001b[1;33m                 \u001b[1;32mraise\u001b[0m \u001b[0mKeyboardInterrupt\u001b[0m\u001b[1;33m(\u001b[0m\u001b[1;34m\"Interrupted by user\"\u001b[0m\u001b[1;33m)\u001b[0m \u001b[1;32mfrom\u001b[0m \u001b[1;32mNone\u001b[0m\u001b[1;33m\u001b[0m\u001b[1;33m\u001b[0m\u001b[0m\n\u001b[0m\u001b[0;32m    905\u001b[0m             \u001b[1;32mexcept\u001b[0m \u001b[0mException\u001b[0m \u001b[1;32mas\u001b[0m \u001b[0me\u001b[0m\u001b[1;33m:\u001b[0m\u001b[1;33m\u001b[0m\u001b[1;33m\u001b[0m\u001b[0m\n\u001b[0;32m    906\u001b[0m                 \u001b[0mself\u001b[0m\u001b[1;33m.\u001b[0m\u001b[0mlog\u001b[0m\u001b[1;33m.\u001b[0m\u001b[0mwarning\u001b[0m\u001b[1;33m(\u001b[0m\u001b[1;34m\"Invalid Message:\"\u001b[0m\u001b[1;33m,\u001b[0m \u001b[0mexc_info\u001b[0m\u001b[1;33m=\u001b[0m\u001b[1;32mTrue\u001b[0m\u001b[1;33m)\u001b[0m\u001b[1;33m\u001b[0m\u001b[1;33m\u001b[0m\u001b[0m\n",
      "\u001b[1;31mKeyboardInterrupt\u001b[0m: Interrupted by user"
     ]
    }
   ],
   "source": [
    "#16165\n",
    "import sys\n",
    "# input = sys.stdin.readline\n",
    "# print = sys.stdout.write\n",
    "\n",
    "N, M = map(int, input().split())\n",
    "data = []\n",
    "for _ in range(N):\n",
    "    team = input().strip()\n",
    "    num = int(input())\n",
    "    for _ in range(num):\n",
    "        data.append([team, input().strip()])\n",
    "\n",
    "for _ in range(M):\n",
    "    name = input().strip()\n",
    "    s = int(input())\n",
    "    ans = []\n",
    "    for i in range(len(data)):\n",
    "        if data[i][s] == name:\n",
    "            ans.append(data[i][s-1])\n",
    "    ans.sort()\n",
    "    for el in ans:\n",
    "        print(el)\n"
   ]
  },
  {
   "cell_type": "code",
   "execution_count": 39,
   "metadata": {},
   "outputs": [
    {
     "name": "stdout",
     "output_type": "stream",
     "text": [
      "8 7 5\n",
      "1 3\n",
      "2 5\n",
      "3 5\n",
      "4 8\n",
      "5 8\n",
      "6 9\n",
      "6 7\n",
      "7 10\n",
      "660\n"
     ]
    }
   ],
   "source": [
    "#17224\n",
    "import sys\n",
    "# input = sys.stdin.readline\n",
    "# print = sys.stdout.write\n",
    "\n",
    "N, L, K = map(int, input().split())\n",
    "data = [list(map(int, input().split())) for _ in range(N)]\n",
    "data_2 = sorted(data, key=lambda x: x[1])\n",
    "score = 0\n",
    "for i in range(N):\n",
    "    if K == 0:\n",
    "        break\n",
    "    if data_2[i][1] <= L:\n",
    "        score += 140\n",
    "        K -= 1\n",
    "    elif data_2[i][0] <= L:\n",
    "        score += 100\n",
    "        K -= 1\n",
    "print(score)"
   ]
  },
  {
   "cell_type": "code",
   "execution_count": 6,
   "metadata": {},
   "outputs": [
    {
     "name": "stdout",
     "output_type": "stream",
     "text": [
      "4\n",
      "5\n",
      "2 4 7 8 9\n",
      "6\n"
     ]
    },
    {
     "ename": "KeyboardInterrupt",
     "evalue": "Interrupted by user",
     "output_type": "error",
     "traceback": [
      "\u001b[1;31m---------------------------------------------------------------------------\u001b[0m",
      "\u001b[1;31mKeyboardInterrupt\u001b[0m                         Traceback (most recent call last)",
      "\u001b[1;32m<ipython-input-6-785fc9b9e8d9>\u001b[0m in \u001b[0;36m<module>\u001b[1;34m\u001b[0m\n\u001b[0;32m     14\u001b[0m \u001b[0mT\u001b[0m \u001b[1;33m=\u001b[0m \u001b[0mint\u001b[0m\u001b[1;33m(\u001b[0m\u001b[0minput\u001b[0m\u001b[1;33m(\u001b[0m\u001b[1;33m)\u001b[0m\u001b[1;33m)\u001b[0m\u001b[1;33m\u001b[0m\u001b[1;33m\u001b[0m\u001b[0m\n\u001b[0;32m     15\u001b[0m \u001b[1;32mfor\u001b[0m \u001b[0m_\u001b[0m \u001b[1;32min\u001b[0m \u001b[0mrange\u001b[0m\u001b[1;33m(\u001b[0m\u001b[0mT\u001b[0m\u001b[1;33m)\u001b[0m\u001b[1;33m:\u001b[0m\u001b[1;33m\u001b[0m\u001b[1;33m\u001b[0m\u001b[0m\n\u001b[1;32m---> 16\u001b[1;33m     \u001b[0mN\u001b[0m\u001b[1;33m,\u001b[0m \u001b[0mdata\u001b[0m \u001b[1;33m=\u001b[0m \u001b[0mint\u001b[0m\u001b[1;33m(\u001b[0m\u001b[0minput\u001b[0m\u001b[1;33m(\u001b[0m\u001b[1;33m)\u001b[0m\u001b[1;33m)\u001b[0m\u001b[1;33m,\u001b[0m \u001b[0mlist\u001b[0m\u001b[1;33m(\u001b[0m\u001b[0mmap\u001b[0m\u001b[1;33m(\u001b[0m\u001b[0mint\u001b[0m\u001b[1;33m,\u001b[0m \u001b[0minput\u001b[0m\u001b[1;33m(\u001b[0m\u001b[1;33m)\u001b[0m\u001b[1;33m.\u001b[0m\u001b[0msplit\u001b[0m\u001b[1;33m(\u001b[0m\u001b[1;33m)\u001b[0m\u001b[1;33m)\u001b[0m\u001b[1;33m)\u001b[0m\u001b[1;33m\u001b[0m\u001b[1;33m\u001b[0m\u001b[0m\n\u001b[0m\u001b[0;32m     17\u001b[0m     \u001b[0mans\u001b[0m \u001b[1;33m=\u001b[0m \u001b[1;36m0\u001b[0m\u001b[1;33m\u001b[0m\u001b[1;33m\u001b[0m\u001b[0m\n\u001b[0;32m     18\u001b[0m     \u001b[0mmakeEven\u001b[0m\u001b[1;33m(\u001b[0m\u001b[0mdata\u001b[0m\u001b[1;33m)\u001b[0m\u001b[1;33m\u001b[0m\u001b[1;33m\u001b[0m\u001b[0m\n",
      "\u001b[1;32m~\\Anaconda3\\Lib\\site-packages\\ipykernel\\kernelbase.py\u001b[0m in \u001b[0;36mraw_input\u001b[1;34m(self, prompt)\u001b[0m\n\u001b[0;32m    861\u001b[0m             \u001b[0mself\u001b[0m\u001b[1;33m.\u001b[0m\u001b[0m_parent_ident\u001b[0m\u001b[1;33m,\u001b[0m\u001b[1;33m\u001b[0m\u001b[1;33m\u001b[0m\u001b[0m\n\u001b[0;32m    862\u001b[0m             \u001b[0mself\u001b[0m\u001b[1;33m.\u001b[0m\u001b[0m_parent_header\u001b[0m\u001b[1;33m,\u001b[0m\u001b[1;33m\u001b[0m\u001b[1;33m\u001b[0m\u001b[0m\n\u001b[1;32m--> 863\u001b[1;33m             \u001b[0mpassword\u001b[0m\u001b[1;33m=\u001b[0m\u001b[1;32mFalse\u001b[0m\u001b[1;33m,\u001b[0m\u001b[1;33m\u001b[0m\u001b[1;33m\u001b[0m\u001b[0m\n\u001b[0m\u001b[0;32m    864\u001b[0m         )\n\u001b[0;32m    865\u001b[0m \u001b[1;33m\u001b[0m\u001b[0m\n",
      "\u001b[1;32m~\\Anaconda3\\Lib\\site-packages\\ipykernel\\kernelbase.py\u001b[0m in \u001b[0;36m_input_request\u001b[1;34m(self, prompt, ident, parent, password)\u001b[0m\n\u001b[0;32m    902\u001b[0m             \u001b[1;32mexcept\u001b[0m \u001b[0mKeyboardInterrupt\u001b[0m\u001b[1;33m:\u001b[0m\u001b[1;33m\u001b[0m\u001b[1;33m\u001b[0m\u001b[0m\n\u001b[0;32m    903\u001b[0m                 \u001b[1;31m# re-raise KeyboardInterrupt, to truncate traceback\u001b[0m\u001b[1;33m\u001b[0m\u001b[1;33m\u001b[0m\u001b[1;33m\u001b[0m\u001b[0m\n\u001b[1;32m--> 904\u001b[1;33m                 \u001b[1;32mraise\u001b[0m \u001b[0mKeyboardInterrupt\u001b[0m\u001b[1;33m(\u001b[0m\u001b[1;34m\"Interrupted by user\"\u001b[0m\u001b[1;33m)\u001b[0m \u001b[1;32mfrom\u001b[0m \u001b[1;32mNone\u001b[0m\u001b[1;33m\u001b[0m\u001b[1;33m\u001b[0m\u001b[0m\n\u001b[0m\u001b[0;32m    905\u001b[0m             \u001b[1;32mexcept\u001b[0m \u001b[0mException\u001b[0m \u001b[1;32mas\u001b[0m \u001b[0me\u001b[0m\u001b[1;33m:\u001b[0m\u001b[1;33m\u001b[0m\u001b[1;33m\u001b[0m\u001b[0m\n\u001b[0;32m    906\u001b[0m                 \u001b[0mself\u001b[0m\u001b[1;33m.\u001b[0m\u001b[0mlog\u001b[0m\u001b[1;33m.\u001b[0m\u001b[0mwarning\u001b[0m\u001b[1;33m(\u001b[0m\u001b[1;34m\"Invalid Message:\"\u001b[0m\u001b[1;33m,\u001b[0m \u001b[0mexc_info\u001b[0m\u001b[1;33m=\u001b[0m\u001b[1;32mTrue\u001b[0m\u001b[1;33m)\u001b[0m\u001b[1;33m\u001b[0m\u001b[1;33m\u001b[0m\u001b[0m\n",
      "\u001b[1;31mKeyboardInterrupt\u001b[0m: Interrupted by user"
     ]
    }
   ],
   "source": [
    "#9037\n",
    "import sys\n",
    "# input = sys.stdin.readline\n",
    "# print = sys.stdout.write\n",
    "\n",
    "def isSame(data):\n",
    "    return len(set(data)) == 1\n",
    "\n",
    "def makeEven(data):\n",
    "    for i in range(len(data)):\n",
    "        if data[i] % 2 == 1:\n",
    "            data[i] += 1\n",
    "\n",
    "T = int(input())\n",
    "for _ in range(T):\n",
    "    N, data = int(input()), list(map(int, input().split()))\n",
    "    ans = 0\n",
    "    makeEven(data)\n",
    "    issame = isSame(data)\n",
    "    while not issame :\n",
    "        data = [data[i] // 2 + data[i-1] // 2 for i in range(N)]\n",
    "        makeEven(data)\n",
    "        ans += 1\n",
    "        issame = isSame(data)\n",
    "    print(ans)\n",
    "            "
   ]
  },
  {
   "cell_type": "code",
   "execution_count": 7,
   "metadata": {},
   "outputs": [
    {
     "name": "stdout",
     "output_type": "stream",
     "text": [
      "10 3\n",
      "11 4\n",
      "12 5\n",
      "0\n",
      "10\n",
      "2\n"
     ]
    }
   ],
   "source": [
    "#16769\n",
    "\n",
    "C, M = [], []\n",
    "\n",
    "for i in range(3):\n",
    "    a, b = map(int, input().split())\n",
    "    C.append(a)\n",
    "    M.append(b)\n",
    "for i in range(100):\n",
    "    idx = i % 3\n",
    "    nxt = (idx + 1) % 3\n",
    "    M[idx], M[nxt] = max(M[idx] - (C[nxt] - M[nxt]), 0), min(C[nxt], M[nxt] + M[idx])\n",
    "    \n",
    "for i in M:\n",
    "    print(i)"
   ]
  },
  {
   "cell_type": "code",
   "execution_count": 20,
   "metadata": {},
   "outputs": [
    {
     "name": "stdout",
     "output_type": "stream",
     "text": [
      "3 7 7\n",
      "63\n"
     ]
    }
   ],
   "source": [
    "#1074\n",
    "def solve(n, x_start, x_end, y_start, y_end):\n",
    "    if n == 0:\n",
    "        return 1\n",
    "    cnt = 0\n",
    "    if x_start <= r <= x_start + 2 ** (n-1) -1:\n",
    "        x_end = x_start + 2 ** (n-1) - 1\n",
    "    else:\n",
    "        cnt += (2 ** n) * (2 **(n-1)) \n",
    "        x_start = x_start + 2 ** (n-1) \n",
    "    \n",
    "    if y_start <= c <= y_start + 2 ** (n-1) -1:\n",
    "        y_end = y_start + 2 ** (n-1) -1\n",
    "    else:\n",
    "        cnt += (2 ** (n-1)) * (2 ** (n-1))\n",
    "        y_start = y_start + 2 ** (n-1) \n",
    "    cnt += solve(n-1, x_start, x_end, y_start, y_end)\n",
    "    return cnt\n",
    "\n",
    "\n",
    "N, r, c = map(int, input().split())\n",
    "r, c = r+1, c+1\n",
    "print(solve(N, 1, 2 **N, 1, 2 ** N) - 1)\n"
   ]
  },
  {
   "cell_type": "code",
   "execution_count": 25,
   "metadata": {},
   "outputs": [
    {
     "name": "stdout",
     "output_type": "stream",
     "text": [
      "3 7 7\n",
      "63\n"
     ]
    }
   ],
   "source": [
    "#1074 이분탐색풀이\n",
    "\n",
    "def solve(x_start, x_end, y_start, y_end):\n",
    "    if x_start >= x_end and y_start >= y_end:\n",
    "        return 0\n",
    "    \n",
    "    cnt = 0\n",
    "    x_mid = (x_start + x_end) // 2\n",
    "    y_mid = (y_start + y_end) // 2\n",
    "    \n",
    "    if r > x_mid:\n",
    "        cnt += (x_mid - x_start + 1) * (y_end - y_start + 1)\n",
    "        x_start = x_mid+1\n",
    "    else:\n",
    "        x_end = x_mid\n",
    "        \n",
    "    if c > y_mid:\n",
    "        cnt += (x_end - x_start + 1) * (y_mid - y_start + 1)\n",
    "        y_start = y_mid +1\n",
    "    else:\n",
    "        y_end = y_mid \n",
    "        \n",
    "    cnt += solve(x_start, x_end, y_start, y_end)\n",
    "    return cnt\n",
    "    \n",
    "    \n",
    "    \n",
    "\n",
    "N, r, c = map(int, input().split())\n",
    "\n",
    "print(solve(0, 2 **N-1, 0, 2 ** N-1) )"
   ]
  },
  {
   "cell_type": "code",
   "execution_count": 4,
   "metadata": {},
   "outputs": [
    {
     "name": "stdout",
     "output_type": "stream",
     "text": [
      "1 2 3\n",
      "300\n"
     ]
    }
   ],
   "source": [
    "#2480\n",
    "a, b, c = map(int, input().split())\n",
    "ans = 0\n",
    "if a == b and b == c:\n",
    "    ans = 10000 + a * 1000\n",
    "elif a == b or a == c:\n",
    "    ans = 1000 + a * 100\n",
    "elif b == c:\n",
    "    ans = 1000 + b * 100\n",
    "else:\n",
    "    ans = max(a, b, c) * 100\n",
    "    \n",
    "print(ans)\n",
    "    "
   ]
  },
  {
   "cell_type": "code",
   "execution_count": 5,
   "metadata": {},
   "outputs": [
    {
     "name": "stdout",
     "output_type": "stream",
     "text": [
      "4\n",
      "3 3 3 3\n",
      "3 3 6 3\n",
      "2 2 6 6\n",
      "6 2 1 5\n",
      "65000\n"
     ]
    }
   ],
   "source": [
    "N = int(input())\n",
    "max_val = 0\n",
    "for _ in range(N):\n",
    "    data = sorted(list(map(int, input().split())))\n",
    "    tmp = 0\n",
    "    if len(set(data)) == 1:\n",
    "        tmp = 50000 + data[0] * 5000\n",
    "    elif len(set(data)) == 2:\n",
    "        if data[1] == data[2]:\n",
    "            tmp = 10000 + data[1] * 1000\n",
    "        else:\n",
    "            tmp = 2000 + data[1] * 500 + data[2] * 500\n",
    "    elif len(set(data)) == 3:\n",
    "        s = data[0]\n",
    "        for i in range(1, 4):\n",
    "            if s == data[i]:\n",
    "                break\n",
    "            else:\n",
    "                s = data[i]\n",
    "        tmp = 1000 + s * 100\n",
    "    else:\n",
    "        tmp = data[-1] * 100\n",
    "    max_val = max(max_val, tmp)\n",
    "            \n",
    "print(max_val)"
   ]
  },
  {
   "cell_type": "code",
   "execution_count": 11,
   "metadata": {},
   "outputs": [
    {
     "name": "stdout",
     "output_type": "stream",
     "text": [
      "R S S P\n",
      "?\n"
     ]
    }
   ],
   "source": [
    "#16675\n",
    "# a가 이기면 true 아님 false\n",
    "rule = {\"S\": \"P\", \"R\": \"S\", \"P\": \"R\"}\n",
    "def win(a, b):\n",
    "    if rule[a] == b:\n",
    "        return True\n",
    "    else:\n",
    "        return False\n",
    "\n",
    "data = input().split()\n",
    "\n",
    "if data[0] != data[1] and data[2] != data[3]:\n",
    "    print(\"?\")\n",
    "elif data[0] == data[1] and data[2] != data[3]:\n",
    "    if win(data[2], data[0]) or win(data[3], data[0]):\n",
    "        print(\"TK\")\n",
    "    else:\n",
    "        print(\"?\")\n",
    "elif data[0] != data[1] and data[2] == data[3]:\n",
    "    if win(data[0], data[2]) or win(data[1], data[2]):\n",
    "        print(\"MS\")\n",
    "    else:\n",
    "        print(\"?\")\n",
    "else:\n",
    "    if win(data[0], data[2]):\n",
    "        print(\"MS\")\n",
    "    elif win(data[2], data[0]):\n",
    "        print(\"TK\")\n",
    "    else:\n",
    "        print(\"?\")"
   ]
  },
  {
   "cell_type": "code",
   "execution_count": 13,
   "metadata": {},
   "outputs": [
    {
     "name": "stdout",
     "output_type": "stream",
     "text": [
      "R R S S\n",
      "MS\n"
     ]
    }
   ],
   "source": [
    "rule = {\"S\": \"R\", \"R\": \"P\", \"P\": \"S\"}\n",
    "\n",
    "ML, MR, TL, TR = input().split()\n",
    "\n",
    "if ML == MR and rule[ML] in [TL, TR]:\n",
    "    print(\"TK\")\n",
    "\n",
    "elif TL == TR and rule[TL] in [ML, MR]:\n",
    "    print(\"MS\")\n",
    "else:\n",
    "    print(\"?\")"
   ]
  },
  {
   "cell_type": "code",
   "execution_count": 31,
   "metadata": {},
   "outputs": [
    {
     "name": "stdout",
     "output_type": "stream",
     "text": [
      "<int><max>2147483647<long long><max>9223372036854775807\n",
      "<int><max>7463847412<long long><max>7085774586302733229"
     ]
    }
   ],
   "source": [
    "#17413\n",
    "from collections import deque\n",
    "def process(que, isword):\n",
    "    for i in range(len(que)):\n",
    "        if isword:\n",
    "            print(que.pop(), end=\"\")\n",
    "        else:\n",
    "            print(que.popleft(), end=\"\")\n",
    "        \n",
    "S = input()\n",
    "que = deque([])\n",
    "isword = True\n",
    "for el in S:\n",
    "    if isword:\n",
    "        if el == \"<\" or el == \" \":\n",
    "            process(que, isword)\n",
    "            print(el, end=\"\")\n",
    "            if el == \"<\":\n",
    "                isword = False\n",
    "        else:\n",
    "            que.append(el)\n",
    "    else:\n",
    "        if el == \">\":\n",
    "            process(que, isword)\n",
    "            print(el, end=\"\")\n",
    "            isword = True\n",
    "        else:\n",
    "            que.append(el)\n",
    "process(que, isword)"
   ]
  },
  {
   "cell_type": "code",
   "execution_count": 36,
   "metadata": {},
   "outputs": [
    {
     "name": "stdout",
     "output_type": "stream",
     "text": [
      "one1 two2 three3 4fourr 5five 6six\n",
      "1eno 2owt 3eerht rruof4 evif5 xis6\n"
     ]
    }
   ],
   "source": [
    "#17413\n",
    "\n",
    "S = input()\n",
    "tmp = \"\"\n",
    "isword = True\n",
    "for el in S:\n",
    "    if isword:\n",
    "        if el == \"<\" or el == \" \":\n",
    "            print(tmp[::-1], end=el)\n",
    "            tmp = \"\"\n",
    "            if el == \"<\":\n",
    "                isword=False\n",
    "        else:\n",
    "            tmp += el\n",
    "    else:\n",
    "        if el == \">\":\n",
    "            print(tmp[:], end=el)\n",
    "            tmp = \"\"\n",
    "            isword=True\n",
    "        else:\n",
    "            tmp += el\n",
    "print(tmp[::-1])"
   ]
  },
  {
   "cell_type": "code",
   "execution_count": 44,
   "metadata": {
    "scrolled": true
   },
   "outputs": [
    {
     "name": "stdout",
     "output_type": "stream",
     "text": [
      "6 6\n",
      "..S...\n",
      "..S.W.\n",
      ".S....\n",
      "..W...\n",
      "...W..\n",
      "......\n",
      "1\n",
      ".DSD..\n",
      ".DSDW.\n",
      "DSD...\n",
      ".DW...\n",
      "...W..\n",
      "......\n"
     ]
    }
   ],
   "source": [
    "#16956\n",
    "\n",
    "dx = [-1, 1, 0, 0]\n",
    "dy = [0, 0, -1, 1]\n",
    "\n",
    "R, C = map(int, input().split())\n",
    "sheep = []\n",
    "wolf = []\n",
    "data = [input() for i in range(R)]\n",
    "for i in range(R):\n",
    "    for j in range(C):\n",
    "        if data[i][j] == \"W\":\n",
    "            wolf.append((i, j))\n",
    "        elif data[i][j] == \"S\":\n",
    "            sheep.append((i, j))\n",
    "ans = 1\n",
    "for n, m in wolf:\n",
    "    for i in range(4):\n",
    "        x = n + dx[i]\n",
    "        y = m + dy[i]\n",
    "        if 0 <= x <= R-1 and 0 <= y <= C-1 and data[x][y] == \"S\":\n",
    "            ans = 0\n",
    "            break\n",
    "if not ans:\n",
    "    print(ans)\n",
    "else:\n",
    "    for n, m in sheep:\n",
    "        for i in range(4):\n",
    "            x = n + dx[i]\n",
    "            y = m + dy[i]\n",
    "            if 0 <= x <= R-1 and 0 <= y <= C-1 and data[x][y] == \".\":\n",
    "                data[x] = data[x][:y] + \"D\" + data[x][y+1:]\n",
    "    print(ans)\n",
    "    for i in range(R):\n",
    "        print(data[i])"
   ]
  },
  {
   "cell_type": "code",
   "execution_count": 9,
   "metadata": {},
   "outputs": [
    {
     "name": "stdout",
     "output_type": "stream",
     "text": [
      "6\n",
      "1 0 2 3 3 4\n",
      "1 1 1 1 1 1\n",
      "0 0 1 1 1 1\n",
      "3 9 9 0 1 99\n",
      "9 11 3 1 0 3\n",
      "12 3 0 0 0 1\n",
      "12\n"
     ]
    }
   ],
   "source": [
    "import sys\n",
    "N = int(input())\n",
    "\n",
    "dx = [-1, 1, 0, 0]\n",
    "dy = [0, 0, -1, 1]\n",
    "\n",
    "def flower(n, m):\n",
    "    val = data[n][m]\n",
    "    for i in range(4):\n",
    "        x = n + dx[i]\n",
    "        y = m + dy[i]\n",
    "        if 0 <= x <= N-1 and 0 <= y <= N-1 and visited[x][y] == 0:\n",
    "            val+= data[x][y]\n",
    "        else:\n",
    "            return -1\n",
    "    return val\n",
    "\n",
    "def checkVisited(n, m):\n",
    "    visited[n][m] = 1\n",
    "    for i in range(4):\n",
    "        x = n + dx[i]\n",
    "        y = m + dy[i]\n",
    "        visited[x][y] = 1\n",
    "    \n",
    "def uncheckVisited(n, m):\n",
    "    visited[n][m] = 0\n",
    "    for i in range(4):\n",
    "        x = n + dx[i]\n",
    "        y = m + dy[i]\n",
    "        visited[x][y] = 0\n",
    "        \n",
    "visited = [[0] * N for _ in range(N)]\n",
    "data = [list(map(int, input().split())) for _ in range(N)]\n",
    "ans = sys.maxsize\n",
    "for i in range(N*N):\n",
    "    ni, mi = i // N, i % N\n",
    "    val_i = flower(ni, mi)\n",
    "    if val_i != -1:\n",
    "        checkVisited(ni, mi)\n",
    "        for j in range(i+1, N*N):\n",
    "            nj, mj = j // N, j % N\n",
    "            val_j = flower(nj, mj)\n",
    "            if val_j != -1:\n",
    "                checkVisited(nj, mj)\n",
    "                for k in range(j+1, N*N):\n",
    "                    nk, mk = k // N, k % N\n",
    "                    val_k = flower(nk, mk)\n",
    "                    if val_k != -1:\n",
    "                        if val_i + val_j + val_k == 11:\n",
    "                            print(val_i, val_j, val_k)\n",
    "                            print(ni, mi, nj, mj, nk, mk)\n",
    "                        ans = min(ans, val_i + val_j + val_k)\n",
    "                uncheckVisited(nj, mj)\n",
    "        uncheckVisited(ni, mi)\n",
    "        \n",
    "print(ans)"
   ]
  },
  {
   "cell_type": "code",
   "execution_count": null,
   "metadata": {},
   "outputs": [],
   "source": [
    "1 0 2 3 3 4\n",
    "1 1 1 1 1 1\n",
    "0 0 1 1 1 1\n",
    "3 9 9 0 1 99\n",
    "9 11 3 1 0 3\n",
    "12 3 0 0 0 1\n"
   ]
  }
 ],
 "metadata": {
  "kernelspec": {
   "display_name": "Python 3",
   "language": "python",
   "name": "python3"
  },
  "language_info": {
   "codemirror_mode": {
    "name": "ipython",
    "version": 3
   },
   "file_extension": ".py",
   "mimetype": "text/x-python",
   "name": "python",
   "nbconvert_exporter": "python",
   "pygments_lexer": "ipython3",
   "version": "3.7.3"
  }
 },
 "nbformat": 4,
 "nbformat_minor": 4
}
