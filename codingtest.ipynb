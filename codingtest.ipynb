{
 "cells": [
  {
   "cell_type": "code",
   "execution_count": 3,
   "metadata": {},
   "outputs": [
    {
     "name": "stdout",
     "output_type": "stream",
     "text": [
      "8\n",
      "85 42 79 95 37 11 72 32\n",
      "84\n"
     ]
    }
   ],
   "source": [
    "#15969\n",
    "import sys\n",
    "# input = sys.stdin.readline\n",
    "# print = sys.stdout.write\n",
    "\n",
    "N = int(input())\n",
    "data = list(map(int, input().split()))\n",
    "\n",
    "print(max(data) - min(data))\n",
    "#꼼수 예제보고 입력보면 더 빠른이해"
   ]
  },
  {
   "cell_type": "code",
   "execution_count": 7,
   "metadata": {},
   "outputs": [
    {
     "name": "stdout",
     "output_type": "stream",
     "text": [
      "5\n",
      "1 2 2 3 4\n",
      "1 3 2 6 8\n"
     ]
    }
   ],
   "source": [
    "#10539\n",
    "import sys\n",
    "# input = sys.stdin.readline\n",
    "# print = sys.stdout.write\n",
    "\n",
    "N = int(input())\n",
    "B = list(map(int, input().split()))\n",
    "A = [B[0]]\n",
    "\n",
    "for i in range(1, N):\n",
    "    A.append(B[i] * (i+1) - B[i-1] * i)\n",
    "    \n",
    "print(*A)"
   ]
  },
  {
   "cell_type": "code",
   "execution_count": 16,
   "metadata": {},
   "outputs": [
    {
     "name": "stdout",
     "output_type": "stream",
     "text": [
      "3 2\n",
      "BOJ IN\n",
      "1%\n"
     ]
    }
   ],
   "source": [
    "#17269\n",
    "import sys\n",
    "# input = sys.stdin.readline\n",
    "# print = sys.stdout.write\n",
    "\n",
    "N, M = map(int, input().split())\n",
    "A, B = input().split()\n",
    "change = [3, 2, 1, 2, 4, 3, 1, 3, 1, 1, 3, 1, 3, 2, 1, 2,2,2, 1, 2, 1, 1, 1, 2, 2, 1]\n",
    "data = []\n",
    "n, m = 0, 0\n",
    "while n <= N-1 and m <= M-1:\n",
    "    data.append(A[n])\n",
    "    data.append(B[m])\n",
    "    n += 1\n",
    "    m += 1\n",
    "\n",
    "while n <= N-1:\n",
    "    data.append(A[n])\n",
    "    n += 1\n",
    "while m <= M-1:\n",
    "    data.append(B[m])\n",
    "    m += 1\n",
    "    \n",
    "for i in range(len(data)):\n",
    "    data[i] = change[ord(data[i]) - 65]\n",
    "    \n",
    "for i in range(len(data)-2):\n",
    "    for j in range(len(data) - i - 1):\n",
    "        data[j] = (data[j] + data[j+1]) % 10\n",
    "tmp = \"\"\n",
    "if data[0] != 0:\n",
    "    tmp += str(data[0])\n",
    "tmp += str(data[1])\n",
    "print(tmp + \"%\")"
   ]
  },
  {
   "cell_type": "code",
   "execution_count": 28,
   "metadata": {},
   "outputs": [
    {
     "name": "stdout",
     "output_type": "stream",
     "text": [
      "2 2\n",
      "AB CD\n",
      "77\n"
     ]
    }
   ],
   "source": [
    "import sys\n",
    "# input = sys.stdin.readline\n",
    "# print = sys.stdout.write\n",
    "\n",
    "N, M = map(int, input().split())\n",
    "A, B = input().split()\n",
    "change = [3, 2, 1, 2, 4, 3, 1, 3, 1, 1, 3, 1, 3, 2, 1, 2,2,2, 1, 2, 1, 1, 1, 2, 2, 1]\n",
    "\n",
    "AB = ''\n",
    "min_len = min(N, M)\n",
    "for i in range(min_len):\n",
    "    AB += A[i] + B[i]\n",
    "    \n",
    "AB += A[min_len:] + B[min_len:]\n",
    "\n",
    "data = [ change[ord(el) - ord('A')] for el in AB]\n",
    "\n",
    "for i in range(N+M-2):\n",
    "    for j in range(N+M-i-1):\n",
    "        data[j] += data[j+1]\n",
    "print(\"{}%\".format(data[0] % 10 * 10 + data[1] % 10))"
   ]
  },
  {
   "cell_type": "code",
   "execution_count": 30,
   "metadata": {},
   "outputs": [
    {
     "name": "stdout",
     "output_type": "stream",
     "text": [
      "8\n",
      "XOOOXOOX\n",
      "26\n"
     ]
    }
   ],
   "source": [
    "#17389\n",
    "import sys\n",
    "# input = sys.stdin.readline\n",
    "# print = sys.stdout.write\n",
    "\n",
    "N = int(input())\n",
    "S = input().strip()\n",
    "ans = 0\n",
    "bonus = 0\n",
    "for i in range(N):\n",
    "    if S[i] == \"O\":\n",
    "        ans += i + 1 + bonus\n",
    "        bonus += 1\n",
    "    else:\n",
    "        bonus = 0\n",
    "print(ans)"
   ]
  },
  {
   "cell_type": "code",
   "execution_count": 32,
   "metadata": {},
   "outputs": [
    {
     "name": "stdout",
     "output_type": "stream",
     "text": [
      "5\n",
      "4 1 5 2 3\n",
      "5\n",
      "1 3 7 9 5\n",
      "1\n",
      "1\n",
      "0\n",
      "0\n",
      "1\n"
     ]
    }
   ],
   "source": [
    "#1920\n",
    "import sys\n",
    "# input = sys.stdin.readline\n",
    "# print = sys.stdout.write\n",
    "\n",
    "def bst(val):\n",
    "    isin = 0\n",
    "    start = 0\n",
    "    end = len(A)-1\n",
    "    while start <= end:\n",
    "        mid = (end + start) // 2\n",
    "        if A[mid] == val:\n",
    "            isin = 1\n",
    "            break\n",
    "        elif A[mid] > val:\n",
    "            end = mid-1\n",
    "        else:\n",
    "            start = mid + 1\n",
    "    return isin\n",
    "    \n",
    "    \n",
    "N = int(input())\n",
    "A = sorted(list(map(int, input().split())))\n",
    "M = int(input())\n",
    "data = list(map(int, input().split()))\n",
    "\n",
    "for el in data:\n",
    "    ans = bst(el)\n",
    "    print(ans)"
   ]
  },
  {
   "cell_type": "code",
   "execution_count": 36,
   "metadata": {},
   "outputs": [
    {
     "name": "stdout",
     "output_type": "stream",
     "text": [
      "1 3\n",
      "red\n",
      "3\n",
      "a\n",
      "b\n",
      "c\n",
      "a\n",
      "1\n",
      "red\n",
      "red\n",
      "0\n",
      "a\n",
      "b\n",
      "c\n"
     ]
    },
    {
     "ename": "KeyboardInterrupt",
     "evalue": "Interrupted by user",
     "output_type": "error",
     "traceback": [
      "\u001b[1;31m---------------------------------------------------------------------------\u001b[0m",
      "\u001b[1;31mKeyboardInterrupt\u001b[0m                         Traceback (most recent call last)",
      "\u001b[1;32m<ipython-input-36-64fb71975631>\u001b[0m in \u001b[0;36m<module>\u001b[1;34m\u001b[0m\n\u001b[0;32m     13\u001b[0m \u001b[1;33m\u001b[0m\u001b[0m\n\u001b[0;32m     14\u001b[0m \u001b[1;32mfor\u001b[0m \u001b[0m_\u001b[0m \u001b[1;32min\u001b[0m \u001b[0mrange\u001b[0m\u001b[1;33m(\u001b[0m\u001b[0mM\u001b[0m\u001b[1;33m)\u001b[0m\u001b[1;33m:\u001b[0m\u001b[1;33m\u001b[0m\u001b[1;33m\u001b[0m\u001b[0m\n\u001b[1;32m---> 15\u001b[1;33m     \u001b[0mname\u001b[0m \u001b[1;33m=\u001b[0m \u001b[0minput\u001b[0m\u001b[1;33m(\u001b[0m\u001b[1;33m)\u001b[0m\u001b[1;33m.\u001b[0m\u001b[0mstrip\u001b[0m\u001b[1;33m(\u001b[0m\u001b[1;33m)\u001b[0m\u001b[1;33m\u001b[0m\u001b[1;33m\u001b[0m\u001b[0m\n\u001b[0m\u001b[0;32m     16\u001b[0m     \u001b[0ms\u001b[0m \u001b[1;33m=\u001b[0m \u001b[0mint\u001b[0m\u001b[1;33m(\u001b[0m\u001b[0minput\u001b[0m\u001b[1;33m(\u001b[0m\u001b[1;33m)\u001b[0m\u001b[1;33m)\u001b[0m\u001b[1;33m\u001b[0m\u001b[1;33m\u001b[0m\u001b[0m\n\u001b[0;32m     17\u001b[0m     \u001b[0mans\u001b[0m \u001b[1;33m=\u001b[0m \u001b[1;33m[\u001b[0m\u001b[1;33m]\u001b[0m\u001b[1;33m\u001b[0m\u001b[1;33m\u001b[0m\u001b[0m\n",
      "\u001b[1;32m~\\Anaconda3\\Lib\\site-packages\\ipykernel\\kernelbase.py\u001b[0m in \u001b[0;36mraw_input\u001b[1;34m(self, prompt)\u001b[0m\n\u001b[0;32m    861\u001b[0m             \u001b[0mself\u001b[0m\u001b[1;33m.\u001b[0m\u001b[0m_parent_ident\u001b[0m\u001b[1;33m,\u001b[0m\u001b[1;33m\u001b[0m\u001b[1;33m\u001b[0m\u001b[0m\n\u001b[0;32m    862\u001b[0m             \u001b[0mself\u001b[0m\u001b[1;33m.\u001b[0m\u001b[0m_parent_header\u001b[0m\u001b[1;33m,\u001b[0m\u001b[1;33m\u001b[0m\u001b[1;33m\u001b[0m\u001b[0m\n\u001b[1;32m--> 863\u001b[1;33m             \u001b[0mpassword\u001b[0m\u001b[1;33m=\u001b[0m\u001b[1;32mFalse\u001b[0m\u001b[1;33m,\u001b[0m\u001b[1;33m\u001b[0m\u001b[1;33m\u001b[0m\u001b[0m\n\u001b[0m\u001b[0;32m    864\u001b[0m         )\n\u001b[0;32m    865\u001b[0m \u001b[1;33m\u001b[0m\u001b[0m\n",
      "\u001b[1;32m~\\Anaconda3\\Lib\\site-packages\\ipykernel\\kernelbase.py\u001b[0m in \u001b[0;36m_input_request\u001b[1;34m(self, prompt, ident, parent, password)\u001b[0m\n\u001b[0;32m    902\u001b[0m             \u001b[1;32mexcept\u001b[0m \u001b[0mKeyboardInterrupt\u001b[0m\u001b[1;33m:\u001b[0m\u001b[1;33m\u001b[0m\u001b[1;33m\u001b[0m\u001b[0m\n\u001b[0;32m    903\u001b[0m                 \u001b[1;31m# re-raise KeyboardInterrupt, to truncate traceback\u001b[0m\u001b[1;33m\u001b[0m\u001b[1;33m\u001b[0m\u001b[1;33m\u001b[0m\u001b[0m\n\u001b[1;32m--> 904\u001b[1;33m                 \u001b[1;32mraise\u001b[0m \u001b[0mKeyboardInterrupt\u001b[0m\u001b[1;33m(\u001b[0m\u001b[1;34m\"Interrupted by user\"\u001b[0m\u001b[1;33m)\u001b[0m \u001b[1;32mfrom\u001b[0m \u001b[1;32mNone\u001b[0m\u001b[1;33m\u001b[0m\u001b[1;33m\u001b[0m\u001b[0m\n\u001b[0m\u001b[0;32m    905\u001b[0m             \u001b[1;32mexcept\u001b[0m \u001b[0mException\u001b[0m \u001b[1;32mas\u001b[0m \u001b[0me\u001b[0m\u001b[1;33m:\u001b[0m\u001b[1;33m\u001b[0m\u001b[1;33m\u001b[0m\u001b[0m\n\u001b[0;32m    906\u001b[0m                 \u001b[0mself\u001b[0m\u001b[1;33m.\u001b[0m\u001b[0mlog\u001b[0m\u001b[1;33m.\u001b[0m\u001b[0mwarning\u001b[0m\u001b[1;33m(\u001b[0m\u001b[1;34m\"Invalid Message:\"\u001b[0m\u001b[1;33m,\u001b[0m \u001b[0mexc_info\u001b[0m\u001b[1;33m=\u001b[0m\u001b[1;32mTrue\u001b[0m\u001b[1;33m)\u001b[0m\u001b[1;33m\u001b[0m\u001b[1;33m\u001b[0m\u001b[0m\n",
      "\u001b[1;31mKeyboardInterrupt\u001b[0m: Interrupted by user"
     ]
    }
   ],
   "source": [
    "#16165\n",
    "import sys\n",
    "# input = sys.stdin.readline\n",
    "# print = sys.stdout.write\n",
    "\n",
    "N, M = map(int, input().split())\n",
    "data = []\n",
    "for _ in range(N):\n",
    "    team = input().strip()\n",
    "    num = int(input())\n",
    "    for _ in range(num):\n",
    "        data.append([team, input().strip()])\n",
    "\n",
    "for _ in range(M):\n",
    "    name = input().strip()\n",
    "    s = int(input())\n",
    "    ans = []\n",
    "    for i in range(len(data)):\n",
    "        if data[i][s] == name:\n",
    "            ans.append(data[i][s-1])\n",
    "    ans.sort()\n",
    "    for el in ans:\n",
    "        print(el)\n"
   ]
  },
  {
   "cell_type": "code",
   "execution_count": 39,
   "metadata": {},
   "outputs": [
    {
     "name": "stdout",
     "output_type": "stream",
     "text": [
      "8 7 5\n",
      "1 3\n",
      "2 5\n",
      "3 5\n",
      "4 8\n",
      "5 8\n",
      "6 9\n",
      "6 7\n",
      "7 10\n",
      "660\n"
     ]
    }
   ],
   "source": [
    "#17224\n",
    "import sys\n",
    "# input = sys.stdin.readline\n",
    "# print = sys.stdout.write\n",
    "\n",
    "N, L, K = map(int, input().split())\n",
    "data = [list(map(int, input().split())) for _ in range(N)]\n",
    "data_2 = sorted(data, key=lambda x: x[1])\n",
    "score = 0\n",
    "for i in range(N):\n",
    "    if K == 0:\n",
    "        break\n",
    "    if data_2[i][1] <= L:\n",
    "        score += 140\n",
    "        K -= 1\n",
    "    elif data_2[i][0] <= L:\n",
    "        score += 100\n",
    "        K -= 1\n",
    "print(score)"
   ]
  },
  {
   "cell_type": "code",
   "execution_count": 6,
   "metadata": {},
   "outputs": [
    {
     "name": "stdout",
     "output_type": "stream",
     "text": [
      "4\n",
      "5\n",
      "2 4 7 8 9\n",
      "6\n"
     ]
    },
    {
     "ename": "KeyboardInterrupt",
     "evalue": "Interrupted by user",
     "output_type": "error",
     "traceback": [
      "\u001b[1;31m---------------------------------------------------------------------------\u001b[0m",
      "\u001b[1;31mKeyboardInterrupt\u001b[0m                         Traceback (most recent call last)",
      "\u001b[1;32m<ipython-input-6-785fc9b9e8d9>\u001b[0m in \u001b[0;36m<module>\u001b[1;34m\u001b[0m\n\u001b[0;32m     14\u001b[0m \u001b[0mT\u001b[0m \u001b[1;33m=\u001b[0m \u001b[0mint\u001b[0m\u001b[1;33m(\u001b[0m\u001b[0minput\u001b[0m\u001b[1;33m(\u001b[0m\u001b[1;33m)\u001b[0m\u001b[1;33m)\u001b[0m\u001b[1;33m\u001b[0m\u001b[1;33m\u001b[0m\u001b[0m\n\u001b[0;32m     15\u001b[0m \u001b[1;32mfor\u001b[0m \u001b[0m_\u001b[0m \u001b[1;32min\u001b[0m \u001b[0mrange\u001b[0m\u001b[1;33m(\u001b[0m\u001b[0mT\u001b[0m\u001b[1;33m)\u001b[0m\u001b[1;33m:\u001b[0m\u001b[1;33m\u001b[0m\u001b[1;33m\u001b[0m\u001b[0m\n\u001b[1;32m---> 16\u001b[1;33m     \u001b[0mN\u001b[0m\u001b[1;33m,\u001b[0m \u001b[0mdata\u001b[0m \u001b[1;33m=\u001b[0m \u001b[0mint\u001b[0m\u001b[1;33m(\u001b[0m\u001b[0minput\u001b[0m\u001b[1;33m(\u001b[0m\u001b[1;33m)\u001b[0m\u001b[1;33m)\u001b[0m\u001b[1;33m,\u001b[0m \u001b[0mlist\u001b[0m\u001b[1;33m(\u001b[0m\u001b[0mmap\u001b[0m\u001b[1;33m(\u001b[0m\u001b[0mint\u001b[0m\u001b[1;33m,\u001b[0m \u001b[0minput\u001b[0m\u001b[1;33m(\u001b[0m\u001b[1;33m)\u001b[0m\u001b[1;33m.\u001b[0m\u001b[0msplit\u001b[0m\u001b[1;33m(\u001b[0m\u001b[1;33m)\u001b[0m\u001b[1;33m)\u001b[0m\u001b[1;33m)\u001b[0m\u001b[1;33m\u001b[0m\u001b[1;33m\u001b[0m\u001b[0m\n\u001b[0m\u001b[0;32m     17\u001b[0m     \u001b[0mans\u001b[0m \u001b[1;33m=\u001b[0m \u001b[1;36m0\u001b[0m\u001b[1;33m\u001b[0m\u001b[1;33m\u001b[0m\u001b[0m\n\u001b[0;32m     18\u001b[0m     \u001b[0mmakeEven\u001b[0m\u001b[1;33m(\u001b[0m\u001b[0mdata\u001b[0m\u001b[1;33m)\u001b[0m\u001b[1;33m\u001b[0m\u001b[1;33m\u001b[0m\u001b[0m\n",
      "\u001b[1;32m~\\Anaconda3\\Lib\\site-packages\\ipykernel\\kernelbase.py\u001b[0m in \u001b[0;36mraw_input\u001b[1;34m(self, prompt)\u001b[0m\n\u001b[0;32m    861\u001b[0m             \u001b[0mself\u001b[0m\u001b[1;33m.\u001b[0m\u001b[0m_parent_ident\u001b[0m\u001b[1;33m,\u001b[0m\u001b[1;33m\u001b[0m\u001b[1;33m\u001b[0m\u001b[0m\n\u001b[0;32m    862\u001b[0m             \u001b[0mself\u001b[0m\u001b[1;33m.\u001b[0m\u001b[0m_parent_header\u001b[0m\u001b[1;33m,\u001b[0m\u001b[1;33m\u001b[0m\u001b[1;33m\u001b[0m\u001b[0m\n\u001b[1;32m--> 863\u001b[1;33m             \u001b[0mpassword\u001b[0m\u001b[1;33m=\u001b[0m\u001b[1;32mFalse\u001b[0m\u001b[1;33m,\u001b[0m\u001b[1;33m\u001b[0m\u001b[1;33m\u001b[0m\u001b[0m\n\u001b[0m\u001b[0;32m    864\u001b[0m         )\n\u001b[0;32m    865\u001b[0m \u001b[1;33m\u001b[0m\u001b[0m\n",
      "\u001b[1;32m~\\Anaconda3\\Lib\\site-packages\\ipykernel\\kernelbase.py\u001b[0m in \u001b[0;36m_input_request\u001b[1;34m(self, prompt, ident, parent, password)\u001b[0m\n\u001b[0;32m    902\u001b[0m             \u001b[1;32mexcept\u001b[0m \u001b[0mKeyboardInterrupt\u001b[0m\u001b[1;33m:\u001b[0m\u001b[1;33m\u001b[0m\u001b[1;33m\u001b[0m\u001b[0m\n\u001b[0;32m    903\u001b[0m                 \u001b[1;31m# re-raise KeyboardInterrupt, to truncate traceback\u001b[0m\u001b[1;33m\u001b[0m\u001b[1;33m\u001b[0m\u001b[1;33m\u001b[0m\u001b[0m\n\u001b[1;32m--> 904\u001b[1;33m                 \u001b[1;32mraise\u001b[0m \u001b[0mKeyboardInterrupt\u001b[0m\u001b[1;33m(\u001b[0m\u001b[1;34m\"Interrupted by user\"\u001b[0m\u001b[1;33m)\u001b[0m \u001b[1;32mfrom\u001b[0m \u001b[1;32mNone\u001b[0m\u001b[1;33m\u001b[0m\u001b[1;33m\u001b[0m\u001b[0m\n\u001b[0m\u001b[0;32m    905\u001b[0m             \u001b[1;32mexcept\u001b[0m \u001b[0mException\u001b[0m \u001b[1;32mas\u001b[0m \u001b[0me\u001b[0m\u001b[1;33m:\u001b[0m\u001b[1;33m\u001b[0m\u001b[1;33m\u001b[0m\u001b[0m\n\u001b[0;32m    906\u001b[0m                 \u001b[0mself\u001b[0m\u001b[1;33m.\u001b[0m\u001b[0mlog\u001b[0m\u001b[1;33m.\u001b[0m\u001b[0mwarning\u001b[0m\u001b[1;33m(\u001b[0m\u001b[1;34m\"Invalid Message:\"\u001b[0m\u001b[1;33m,\u001b[0m \u001b[0mexc_info\u001b[0m\u001b[1;33m=\u001b[0m\u001b[1;32mTrue\u001b[0m\u001b[1;33m)\u001b[0m\u001b[1;33m\u001b[0m\u001b[1;33m\u001b[0m\u001b[0m\n",
      "\u001b[1;31mKeyboardInterrupt\u001b[0m: Interrupted by user"
     ]
    }
   ],
   "source": [
    "#9037\n",
    "import sys\n",
    "# input = sys.stdin.readline\n",
    "# print = sys.stdout.write\n",
    "\n",
    "def isSame(data):\n",
    "    return len(set(data)) == 1\n",
    "\n",
    "def makeEven(data):\n",
    "    for i in range(len(data)):\n",
    "        if data[i] % 2 == 1:\n",
    "            data[i] += 1\n",
    "\n",
    "T = int(input())\n",
    "for _ in range(T):\n",
    "    N, data = int(input()), list(map(int, input().split()))\n",
    "    ans = 0\n",
    "    makeEven(data)\n",
    "    issame = isSame(data)\n",
    "    while not issame :\n",
    "        data = [data[i] // 2 + data[i-1] // 2 for i in range(N)]\n",
    "        makeEven(data)\n",
    "        ans += 1\n",
    "        issame = isSame(data)\n",
    "    print(ans)\n",
    "            "
   ]
  },
  {
   "cell_type": "code",
   "execution_count": 7,
   "metadata": {},
   "outputs": [
    {
     "name": "stdout",
     "output_type": "stream",
     "text": [
      "10 3\n",
      "11 4\n",
      "12 5\n",
      "0\n",
      "10\n",
      "2\n"
     ]
    }
   ],
   "source": [
    "#16769\n",
    "\n",
    "C, M = [], []\n",
    "\n",
    "for i in range(3):\n",
    "    a, b = map(int, input().split())\n",
    "    C.append(a)\n",
    "    M.append(b)\n",
    "for i in range(100):\n",
    "    idx = i % 3\n",
    "    nxt = (idx + 1) % 3\n",
    "    M[idx], M[nxt] = max(M[idx] - (C[nxt] - M[nxt]), 0), min(C[nxt], M[nxt] + M[idx])\n",
    "    \n",
    "for i in M:\n",
    "    print(i)"
   ]
  },
  {
   "cell_type": "code",
   "execution_count": 20,
   "metadata": {},
   "outputs": [
    {
     "name": "stdout",
     "output_type": "stream",
     "text": [
      "3 7 7\n",
      "63\n"
     ]
    }
   ],
   "source": [
    "#1074\n",
    "def solve(n, x_start, x_end, y_start, y_end):\n",
    "    if n == 0:\n",
    "        return 1\n",
    "    cnt = 0\n",
    "    if x_start <= r <= x_start + 2 ** (n-1) -1:\n",
    "        x_end = x_start + 2 ** (n-1) - 1\n",
    "    else:\n",
    "        cnt += (2 ** n) * (2 **(n-1)) \n",
    "        x_start = x_start + 2 ** (n-1) \n",
    "    \n",
    "    if y_start <= c <= y_start + 2 ** (n-1) -1:\n",
    "        y_end = y_start + 2 ** (n-1) -1\n",
    "    else:\n",
    "        cnt += (2 ** (n-1)) * (2 ** (n-1))\n",
    "        y_start = y_start + 2 ** (n-1) \n",
    "    cnt += solve(n-1, x_start, x_end, y_start, y_end)\n",
    "    return cnt\n",
    "\n",
    "\n",
    "N, r, c = map(int, input().split())\n",
    "r, c = r+1, c+1\n",
    "print(solve(N, 1, 2 **N, 1, 2 ** N) - 1)\n"
   ]
  },
  {
   "cell_type": "code",
   "execution_count": 25,
   "metadata": {},
   "outputs": [
    {
     "name": "stdout",
     "output_type": "stream",
     "text": [
      "3 7 7\n",
      "63\n"
     ]
    }
   ],
   "source": [
    "#1074 이분탐색풀이\n",
    "\n",
    "def solve(x_start, x_end, y_start, y_end):\n",
    "    if x_start >= x_end and y_start >= y_end:\n",
    "        return 0\n",
    "    \n",
    "    cnt = 0\n",
    "    x_mid = (x_start + x_end) // 2\n",
    "    y_mid = (y_start + y_end) // 2\n",
    "    \n",
    "    if r > x_mid:\n",
    "        cnt += (x_mid - x_start + 1) * (y_end - y_start + 1)\n",
    "        x_start = x_mid+1\n",
    "    else:\n",
    "        x_end = x_mid\n",
    "        \n",
    "    if c > y_mid:\n",
    "        cnt += (x_end - x_start + 1) * (y_mid - y_start + 1)\n",
    "        y_start = y_mid +1\n",
    "    else:\n",
    "        y_end = y_mid \n",
    "        \n",
    "    cnt += solve(x_start, x_end, y_start, y_end)\n",
    "    return cnt\n",
    "    \n",
    "    \n",
    "    \n",
    "\n",
    "N, r, c = map(int, input().split())\n",
    "\n",
    "print(solve(0, 2 **N-1, 0, 2 ** N-1) )"
   ]
  },
  {
   "cell_type": "code",
   "execution_count": 4,
   "metadata": {},
   "outputs": [
    {
     "name": "stdout",
     "output_type": "stream",
     "text": [
      "1 2 3\n",
      "300\n"
     ]
    }
   ],
   "source": [
    "#2480\n",
    "a, b, c = map(int, input().split())\n",
    "ans = 0\n",
    "if a == b and b == c:\n",
    "    ans = 10000 + a * 1000\n",
    "elif a == b or a == c:\n",
    "    ans = 1000 + a * 100\n",
    "elif b == c:\n",
    "    ans = 1000 + b * 100\n",
    "else:\n",
    "    ans = max(a, b, c) * 100\n",
    "    \n",
    "print(ans)\n",
    "    "
   ]
  },
  {
   "cell_type": "code",
   "execution_count": 5,
   "metadata": {},
   "outputs": [
    {
     "name": "stdout",
     "output_type": "stream",
     "text": [
      "4\n",
      "3 3 3 3\n",
      "3 3 6 3\n",
      "2 2 6 6\n",
      "6 2 1 5\n",
      "65000\n"
     ]
    }
   ],
   "source": [
    "N = int(input())\n",
    "max_val = 0\n",
    "for _ in range(N):\n",
    "    data = sorted(list(map(int, input().split())))\n",
    "    tmp = 0\n",
    "    if len(set(data)) == 1:\n",
    "        tmp = 50000 + data[0] * 5000\n",
    "    elif len(set(data)) == 2:\n",
    "        if data[1] == data[2]:\n",
    "            tmp = 10000 + data[1] * 1000\n",
    "        else:\n",
    "            tmp = 2000 + data[1] * 500 + data[2] * 500\n",
    "    elif len(set(data)) == 3:\n",
    "        s = data[0]\n",
    "        for i in range(1, 4):\n",
    "            if s == data[i]:\n",
    "                break\n",
    "            else:\n",
    "                s = data[i]\n",
    "        tmp = 1000 + s * 100\n",
    "    else:\n",
    "        tmp = data[-1] * 100\n",
    "    max_val = max(max_val, tmp)\n",
    "            \n",
    "print(max_val)"
   ]
  },
  {
   "cell_type": "code",
   "execution_count": 11,
   "metadata": {},
   "outputs": [
    {
     "name": "stdout",
     "output_type": "stream",
     "text": [
      "R S S P\n",
      "?\n"
     ]
    }
   ],
   "source": [
    "#16675\n",
    "# a가 이기면 true 아님 false\n",
    "rule = {\"S\": \"P\", \"R\": \"S\", \"P\": \"R\"}\n",
    "def win(a, b):\n",
    "    if rule[a] == b:\n",
    "        return True\n",
    "    else:\n",
    "        return False\n",
    "\n",
    "data = input().split()\n",
    "\n",
    "if data[0] != data[1] and data[2] != data[3]:\n",
    "    print(\"?\")\n",
    "elif data[0] == data[1] and data[2] != data[3]:\n",
    "    if win(data[2], data[0]) or win(data[3], data[0]):\n",
    "        print(\"TK\")\n",
    "    else:\n",
    "        print(\"?\")\n",
    "elif data[0] != data[1] and data[2] == data[3]:\n",
    "    if win(data[0], data[2]) or win(data[1], data[2]):\n",
    "        print(\"MS\")\n",
    "    else:\n",
    "        print(\"?\")\n",
    "else:\n",
    "    if win(data[0], data[2]):\n",
    "        print(\"MS\")\n",
    "    elif win(data[2], data[0]):\n",
    "        print(\"TK\")\n",
    "    else:\n",
    "        print(\"?\")"
   ]
  },
  {
   "cell_type": "code",
   "execution_count": 13,
   "metadata": {},
   "outputs": [
    {
     "name": "stdout",
     "output_type": "stream",
     "text": [
      "R R S S\n",
      "MS\n"
     ]
    }
   ],
   "source": [
    "rule = {\"S\": \"R\", \"R\": \"P\", \"P\": \"S\"}\n",
    "\n",
    "ML, MR, TL, TR = input().split()\n",
    "\n",
    "if ML == MR and rule[ML] in [TL, TR]:\n",
    "    print(\"TK\")\n",
    "\n",
    "elif TL == TR and rule[TL] in [ML, MR]:\n",
    "    print(\"MS\")\n",
    "else:\n",
    "    print(\"?\")"
   ]
  },
  {
   "cell_type": "code",
   "execution_count": 31,
   "metadata": {},
   "outputs": [
    {
     "name": "stdout",
     "output_type": "stream",
     "text": [
      "<int><max>2147483647<long long><max>9223372036854775807\n",
      "<int><max>7463847412<long long><max>7085774586302733229"
     ]
    }
   ],
   "source": [
    "#17413\n",
    "from collections import deque\n",
    "def process(que, isword):\n",
    "    for i in range(len(que)):\n",
    "        if isword:\n",
    "            print(que.pop(), end=\"\")\n",
    "        else:\n",
    "            print(que.popleft(), end=\"\")\n",
    "        \n",
    "S = input()\n",
    "que = deque([])\n",
    "isword = True\n",
    "for el in S:\n",
    "    if isword:\n",
    "        if el == \"<\" or el == \" \":\n",
    "            process(que, isword)\n",
    "            print(el, end=\"\")\n",
    "            if el == \"<\":\n",
    "                isword = False\n",
    "        else:\n",
    "            que.append(el)\n",
    "    else:\n",
    "        if el == \">\":\n",
    "            process(que, isword)\n",
    "            print(el, end=\"\")\n",
    "            isword = True\n",
    "        else:\n",
    "            que.append(el)\n",
    "process(que, isword)"
   ]
  },
  {
   "cell_type": "code",
   "execution_count": 36,
   "metadata": {},
   "outputs": [
    {
     "name": "stdout",
     "output_type": "stream",
     "text": [
      "one1 two2 three3 4fourr 5five 6six\n",
      "1eno 2owt 3eerht rruof4 evif5 xis6\n"
     ]
    }
   ],
   "source": [
    "#17413\n",
    "\n",
    "S = input()\n",
    "tmp = \"\"\n",
    "isword = True\n",
    "for el in S:\n",
    "    if isword:\n",
    "        if el == \"<\" or el == \" \":\n",
    "            print(tmp[::-1], end=el)\n",
    "            tmp = \"\"\n",
    "            if el == \"<\":\n",
    "                isword=False\n",
    "        else:\n",
    "            tmp += el\n",
    "    else:\n",
    "        if el == \">\":\n",
    "            print(tmp[:], end=el)\n",
    "            tmp = \"\"\n",
    "            isword=True\n",
    "        else:\n",
    "            tmp += el\n",
    "print(tmp[::-1])"
   ]
  },
  {
   "cell_type": "code",
   "execution_count": 44,
   "metadata": {
    "scrolled": true
   },
   "outputs": [
    {
     "name": "stdout",
     "output_type": "stream",
     "text": [
      "6 6\n",
      "..S...\n",
      "..S.W.\n",
      ".S....\n",
      "..W...\n",
      "...W..\n",
      "......\n",
      "1\n",
      ".DSD..\n",
      ".DSDW.\n",
      "DSD...\n",
      ".DW...\n",
      "...W..\n",
      "......\n"
     ]
    }
   ],
   "source": [
    "#16956\n",
    "\n",
    "dx = [-1, 1, 0, 0]\n",
    "dy = [0, 0, -1, 1]\n",
    "\n",
    "R, C = map(int, input().split())\n",
    "sheep = []\n",
    "wolf = []\n",
    "data = [input() for i in range(R)]\n",
    "for i in range(R):\n",
    "    for j in range(C):\n",
    "        if data[i][j] == \"W\":\n",
    "            wolf.append((i, j))\n",
    "        elif data[i][j] == \"S\":\n",
    "            sheep.append((i, j))\n",
    "ans = 1\n",
    "for n, m in wolf:\n",
    "    for i in range(4):\n",
    "        x = n + dx[i]\n",
    "        y = m + dy[i]\n",
    "        if 0 <= x <= R-1 and 0 <= y <= C-1 and data[x][y] == \"S\":\n",
    "            ans = 0\n",
    "            break\n",
    "if not ans:\n",
    "    print(ans)\n",
    "else:\n",
    "    for n, m in sheep:\n",
    "        for i in range(4):\n",
    "            x = n + dx[i]\n",
    "            y = m + dy[i]\n",
    "            if 0 <= x <= R-1 and 0 <= y <= C-1 and data[x][y] == \".\":\n",
    "                data[x] = data[x][:y] + \"D\" + data[x][y+1:]\n",
    "    print(ans)\n",
    "    for i in range(R):\n",
    "        print(data[i])"
   ]
  },
  {
   "cell_type": "code",
   "execution_count": 9,
   "metadata": {},
   "outputs": [
    {
     "name": "stdout",
     "output_type": "stream",
     "text": [
      "6\n",
      "1 0 2 3 3 4\n",
      "1 1 1 1 1 1\n",
      "0 0 1 1 1 1\n",
      "3 9 9 0 1 99\n",
      "9 11 3 1 0 3\n",
      "12 3 0 0 0 1\n",
      "12\n"
     ]
    }
   ],
   "source": [
    "import sys\n",
    "N = int(input())\n",
    "\n",
    "dx = [-1, 1, 0, 0]\n",
    "dy = [0, 0, -1, 1]\n",
    "\n",
    "def flower(n, m):\n",
    "    val = data[n][m]\n",
    "    for i in range(4):\n",
    "        x = n + dx[i]\n",
    "        y = m + dy[i]\n",
    "        if 0 <= x <= N-1 and 0 <= y <= N-1 and visited[x][y] == 0:\n",
    "            val+= data[x][y]\n",
    "        else:\n",
    "            return -1\n",
    "    return val\n",
    "\n",
    "def checkVisited(n, m):\n",
    "    visited[n][m] = 1\n",
    "    for i in range(4):\n",
    "        x = n + dx[i]\n",
    "        y = m + dy[i]\n",
    "        visited[x][y] = 1\n",
    "    \n",
    "def uncheckVisited(n, m):\n",
    "    visited[n][m] = 0\n",
    "    for i in range(4):\n",
    "        x = n + dx[i]\n",
    "        y = m + dy[i]\n",
    "        visited[x][y] = 0\n",
    "        \n",
    "visited = [[0] * N for _ in range(N)]\n",
    "data = [list(map(int, input().split())) for _ in range(N)]\n",
    "ans = sys.maxsize\n",
    "for i in range(N*N):\n",
    "    ni, mi = i // N, i % N\n",
    "    val_i = flower(ni, mi)\n",
    "    if val_i != -1:\n",
    "        checkVisited(ni, mi)\n",
    "        for j in range(i+1, N*N):\n",
    "            nj, mj = j // N, j % N\n",
    "            val_j = flower(nj, mj)\n",
    "            if val_j != -1:\n",
    "                checkVisited(nj, mj)\n",
    "                for k in range(j+1, N*N):\n",
    "                    nk, mk = k // N, k % N\n",
    "                    val_k = flower(nk, mk)\n",
    "                    if val_k != -1:\n",
    "                        if val_i + val_j + val_k == 11:\n",
    "                            print(val_i, val_j, val_k)\n",
    "                            print(ni, mi, nj, mj, nk, mk)\n",
    "                        ans = min(ans, val_i + val_j + val_k)\n",
    "                uncheckVisited(nj, mj)\n",
    "        uncheckVisited(ni, mi)\n",
    "        \n",
    "print(ans)"
   ]
  },
  {
   "cell_type": "code",
   "execution_count": 19,
   "metadata": {
    "collapsed": true
   },
   "outputs": [
    {
     "ename": "KeyboardInterrupt",
     "evalue": "Interrupted by user",
     "output_type": "error",
     "traceback": [
      "\u001b[1;31m---------------------------------------------------------------------------\u001b[0m",
      "\u001b[1;31mKeyboardInterrupt\u001b[0m                         Traceback (most recent call last)",
      "\u001b[1;32m<ipython-input-19-3087a3c8e306>\u001b[0m in \u001b[0;36m<module>\u001b[1;34m\u001b[0m\n\u001b[0;32m      1\u001b[0m \u001b[1;32mimport\u001b[0m \u001b[0msys\u001b[0m\u001b[1;33m\u001b[0m\u001b[1;33m\u001b[0m\u001b[0m\n\u001b[1;32m----> 2\u001b[1;33m \u001b[0mN\u001b[0m \u001b[1;33m=\u001b[0m \u001b[0mint\u001b[0m\u001b[1;33m(\u001b[0m\u001b[0minput\u001b[0m\u001b[1;33m(\u001b[0m\u001b[1;33m)\u001b[0m\u001b[1;33m)\u001b[0m\u001b[1;33m\u001b[0m\u001b[1;33m\u001b[0m\u001b[0m\n\u001b[0m\u001b[0;32m      3\u001b[0m \u001b[1;33m\u001b[0m\u001b[0m\n\u001b[0;32m      4\u001b[0m \u001b[0mdx\u001b[0m \u001b[1;33m=\u001b[0m \u001b[1;33m[\u001b[0m\u001b[1;33m-\u001b[0m\u001b[1;36m1\u001b[0m\u001b[1;33m,\u001b[0m \u001b[1;36m1\u001b[0m\u001b[1;33m,\u001b[0m \u001b[1;36m0\u001b[0m\u001b[1;33m,\u001b[0m \u001b[1;36m0\u001b[0m\u001b[1;33m,\u001b[0m \u001b[1;36m0\u001b[0m\u001b[1;33m]\u001b[0m\u001b[1;33m\u001b[0m\u001b[1;33m\u001b[0m\u001b[0m\n\u001b[0;32m      5\u001b[0m \u001b[0mdy\u001b[0m \u001b[1;33m=\u001b[0m \u001b[1;33m[\u001b[0m\u001b[1;36m0\u001b[0m\u001b[1;33m,\u001b[0m \u001b[1;36m0\u001b[0m\u001b[1;33m,\u001b[0m \u001b[1;33m-\u001b[0m\u001b[1;36m1\u001b[0m\u001b[1;33m,\u001b[0m \u001b[1;36m1\u001b[0m\u001b[1;33m,\u001b[0m \u001b[1;36m0\u001b[0m\u001b[1;33m]\u001b[0m\u001b[1;33m\u001b[0m\u001b[1;33m\u001b[0m\u001b[0m\n",
      "\u001b[1;32m~\\Anaconda3\\Lib\\site-packages\\ipykernel\\kernelbase.py\u001b[0m in \u001b[0;36mraw_input\u001b[1;34m(self, prompt)\u001b[0m\n\u001b[0;32m    861\u001b[0m             \u001b[0mself\u001b[0m\u001b[1;33m.\u001b[0m\u001b[0m_parent_ident\u001b[0m\u001b[1;33m,\u001b[0m\u001b[1;33m\u001b[0m\u001b[1;33m\u001b[0m\u001b[0m\n\u001b[0;32m    862\u001b[0m             \u001b[0mself\u001b[0m\u001b[1;33m.\u001b[0m\u001b[0m_parent_header\u001b[0m\u001b[1;33m,\u001b[0m\u001b[1;33m\u001b[0m\u001b[1;33m\u001b[0m\u001b[0m\n\u001b[1;32m--> 863\u001b[1;33m             \u001b[0mpassword\u001b[0m\u001b[1;33m=\u001b[0m\u001b[1;32mFalse\u001b[0m\u001b[1;33m,\u001b[0m\u001b[1;33m\u001b[0m\u001b[1;33m\u001b[0m\u001b[0m\n\u001b[0m\u001b[0;32m    864\u001b[0m         )\n\u001b[0;32m    865\u001b[0m \u001b[1;33m\u001b[0m\u001b[0m\n",
      "\u001b[1;32m~\\Anaconda3\\Lib\\site-packages\\ipykernel\\kernelbase.py\u001b[0m in \u001b[0;36m_input_request\u001b[1;34m(self, prompt, ident, parent, password)\u001b[0m\n\u001b[0;32m    902\u001b[0m             \u001b[1;32mexcept\u001b[0m \u001b[0mKeyboardInterrupt\u001b[0m\u001b[1;33m:\u001b[0m\u001b[1;33m\u001b[0m\u001b[1;33m\u001b[0m\u001b[0m\n\u001b[0;32m    903\u001b[0m                 \u001b[1;31m# re-raise KeyboardInterrupt, to truncate traceback\u001b[0m\u001b[1;33m\u001b[0m\u001b[1;33m\u001b[0m\u001b[1;33m\u001b[0m\u001b[0m\n\u001b[1;32m--> 904\u001b[1;33m                 \u001b[1;32mraise\u001b[0m \u001b[0mKeyboardInterrupt\u001b[0m\u001b[1;33m(\u001b[0m\u001b[1;34m\"Interrupted by user\"\u001b[0m\u001b[1;33m)\u001b[0m \u001b[1;32mfrom\u001b[0m \u001b[1;32mNone\u001b[0m\u001b[1;33m\u001b[0m\u001b[1;33m\u001b[0m\u001b[0m\n\u001b[0m\u001b[0;32m    905\u001b[0m             \u001b[1;32mexcept\u001b[0m \u001b[0mException\u001b[0m \u001b[1;32mas\u001b[0m \u001b[0me\u001b[0m\u001b[1;33m:\u001b[0m\u001b[1;33m\u001b[0m\u001b[1;33m\u001b[0m\u001b[0m\n\u001b[0;32m    906\u001b[0m                 \u001b[0mself\u001b[0m\u001b[1;33m.\u001b[0m\u001b[0mlog\u001b[0m\u001b[1;33m.\u001b[0m\u001b[0mwarning\u001b[0m\u001b[1;33m(\u001b[0m\u001b[1;34m\"Invalid Message:\"\u001b[0m\u001b[1;33m,\u001b[0m \u001b[0mexc_info\u001b[0m\u001b[1;33m=\u001b[0m\u001b[1;32mTrue\u001b[0m\u001b[1;33m)\u001b[0m\u001b[1;33m\u001b[0m\u001b[1;33m\u001b[0m\u001b[0m\n",
      "\u001b[1;31mKeyboardInterrupt\u001b[0m: Interrupted by user"
     ]
    }
   ],
   "source": [
    "import sys\n",
    "N = int(input())\n",
    "\n",
    "dx = [-1, 1, 0, 0, 0]\n",
    "dy = [0, 0, -1, 1, 0]\n",
    "\n",
    "def process(lst):\n",
    "    flower = []\n",
    "    ret = 0\n",
    "    for el in lst:\n",
    "        n, m = el // N, el % N\n",
    "        for i in range(5):\n",
    "            x, y = n + dx[i], m + dy[i]\n",
    "            if x < 0 or x > N-1 or y < 0 or y > N-1:\n",
    "                return sys.maxsize\n",
    "            if (x, y) in flower:\n",
    "                return sys.maxsize\n",
    "            else:\n",
    "                flower.append((x, y))\n",
    "                ret += data[x][y]\n",
    "    return ret\n",
    "    \n",
    "    \n",
    "data = [list(map(int, input().split())) for _ in range(N)]\n",
    "ans = sys.maxsize\n",
    "for i in range(N*N):\n",
    "    for j in range(i+1, N*N):\n",
    "        for k in range(j+1, N*N):\n",
    "            ans = min(ans, process([i, j, k]))\n",
    "            \n",
    "print(ans)"
   ]
  },
  {
   "cell_type": "code",
   "execution_count": 49,
   "metadata": {},
   "outputs": [
    {
     "ename": "KeyboardInterrupt",
     "evalue": "Interrupted by user",
     "output_type": "error",
     "traceback": [
      "\u001b[1;31m---------------------------------------------------------------------------\u001b[0m",
      "\u001b[1;31mKeyboardInterrupt\u001b[0m                         Traceback (most recent call last)",
      "\u001b[1;32m<ipython-input-49-2c5156e49252>\u001b[0m in \u001b[0;36m<module>\u001b[1;34m\u001b[0m\n\u001b[0;32m      6\u001b[0m \u001b[0mdy\u001b[0m \u001b[1;33m=\u001b[0m \u001b[1;33m[\u001b[0m\u001b[1;36m0\u001b[0m\u001b[1;33m,\u001b[0m \u001b[1;36m0\u001b[0m\u001b[1;33m,\u001b[0m \u001b[1;33m-\u001b[0m\u001b[1;36m1\u001b[0m\u001b[1;33m,\u001b[0m \u001b[1;36m1\u001b[0m\u001b[1;33m]\u001b[0m\u001b[1;33m\u001b[0m\u001b[1;33m\u001b[0m\u001b[0m\n\u001b[0;32m      7\u001b[0m \u001b[1;33m\u001b[0m\u001b[0m\n\u001b[1;32m----> 8\u001b[1;33m \u001b[0mT\u001b[0m \u001b[1;33m=\u001b[0m \u001b[0mint\u001b[0m\u001b[1;33m(\u001b[0m\u001b[0minput\u001b[0m\u001b[1;33m(\u001b[0m\u001b[1;33m)\u001b[0m\u001b[1;33m)\u001b[0m\u001b[1;33m\u001b[0m\u001b[1;33m\u001b[0m\u001b[0m\n\u001b[0m\u001b[0;32m      9\u001b[0m \u001b[1;33m\u001b[0m\u001b[0m\n\u001b[0;32m     10\u001b[0m \u001b[1;32mfor\u001b[0m \u001b[0m_\u001b[0m \u001b[1;32min\u001b[0m \u001b[0mrange\u001b[0m\u001b[1;33m(\u001b[0m\u001b[0mT\u001b[0m\u001b[1;33m)\u001b[0m\u001b[1;33m:\u001b[0m\u001b[1;33m\u001b[0m\u001b[1;33m\u001b[0m\u001b[0m\n",
      "\u001b[1;32m~\\Anaconda3\\Lib\\site-packages\\ipykernel\\kernelbase.py\u001b[0m in \u001b[0;36mraw_input\u001b[1;34m(self, prompt)\u001b[0m\n\u001b[0;32m    861\u001b[0m             \u001b[0mself\u001b[0m\u001b[1;33m.\u001b[0m\u001b[0m_parent_ident\u001b[0m\u001b[1;33m,\u001b[0m\u001b[1;33m\u001b[0m\u001b[1;33m\u001b[0m\u001b[0m\n\u001b[0;32m    862\u001b[0m             \u001b[0mself\u001b[0m\u001b[1;33m.\u001b[0m\u001b[0m_parent_header\u001b[0m\u001b[1;33m,\u001b[0m\u001b[1;33m\u001b[0m\u001b[1;33m\u001b[0m\u001b[0m\n\u001b[1;32m--> 863\u001b[1;33m             \u001b[0mpassword\u001b[0m\u001b[1;33m=\u001b[0m\u001b[1;32mFalse\u001b[0m\u001b[1;33m,\u001b[0m\u001b[1;33m\u001b[0m\u001b[1;33m\u001b[0m\u001b[0m\n\u001b[0m\u001b[0;32m    864\u001b[0m         )\n\u001b[0;32m    865\u001b[0m \u001b[1;33m\u001b[0m\u001b[0m\n",
      "\u001b[1;32m~\\Anaconda3\\Lib\\site-packages\\ipykernel\\kernelbase.py\u001b[0m in \u001b[0;36m_input_request\u001b[1;34m(self, prompt, ident, parent, password)\u001b[0m\n\u001b[0;32m    902\u001b[0m             \u001b[1;32mexcept\u001b[0m \u001b[0mKeyboardInterrupt\u001b[0m\u001b[1;33m:\u001b[0m\u001b[1;33m\u001b[0m\u001b[1;33m\u001b[0m\u001b[0m\n\u001b[0;32m    903\u001b[0m                 \u001b[1;31m# re-raise KeyboardInterrupt, to truncate traceback\u001b[0m\u001b[1;33m\u001b[0m\u001b[1;33m\u001b[0m\u001b[1;33m\u001b[0m\u001b[0m\n\u001b[1;32m--> 904\u001b[1;33m                 \u001b[1;32mraise\u001b[0m \u001b[0mKeyboardInterrupt\u001b[0m\u001b[1;33m(\u001b[0m\u001b[1;34m\"Interrupted by user\"\u001b[0m\u001b[1;33m)\u001b[0m \u001b[1;32mfrom\u001b[0m \u001b[1;32mNone\u001b[0m\u001b[1;33m\u001b[0m\u001b[1;33m\u001b[0m\u001b[0m\n\u001b[0m\u001b[0;32m    905\u001b[0m             \u001b[1;32mexcept\u001b[0m \u001b[0mException\u001b[0m \u001b[1;32mas\u001b[0m \u001b[0me\u001b[0m\u001b[1;33m:\u001b[0m\u001b[1;33m\u001b[0m\u001b[1;33m\u001b[0m\u001b[0m\n\u001b[0;32m    906\u001b[0m                 \u001b[0mself\u001b[0m\u001b[1;33m.\u001b[0m\u001b[0mlog\u001b[0m\u001b[1;33m.\u001b[0m\u001b[0mwarning\u001b[0m\u001b[1;33m(\u001b[0m\u001b[1;34m\"Invalid Message:\"\u001b[0m\u001b[1;33m,\u001b[0m \u001b[0mexc_info\u001b[0m\u001b[1;33m=\u001b[0m\u001b[1;32mTrue\u001b[0m\u001b[1;33m)\u001b[0m\u001b[1;33m\u001b[0m\u001b[1;33m\u001b[0m\u001b[0m\n",
      "\u001b[1;31mKeyboardInterrupt\u001b[0m: Interrupted by user"
     ]
    }
   ],
   "source": [
    "# 1012\n",
    "\n",
    "from collections import deque\n",
    "dx = [-1, 1, 0, 0]\n",
    "dy = [0, 0, -1, 1]\n",
    "\n",
    "T = int(input())\n",
    "\n",
    "for _ in range(T):\n",
    "    M, N, K = map(int, input().split())\n",
    "    data = [[0] * N for _ in range(M)]\n",
    "    betu = []\n",
    "    for i in range(K):\n",
    "        x, y = map(int, input().split())\n",
    "        data[x][y] = 1\n",
    "        betu.append((x, y))\n",
    "    group = 1\n",
    "    for n, m in betu:\n",
    "        if data[n][m] == 1:\n",
    "            group += 1\n",
    "            que = deque([(n, m)])\n",
    "            data[n][m] = group\n",
    "            while que:\n",
    "                a, b = que.popleft()\n",
    "                for i in range(4):\n",
    "                    x = a + dx[i]\n",
    "                    y = b + dy[i]\n",
    "                    if 0 <= x <= M-1 and 0 <= y <= N-1 and data[x][y] == 1:\n",
    "                        que.append((x, y))\n",
    "                        data[x][y] = group\n",
    "    print(group-1)\n",
    "    "
   ]
  },
  {
   "cell_type": "code",
   "execution_count": 24,
   "metadata": {},
   "outputs": [
    {
     "name": "stdout",
     "output_type": "stream",
     "text": [
      "1\n",
      "5 3 6\n",
      "0 2\n",
      "1 2\n",
      "2 2\n",
      "3 2\n",
      "4 2\n",
      "4 0\n"
     ]
    },
    {
     "ename": "TypeError",
     "evalue": "cannot unpack non-iterable int object",
     "output_type": "error",
     "traceback": [
      "\u001b[1;31m---------------------------------------------------------------------------\u001b[0m",
      "\u001b[1;31mTypeError\u001b[0m                                 Traceback (most recent call last)",
      "\u001b[1;32m<ipython-input-24-b06745c12149>\u001b[0m in \u001b[0;36m<module>\u001b[1;34m\u001b[0m\n\u001b[0;32m     19\u001b[0m                 \u001b[0mdata\u001b[0m\u001b[1;33m[\u001b[0m\u001b[0mi\u001b[0m\u001b[1;33m]\u001b[0m\u001b[1;33m[\u001b[0m\u001b[0mj\u001b[0m\u001b[1;33m]\u001b[0m \u001b[1;33m=\u001b[0m \u001b[0mgroup\u001b[0m\u001b[1;33m\u001b[0m\u001b[1;33m\u001b[0m\u001b[0m\n\u001b[0;32m     20\u001b[0m                 \u001b[1;32mwhile\u001b[0m \u001b[0mque\u001b[0m\u001b[1;33m:\u001b[0m\u001b[1;33m\u001b[0m\u001b[1;33m\u001b[0m\u001b[0m\n\u001b[1;32m---> 21\u001b[1;33m                     \u001b[0mn\u001b[0m\u001b[1;33m,\u001b[0m \u001b[0mm\u001b[0m \u001b[1;33m=\u001b[0m \u001b[0mque\u001b[0m\u001b[1;33m.\u001b[0m\u001b[0mpopleft\u001b[0m\u001b[1;33m(\u001b[0m\u001b[1;33m)\u001b[0m\u001b[1;33m\u001b[0m\u001b[1;33m\u001b[0m\u001b[0m\n\u001b[0m\u001b[0;32m     22\u001b[0m                     \u001b[1;32mfor\u001b[0m \u001b[0ml\u001b[0m \u001b[1;32min\u001b[0m \u001b[0mrange\u001b[0m\u001b[1;33m(\u001b[0m\u001b[1;36m4\u001b[0m\u001b[1;33m)\u001b[0m\u001b[1;33m:\u001b[0m\u001b[1;33m\u001b[0m\u001b[1;33m\u001b[0m\u001b[0m\n\u001b[0;32m     23\u001b[0m                         \u001b[0mx\u001b[0m \u001b[1;33m=\u001b[0m \u001b[0mn\u001b[0m \u001b[1;33m+\u001b[0m \u001b[0mdx\u001b[0m\u001b[1;33m[\u001b[0m\u001b[0mi\u001b[0m\u001b[1;33m]\u001b[0m\u001b[1;33m\u001b[0m\u001b[1;33m\u001b[0m\u001b[0m\n",
      "\u001b[1;31mTypeError\u001b[0m: cannot unpack non-iterable int object"
     ]
    }
   ],
   "source": [
    "from collections import deque\n",
    "dx = [-1, 1, 0, 0]\n",
    "dy = [0, 0, -1, 1]\n",
    "\n",
    "T = int(input())\n",
    "\n",
    "for _ in range(T):\n",
    "    N, M, K = map(int, input().split())\n",
    "    data = [[0] * M for _ in range(N)]\n",
    "    for i in range(K):\n",
    "        x, y = map(int, input().split())\n",
    "        data[x][y] = 1M\n",
    "                que = deque([(i, j)])\n",
    "                data[i][j] = group\n",
    "                while que:\n",
    "                    n, m = que.popleft()\n",
    "                    for k in range(4):\n",
    "                        x = n + dx[k]\n",
    "                        y = m + dy[k]\n",
    "                        if 0 <= x <= N-1 and 0 <= y <= M-1 and data[x][y] == 1:\n",
    "                            que.append((x, y))\n",
    "                            data[x][y] = group\n",
    "    print(group-1)"
   ]
  },
  {
   "cell_type": "code",
   "execution_count": 26,
   "metadata": {},
   "outputs": [
    {
     "name": "stdout",
     "output_type": "stream",
     "text": [
      "1\n",
      "5 3 6\n",
      "0 2\n",
      "1 2\n",
      "2 2\n",
      "3 2\n",
      "4 2\n",
      "4 0\n",
      "2\n"
     ]
    }
   ],
   "source": [
    "dx = [-1, 1, 0, 0]\n",
    "dy = [0, 0, -1, 1]\n",
    "\n",
    "def DFS(n, m, group):\n",
    "    data[n][m] = group\n",
    "    for i in range(4):\n",
    "        x = n + dx[i]\n",
    "        y = m + dy[i]\n",
    "        if 0 <= x <= N-1 and 0 <= y <= M-1 and data[x][y] == 1:\n",
    "            DFS(x, y, group)\n",
    "\n",
    "T = int(input())\n",
    "\n",
    "for _ in range(T):\n",
    "    N, M, K = map(int, input().split())\n",
    "    data = [[0] * M for _ in range(N)]\n",
    "    for i in range(K):\n",
    "        x, y = map(int, input().split())\n",
    "        data[x][y] = 1\n",
    "    group = 1\n",
    "    for i in range(N):\n",
    "        for j in range(M):\n",
    "            if data[i][j] == 1:\n",
    "                group += 1\n",
    "                DFS(i, j, group)\n",
    "    print(group-1)"
   ]
  },
  {
   "cell_type": "code",
   "execution_count": 37,
   "metadata": {
    "scrolled": true
   },
   "outputs": [
    {
     "name": "stdout",
     "output_type": "stream",
     "text": [
      "6 3\n",
      "0000000000\n",
      "0000000300\n",
      "0054000300\n",
      "1054502230\n",
      "2211122220\n",
      "1111111223\n",
      "0000000000\n",
      "0000000000\n",
      "0000000000\n",
      "0000000000\n",
      "1054000000\n",
      "2254500000\n"
     ]
    }
   ],
   "source": [
    "#16768\n",
    "from collections import deque\n",
    "\n",
    "dx = [-1, 1, 0, 0]\n",
    "dy = [0 ,0, -1, 1]\n",
    "\n",
    "\n",
    "def passdown():\n",
    "    tmp = []\n",
    "    for i in range(10):\n",
    "        for j in range(N):\n",
    "            if data[j][i]:\n",
    "                tmp.append(data[j][i])\n",
    "        for j in range(N-1, -1, -1):\n",
    "            if len(tmp):\n",
    "                data[j][i] = tmp.pop()\n",
    "            else:\n",
    "                data[j][i] = 0\n",
    "\n",
    "N, K = map(int, input().split())\n",
    "data = [list(map(int, input())) for _ in range(N)]\n",
    "exist = True\n",
    "while exist:\n",
    "    exist = False\n",
    "    visited = [[0] * 10 for _ in range(N)]\n",
    "    for i in range(N):\n",
    "        for j in range(10):\n",
    "            if data[i][j] != 0 and visited[i][j] == 0:\n",
    "                tmp = []\n",
    "                que = deque([(i, j)])\n",
    "                visited[i][j] = 1\n",
    "                tmp.append((i, j))\n",
    "                while que:\n",
    "                    n, m = que.popleft()\n",
    "                    for k in range(4):\n",
    "                        x = n + dx[k]\n",
    "                        y = m + dy[k]\n",
    "                        if x < 0 or x >= N or y < 0 or y >= 10:\n",
    "                            continue\n",
    "                        if data[x][y] ==data[i][j] and visited[x][y] == 0:\n",
    "                            que.append((x, y))\n",
    "                            visited[x][y] = 1\n",
    "                            tmp.append((x, y))\n",
    "                if len(tmp) >= K:\n",
    "                    exist = True\n",
    "                    for n, m in tmp:\n",
    "                        data[n][m] = 0\n",
    "    passdown()\n",
    "    \n",
    "for i in range(N):\n",
    "    for j in range(9):\n",
    "        print(data[i][j], end=\"\")\n",
    "    print(data[i][9])"
   ]
  },
  {
   "cell_type": "code",
   "execution_count": 2,
   "metadata": {},
   "outputs": [
    {
     "name": "stdout",
     "output_type": "stream",
     "text": [
      "3\n",
      "2 2 2\n",
      "2 2 2\n",
      "2 2 2\n",
      "8\n"
     ]
    }
   ],
   "source": [
    "import sys\n",
    "sys.setrecursionlimit(10000)\n",
    "# 2개는 행(왼 오) 2개는 열(위, 아래)\n",
    "\n",
    "def DFS(lst, val):\n",
    "    global ans\n",
    "    if val == 5:\n",
    "        for el in lst:\n",
    "            ans = max(ans, max(el))\n",
    "        return\n",
    "    data = lst.copy()\n",
    "    for k in range(2):\n",
    "        for i in range(N):\n",
    "            tmp = []\n",
    "            n, m = i, start[k]\n",
    "            for _ in range(N):\n",
    "                if data[n][m] != 0: \n",
    "                    tmp.append(data[n][m])\n",
    "                    data[n][m] = 0\n",
    "                n, m = n + dx[k], m + dy[k]\n",
    "            n, m = i, start[k]\n",
    "            for el in tmp:\n",
    "                if data[n][m] == 0:\n",
    "                    data[n][m] = el\n",
    "                else:\n",
    "                    if data[n][m] == el:\n",
    "                        data[n][m] += data[n][m]\n",
    "                        n, m = n + dx[k], m + dy[k]\n",
    "                    else:\n",
    "                        n, m = n + dx[k], m + dy[k]\n",
    "                        data[n][m] = el\n",
    "        DFS(data, val+1)\n",
    "        data = lst.copy()\n",
    "    for k in range(2, 4):\n",
    "        for i in range(N):\n",
    "            tmp = []\n",
    "            n, m = start[k], i\n",
    "            for _ in range(N):\n",
    "                if data[n][m] != 0: \n",
    "                    tmp.append(data[n][m])\n",
    "                    data[n][m] = 0\n",
    "                n, m = n + dx[k], m + dy[k]\n",
    "            n, m = start[k], i\n",
    "            for el in tmp:\n",
    "                if data[n][m] == 0:\n",
    "                    data[n][m] = el\n",
    "                else:\n",
    "                    if data[n][m] == el:\n",
    "                        data[n][m] += data[n][m]\n",
    "                        n, m = n + dx[k], m + dy[k]\n",
    "                    else:\n",
    "                        n, m = n + dx[k], m + dy[k]\n",
    "                        data[n][m] = el\n",
    "        DFS(data,val+1)\n",
    "        data = lst.copy()\n",
    "\n",
    "\n",
    "\n",
    "\n",
    "\n",
    "N = int(input())\n",
    "start = [0, N-1, 0, N-1]\n",
    "dx = [0, 0, 1, -1]\n",
    "dy = [1, -1, 0, 0]\n",
    "ans = 0\n",
    "data = [list(map(int, input().split())) for _ in range(N)]\n",
    "if N == 1:\n",
    "    print(data[0][0])\n",
    "else:\n",
    "    DFS(data, 0)\n",
    "    print(ans)"
   ]
  },
  {
   "cell_type": "markdown",
   "metadata": {},
   "source": [
    "## "
   ]
  },
  {
   "cell_type": "code",
   "execution_count": null,
   "metadata": {},
   "outputs": [],
   "source": [
    "#12100\n",
    "\n",
    "def covert(lst):\n",
    "    tmp = [el for el in lst if el]\n",
    "    new_lst = [0] * len(lst)\n",
    "    idx = 0\n",
    "    for el in tmp:\n",
    "        if new_lst[idx] == 0:\n",
    "            new_lst[idx] = el\n",
    "        else:\n",
    "            if new_lst[idx] == el:\n",
    "                new_lst[idx] += el\n",
    "                idx += 1\n",
    "            else:\n",
    "                idx += 1\n",
    "                new_lst[idx] = el\n",
    "    return new_lst\n",
    "\n",
    "def rotate90(n, lst):\n",
    "    new_lst = [[0]*n for _ in range(n)]\n",
    "    for i in range(n):\n",
    "        for j in range(n):\n",
    "            new_lst[j][n-i-1] = lst[i][j]\n",
    "    return new_lst\n",
    "\n",
    "def DFS(n, data, count):\n",
    "    ret = max([max(el) for el in data])\n",
    "    if count == 5:\n",
    "        return ret\n",
    "    for i in range(4):\n",
    "        tmp = [covert(el) for el in data]\n",
    "        if data != tmp:\n",
    "            ret = max(ret, DFS(n, tmp, count+1))\n",
    "        data = rotate90(n, data)\n",
    "    return ret\n",
    "N = int(input())\n",
    "data = [list(map(int, input().split())) for _ in range(N)]\n",
    "\n",
    "print(DFS(N, data, 0))\n"
   ]
  },
  {
   "cell_type": "code",
   "execution_count": 1,
   "metadata": {},
   "outputs": [
    {
     "ename": "KeyboardInterrupt",
     "evalue": "Interrupted by user",
     "output_type": "error",
     "traceback": [
      "\u001b[1;31m---------------------------------------------------------------------------\u001b[0m",
      "\u001b[1;31mKeyboardInterrupt\u001b[0m                         Traceback (most recent call last)",
      "\u001b[1;32m<ipython-input-1-0043057191c4>\u001b[0m in \u001b[0;36m<module>\u001b[1;34m\u001b[0m\n\u001b[0;32m     34\u001b[0m \u001b[1;33m\u001b[0m\u001b[0m\n\u001b[0;32m     35\u001b[0m \u001b[1;33m\u001b[0m\u001b[0m\n\u001b[1;32m---> 36\u001b[1;33m \u001b[0mN\u001b[0m\u001b[1;33m,\u001b[0m \u001b[0mM\u001b[0m\u001b[1;33m,\u001b[0m \u001b[0mK\u001b[0m \u001b[1;33m=\u001b[0m \u001b[0mmap\u001b[0m\u001b[1;33m(\u001b[0m\u001b[0mint\u001b[0m\u001b[1;33m,\u001b[0m \u001b[0minput\u001b[0m\u001b[1;33m(\u001b[0m\u001b[1;33m)\u001b[0m\u001b[1;33m.\u001b[0m\u001b[0msplit\u001b[0m\u001b[1;33m(\u001b[0m\u001b[1;33m)\u001b[0m\u001b[1;33m)\u001b[0m\u001b[1;33m\u001b[0m\u001b[1;33m\u001b[0m\u001b[0m\n\u001b[0m\u001b[0;32m     37\u001b[0m \u001b[0mA\u001b[0m \u001b[1;33m=\u001b[0m \u001b[1;33m[\u001b[0m\u001b[0mlist\u001b[0m\u001b[1;33m(\u001b[0m\u001b[0mmap\u001b[0m\u001b[1;33m(\u001b[0m\u001b[0mint\u001b[0m\u001b[1;33m,\u001b[0m \u001b[0minput\u001b[0m\u001b[1;33m(\u001b[0m\u001b[1;33m)\u001b[0m\u001b[1;33m.\u001b[0m\u001b[0msplit\u001b[0m\u001b[1;33m(\u001b[0m\u001b[1;33m)\u001b[0m\u001b[1;33m)\u001b[0m\u001b[1;33m)\u001b[0m \u001b[1;32mfor\u001b[0m \u001b[0m_\u001b[0m \u001b[1;32min\u001b[0m \u001b[0mrange\u001b[0m\u001b[1;33m(\u001b[0m\u001b[0mN\u001b[0m\u001b[1;33m)\u001b[0m\u001b[1;33m]\u001b[0m\u001b[1;33m\u001b[0m\u001b[1;33m\u001b[0m\u001b[0m\n\u001b[0;32m     38\u001b[0m \u001b[0mk_list\u001b[0m \u001b[1;33m=\u001b[0m \u001b[1;33m[\u001b[0m\u001b[0mlist\u001b[0m\u001b[1;33m(\u001b[0m\u001b[0mmap\u001b[0m\u001b[1;33m(\u001b[0m\u001b[0mint\u001b[0m\u001b[1;33m,\u001b[0m \u001b[0minput\u001b[0m\u001b[1;33m(\u001b[0m\u001b[1;33m)\u001b[0m\u001b[1;33m)\u001b[0m\u001b[1;33m)\u001b[0m \u001b[1;32mfor\u001b[0m \u001b[0m_\u001b[0m \u001b[1;32min\u001b[0m \u001b[0mrange\u001b[0m\u001b[1;33m(\u001b[0m\u001b[0mK\u001b[0m\u001b[1;33m)\u001b[0m\u001b[1;33m]\u001b[0m\u001b[1;33m\u001b[0m\u001b[1;33m\u001b[0m\u001b[0m\n",
      "\u001b[1;32m~\\Anaconda3\\Lib\\site-packages\\ipykernel\\kernelbase.py\u001b[0m in \u001b[0;36mraw_input\u001b[1;34m(self, prompt)\u001b[0m\n\u001b[0;32m    861\u001b[0m             \u001b[0mself\u001b[0m\u001b[1;33m.\u001b[0m\u001b[0m_parent_ident\u001b[0m\u001b[1;33m,\u001b[0m\u001b[1;33m\u001b[0m\u001b[1;33m\u001b[0m\u001b[0m\n\u001b[0;32m    862\u001b[0m             \u001b[0mself\u001b[0m\u001b[1;33m.\u001b[0m\u001b[0m_parent_header\u001b[0m\u001b[1;33m,\u001b[0m\u001b[1;33m\u001b[0m\u001b[1;33m\u001b[0m\u001b[0m\n\u001b[1;32m--> 863\u001b[1;33m             \u001b[0mpassword\u001b[0m\u001b[1;33m=\u001b[0m\u001b[1;32mFalse\u001b[0m\u001b[1;33m,\u001b[0m\u001b[1;33m\u001b[0m\u001b[1;33m\u001b[0m\u001b[0m\n\u001b[0m\u001b[0;32m    864\u001b[0m         )\n\u001b[0;32m    865\u001b[0m \u001b[1;33m\u001b[0m\u001b[0m\n",
      "\u001b[1;32m~\\Anaconda3\\Lib\\site-packages\\ipykernel\\kernelbase.py\u001b[0m in \u001b[0;36m_input_request\u001b[1;34m(self, prompt, ident, parent, password)\u001b[0m\n\u001b[0;32m    902\u001b[0m             \u001b[1;32mexcept\u001b[0m \u001b[0mKeyboardInterrupt\u001b[0m\u001b[1;33m:\u001b[0m\u001b[1;33m\u001b[0m\u001b[1;33m\u001b[0m\u001b[0m\n\u001b[0;32m    903\u001b[0m                 \u001b[1;31m# re-raise KeyboardInterrupt, to truncate traceback\u001b[0m\u001b[1;33m\u001b[0m\u001b[1;33m\u001b[0m\u001b[1;33m\u001b[0m\u001b[0m\n\u001b[1;32m--> 904\u001b[1;33m                 \u001b[1;32mraise\u001b[0m \u001b[0mKeyboardInterrupt\u001b[0m\u001b[1;33m(\u001b[0m\u001b[1;34m\"Interrupted by user\"\u001b[0m\u001b[1;33m)\u001b[0m \u001b[1;32mfrom\u001b[0m \u001b[1;32mNone\u001b[0m\u001b[1;33m\u001b[0m\u001b[1;33m\u001b[0m\u001b[0m\n\u001b[0m\u001b[0;32m    905\u001b[0m             \u001b[1;32mexcept\u001b[0m \u001b[0mException\u001b[0m \u001b[1;32mas\u001b[0m \u001b[0me\u001b[0m\u001b[1;33m:\u001b[0m\u001b[1;33m\u001b[0m\u001b[1;33m\u001b[0m\u001b[0m\n\u001b[0;32m    906\u001b[0m                 \u001b[0mself\u001b[0m\u001b[1;33m.\u001b[0m\u001b[0mlog\u001b[0m\u001b[1;33m.\u001b[0m\u001b[0mwarning\u001b[0m\u001b[1;33m(\u001b[0m\u001b[1;34m\"Invalid Message:\"\u001b[0m\u001b[1;33m,\u001b[0m \u001b[0mexc_info\u001b[0m\u001b[1;33m=\u001b[0m\u001b[1;32mTrue\u001b[0m\u001b[1;33m)\u001b[0m\u001b[1;33m\u001b[0m\u001b[1;33m\u001b[0m\u001b[0m\n",
      "\u001b[1;31mKeyboardInterrupt\u001b[0m: Interrupted by user"
     ]
    }
   ],
   "source": [
    "#17406\n",
    "import copy\n",
    "\n",
    "\n",
    "def slide(lst, new_lst, s, S):\n",
    "    for i in range(S-s+1, S+s+1):\n",
    "        new_lst[S-s][i] = lst[S-s][i-1]\n",
    "\n",
    "def rotate90(data):\n",
    "    new_lst = copy.deepcopy(data)\n",
    "    N = len(data)\n",
    "    for i in range(N):\n",
    "        for j in range(N):\n",
    "            new_lst[j][N-i-1] = data[i][j]\n",
    "    return new_lst\n",
    "                \n",
    "def merge(lst, new_lst, s, r, c):\n",
    "    for i in range(r-s, r+s+1):\n",
    "        for j in range(c-s, c+s+1):\n",
    "            lst[i][j] = new_lst[i-r+s][j-c+s]\n",
    "\n",
    "\n",
    "                \n",
    "def DFS(lst, count):\n",
    "    global ans\n",
    "    if count == K:\n",
    "        val = min([sum(el) for el in lst])\n",
    "        ans = min(ans, val)\n",
    "        return\n",
    "    \n",
    "    for i in range(K):\n",
    "        if visited[i] == 0:\n",
    "            data = copy.deepcopy(lst)\n",
    "            visited[i] = 1\n",
    "            r, c, s = k_list[i]\n",
    "            tmp = [data[m][c-s:c+s+1] for m in range(r-s, r+s+1)]\n",
    "            new_data = copy.deepcopy(tmp) \n",
    "\n",
    "            for _ in range(4):\n",
    "                for j in range(1, s+1):\n",
    "                    slide(tmp, new_data, j, s)\n",
    "                tmp = rotate90(tmp)\n",
    "                new_data = rotate90(new_data)\n",
    "            merge(data, new_data, s, r, c)\n",
    "            DFS(data, count+1)\n",
    "            visited[i] = 0\n",
    "    \n",
    "                \n",
    "            \n",
    "\n",
    "N, M, K = map(int, input().split())\n",
    "A = [list(map(int, input().split())) for _ in range(N)]\n",
    "k_list = []\n",
    "for _ in range(K):\n",
    "    a = list(map(int, input().split()))\n",
    "    a[0] -=1\n",
    "    a[1] -=1\n",
    "    k_list.append(a)\n",
    "visited = [0] * K\n",
    "ans = 5000000\n",
    "DFS(A, 0)\n",
    "print(ans)"
   ]
  },
  {
   "cell_type": "code",
   "execution_count": null,
   "metadata": {},
   "outputs": [],
   "source": [
    "#17406\n",
    "import copy\n",
    "\n",
    "dx =[1, 0, -1, 0]\n",
    "dy = [0, -1, 0, 1]\n",
    "\n",
    "def convert(data, k):\n",
    "    r, c, s = k\n",
    "    new_lst = copy.deepcopy(data) \n",
    "    for i in range(1, s+1):\n",
    "        rr, cc = r-i, c+i\n",
    "        for j in range(4):\n",
    "            for k in range(i*2):\n",
    "                rrr, ccc = rr + dx[j], cc + dy[j]\n",
    "                new_lst[rrr][ccc] = data[rr][cc]\n",
    "                rr, cc = rrr, ccc\n",
    "    return new_lst\n",
    "\n",
    "\n",
    "def DFS(data, count):\n",
    "    global ans\n",
    "    if count == K:\n",
    "        ans = min(ans, min([sum(el) for el in data]))\n",
    "        return\n",
    "    for i in range(K):\n",
    "        if visited[i] == 0:\n",
    "            visited[i] = 1\n",
    "            new_lst = convert(data, k_list[i])\n",
    "            DFS(new_lst, count+1)\n",
    "            visited[i] = 0\n",
    "\n",
    "\n",
    "\n",
    "\n",
    "N, M, K = map(int, input().split())\n",
    "A = [list(map(int, input().split())) for _ in range(N)]\n",
    "k_list = []\n",
    "for _ in range(K):\n",
    "    a = list(map(int, input().split()))\n",
    "    a[0] -=1\n",
    "    a[1] -=1\n",
    "    k_list.append(a)\n",
    "visited = [0] * K\n",
    "ans = 5000000\n",
    "DFS(A, 0)\n",
    "print(ans)"
   ]
  },
  {
   "cell_type": "code",
   "execution_count": 1,
   "metadata": {},
   "outputs": [
    {
     "name": "stdout",
     "output_type": "stream",
     "text": [
      "5\n",
      "7\n",
      "3 8\n",
      "8 1 0\n",
      "2 7 4 4\n",
      "4 5 2 6 5\n",
      "30\n"
     ]
    }
   ],
   "source": [
    "#1932\n",
    "import copy \n",
    "N = int(input())\n",
    "data = [list(map(int, input().split())) for _ in range(N)]\n",
    "dp = copy.deepcopy(data)\n",
    "for i in range(1, N):\n",
    "    for j in range(i+1):\n",
    "        if j == 0:\n",
    "            dp[i][j] += dp[i-1][j]\n",
    "        elif j == i:\n",
    "            dp[i][j] += dp[i-1][j-1]\n",
    "        else:\n",
    "            dp[i][j] += max(dp[i-1][j-1], dp[i-1][j])\n",
    "print(max(dp[N-1]))"
   ]
  },
  {
   "cell_type": "code",
   "execution_count": 2,
   "metadata": {},
   "outputs": [
    {
     "name": "stdout",
     "output_type": "stream",
     "text": [
      "5\n",
      "7\n",
      "3 8\n",
      "8 1 0\n",
      "2 7 4 4\n",
      "4 5 2 6 5\n",
      "30\n"
     ]
    }
   ],
   "source": [
    "#1932\n",
    "N = int(input())\n",
    "dp = [0] * (N+1)\n",
    "for i in range(N):\n",
    "    data = [0] + list(map(int, input().split()))\n",
    "    n = len(data)\n",
    "    for i in range(n-1, 0, -1):\n",
    "        dp[i] = max(dp[i], dp[i-1]) + data[i]\n",
    "print(max(dp))"
   ]
  },
  {
   "cell_type": "code",
   "execution_count": 3,
   "metadata": {},
   "outputs": [
    {
     "name": "stdout",
     "output_type": "stream",
     "text": [
      "10\n",
      "1 100 2 50 60 3 5 6 7 8\n",
      "113\n"
     ]
    }
   ],
   "source": [
    "#11055\n",
    "N = int(input())\n",
    "A = list(map(int, input().split()))\n",
    "dp = [A[i] for i in range(N)]\n",
    "\n",
    "for i in range(1, N):\n",
    "    for j in range(0, i):\n",
    "        if A[j] < A[i]:\n",
    "            dp[i] = max(dp[i], dp[j] +A[i])\n",
    "print(max(dp))"
   ]
  },
  {
   "cell_type": "code",
   "execution_count": 9,
   "metadata": {},
   "outputs": [
    {
     "name": "stdout",
     "output_type": "stream",
     "text": [
      "6\n",
      "10 20 10 30 20 50\n",
      "4\n",
      "10 20 30 50\n"
     ]
    }
   ],
   "source": [
    "#14002\n",
    "N = int(input())\n",
    "A = list(map(int, input().split()))\n",
    "dp_idx = [i for i in range(N)]\n",
    "dp_l = [1 for i in range(N)]\n",
    "for i in range(1, N):\n",
    "    for j in range(0, i):\n",
    "        if A[j] < A[i]:\n",
    "            if dp_l[i] < dp_l[j] + 1:\n",
    "                dp_l[i] = dp_l[j] + 1\n",
    "                dp_idx[i] = j\n",
    "max_val = max(dp_l)\n",
    "idx = dp_l.index(max_val)\n",
    "ans = []\n",
    "while True:\n",
    "    ans.append(A[idx])\n",
    "    if idx == dp_idx[idx]:\n",
    "        break\n",
    "    idx = dp_idx[idx]\n",
    "ans.sort()\n",
    "print(max_val)\n",
    "print(*ans)\n"
   ]
  },
  {
   "cell_type": "code",
   "execution_count": 6,
   "metadata": {
    "scrolled": true
   },
   "outputs": [
    {
     "ename": "AttributeError",
     "evalue": "'list' object has no attribute 'find'",
     "output_type": "error",
     "traceback": [
      "\u001b[1;31m---------------------------------------------------------------------------\u001b[0m",
      "\u001b[1;31mAttributeError\u001b[0m                            Traceback (most recent call last)",
      "\u001b[1;32m<ipython-input-6-b03ec9c2e7df>\u001b[0m in \u001b[0;36m<module>\u001b[1;34m\u001b[0m\n\u001b[1;32m----> 1\u001b[1;33m \u001b[1;33m[\u001b[0m\u001b[1;36m1\u001b[0m\u001b[1;33m,\u001b[0m \u001b[1;36m2\u001b[0m\u001b[1;33m,\u001b[0m \u001b[1;36m3\u001b[0m\u001b[1;33m]\u001b[0m\u001b[1;33m.\u001b[0m\u001b[0mfind\u001b[0m\u001b[1;33m(\u001b[0m\u001b[1;36m2\u001b[0m\u001b[1;33m)\u001b[0m\u001b[1;33m\u001b[0m\u001b[1;33m\u001b[0m\u001b[0m\n\u001b[0m",
      "\u001b[1;31mAttributeError\u001b[0m: 'list' object has no attribute 'find'"
     ]
    }
   ],
   "source": [
    "[1, 2, 3].find(2)"
   ]
  },
  {
   "cell_type": "code",
   "execution_count": 12,
   "metadata": {},
   "outputs": [
    {
     "name": "stdout",
     "output_type": "stream",
     "text": [
      "2 3\n",
      "1 2 4\n",
      "8 16 32\n",
      "3\n",
      "1 1 2 3\n",
      "63\n",
      "1 2 1 2\n",
      "2\n",
      "1 3 2 3\n",
      "36\n"
     ]
    }
   ],
   "source": [
    "#2167\n",
    "\n",
    "def solve(i, j, x, y):\n",
    "    return data[x][y] - data[x][j-1] - data[i-1][y] + data[i-1][j-1]\n",
    "    \n",
    "N, M = map(int, input().split())\n",
    "data = [[0]*(M+1)] + [[0] + list(map(int, input().split())) for _ in range(N)]\n",
    "K = int(input())\n",
    "for i in range(1, N+1):\n",
    "    for j in range(1, M+1):\n",
    "        data[i][j] += data[i-1][j] + data[i][j-1] - data[i-1][j-1]\n",
    "for i in range(K):\n",
    "    i, j, x, y = map(int, input().split())\n",
    "    print(solve(i, j, x, y))\n",
    "\n"
   ]
  },
  {
   "cell_type": "code",
   "execution_count": 18,
   "metadata": {
    "scrolled": false
   },
   "outputs": [
    {
     "name": "stdout",
     "output_type": "stream",
     "text": [
      "3 3\n",
      "000\n",
      "001\n",
      "000\n",
      "0\n"
     ]
    }
   ],
   "source": [
    "#1915\n",
    "N, M = map(int, input().split())\n",
    "data = [list(map(int, input())) for _ in range(N)]\n",
    "dp = [[0] * (M+1) for _ in range(N+1)]\n",
    "ans = 0\n",
    "for i in range(1, N+1):\n",
    "    for j in range(1, M+1):\n",
    "        if data[i-1][j-1]:\n",
    "            if dp[i-1][j] and dp[i][j-1] and dp[i-1][j-1]:\n",
    "                dp[i][j] = 1 + min(dp[i-1][j], dp[i][j-1], dp[i-1][j-1])\n",
    "            else:\n",
    "                dp[i][j] = 1\n",
    "            if dp[i][j] > ans:\n",
    "                    ans = dp[i][j]\n",
    "print(ans**2)"
   ]
  },
  {
   "cell_type": "code",
   "execution_count": null,
   "metadata": {},
   "outputs": [],
   "source": [
    "#1915\n",
    "N, M = map(int, input().split())\n",
    "data = [list(map(int, input())) for _ in range(N)]\n",
    "dp = [[0] * (M+1) for _ in range(N+1)]\n",
    "ans = 0\n",
    "for i in range(1, N+1):\n",
    "    for j in range(1, M+1):\n",
    "        if data[i-1][j-1]:\n",
    "            dp[i][j] = 1 + min(dp[i-1][j], dp[i][j-1], dp[i-1][j-1])\n",
    "            if dp[i][j] > ans:\n",
    "                ans = dp[i][j]\n",
    "print(ans**2)"
   ]
  },
  {
   "cell_type": "code",
   "execution_count": null,
   "metadata": {},
   "outputs": [],
   "source": [
    "N, M = map(int, input().split())\n",
    "data = [[0]*(M+1)] + [[0] + list(map(int, input())) for _ in range(N)]\n",
    "ans = 0\n",
    "for i in range(1, N+1):\n",
    "    for j in range(1, M+1):\n",
    "        if data[i][j]:\n",
    "            data[i][j] = 1 + min(data[i-1][j], data[i][j-1], data[i-1][j-1])\n",
    "            if data[i][j] > ans:\n",
    "                ans = data[i][j]\n",
    "print(ans**2)"
   ]
  },
  {
   "cell_type": "code",
   "execution_count": null,
   "metadata": {},
   "outputs": [],
   "source": []
  }
 ],
 "metadata": {
  "kernelspec": {
   "display_name": "Python 3",
   "language": "python",
   "name": "python3"
  },
  "language_info": {
   "codemirror_mode": {
    "name": "ipython",
    "version": 3
   },
   "file_extension": ".py",
   "mimetype": "text/x-python",
   "name": "python",
   "nbconvert_exporter": "python",
   "pygments_lexer": "ipython3",
   "version": "3.7.3"
  }
 },
 "nbformat": 4,
 "nbformat_minor": 4
}
