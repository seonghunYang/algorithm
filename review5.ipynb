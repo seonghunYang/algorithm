{
 "cells": [
  {
   "cell_type": "code",
   "execution_count": 2,
   "metadata": {},
   "outputs": [
    {
     "name": "stdout",
     "output_type": "stream",
     "text": [
      "55-50+40\n",
      "-35\n"
     ]
    }
   ],
   "source": [
    "#1541\n",
    "N = input()\n",
    "data = N.split(\"-\")\n",
    "answer = sum(list(map(int, data[0].split(\"+\"))))\n",
    "for i in range(1, len(data)):\n",
    "    answer -= sum(list(map(int, data[i].split(\"+\"))))\n",
    "print(answer)"
   ]
  },
  {
   "cell_type": "code",
   "execution_count": 2,
   "metadata": {},
   "outputs": [
    {
     "ename": "ValueError",
     "evalue": "invalid literal for int() with base 10: ''",
     "output_type": "error",
     "traceback": [
      "\u001b[1;31m---------------------------------------------------------------------------\u001b[0m",
      "\u001b[1;31mValueError\u001b[0m                                Traceback (most recent call last)",
      "\u001b[1;32m<ipython-input-2-17c4fced4e64>\u001b[0m in \u001b[0;36m<module>\u001b[1;34m\u001b[0m\n\u001b[0;32m      2\u001b[0m \u001b[1;32mimport\u001b[0m \u001b[0msys\u001b[0m\u001b[1;33m\u001b[0m\u001b[1;33m\u001b[0m\u001b[0m\n\u001b[0;32m      3\u001b[0m \u001b[0minput\u001b[0m \u001b[1;33m=\u001b[0m \u001b[0msys\u001b[0m\u001b[1;33m.\u001b[0m\u001b[0mstdin\u001b[0m\u001b[1;33m.\u001b[0m\u001b[0mreadline\u001b[0m\u001b[1;33m\u001b[0m\u001b[1;33m\u001b[0m\u001b[0m\n\u001b[1;32m----> 4\u001b[1;33m \u001b[0mN\u001b[0m \u001b[1;33m=\u001b[0m \u001b[0mint\u001b[0m\u001b[1;33m(\u001b[0m\u001b[0minput\u001b[0m\u001b[1;33m(\u001b[0m\u001b[1;33m)\u001b[0m\u001b[1;33m)\u001b[0m\u001b[1;33m\u001b[0m\u001b[1;33m\u001b[0m\u001b[0m\n\u001b[0m\u001b[0;32m      5\u001b[0m \u001b[0mdata\u001b[0m \u001b[1;33m=\u001b[0m \u001b[0mlist\u001b[0m\u001b[1;33m(\u001b[0m\u001b[0mmap\u001b[0m\u001b[1;33m(\u001b[0m\u001b[0mint\u001b[0m\u001b[1;33m,\u001b[0m \u001b[0minput\u001b[0m\u001b[1;33m(\u001b[0m\u001b[1;33m)\u001b[0m\u001b[1;33m.\u001b[0m\u001b[0msplit\u001b[0m\u001b[1;33m(\u001b[0m\u001b[1;33m)\u001b[0m\u001b[1;33m)\u001b[0m\u001b[1;33m)\u001b[0m\u001b[1;33m\u001b[0m\u001b[1;33m\u001b[0m\u001b[0m\n\u001b[0;32m      6\u001b[0m \u001b[0mdp\u001b[0m \u001b[1;33m=\u001b[0m \u001b[1;33m[\u001b[0m\u001b[1;33m[\u001b[0m\u001b[1;36m1\u001b[0m\u001b[1;33m]\u001b[0m \u001b[1;33m*\u001b[0m \u001b[0mN\u001b[0m \u001b[1;32mfor\u001b[0m \u001b[0m_\u001b[0m \u001b[1;32min\u001b[0m \u001b[0mrange\u001b[0m\u001b[1;33m(\u001b[0m\u001b[0mN\u001b[0m\u001b[1;33m)\u001b[0m\u001b[1;33m]\u001b[0m\u001b[1;33m\u001b[0m\u001b[1;33m\u001b[0m\u001b[0m\n",
      "\u001b[1;31mValueError\u001b[0m: invalid literal for int() with base 10: ''"
     ]
    }
   ],
   "source": [
    "#10942\n",
    "import sys\n",
    "input = sys.stdin.readline\n",
    "N = int(input())\n",
    "data = list(map(int, input().split()))\n",
    "dp = [[1] * N for _ in range(N)]\n",
    "#길이\n",
    "for k in range(2, N+1):\n",
    "    #시작 인덱스\n",
    "    for i in range(N-k+1):\n",
    "        j = i + k -1\n",
    "        if dp[i+1][j-1] == 1 and data[i] == data[j]:\n",
    "            dp[i][j] = 1\n",
    "        else:\n",
    "            dp[i][j] = 0\n",
    "for _ in range(int(input())):\n",
    "    n, m = map(int, input().split())\n",
    "    print(dp[n-1][m-1])"
   ]
  },
  {
   "cell_type": "code",
   "execution_count": 1,
   "metadata": {},
   "outputs": [
    {
     "name": "stdout",
     "output_type": "stream",
     "text": [
      "2\n",
      "1 4\n",
      "2\n",
      "3 2\n",
      "Y N\n"
     ]
    }
   ],
   "source": [
    "#2629\n",
    "N = int(input())\n",
    "data = list(map(int, input().split()))\n",
    "# dp[i][j] i번째 무개 추를 넣었을 때 j무개를 잴 수 있는가\n",
    "dp = [[0]* (40001) for _ in range(N)]\n",
    "dp[0][data[0]] = 1\n",
    "for i in range(1, N):\n",
    "    # 자기 자신은 잴 수 있음\n",
    "    dp[i][data[i]] = 1\n",
    "    # dp[i-1][j]에서 파생\n",
    "    for j in range(40001):\n",
    "        if dp[i-1][j] == 1:\n",
    "            dp[i][j] = 1\n",
    "            dp[i][abs(j-data[i])] = 1\n",
    "            if j + data[i] <= 40000:\n",
    "                dp[i][j+data[i]] = 1\n",
    "M = int(input())\n",
    "M_list = list(map(int, input().split()))\n",
    "answer = []\n",
    "for el in M_list:\n",
    "    answer.append(\"Y\" if dp[N-1][el] == 1 else \"N\")\n",
    "print(*answer)"
   ]
  },
  {
   "cell_type": "code",
   "execution_count": 3,
   "metadata": {},
   "outputs": [
    {
     "name": "stdout",
     "output_type": "stream",
     "text": [
      "3 10\n",
      "1\n",
      "2\n",
      "5\n",
      "10\n"
     ]
    }
   ],
   "source": [
    "#2293\n",
    "N, K = map(int, input().split())\n",
    "data = [int(input()) for _ in range(N)]\n",
    "dp = [0] * (K+1)\n",
    "# 초기 설정을 위함\n",
    "dp[0] = 1\n",
    "for el in data:\n",
    "    for i in range(el, K+1):\n",
    "        dp[i] += dp[i-el]\n",
    "print(dp[K])"
   ]
  },
  {
   "cell_type": "code",
   "execution_count": 4,
   "metadata": {},
   "outputs": [
    {
     "name": "stdout",
     "output_type": "stream",
     "text": [
      "3 2\n",
      "1 65\n",
      "5 23\n",
      "2 99\n",
      "10\n",
      "2\n",
      "164\n"
     ]
    }
   ],
   "source": [
    "#1202\n",
    "import heapq\n",
    "N, K = map(int, input().split())\n",
    "data = [list(map(int, input().split())) for _ in range(N)]\n",
    "bag = [int(input()) for _ in range(K)]\n",
    "heapq.heapify(bag)\n",
    "heapq.heapify(data)\n",
    "\n",
    "capable = []\n",
    "answer = 0\n",
    "# 가방수 만큼 반복\n",
    "for _ in range(K):\n",
    "    c = heapq.heappop(bag)\n",
    "    # 가방안에 넣을 수 있는거 확대\n",
    "    while data and data[0][0] <= c:\n",
    "        w, v = heapq.heappop(data)\n",
    "        heapq.heappush(capable, -v)\n",
    "    # 가방에 넣기\n",
    "    if capable:\n",
    "        answer -= heapq.heappop(capable)\n",
    "    elif not data:\n",
    "        break\n",
    "print(answer)"
   ]
  },
  {
   "cell_type": "code",
   "execution_count": 2,
   "metadata": {},
   "outputs": [
    {
     "name": "stdout",
     "output_type": "stream",
     "text": [
      "5 60\n",
      "30 10 20 35 40\n",
      "3 0 3 5 4\n",
      "6\n"
     ]
    }
   ],
   "source": [
    "#7579\n",
    "N, M = map(int, input().split())\n",
    "memory = list(map(int, input().split()))\n",
    "cost = list(map(int, input().split()))\n",
    "sumCost = sum(cost)\n",
    "# dp[i][j] i번째 앱을 뺄때 j비용으로 확보할 수있는 메모리 양 // => 최대 j는 cost의 합이 되어야 한다.\n",
    "dp = [[0] * (sumCost+1) for _ in range(N)]\n",
    "dp[0][cost[0]] = memory[0]\n",
    "\n",
    "for i in range(1, N):\n",
    "    for j in range(sumCost+1):\n",
    "        dp[i][j] = dp[i-1][j]\n",
    "        if j >= cost[i]:\n",
    "            dp[i][j] = max(dp[i][j], dp[i-1][j-cost[i]] + memory[i])\n",
    "for i in range(sumCost+1):\n",
    "    if dp[N-1][i] >= M:\n",
    "        print(i)\n",
    "        break\n",
    "        "
   ]
  },
  {
   "cell_type": "code",
   "execution_count": 11,
   "metadata": {},
   "outputs": [
    {
     "name": "stdout",
     "output_type": "stream",
     "text": [
      "6 2\n",
      "-1\n",
      "3\n",
      "1\n",
      "2\n",
      "4\n",
      "-1\n",
      "9\n"
     ]
    }
   ],
   "source": [
    "#2228\n",
    "import sys\n",
    "\n",
    "def go(n, m):\n",
    "    if m == 0:\n",
    "        return 0\n",
    "    if n <= 0:\n",
    "        return -sys.maxsize\n",
    "    if dp[n][m]:\n",
    "        return dp[n][m]\n",
    "    # 선택 x\n",
    "    res = go(n-1, m)\n",
    "    for k in range(n, 0, -1):\n",
    "        tmp = go(k-2, m-1) + (s[n] - s[k-1])\n",
    "        res = max(res, tmp)\n",
    "    dp[n][m] = res\n",
    "    return res\n",
    "\n",
    "\n",
    "N, M = map(int, input().split())\n",
    "data = [0] + [int(input()) for _ in range(N)]\n",
    "dp = [[None]* (M+1) for _ in range(N+1)]\n",
    "s = [0] * (N+1)\n",
    "# 부분합 구하기\n",
    "for i in range(1, N+1):\n",
    "    s[i] = s[i-1] + data[i]\n",
    "\n",
    "print(go(N, M))"
   ]
  },
  {
   "cell_type": "code",
   "execution_count": 15,
   "metadata": {},
   "outputs": [
    {
     "name": "stdout",
     "output_type": "stream",
     "text": [
      "4\n",
      "6\n",
      "2\n",
      "2\n",
      "3\n",
      "3\n",
      "3\n"
     ]
    }
   ],
   "source": [
    "#10775\n",
    "\n",
    "def find(x):\n",
    "    if parent[x] == x:\n",
    "        return x\n",
    "    parent[x] = find(parent[x])\n",
    "    return parent[x]\n",
    "\n",
    "def union(x, y):\n",
    "    x, y = find(x), find(y)\n",
    "    \n",
    "    if x == y:\n",
    "        return\n",
    "    parent[x] = y\n",
    "    return\n",
    "    \n",
    "G = int(input())\n",
    "P = int(input())\n",
    "# parent는 정착 가능한 게이트로 보내는 좌표 0 이면 불가\n",
    "parent = [i for i in range(G+1)]\n",
    "answer = 0\n",
    "for _ in range(P):\n",
    "    g = int(input())\n",
    "    parent_g = find(g)\n",
    "    if parent_g == 0:\n",
    "        break\n",
    "    union(parent_g, parent_g-1)\n",
    "    answer += 1\n",
    "print(answer)"
   ]
  },
  {
   "cell_type": "code",
   "execution_count": 16,
   "metadata": {},
   "outputs": [
    {
     "name": "stdout",
     "output_type": "stream",
     "text": [
      "2\n",
      "1666\n"
     ]
    }
   ],
   "source": [
    "#1436\n",
    "N = int(input())\n",
    "answer = 0\n",
    "tmp = 1\n",
    "while True:\n",
    "    if \"666\" in str(tmp):\n",
    "        answer += 1\n",
    "        if answer == N:\n",
    "            break\n",
    "    tmp += 1\n",
    "    \n",
    "print(tmp)"
   ]
  },
  {
   "cell_type": "code",
   "execution_count": 17,
   "metadata": {},
   "outputs": [
    {
     "name": "stdout",
     "output_type": "stream",
     "text": [
      "5 5\n",
      ".xx..\n",
      "..x..\n",
      ".....\n",
      "...x.\n",
      "...x.\n"
     ]
    }
   ],
   "source": [
    "#3109\n",
    "\n",
    "dx = [-1, 0, 1]\n",
    "dy = [1, 1, 1]\n",
    "\n",
    "def DFS(n, m):\n",
    "    if m == C-1:\n",
    "        return 1\n",
    "    for i in range(3):\n",
    "        x, y = n + dx[i], m + dy[i]\n",
    "        if 0 <= x <= R-1 and 0 <=y <= C-1 and data[x][y] == 0:\n",
    "            data[x][y] = 1\n",
    "            tmp = DFS(x, y)\n",
    "            if tmp:\n",
    "                return tmp\n",
    "    return 0\n",
    "        \n",
    "\n",
    "R, C = map(int, input().split())\n",
    "data = [list(map(lambda x: 0 if x ==\".\" else 1, input())) for _ in range(R)]\n",
    "answer = 0\n",
    "for i in range(R):\n",
    "    answer += DFS(i, 0)\n",
    "print(answer)"
   ]
  },
  {
   "cell_type": "code",
   "execution_count": 9,
   "metadata": {},
   "outputs": [
    {
     "name": "stdout",
     "output_type": "stream",
     "text": [
      "7 4\n",
      "1 2 3 1 2 3 1\n",
      "2\n"
     ]
    }
   ],
   "source": [
    "#13397\n",
    "N, M = map(int, input().split())\n",
    "data = list(map(int, input().split()))\n",
    "start = 0\n",
    "end = 10000\n",
    "while start <= end:\n",
    "    # 구간 값의 최대 라인\n",
    "    mid = (start + end) // 2\n",
    "    tmp = 1\n",
    "    mx = data[0]\n",
    "    mn = data[0]\n",
    "    for i in range(1, N):\n",
    "        if mx < data[i]:\n",
    "            mx =data[i]\n",
    "        if mn > data[i]:\n",
    "            mn = data[i]\n",
    "        if mx - mn > mid:\n",
    "            tmp += 1\n",
    "            mx = data[i]\n",
    "            mn = data[i]\n",
    "    if tmp > M:\n",
    "        start= mid + 1\n",
    "    else:\n",
    "        end = mid -1\n",
    "print(start)"
   ]
  },
  {
   "cell_type": "code",
   "execution_count": 16,
   "metadata": {},
   "outputs": [
    {
     "name": "stdout",
     "output_type": "stream",
     "text": [
      "1\n",
      "1\n"
     ]
    }
   ],
   "source": [
    "#1146\n",
    "# dp의 i j와 같은 값\n",
    "def solve(left, right, d):\n",
    "    # 더이상 갈 수 없을 때\n",
    "    if right + left == 0:\n",
    "        return 1\n",
    "    if dp[left][right][d] != None:\n",
    "        return dp[left][right][d]\n",
    "    tmp = 0\n",
    "    # 다음 값들 (상활들) d = 1 오름차순 \n",
    "    if d:\n",
    "        # 큰놈이 와야함\n",
    "        for i in range(right):\n",
    "            # i == 다음 상활ㅇ때문에 생기는 작아지는 놈 남은 것 중 가장 작은놈부터 시작하는 꼴\n",
    "            tmp += solve(left + i, right - i - 1, 0)\n",
    "    else:\n",
    "        # 작은 놈이 와ㅣ야함 가장 큰놈부터 시작하는 꼴\n",
    "        for i in range(left):\n",
    "            tmp += solve(left - i - 1, right + i, 1)\n",
    "    dp[left][right][d] = tmp % mod\n",
    "    return tmp\n",
    "    \n",
    "mod = 1000000\n",
    "N = int(input())\n",
    "# dp[i][j][k] 기준값기준 남은 값 중 작은값이 i개 큰 값이 j개 오름차순 or 내림차순일때 경우의 수\n",
    "dp = [[[None] * 2 for _ in range(N)] for _ in range(N)]\n",
    "\n",
    "# 특정값이 정해져 있지 않으나 결국 첫 시작은 어떤 값마다 작은거와 큰게 정해져있음\n",
    "# 특정값 보다작은 값 개수 i\n",
    "answer= 0\n",
    "for i in range(N):\n",
    "    answer += solve(i, N-i-1, 0)\n",
    "    answer += solve(i, N-i-1, 1)\n",
    "if N == 1:\n",
    "    print(1)\n",
    "else:\n",
    "    print(answer % mod)"
   ]
  },
  {
   "cell_type": "code",
   "execution_count": 21,
   "metadata": {},
   "outputs": [
    {
     "name": "stdout",
     "output_type": "stream",
     "text": [
      "3 7 7\n",
      "63\n"
     ]
    }
   ],
   "source": [
    "# 1074\n",
    "\n",
    "def solve(n, r, c):\n",
    "    if n == 0:\n",
    "        return 0\n",
    "    size = 2 ** (n-1)\n",
    "    tmp = 0\n",
    "    for i in range(2):\n",
    "        for j in range(2):\n",
    "            if size * i <= r < size * (i+1) and size * j <= c < size * (j+1):\n",
    "                tmp += solve(n-1, r - size * i, c - size * j)\n",
    "                return tmp\n",
    "            else:\n",
    "                tmp += size * size\n",
    "\n",
    "N, r, c = map(int, input().split())\n",
    "\n",
    "print(solve(N, r, c))"
   ]
  },
  {
   "cell_type": "markdown",
   "metadata": {},
   "source": [
    "## "
   ]
  }
 ],
 "metadata": {
  "kernelspec": {
   "display_name": "Python 3",
   "language": "python",
   "name": "python3"
  },
  "language_info": {
   "codemirror_mode": {
    "name": "ipython",
    "version": 3
   },
   "file_extension": ".py",
   "mimetype": "text/x-python",
   "name": "python",
   "nbconvert_exporter": "python",
   "pygments_lexer": "ipython3",
   "version": "3.7.3"
  }
 },
 "nbformat": 4,
 "nbformat_minor": 4
}
