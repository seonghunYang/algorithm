{
 "cells": [
  {
   "cell_type": "code",
   "execution_count": 2,
   "metadata": {},
   "outputs": [
    {
     "name": "stdout",
     "output_type": "stream",
     "text": [
      "55-50+40\n",
      "-35\n"
     ]
    }
   ],
   "source": [
    "#1541\n",
    "N = input()\n",
    "data = N.split(\"-\")\n",
    "answer = sum(list(map(int, data[0].split(\"+\"))))\n",
    "for i in range(1, len(data)):\n",
    "    answer -= sum(list(map(int, data[i].split(\"+\"))))\n",
    "print(answer)"
   ]
  },
  {
   "cell_type": "code",
   "execution_count": 2,
   "metadata": {},
   "outputs": [
    {
     "ename": "ValueError",
     "evalue": "invalid literal for int() with base 10: ''",
     "output_type": "error",
     "traceback": [
      "\u001b[1;31m---------------------------------------------------------------------------\u001b[0m",
      "\u001b[1;31mValueError\u001b[0m                                Traceback (most recent call last)",
      "\u001b[1;32m<ipython-input-2-17c4fced4e64>\u001b[0m in \u001b[0;36m<module>\u001b[1;34m\u001b[0m\n\u001b[0;32m      2\u001b[0m \u001b[1;32mimport\u001b[0m \u001b[0msys\u001b[0m\u001b[1;33m\u001b[0m\u001b[1;33m\u001b[0m\u001b[0m\n\u001b[0;32m      3\u001b[0m \u001b[0minput\u001b[0m \u001b[1;33m=\u001b[0m \u001b[0msys\u001b[0m\u001b[1;33m.\u001b[0m\u001b[0mstdin\u001b[0m\u001b[1;33m.\u001b[0m\u001b[0mreadline\u001b[0m\u001b[1;33m\u001b[0m\u001b[1;33m\u001b[0m\u001b[0m\n\u001b[1;32m----> 4\u001b[1;33m \u001b[0mN\u001b[0m \u001b[1;33m=\u001b[0m \u001b[0mint\u001b[0m\u001b[1;33m(\u001b[0m\u001b[0minput\u001b[0m\u001b[1;33m(\u001b[0m\u001b[1;33m)\u001b[0m\u001b[1;33m)\u001b[0m\u001b[1;33m\u001b[0m\u001b[1;33m\u001b[0m\u001b[0m\n\u001b[0m\u001b[0;32m      5\u001b[0m \u001b[0mdata\u001b[0m \u001b[1;33m=\u001b[0m \u001b[0mlist\u001b[0m\u001b[1;33m(\u001b[0m\u001b[0mmap\u001b[0m\u001b[1;33m(\u001b[0m\u001b[0mint\u001b[0m\u001b[1;33m,\u001b[0m \u001b[0minput\u001b[0m\u001b[1;33m(\u001b[0m\u001b[1;33m)\u001b[0m\u001b[1;33m.\u001b[0m\u001b[0msplit\u001b[0m\u001b[1;33m(\u001b[0m\u001b[1;33m)\u001b[0m\u001b[1;33m)\u001b[0m\u001b[1;33m)\u001b[0m\u001b[1;33m\u001b[0m\u001b[1;33m\u001b[0m\u001b[0m\n\u001b[0;32m      6\u001b[0m \u001b[0mdp\u001b[0m \u001b[1;33m=\u001b[0m \u001b[1;33m[\u001b[0m\u001b[1;33m[\u001b[0m\u001b[1;36m1\u001b[0m\u001b[1;33m]\u001b[0m \u001b[1;33m*\u001b[0m \u001b[0mN\u001b[0m \u001b[1;32mfor\u001b[0m \u001b[0m_\u001b[0m \u001b[1;32min\u001b[0m \u001b[0mrange\u001b[0m\u001b[1;33m(\u001b[0m\u001b[0mN\u001b[0m\u001b[1;33m)\u001b[0m\u001b[1;33m]\u001b[0m\u001b[1;33m\u001b[0m\u001b[1;33m\u001b[0m\u001b[0m\n",
      "\u001b[1;31mValueError\u001b[0m: invalid literal for int() with base 10: ''"
     ]
    }
   ],
   "source": [
    "#10942\n",
    "import sys\n",
    "input = sys.stdin.readline\n",
    "N = int(input())\n",
    "data = list(map(int, input().split()))\n",
    "dp = [[1] * N for _ in range(N)]\n",
    "#길이\n",
    "for k in range(2, N+1):\n",
    "    #시작 인덱스\n",
    "    for i in range(N-k+1):\n",
    "        j = i + k -1\n",
    "        if dp[i+1][j-1] == 1 and data[i] == data[j]:\n",
    "            dp[i][j] = 1\n",
    "        else:\n",
    "            dp[i][j] = 0\n",
    "for _ in range(int(input())):\n",
    "    n, m = map(int, input().split())\n",
    "    print(dp[n-1][m-1])"
   ]
  },
  {
   "cell_type": "code",
   "execution_count": 1,
   "metadata": {},
   "outputs": [
    {
     "name": "stdout",
     "output_type": "stream",
     "text": [
      "2\n",
      "1 4\n",
      "2\n",
      "3 2\n",
      "Y N\n"
     ]
    }
   ],
   "source": [
    "#2629\n",
    "N = int(input())\n",
    "data = list(map(int, input().split()))\n",
    "# dp[i][j] i번째 무개 추를 넣었을 때 j무개를 잴 수 있는가\n",
    "dp = [[0]* (40001) for _ in range(N)]\n",
    "dp[0][data[0]] = 1\n",
    "for i in range(1, N):\n",
    "    # 자기 자신은 잴 수 있음\n",
    "    dp[i][data[i]] = 1\n",
    "    # dp[i-1][j]에서 파생\n",
    "    for j in range(40001):\n",
    "        if dp[i-1][j] == 1:\n",
    "            dp[i][j] = 1\n",
    "            dp[i][abs(j-data[i])] = 1\n",
    "            if j + data[i] <= 40000:\n",
    "                dp[i][j+data[i]] = 1\n",
    "M = int(input())\n",
    "M_list = list(map(int, input().split()))\n",
    "answer = []\n",
    "for el in M_list:\n",
    "    answer.append(\"Y\" if dp[N-1][el] == 1 else \"N\")\n",
    "print(*answer)"
   ]
  },
  {
   "cell_type": "code",
   "execution_count": 3,
   "metadata": {},
   "outputs": [
    {
     "name": "stdout",
     "output_type": "stream",
     "text": [
      "3 10\n",
      "1\n",
      "2\n",
      "5\n",
      "10\n"
     ]
    }
   ],
   "source": [
    "#2293\n",
    "N, K = map(int, input().split())\n",
    "data = [int(input()) for _ in range(N)]\n",
    "dp = [0] * (K+1)\n",
    "# 초기 설정을 위함\n",
    "dp[0] = 1\n",
    "for el in data:\n",
    "    for i in range(el, K+1):\n",
    "        dp[i] += dp[i-el]\n",
    "print(dp[K])"
   ]
  },
  {
   "cell_type": "code",
   "execution_count": 4,
   "metadata": {},
   "outputs": [
    {
     "name": "stdout",
     "output_type": "stream",
     "text": [
      "3 2\n",
      "1 65\n",
      "5 23\n",
      "2 99\n",
      "10\n",
      "2\n",
      "164\n"
     ]
    }
   ],
   "source": [
    "#1202\n",
    "import heapq\n",
    "N, K = map(int, input().split())\n",
    "data = [list(map(int, input().split())) for _ in range(N)]\n",
    "bag = [int(input()) for _ in range(K)]\n",
    "heapq.heapify(bag)\n",
    "heapq.heapify(data)\n",
    "\n",
    "capable = []\n",
    "answer = 0\n",
    "# 가방수 만큼 반복\n",
    "for _ in range(K):\n",
    "    c = heapq.heappop(bag)\n",
    "    # 가방안에 넣을 수 있는거 확대\n",
    "    while data and data[0][0] <= c:\n",
    "        w, v = heapq.heappop(data)\n",
    "        heapq.heappush(capable, -v)\n",
    "    # 가방에 넣기\n",
    "    if capable:\n",
    "        answer -= heapq.heappop(capable)\n",
    "    elif not data:\n",
    "        break\n",
    "print(answer)"
   ]
  },
  {
   "cell_type": "code",
   "execution_count": 2,
   "metadata": {},
   "outputs": [
    {
     "name": "stdout",
     "output_type": "stream",
     "text": [
      "5 60\n",
      "30 10 20 35 40\n",
      "3 0 3 5 4\n",
      "6\n"
     ]
    }
   ],
   "source": [
    "#7579\n",
    "N, M = map(int, input().split())\n",
    "memory = list(map(int, input().split()))\n",
    "cost = list(map(int, input().split()))\n",
    "sumCost = sum(cost)\n",
    "# dp[i][j] i번째 앱을 뺄때 j비용으로 확보할 수있는 메모리 양 // => 최대 j는 cost의 합이 되어야 한다.\n",
    "dp = [[0] * (sumCost+1) for _ in range(N)]\n",
    "dp[0][cost[0]] = memory[0]\n",
    "\n",
    "for i in range(1, N):\n",
    "    for j in range(sumCost+1):\n",
    "        dp[i][j] = dp[i-1][j]\n",
    "        if j >= cost[i]:\n",
    "            dp[i][j] = max(dp[i][j], dp[i-1][j-cost[i]] + memory[i])\n",
    "for i in range(sumCost+1):\n",
    "    if dp[N-1][i] >= M:\n",
    "        print(i)\n",
    "        break\n",
    "        "
   ]
  },
  {
   "cell_type": "code",
   "execution_count": null,
   "metadata": {},
   "outputs": [],
   "source": []
  },
  {
   "cell_type": "markdown",
   "metadata": {},
   "source": [
    "# "
   ]
  }
 ],
 "metadata": {
  "kernelspec": {
   "display_name": "Python 3",
   "language": "python",
   "name": "python3"
  },
  "language_info": {
   "codemirror_mode": {
    "name": "ipython",
    "version": 3
   },
   "file_extension": ".py",
   "mimetype": "text/x-python",
   "name": "python",
   "nbconvert_exporter": "python",
   "pygments_lexer": "ipython3",
   "version": "3.7.3"
  }
 },
 "nbformat": 4,
 "nbformat_minor": 4
}
