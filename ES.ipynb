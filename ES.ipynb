{
 "cells": [
  {
   "cell_type": "code",
   "execution_count": 23,
   "metadata": {},
   "outputs": [
    {
     "name": "stdout",
     "output_type": "stream",
     "text": [
      "1 8\n",
      "11911103\n",
      "108\n"
     ]
    }
   ],
   "source": [
    "#1451\n",
    "import sys\n",
    "# input = sys.stdin.readline\n",
    "# print = sys.stdout.write\n",
    "\n",
    "N, M = map(int, input().split())\n",
    "data = [list(map(int, list(input().strip()))) for _ in range(N)]\n",
    "s = data.copy()\n",
    "\n",
    "def getArea(start_n, start_m, end_n, end_m):\n",
    "    return s[end_n+1][end_m+1] - (s[end_n+1][start_m] + s[start_n][end_m+1] - s[start_n][start_m])\n",
    "\n",
    "s = [[0] * (M+1) for _ in range(N+1)]\n",
    "for i in range(1, N+1):\n",
    "    for j in range(1, M+1):\n",
    "        s[i][j] = s[i-1][j] + s[i][j-1] - s[i-1][j-1] + data[i-1][j-1]\n",
    "\n",
    "ans = 0\n",
    "#1\n",
    "for i in range(M-2):\n",
    "    for j in range(i+1, M-1):\n",
    "        a1 = getArea(0, 0, N-1, i)\n",
    "        a2 = getArea(0, i+1, N-1, j)\n",
    "        a3 = getArea(0, j+1, N-1, M-1)\n",
    "        ans = max(ans, a1 * a2 * a3)\n",
    "for i in range(N-2):\n",
    "    for j in range(i+1, N-1):\n",
    "        a1 = getArea(0, 0, i, M-1)\n",
    "        a2 = getArea(i+1, 0, j, M-1)\n",
    "        a3 = getArea(j+1, 0, N-1, M-1)\n",
    "        ans = max(ans, a1 * a2 * a3)\n",
    "\n",
    "for i in range(M-1):\n",
    "    for j in range(N-1):\n",
    "        a1 = getArea(0, 0, N-1, i)\n",
    "        a2 = getArea(0, i+1, j, M-1)\n",
    "        a3 = getArea(j+1, i+1, N-1, M-1)\n",
    "        ans = max(ans, a1 * a2 * a3)\n",
    "for i in range(N-1):\n",
    "    for j in range(M-1):\n",
    "        a1 = getArea(0, 0, i, M-1)\n",
    "        a2 = getArea(i+1, 0, N-1, j)\n",
    "        a3 = getArea(i+1, j+1, N-1, M-1)\n",
    "        ans = max(ans, a1 * a2 * a3)\n",
    "for i in range(1, M):\n",
    "    for j in range(N-1):\n",
    "        a1 = getArea(0, i+1, N-1, M-1)\n",
    "        a2 = getArea(0, 0, j, i)\n",
    "        a3 = getArea(j+1, 0, N-1, i)\n",
    "        ans = max(ans, a1 * a2 * a3)\n",
    "for i in range(1, N):\n",
    "    for j in range(M-1):\n",
    "        a1 = getArea(i+1, 0, N-1, M-1)\n",
    "        a2 = getArea(0, 0, i, j)\n",
    "        a3 = getArea(0, j+1, i, M-1)\n",
    "        ans = max(ans, a1 * a2 * a3)\n",
    "print(ans)"
   ]
  },
  {
   "cell_type": "code",
   "execution_count": 20,
   "metadata": {},
   "outputs": [
    {
     "data": {
      "text/plain": [
       "27"
      ]
     },
     "execution_count": 20,
     "metadata": {},
     "output_type": "execute_result"
    }
   ],
   "source": [
    "getArea(0, 0, 2, 1)"
   ]
  },
  {
   "cell_type": "code",
   "execution_count": 26,
   "metadata": {},
   "outputs": [],
   "source": [
    "for i in range(-5):\n",
    "    print(\"a\")"
   ]
  },
  {
   "cell_type": "code",
   "execution_count": null,
   "metadata": {},
   "outputs": [],
   "source": []
  }
 ],
 "metadata": {
  "kernelspec": {
   "display_name": "Python 3",
   "language": "python",
   "name": "python3"
  },
  "language_info": {
   "codemirror_mode": {
    "name": "ipython",
    "version": 3
   },
   "file_extension": ".py",
   "mimetype": "text/x-python",
   "name": "python",
   "nbconvert_exporter": "python",
   "pygments_lexer": "ipython3",
   "version": "3.7.3"
  }
 },
 "nbformat": 4,
 "nbformat_minor": 4
}
