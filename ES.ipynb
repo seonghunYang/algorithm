{
 "cells": [
  {
   "cell_type": "code",
   "execution_count": null,
   "metadata": {},
   "outputs": [],
   "source": [
    "#1451\n",
    "import sys\n",
    "# input = sys.stdin.readline\n",
    "# print = sys.stdout.write\n",
    "\n",
    "N, M = map(int, input().split())\n",
    "data = [list(map(int, list(input().strip()))) for _ in range(N)]\n",
    "s = data.copy()\n",
    "\n",
    "def getArea(start_n, start_m, end_n, end_m):\n",
    "    return s[end_n+1][end_m+1] - (s[end_n+1][start_m] + s[start_n][end_m+1] - s[start_n][start_m])\n",
    "\n",
    "s = [[0] * (M+1) for _ in range(N+1)]\n",
    "for i in range(1, N+1):\n",
    "    for j in range(1, M+1):\n",
    "        s[i][j] = s[i-1][j] + s[i][j-1] - s[i-1][j-1] + data[i-1][j-1]\n",
    "\n",
    "ans = 0\n",
    "#1\n",
    "for i in range(M-2):\n",
    "    for j in range(i+1, M-1):\n",
    "        a1 = getArea(0, 0, N-1, i)\n",
    "        a2 = getArea(0, i+1, N-1, j)\n",
    "        a3 = getArea(0, j+1, N-1, M-1)\n",
    "        ans = max(ans, a1 * a2 * a3)\n",
    "for i in range(N-2):\n",
    "    for j in range(i+1, N-1):\n",
    "        a1 = getArea(0, 0, i, M-1)\n",
    "        a2 = getArea(i+1, 0, j, M-1)\n",
    "        a3 = getArea(j+1, 0, N-1, M-1)\n",
    "        ans = max(ans, a1 * a2 * a3)\n",
    "\n",
    "for i in range(M-1):\n",
    "    for j in range(N-1):\n",
    "        a1 = getArea(0, 0, N-1, i)\n",
    "        a2 = getArea(0, i+1, j, M-1)\n",
    "        a3 = getArea(j+1, i+1, N-1, M-1)\n",
    "        ans = max(ans, a1 * a2 * a3)\n",
    "for i in range(N-1):\n",
    "    for j in range(M-1):\n",
    "        a1 = getArea(0, 0, i, M-1)\n",
    "        a2 = getArea(i+1, 0, N-1, j)\n",
    "        a3 = getArea(i+1, j+1, N-1, M-1)\n",
    "        ans = max(ans, a1 * a2 * a3)\n",
    "for i in range(1, M):\n",
    "    for j in range(N-1):\n",
    "        a1 = getArea(0, i+1, N-1, M-1)\n",
    "        a2 = getArea(0, 0, j, i)\n",
    "        a3 = getArea(j+1, 0, N-1, i)\n",
    "        ans = max(ans, a1 * a2 * a3)\n",
    "for i in range(1, N):\n",
    "    for j in range(M-1):\n",
    "        a1 = getArea(i+1, 0, N-1, M-1)\n",
    "        a2 = getArea(0, 0, i, j)\n",
    "        a3 = getArea(0, j+1, i, M-1)\n",
    "        ans = max(ans, a1 * a2 * a3)\n",
    "print(ans)"
   ]
  },
  {
   "cell_type": "code",
   "execution_count": null,
   "metadata": {},
   "outputs": [],
   "source": [
    "#10819\n",
    "import sys\n",
    "# input = sys.stdin.readline\n",
    "# print = sys.stdout.write\n",
    "\n",
    "def value():\n",
    "    tmp = 0\n",
    "    for i in range(N-1):\n",
    "        tmp += abs(A[i]-A[i+1])\n",
    "    return tmp\n",
    "\n",
    "def perm(depth):\n",
    "    if depth == N-1:\n",
    "        ans.append(value())\n",
    "        return\n",
    "    for i in range(depth, N):\n",
    "        A[i], A[depth] = A[depth], A[i]\n",
    "        perm(depth+1)\n",
    "        A[i], A[depth] = A[depth], A[i]\n",
    "\n",
    "N = int(input())\n",
    "A = list(map(int, input().split()))\n",
    "ans = []\n",
    "perm(0)\n",
    "print(max(ans))"
   ]
  },
  {
   "cell_type": "code",
   "execution_count": null,
   "metadata": {
    "scrolled": false
   },
   "outputs": [],
   "source": [
    "#10971\n",
    "\n",
    "import sys\n",
    "# input = sys.stdin.readline\n",
    "# print = sys.stdout.write\n",
    "\n",
    "def DFS(node):\n",
    "    visited[node] = \"start\"\n",
    "    for v, val in graph[node]:\n",
    "        aDFS(v, val)\n",
    "    \n",
    "def aDFS(node, value):\n",
    "    if visited[node] == \"start\":\n",
    "        isposs = True\n",
    "        for i in range(1, N+1):\n",
    "            if visited[i] == False:\n",
    "                isposs = False\n",
    "                break\n",
    "        if isposs:\n",
    "            ans.append(value)\n",
    "    else:\n",
    "        visited[node] = True\n",
    "        for v, val in graph[node]:\n",
    "            if visited[v] == False or visited[v] == \"start\":\n",
    "                aDFS(v, value + val)\n",
    "        visited[node] = False\n",
    "\n",
    "N = int(input())\n",
    "graph = [[] for _ in range(N+1)]\n",
    "for i in range(1, N+1):\n",
    "    tmp = list(map(int, input().split()))\n",
    "    for idx, val in enumerate(tmp):\n",
    "        if val != 0:\n",
    "            graph[i].append([idx+1, val])\n",
    "visited = [False for _ in range(N+1)]\n",
    "ans = []\n",
    "DFS(1)\n",
    "\n",
    "print(min(ans))"
   ]
  },
  {
   "cell_type": "code",
   "execution_count": 4,
   "metadata": {},
   "outputs": [
    {
     "name": "stdout",
     "output_type": "stream",
     "text": [
      "5 17\n",
      "4\n"
     ]
    }
   ],
   "source": [
    "#1697\n",
    "from collections import deque\n",
    "import sys\n",
    "# input = sys.stdin.readline\n",
    "# print = sys.stdout.write\n",
    "\n",
    "N, K = map(int, input().split())\n",
    "visited = [0 for _ in range(100001)]\n",
    "\n",
    "que = deque([])\n",
    "que.append([N, 0])\n",
    "visited[N] = 1\n",
    "ans = 0\n",
    "while que:\n",
    "    n, dept = que.popleft()\n",
    "    if n == K:\n",
    "        ans = dept\n",
    "        break\n",
    "    if n-1 >= 0 and visited[n-1] == 0:\n",
    "        que.append([n-1, dept+1])\n",
    "        visited[n-1] = 1\n",
    "    if n+1 <= 100000 and visited[n+1] == 0:\n",
    "        que.append([n+1, dept+1])\n",
    "        visited[n+1] = 1\n",
    "    if n * 2 <= 100000 and visited[n*2] == 0:\n",
    "        que.append([n*2, dept+1])\n",
    "        visited[n*2] = 1\n",
    "print(ans)"
   ]
  },
  {
   "cell_type": "code",
   "execution_count": 6,
   "metadata": {},
   "outputs": [
    {
     "name": "stdout",
     "output_type": "stream",
     "text": [
      "5 17\n",
      "4\n"
     ]
    }
   ],
   "source": [
    "from collections import deque\n",
    "import sys\n",
    "# input = sys.stdin.readline\n",
    "# print = sys.stdout.write\n",
    "\n",
    "N, K = map(int, input().split())\n",
    "visited = [0 for _ in range(100001)]\n",
    "\n",
    "que = deque([])\n",
    "que.append(N)\n",
    "visited[N] = 1\n",
    "loop = 0\n",
    "while que:\n",
    "    for _ in range(len(que)):\n",
    "        n = que.popleft()\n",
    "        if n == K:\n",
    "            print(loop)\n",
    "            exit()\n",
    "        \n",
    "        if n-1 >= 0 and visited[n-1] == 0:\n",
    "            que.append(n-1)\n",
    "            visited[n-1] = 1\n",
    "        if n+1 <= 100000 and visited[n+1] == 0:\n",
    "            que.append(n+1)\n",
    "            visited[n+1] = 1\n",
    "        \n",
    "        if n*2 <= 100000 and visited[n*2] == 0:\n",
    "            que.append(n*2)\n",
    "            visited[n*2] = 1\n",
    "    loop+=1\n",
    "            "
   ]
  },
  {
   "cell_type": "code",
   "execution_count": null,
   "metadata": {},
   "outputs": [],
   "source": [
    "#1963\n",
    "from collections import deque\n",
    "import sys\n",
    "# input = sys.stdin.readline\n",
    "# print = sys.stdout.write\n",
    "\n",
    "prime = [True for _ in range(10001)]\n",
    "\n",
    "for i in range(2, int((10000**0.5)) +1):\n",
    "    if prime[i]:\n",
    "        for j in range(2*i, 10001, i):\n",
    "            prime[j] = False\n",
    "\n",
    "T = int(input())\n",
    "for _ in range(T):\n",
    "    A, B = map(int, input().split())\n",
    "    visited = [0 for _ in range(10001)]\n",
    "    que = deque([A])\n",
    "    visited[A] = 1\n",
    "    loop = 0\n",
    "    isend = False\n",
    "    while que:\n",
    "        for _ in range(len(que)):\n",
    "            node = que.popleft()\n",
    "            if node == B:\n",
    "                isend = True\n",
    "                break\n",
    "            for i in range(1, 5):\n",
    "                for j in range(10):\n",
    "                    if i == 4 and j == 0:\n",
    "                        continue\n",
    "                    tmp = (node - (node % 10 ** i)) + j * (10 ** (i-1)) + node % (10 ** (i-1))\n",
    "                    if prime[tmp] and visited[tmp] == 0:\n",
    "                        que.append(tmp)\n",
    "                        visited[tmp] = 1\n",
    "        if isend:\n",
    "            break\n",
    "        loop += 1\n",
    "    if isend:\n",
    "        print(loop)\n",
    "    else:\n",
    "        print(\"Impossible\")"
   ]
  },
  {
   "cell_type": "code",
   "execution_count": 58,
   "metadata": {},
   "outputs": [
    {
     "name": "stdout",
     "output_type": "stream",
     "text": [
      "3\n",
      "1234 3412\n",
      "LL\n",
      "1000 1\n",
      "L\n",
      "1 16\n",
      "DDDD\n"
     ]
    }
   ],
   "source": [
    "from collections import deque\n",
    "import sys\n",
    "# input = sys.stdin.readline\n",
    "# print = sys.stdout.write\n",
    "\n",
    "def L(n):\n",
    "    return n % (1000) * 10 + n // 1000\n",
    "\n",
    "def R(n):\n",
    "    return (n % 10) * 1000 + n // 10 \n",
    "\n",
    "T = int(input())\n",
    "for _ in range(T):\n",
    "    A, B = map(int, input().split())\n",
    "    visited = [0 for _ in range(10001)]\n",
    "    \n",
    "    que = deque([[A, \"\"]])\n",
    "    visited[A] = 1\n",
    "    \n",
    "    while que:\n",
    "        node = que.popleft()\n",
    "        \n",
    "        if node[0] == B:\n",
    "            print(node[1])\n",
    "            break\n",
    "        \n",
    "        d = (node[0] * 2) % 10000\n",
    "        if visited[d] == 0:\n",
    "            que.append([d, node[1]+\"D\"])\n",
    "            visited[d] = 1\n",
    "        s =  9999 if node[0] == 0 else node[0]-1\n",
    "        if visited[s] == 0:\n",
    "            que.append([s, node[1] +\"S\"])\n",
    "            visited[s] = 1\n",
    "            \n",
    "        l = L(node[0])\n",
    "        if visited[l] == 0:\n",
    "            que.append([l, node[1] + \"L\"])\n",
    "            visited[l] = 1\n",
    "        \n",
    "        r = R(node[0])\n",
    "        if visited[r] == 0:\n",
    "            que.append([r, node[1] + \"R\"])\n",
    "            visited[r] = 1\n",
    "        \n",
    "        \n",
    "        \n",
    "    \n"
   ]
  },
  {
   "cell_type": "code",
   "execution_count": 45,
   "metadata": {},
   "outputs": [
    {
     "data": {
      "text/plain": [
       "7"
      ]
     },
     "execution_count": 45,
     "metadata": {},
     "output_type": "execute_result"
    }
   ],
   "source": [
    "L(7)"
   ]
  },
  {
   "cell_type": "code",
   "execution_count": 44,
   "metadata": {},
   "outputs": [
    {
     "data": {
      "text/plain": [
       "9"
      ]
     },
     "execution_count": 44,
     "metadata": {},
     "output_type": "execute_result"
    }
   ],
   "source": [
    "R(9)"
   ]
  },
  {
   "cell_type": "code",
   "execution_count": 56,
   "metadata": {},
   "outputs": [],
   "source": [
    "def L(n):\n",
    "    return n % (1000) * 10 + n // 1000\n",
    "\n",
    "def R(n):\n",
    "    return (n % 10) * 1000 + n // 10 "
   ]
  },
  {
   "cell_type": "code",
   "execution_count": 57,
   "metadata": {},
   "outputs": [
    {
     "data": {
      "text/plain": [
       "3002"
      ]
     },
     "execution_count": 57,
     "metadata": {},
     "output_type": "execute_result"
    }
   ],
   "source": [
    "R(23)"
   ]
  },
  {
   "cell_type": "code",
   "execution_count": null,
   "metadata": {},
   "outputs": [],
   "source": []
  }
 ],
 "metadata": {
  "kernelspec": {
   "display_name": "Python 3",
   "language": "python",
   "name": "python3"
  },
  "language_info": {
   "codemirror_mode": {
    "name": "ipython",
    "version": 3
   },
   "file_extension": ".py",
   "mimetype": "text/x-python",
   "name": "python",
   "nbconvert_exporter": "python",
   "pygments_lexer": "ipython3",
   "version": "3.7.3"
  }
 },
 "nbformat": 4,
 "nbformat_minor": 4
}
