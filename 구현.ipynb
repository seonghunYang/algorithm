{
 "cells": [
  {
   "cell_type": "code",
   "execution_count": 10,
   "metadata": {},
   "outputs": [
    {
     "name": "stdout",
     "output_type": "stream",
     "text": [
      "3 3\n",
      "1 1 0\n",
      "1 1 1\n",
      "1 0 0\n",
      "1 1 1\n",
      "2\n"
     ]
    }
   ],
   "source": [
    "#14503\n",
    "# 북, 동, 남, 서\n",
    "dx = [0, -1, 0, 1]\n",
    "dy = [-1, 0, 1, 0]\n",
    "\n",
    "def check(n, m):\n",
    "    return 0 <= n <= N-1 and 0 <= m <= M-1\n",
    "\n",
    "N, M = map(int, input().split())\n",
    "r, c, d = map(int, input().split())\n",
    "data = [list(map(int, input().split())) for _ in range(N)]\n",
    "visited = [[0] * M for _ in range(N)]\n",
    "ans = 0\n",
    "while True:\n",
    "    if visited[r][c] == 0:\n",
    "        visited[r][c] = 1\n",
    "        ans += 1\n",
    "    isfind = False\n",
    "    for _ in range(4):\n",
    "        #n , m은 탐색할 좌표 \n",
    "        n, m = r + dx[d], c + dy[d]\n",
    "        if  check(n,m) and data[n][m] != 1 and visited[n][m] == 0:\n",
    "            d = (d - 1) % 4\n",
    "            r, c = n, m\n",
    "            isfind = True\n",
    "            break\n",
    "        else:\n",
    "            d = (d - 1) % 4\n",
    "    if not isfind:\n",
    "        # 후진 좌표\n",
    "        n = r + dx[d-1]\n",
    "        m = c + dy[d-1]\n",
    "        if not check(n,m) or data[n][m] == 1 :\n",
    "            break\n",
    "        else:\n",
    "            r, c = n, m\n",
    "print(ans)"
   ]
  },
  {
   "cell_type": "code",
   "execution_count": 1,
   "metadata": {},
   "outputs": [
    {
     "data": {
      "text/plain": [
       "3"
      ]
     },
     "execution_count": 1,
     "metadata": {},
     "output_type": "execute_result"
    }
   ],
   "source": [
    "-1 % 4"
   ]
  },
  {
   "cell_type": "code",
   "execution_count": null,
   "metadata": {},
   "outputs": [],
   "source": []
  }
 ],
 "metadata": {
  "kernelspec": {
   "display_name": "Python 3",
   "language": "python",
   "name": "python3"
  },
  "language_info": {
   "codemirror_mode": {
    "name": "ipython",
    "version": 3
   },
   "file_extension": ".py",
   "mimetype": "text/x-python",
   "name": "python",
   "nbconvert_exporter": "python",
   "pygments_lexer": "ipython3",
   "version": "3.7.3"
  }
 },
 "nbformat": 4,
 "nbformat_minor": 4
}
