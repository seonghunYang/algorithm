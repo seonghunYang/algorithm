{
 "cells": [
  {
   "cell_type": "code",
   "execution_count": 4,
   "metadata": {},
   "outputs": [
    {
     "name": "stdout",
     "output_type": "stream",
     "text": [
      "2 3 1\n",
      "11\n"
     ]
    }
   ],
   "source": [
    "#1074\n",
    "def solve(r, c, N):\n",
    "    if N == 0:\n",
    "        return 0\n",
    "    size = 2 ** (N-1)\n",
    "    answer = 0\n",
    "    for i in range(2):\n",
    "        for j in range(2):\n",
    "            if r < size * (i+1) and c < size * (j+1):\n",
    "                answer += solve(N-1, r - size * i,c - size *j )\n",
    "                return answer\n",
    "            else:\n",
    "                answer += size * size\n",
    "    \n",
    "\n",
    "N, R, C = map(int, input().split())\n",
    "\n",
    "#x, y 시작점과 N\n",
    "print(solve(R, C, N))"
   ]
  },
  {
   "cell_type": "code",
   "execution_count": 9,
   "metadata": {},
   "outputs": [
    {
     "ename": "KeyboardInterrupt",
     "evalue": "Interrupted by user",
     "output_type": "error",
     "traceback": [
      "\u001b[1;31m---------------------------------------------------------------------------\u001b[0m",
      "\u001b[1;31mKeyboardInterrupt\u001b[0m                         Traceback (most recent call last)",
      "\u001b[1;32m<ipython-input-9-bae768141f28>\u001b[0m in \u001b[0;36m<module>\u001b[1;34m\u001b[0m\n\u001b[0;32m     25\u001b[0m \u001b[1;33m\u001b[0m\u001b[0m\n\u001b[0;32m     26\u001b[0m \u001b[1;33m\u001b[0m\u001b[0m\n\u001b[1;32m---> 27\u001b[1;33m \u001b[0mN\u001b[0m \u001b[1;33m=\u001b[0m \u001b[0mint\u001b[0m\u001b[1;33m(\u001b[0m\u001b[0minput\u001b[0m\u001b[1;33m(\u001b[0m\u001b[1;33m)\u001b[0m\u001b[1;33m)\u001b[0m\u001b[1;33m\u001b[0m\u001b[1;33m\u001b[0m\u001b[0m\n\u001b[0m\u001b[0;32m     28\u001b[0m \u001b[0mdata\u001b[0m \u001b[1;33m=\u001b[0m \u001b[1;33m[\u001b[0m\u001b[0mlist\u001b[0m\u001b[1;33m(\u001b[0m\u001b[0mmap\u001b[0m\u001b[1;33m(\u001b[0m\u001b[0mint\u001b[0m\u001b[1;33m,\u001b[0m \u001b[0minput\u001b[0m\u001b[1;33m(\u001b[0m\u001b[1;33m)\u001b[0m\u001b[1;33m.\u001b[0m\u001b[0msplit\u001b[0m\u001b[1;33m(\u001b[0m\u001b[1;33m)\u001b[0m\u001b[1;33m)\u001b[0m\u001b[1;33m)\u001b[0m \u001b[1;32mfor\u001b[0m \u001b[0m_\u001b[0m \u001b[1;32min\u001b[0m \u001b[0mrange\u001b[0m\u001b[1;33m(\u001b[0m\u001b[0mN\u001b[0m\u001b[1;33m)\u001b[0m\u001b[1;33m]\u001b[0m\u001b[1;33m\u001b[0m\u001b[1;33m\u001b[0m\u001b[0m\n\u001b[0;32m     29\u001b[0m \u001b[1;33m\u001b[0m\u001b[0m\n",
      "\u001b[1;32m~\\Anaconda3\\Lib\\site-packages\\ipykernel\\kernelbase.py\u001b[0m in \u001b[0;36mraw_input\u001b[1;34m(self, prompt)\u001b[0m\n\u001b[0;32m    861\u001b[0m             \u001b[0mself\u001b[0m\u001b[1;33m.\u001b[0m\u001b[0m_parent_ident\u001b[0m\u001b[1;33m,\u001b[0m\u001b[1;33m\u001b[0m\u001b[1;33m\u001b[0m\u001b[0m\n\u001b[0;32m    862\u001b[0m             \u001b[0mself\u001b[0m\u001b[1;33m.\u001b[0m\u001b[0m_parent_header\u001b[0m\u001b[1;33m,\u001b[0m\u001b[1;33m\u001b[0m\u001b[1;33m\u001b[0m\u001b[0m\n\u001b[1;32m--> 863\u001b[1;33m             \u001b[0mpassword\u001b[0m\u001b[1;33m=\u001b[0m\u001b[1;32mFalse\u001b[0m\u001b[1;33m,\u001b[0m\u001b[1;33m\u001b[0m\u001b[1;33m\u001b[0m\u001b[0m\n\u001b[0m\u001b[0;32m    864\u001b[0m         )\n\u001b[0;32m    865\u001b[0m \u001b[1;33m\u001b[0m\u001b[0m\n",
      "\u001b[1;32m~\\Anaconda3\\Lib\\site-packages\\ipykernel\\kernelbase.py\u001b[0m in \u001b[0;36m_input_request\u001b[1;34m(self, prompt, ident, parent, password)\u001b[0m\n\u001b[0;32m    902\u001b[0m             \u001b[1;32mexcept\u001b[0m \u001b[0mKeyboardInterrupt\u001b[0m\u001b[1;33m:\u001b[0m\u001b[1;33m\u001b[0m\u001b[1;33m\u001b[0m\u001b[0m\n\u001b[0;32m    903\u001b[0m                 \u001b[1;31m# re-raise KeyboardInterrupt, to truncate traceback\u001b[0m\u001b[1;33m\u001b[0m\u001b[1;33m\u001b[0m\u001b[1;33m\u001b[0m\u001b[0m\n\u001b[1;32m--> 904\u001b[1;33m                 \u001b[1;32mraise\u001b[0m \u001b[0mKeyboardInterrupt\u001b[0m\u001b[1;33m(\u001b[0m\u001b[1;34m\"Interrupted by user\"\u001b[0m\u001b[1;33m)\u001b[0m \u001b[1;32mfrom\u001b[0m \u001b[1;32mNone\u001b[0m\u001b[1;33m\u001b[0m\u001b[1;33m\u001b[0m\u001b[0m\n\u001b[0m\u001b[0;32m    905\u001b[0m             \u001b[1;32mexcept\u001b[0m \u001b[0mException\u001b[0m \u001b[1;32mas\u001b[0m \u001b[0me\u001b[0m\u001b[1;33m:\u001b[0m\u001b[1;33m\u001b[0m\u001b[1;33m\u001b[0m\u001b[0m\n\u001b[0;32m    906\u001b[0m                 \u001b[0mself\u001b[0m\u001b[1;33m.\u001b[0m\u001b[0mlog\u001b[0m\u001b[1;33m.\u001b[0m\u001b[0mwarning\u001b[0m\u001b[1;33m(\u001b[0m\u001b[1;34m\"Invalid Message:\"\u001b[0m\u001b[1;33m,\u001b[0m \u001b[0mexc_info\u001b[0m\u001b[1;33m=\u001b[0m\u001b[1;32mTrue\u001b[0m\u001b[1;33m)\u001b[0m\u001b[1;33m\u001b[0m\u001b[1;33m\u001b[0m\u001b[0m\n",
      "\u001b[1;31mKeyboardInterrupt\u001b[0m: Interrupted by user"
     ]
    }
   ],
   "source": [
    "#14620\n",
    "\n",
    "dx = [-1, 1, 0, 0]\n",
    "dy = [0, 0, -1, 1]\n",
    "\n",
    "def solve(el):\n",
    "    tmp = set()\n",
    "    sum_val = []\n",
    "    for i in el:\n",
    "        # 좌표 변환\n",
    "        n, m = i // N, i % N\n",
    "        tmp.add((n, m))\n",
    "        sum_val.append(data[n][m])\n",
    "        for i in range(4):\n",
    "            x, y = n + dx[i],m + dy[i]\n",
    "            if 0 <= x < N and 0 <=y < N:\n",
    "                tmp.add((x, y))\n",
    "                sum_val.append(data[x][y])\n",
    "            else:\n",
    "                return 200 * 15\n",
    "    if len(tmp) == 15:\n",
    "        return sum(sum_val)\n",
    "    else:\n",
    "        return 200 * 15\n",
    "        \n",
    "\n",
    "N = int(input())\n",
    "data = [list(map(int, input().split())) for _ in range(N)]\n",
    "\n",
    "answer = 200 * 15\n",
    "\n",
    "for i in range(N*N):\n",
    "    for j in range(i+1, N*N):\n",
    "        for k in range(j+1, N*N):\n",
    "            answer = min(answer, solve([i, j, k]))\n",
    "                \n",
    "print(answer)"
   ]
  },
  {
   "cell_type": "code",
   "execution_count": null,
   "metadata": {
    "scrolled": true
   },
   "outputs": [],
   "source": [
    "#17406\n",
    "from itertools import permutations\n",
    "import sys, copy\n",
    "\n",
    "#방향있는 방백\n",
    "dx = [1, 0, -1, 0]\n",
    "dy = [0, -1, 0, 1]\n",
    "\n",
    "def rotate(lst, r, c, s):\n",
    "    new_lst = copy.deepcopy(lst)\n",
    "    # 전환 라인\n",
    "    for k in range(1, s+1):\n",
    "        # 시작점\n",
    "        n, m = r - k, c + k\n",
    "        for i in range(4):\n",
    "            for _ in range(k * 2):\n",
    "                nn, mm = n + dx[i], m + dy[i]\n",
    "                print(n, m, nn ,mm)\n",
    "                new_lst[nn][mm] = lst[n][m]\n",
    "                n, m = nn, mm\n",
    "    return new_lst\n",
    "                \n",
    "\n",
    "N, M, K = map(int, input().split())\n",
    "data = [list(map(int, input().split())) for _ in range(N)]\n",
    "K_lst = [list(map(int, input().split())) for _ in range(K)]\n",
    "\n",
    "# 순열 조합\n",
    "K_lst = list(permutations(K_lst, K))\n",
    "\n",
    "answer = sys.maxsize\n",
    "for el in K_lst:\n",
    "    lst = copy.deepcopy(data)\n",
    "    for r, c, s in el:\n",
    "        lst = rotate(lst, r-1, c-1, s)\n",
    "    #결과 처리\n",
    "    tmp = min([sum(el) for el in lst])\n",
    "    answer = min(answer, tmp)\n",
    "print(answer)"
   ]
  },
  {
   "cell_type": "code",
   "execution_count": 15,
   "metadata": {},
   "outputs": [
    {
     "name": "stdout",
     "output_type": "stream",
     "text": [
      "5\n",
      "7\n",
      "3 8\n",
      "8 1 0\n",
      "2 7 4 4\n",
      "4 5 2 6 5\n",
      "30\n"
     ]
    }
   ],
   "source": [
    "#1932\n",
    "N = int(input())\n",
    "data = [[0] + list(map(int, input().split())) for _ in range(N)]\n",
    "# dp[i] i열에 최고 수익 * 슬라이딩 윈도우\n",
    "dp = [0] * (N+1)\n",
    "dp[1] = data[0][1]\n",
    "for i in range(1, N):\n",
    "    for j in range(i+1, 0, -1):\n",
    "        dp[j] = max(dp[j], dp[j-1]) + data[i][j]\n",
    "print(max(dp))"
   ]
  },
  {
   "cell_type": "code",
   "execution_count": 21,
   "metadata": {},
   "outputs": [
    {
     "name": "stdout",
     "output_type": "stream",
     "text": [
      "3\n",
      "2 2 2\n",
      "4 4 4\n",
      "8 8 8\n",
      "16\n"
     ]
    }
   ],
   "source": [
    "#12100\n",
    "# 5번 이동가능 => 각 이동시마다 선택할 수 있는건 상하좌우 4가지\n",
    "# 4가지를 전부 구현할 수는 없으므로 회전 시켜서 사용 => 가장 큰 블록을 구하는 것이기 떄문에 결과는 안바꾸미\n",
    "# 회전시키고 슬라이딩, 합치기 알고리즘\n",
    "\n",
    "# 데이터랑 몇번 돌렸는지\n",
    "import copy\n",
    "def rotate(lst):\n",
    "    new_lst = copy.deepcopy(lst)\n",
    "    for i in range(N):\n",
    "        for j in range(N):\n",
    "            new_lst[j][N-i-1] = lst[i][j]\n",
    "    return new_lst\n",
    "\n",
    "def slide(lst):\n",
    "    # 왼쪽으로 이동한다 생각\n",
    "    new_lst = copy.deepcopy(lst)\n",
    "    for i in range(N):\n",
    "        # 일단 담기\n",
    "        tmp = []\n",
    "        for j in range(N):\n",
    "            if new_lst[i][j] != 0:\n",
    "                tmp.append(new_lst[i][j])\n",
    "                new_lst[i][j] = 0\n",
    "        #다시 뿌리기\n",
    "        idx = 0\n",
    "        for el in tmp:\n",
    "            if new_lst[i][idx] == 0:\n",
    "                new_lst[i][idx] = el\n",
    "            else:\n",
    "                #비어 있지 않으면 판단\n",
    "                if new_lst[i][idx] == el:\n",
    "                    new_lst[i][idx] += el\n",
    "                    idx += 1\n",
    "                else:\n",
    "                    idx += 1\n",
    "                    new_lst[i][idx] = el\n",
    "    return new_lst\n",
    "            \n",
    "\n",
    "def DFS(lst, idx):\n",
    "    global answer\n",
    "    if idx == 5:\n",
    "        # 찾기\n",
    "        tmp = max([max(el) for el in lst])\n",
    "        answer = max(answer, tmp)\n",
    "        return\n",
    "    for _ in range(4):\n",
    "        # 회전\n",
    "        lst = rotate(lst)\n",
    "        new_lst = slide(lst)\n",
    "        DFS(new_lst, idx + 1)\n",
    "\n",
    "N = int(input())\n",
    "data = [list(map(int, input().split())) for _ in range(N)]\n",
    "\n",
    "answer = 0\n",
    "DFS(data, 0)\n",
    "print(answer)"
   ]
  },
  {
   "cell_type": "code",
   "execution_count": 1,
   "metadata": {},
   "outputs": [
    {
     "name": "stdout",
     "output_type": "stream",
     "text": [
      "4 4\n",
      "0100\n",
      "0111\n",
      "1110\n",
      "0010\n",
      "[[0, 0, 0, 0, 0], [0, 0, 1, 0, 0], [0, 0, 1, 1, 1], [0, 1, 1, 2, 0], [0, 0, 0, 1, 0]]\n"
     ]
    }
   ],
   "source": [
    "#1915\n",
    "N, M = map(int, input().split())\n",
    "dp = [[0] * (M+1) for _ in range(N+1)]\n",
    "data = [list(map(int, input())) for _ in range(N)]\n",
    "for i in range(1, N+1):\n",
    "    for j in range(1, M+1):\n",
    "        if data[i-1][j-1] == 1:\n",
    "            if dp[i-1][j] and dp[i][j-1] and dp[i-1][j-1]:\n",
    "                tmp = min(dp[i-1][j], dp[i][j-1], dp[i-1][j-1])\n",
    "                dp[i][j] = tmp + 1\n",
    "            else:\n",
    "                dp[i][j] = 1\n",
    "answer = 0\n",
    "for i in range(1, N+1):\n",
    "    for j in range(1, M+1):\n",
    "        answer = max(answer, dp[i][j])\n",
    "print(answer **2)\n",
    "        "
   ]
  },
  {
   "cell_type": "code",
   "execution_count": 10,
   "metadata": {},
   "outputs": [
    {
     "name": "stdout",
     "output_type": "stream",
     "text": [
      "10\n",
      "9857\n"
     ]
    }
   ],
   "source": [
    "#12849\n",
    "\n",
    "N = int(input())\n",
    "# 각 건물의 어떤 시점에서 갈 수 있는 경로\n",
    "dp = [0] * 8\n",
    "# 초기 설정\n",
    "dp[1] = 1\n",
    "dp[7] = 1\n",
    "for i in range(1, N):\n",
    "    new_dp = [0] * 8\n",
    "    new_dp[0] = dp[1] + dp[7]\n",
    "    new_dp[1] = dp[0] + dp[2] + dp[7]\n",
    "    new_dp[2] = dp[1] + dp[7] + dp[6] +dp[3]\n",
    "    new_dp[3] = dp[2] + dp[6] + dp[4]\n",
    "    new_dp[4] = dp[3] + dp[5]\n",
    "    new_dp[5] = dp[4] + dp[6]\n",
    "    new_dp[6] = dp[5] + dp[3] + dp[7] + dp[2]\n",
    "    new_dp[7] = dp[0] + dp[1] + dp[2] +dp[6]\n",
    "    for j in range(8):\n",
    "        new_dp[j] %= 1000000007\n",
    "    dp = new_dp\n",
    "print(dp[0] % 1000000007)"
   ]
  },
  {
   "cell_type": "code",
   "execution_count": 12,
   "metadata": {},
   "outputs": [
    {
     "name": "stdout",
     "output_type": "stream",
     "text": [
      "2\n",
      "4\n",
      "40 30 30 50\n",
      "300\n",
      "15\n",
      "1 21 3 4 5 35 5 4 3 5 98 21 14 17 32\n",
      "864\n"
     ]
    }
   ],
   "source": [
    "# 11066\n",
    "import sys\n",
    "for _ in range(int(input())):\n",
    "    K = int(input())\n",
    "    data = [0] + list(map(int, input().split()))\n",
    "    # 부분 합\n",
    "    s = [0] * (K+1)\n",
    "    dp = [[0] * (K+1) for _ in range(K+1)]\n",
    "    for i in range(1, K+1):\n",
    "        s[i] = s[i-1] + data[i]\n",
    "    # l: 길이\n",
    "    for l in range(2, K+1):\n",
    "        # 시작점\n",
    "        for i in range(1, K-l+2):\n",
    "            j = i + l - 1\n",
    "            tmp = sys.maxsize\n",
    "            for k in range(i, j):\n",
    "                tmp = min(tmp, dp[i][k] + dp[k+1][j])\n",
    "            tmp += s[j] - s[i-1]\n",
    "            dp[i][j] = tmp\n",
    "    print(dp[1][K])"
   ]
  },
  {
   "cell_type": "code",
   "execution_count": 16,
   "metadata": {},
   "outputs": [
    {
     "name": "stdout",
     "output_type": "stream",
     "text": [
      "1\n",
      "1\n"
     ]
    }
   ],
   "source": [
    "#16676\n",
    "N = input()\n",
    "if int(N) <= 1:\n",
    "    print(1)\n",
    "else:\n",
    "    size = len(N)\n",
    "    tmp = int(\"1\" * size)\n",
    "    if int(N) >= tmp:\n",
    "        print(size)\n",
    "    else:\n",
    "        print(size-1)"
   ]
  },
  {
   "cell_type": "code",
   "execution_count": 17,
   "metadata": {},
   "outputs": [
    {
     "name": "stdout",
     "output_type": "stream",
     "text": [
      "7\n",
      "3 1 6 2 7 30 1\n",
      "21\n"
     ]
    }
   ],
   "source": [
    "#2437\n",
    "# 저울유형은 냅색의 성질을 띄고 있을 확률이 높다\n",
    "# 이문제는 그리디 적냅색 문제\n",
    "N = int(input())\n",
    "data = sorted(list(map(int, input().split())))\n",
    "# 측정가능한 무게\n",
    "answer = 0\n",
    "for el in data:\n",
    "    if answer + 2 > el:\n",
    "        answer += el\n",
    "    else:\n",
    "        break\n",
    "print(answer + 1)"
   ]
  },
  {
   "cell_type": "code",
   "execution_count": 19,
   "metadata": {},
   "outputs": [
    {
     "name": "stdout",
     "output_type": "stream",
     "text": [
      "3 4\n",
      "0000\n",
      "0010\n",
      "0000\n",
      "1001\n",
      "1011\n",
      "1001\n",
      "2\n"
     ]
    }
   ],
   "source": [
    "# 1080\n",
    "# 그리디의 뒤집기 유형\n",
    "N, M = map(int, input().split())\n",
    "data = [list(map(int, input())) for _ in range(N)]\n",
    "des = [list(map(int, input())) for _ in range(N)]\n",
    "answer = 0\n",
    "for i in range(N-2):\n",
    "    for j in range(M-2):\n",
    "        if data[i][j] != des[i][j]:\n",
    "            for k in range(3):\n",
    "                for l in range(3):\n",
    "                    data[i+k][j+l] ^= 1\n",
    "            answer += 1\n",
    "if data == des:\n",
    "    print(answer)\n",
    "else:\n",
    "    print(-1)\n",
    "                    "
   ]
  },
  {
   "cell_type": "code",
   "execution_count": 21,
   "metadata": {},
   "outputs": [
    {
     "name": "stdout",
     "output_type": "stream",
     "text": [
      "4 19\n",
      "2 3 5 7\n",
      "27\n"
     ]
    }
   ],
   "source": [
    "# 2014\n",
    "import heapq, copy\n",
    "K, N = map(int, input().split())\n",
    "data = list(map(int, input().split()))\n",
    "visited = set()\n",
    "que = copy.deepcopy(data)\n",
    "heapq.heapify(que)\n",
    "tmp = 0\n",
    "while True:\n",
    "    n = heapq.heappop(que)\n",
    "    if n in visited:\n",
    "        continue\n",
    "    tmp += 1\n",
    "    visited.add(n)\n",
    "    if tmp == N:\n",
    "        print(n)\n",
    "        break\n",
    "    for el in data:\n",
    "        heapq.heappush(que, n * el)\n",
    "    "
   ]
  },
  {
   "cell_type": "code",
   "execution_count": 2,
   "metadata": {},
   "outputs": [
    {
     "name": "stdout",
     "output_type": "stream",
     "text": [
      "5 2 2\n",
      "1\n",
      "2\n",
      "3\n",
      "4\n",
      "5\n",
      "1 3 6\n",
      "2 2 5\n",
      "17\n",
      "1 5 2\n",
      "2 3 5\n",
      "12\n"
     ]
    }
   ],
   "source": [
    "#2042\n",
    "\n",
    "def add(idx, val):\n",
    "    idx += start\n",
    "    val = val - tree[idx]\n",
    "    while idx:\n",
    "        tree[idx] += val\n",
    "        idx //= 2\n",
    "\n",
    "def sumNum(left, right, nodeIdx, nodeleft, noderight):\n",
    "    if right < nodeleft or left > noderight:\n",
    "        return 0\n",
    "    elif left <= nodeleft and right >= noderight:\n",
    "        return tree[nodeIdx]\n",
    "    mid = (nodeleft + noderight) // 2\n",
    "    return sumNum(left, right, nodeIdx*2, nodeleft, mid) + sumNum(left, right, nodeIdx*2+1, mid+1, noderight)\n",
    "\n",
    "\n",
    "\n",
    "\n",
    "N, M, K = map(int, input().split())\n",
    "\n",
    "# 세그먼트 트리 만들기\n",
    "tree = [0] * (100)\n",
    "start = 1\n",
    "while start <= N:\n",
    "    start *= 2\n",
    "for i in range(N):\n",
    "    n = int(input())\n",
    "    add(i, n)\n",
    "for _ in range(M+K):\n",
    "    a, b, c = map(int, input().split())\n",
    "    if a == 1:\n",
    "        add(b-1, c)\n",
    "    else:\n",
    "        # 인덱스로 구분\n",
    "        print(sumNum(b-1, c-1, 1, 0, start - 1))"
   ]
  },
  {
   "cell_type": "code",
   "execution_count": 28,
   "metadata": {
    "scrolled": true
   },
   "outputs": [
    {
     "name": "stdout",
     "output_type": "stream",
     "text": [
      "1\n",
      "4\n",
      "-10 -10\n",
      "-10 10\n",
      "10 -10\n",
      "10 10\n",
      "[0, 0, 0, 0, 0, 0, 0, 0, 0, 0, 0, 0, 0, 0, 0, 0, 0, 0, 0, 0]\n",
      "0\n",
      "[0, 1, 1, 0, 0, 1, 0, 0, 0, 0, 0, 0, 0, 0, 0, 0, 0, 0, 0, 0]\n",
      "1\n",
      "[0, 2, 2, 0, 1, 1, 0, 0, 0, 0, 0, 0, 0, 0, 0, 0, 0, 0, 0, 0]\n",
      "2\n",
      "[0, 3, 3, 0, 1, 2, 0, 0, 0, 0, 0, 0, 0, 0, 0, 0, 0, 0, 0, 0]\n",
      "5\n",
      "5\n"
     ]
    }
   ],
   "source": [
    "#5419\n",
    "import sys\n",
    "input = sys.stdin.readline\n",
    "\n",
    "def add(idx):\n",
    "    idx += start\n",
    "    while idx:\n",
    "        tree[idx] += 1\n",
    "        idx //= 2\n",
    "def sumNum(left, right, nodeIdx, nodeleft, noderight):\n",
    "    if left > noderight or right < nodeleft:\n",
    "        return 0\n",
    "    elif left <= nodeleft and right >= noderight:\n",
    "        return tree[nodeIdx]\n",
    "    mid = (nodeleft + noderight) // 2\n",
    "    return sumNum(left, right, nodeIdx*2, nodeleft, mid) + sumNum(left, right, nodeIdx*2+1, mid+1, noderight)\n",
    "\n",
    "for _ in range(int(input())):\n",
    "    N = int(input())\n",
    "    # 좌표 압축\n",
    "    data = []\n",
    "    y_data = []\n",
    "    for _ in range(N):\n",
    "        x, y = map(int, input().split())\n",
    "        data.append([x, y])\n",
    "        y_data.append(y)\n",
    "    # y_data 중복제거 후 정렬\n",
    "    y_data = sorted(set(y_data))\n",
    "    # 변환기\n",
    "    dic = { y_data[i]: i for i in range(len(y_data))}\n",
    "    # 변환하기\n",
    "    for i in range(N):\n",
    "        data[i][1] = dic[data[i][1]]\n",
    "    # 스위핑을 위한 정렬\n",
    "    data.sort(key=lambda x: (x[0], -x[1]))\n",
    "    # 세그먼트 트리생성\n",
    "    start = 1\n",
    "    while start < 75000:\n",
    "        start *= 2\n",
    "    tree = [0] * (start * 2 + 1)\n",
    "    answer = 0\n",
    "    for n, m in data:\n",
    "        answer += sumNum(m, start-1, 1, 0, start-1)\n",
    "        add(m)\n",
    "    print(answer)"
   ]
  },
  {
   "cell_type": "code",
   "execution_count": 29,
   "metadata": {},
   "outputs": [
    {
     "name": "stdout",
     "output_type": "stream",
     "text": [
      "2\n",
      "2\n",
      "0 0 1\n",
      "1 0 1\n",
      "1\n",
      "3\n",
      "0 0 1\n",
      "2 0 1\n",
      "10 0 5\n",
      "2\n"
     ]
    }
   ],
   "source": [
    "#10216\n",
    "\n",
    "def distance(x1, y1, x2, y2):\n",
    "    return (x1-x2) ** 2 + (y1- y2) ** 2\n",
    "\n",
    "def find(x):\n",
    "    if x == parent[x]:\n",
    "        return x\n",
    "    parent[x] = find(parent[x])\n",
    "    return parent[x]\n",
    "\n",
    "\n",
    "def union(x, y):\n",
    "    x, y = find(x), find(y)\n",
    "    if x == y:\n",
    "        return\n",
    "    parent[x] = y\n",
    "    return\n",
    "\n",
    "\n",
    "for _ in range(int(input())):\n",
    "    N = int(input())\n",
    "    data = [list(map(int, input().split())) for _ in range(N)]\n",
    "    parent = [i for i in range(N)]\n",
    "    for i in range(N):\n",
    "        x1, y1, r1 = data[i]\n",
    "        for j in range(i+1, N):\n",
    "            x2, y2, r2 = data[j]\n",
    "            if distance(x1, y1, x2, y2) <= (r1+r2) ** 2:\n",
    "                union(i, j)\n",
    "    # 자기 자신을 부모로 삼은놈의 개수가 그룹 개수이다\n",
    "    answer = 0\n",
    "    for i in range(N):\n",
    "        if i == parent[i]:\n",
    "            answer += 1\n",
    "    print(answer)"
   ]
  },
  {
   "cell_type": "code",
   "execution_count": 73,
   "metadata": {},
   "outputs": [
    {
     "name": "stdout",
     "output_type": "stream",
     "text": [
      "3 14\n",
      "1 4 3 2 5 4 3 2 5 3 4 2 3 4\n",
      "set()\n",
      "{1}\n",
      "{1, 4}\n",
      "{1, 3, 4}\n",
      "{2, 3, 4}\n",
      "2 7\n",
      "{3, 4, 5}\n",
      "{3, 4, 5}\n",
      "{3, 4, 5}\n",
      "3 9\n",
      "4 10\n",
      "{2, 3, 5}\n",
      "{2, 3, 5}\n",
      "{2, 3, 5}\n",
      "2 11\n",
      "3 12\n",
      "{2, 3, 4}\n",
      "{2, 3, 4}\n",
      "{2, 3, 4}\n",
      "4\n"
     ]
    }
   ],
   "source": [
    "# 1700\n",
    "N, K = map(int, input().split())\n",
    "data = list(map(int, input().split()))\n",
    "que = set()\n",
    "answer = 0\n",
    "for i in range(K):\n",
    "    el = data[i]\n",
    "    print(que)\n",
    "    if el in que:\n",
    "        continue\n",
    "    elif len(que) < N:\n",
    "        que.add(el)\n",
    "    else:\n",
    "        mx_val = 0\n",
    "        mx_idx = 0\n",
    "        answer += 1\n",
    "        for k in que:\n",
    "            isposs = False\n",
    "            # 얼마나 뒤에 있는지\n",
    "            for j in range(i+1, K):\n",
    "                if data[j] == k:\n",
    "                    isposs = True\n",
    "                    if j > mx_idx:\n",
    "                        mx_idx = j\n",
    "                        mx_val = k\n",
    "                    break\n",
    "            if not isposs:\n",
    "                mx_val = k\n",
    "                mx_idx = K\n",
    "                break\n",
    "        que.remove(mx_val)\n",
    "        que.add(el)\n",
    "print(answer)\n",
    "            \n",
    "                        "
   ]
  },
  {
   "cell_type": "code",
   "execution_count": null,
   "metadata": {},
   "outputs": [],
   "source": []
  },
  {
   "cell_type": "markdown",
   "metadata": {},
   "source": [
    "# "
   ]
  }
 ],
 "metadata": {
  "kernelspec": {
   "display_name": "Python 3",
   "language": "python",
   "name": "python3"
  },
  "language_info": {
   "codemirror_mode": {
    "name": "ipython",
    "version": 3
   },
   "file_extension": ".py",
   "mimetype": "text/x-python",
   "name": "python",
   "nbconvert_exporter": "python",
   "pygments_lexer": "ipython3",
   "version": "3.7.3"
  }
 },
 "nbformat": 4,
 "nbformat_minor": 4
}
