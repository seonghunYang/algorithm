{
 "cells": [
  {
   "cell_type": "code",
   "execution_count": 4,
   "metadata": {},
   "outputs": [
    {
     "name": "stdout",
     "output_type": "stream",
     "text": [
      "2 3 1\n",
      "11\n"
     ]
    }
   ],
   "source": [
    "#1074\n",
    "def solve(r, c, N):\n",
    "    if N == 0:\n",
    "        return 0\n",
    "    size = 2 ** (N-1)\n",
    "    answer = 0\n",
    "    for i in range(2):\n",
    "        for j in range(2):\n",
    "            if r < size * (i+1) and c < size * (j+1):\n",
    "                answer += solve(N-1, r - size * i,c - size *j )\n",
    "                return answer\n",
    "            else:\n",
    "                answer += size * size\n",
    "    \n",
    "\n",
    "N, R, C = map(int, input().split())\n",
    "\n",
    "#x, y 시작점과 N\n",
    "print(solve(R, C, N))"
   ]
  },
  {
   "cell_type": "code",
   "execution_count": 9,
   "metadata": {},
   "outputs": [
    {
     "ename": "KeyboardInterrupt",
     "evalue": "Interrupted by user",
     "output_type": "error",
     "traceback": [
      "\u001b[1;31m---------------------------------------------------------------------------\u001b[0m",
      "\u001b[1;31mKeyboardInterrupt\u001b[0m                         Traceback (most recent call last)",
      "\u001b[1;32m<ipython-input-9-bae768141f28>\u001b[0m in \u001b[0;36m<module>\u001b[1;34m\u001b[0m\n\u001b[0;32m     25\u001b[0m \u001b[1;33m\u001b[0m\u001b[0m\n\u001b[0;32m     26\u001b[0m \u001b[1;33m\u001b[0m\u001b[0m\n\u001b[1;32m---> 27\u001b[1;33m \u001b[0mN\u001b[0m \u001b[1;33m=\u001b[0m \u001b[0mint\u001b[0m\u001b[1;33m(\u001b[0m\u001b[0minput\u001b[0m\u001b[1;33m(\u001b[0m\u001b[1;33m)\u001b[0m\u001b[1;33m)\u001b[0m\u001b[1;33m\u001b[0m\u001b[1;33m\u001b[0m\u001b[0m\n\u001b[0m\u001b[0;32m     28\u001b[0m \u001b[0mdata\u001b[0m \u001b[1;33m=\u001b[0m \u001b[1;33m[\u001b[0m\u001b[0mlist\u001b[0m\u001b[1;33m(\u001b[0m\u001b[0mmap\u001b[0m\u001b[1;33m(\u001b[0m\u001b[0mint\u001b[0m\u001b[1;33m,\u001b[0m \u001b[0minput\u001b[0m\u001b[1;33m(\u001b[0m\u001b[1;33m)\u001b[0m\u001b[1;33m.\u001b[0m\u001b[0msplit\u001b[0m\u001b[1;33m(\u001b[0m\u001b[1;33m)\u001b[0m\u001b[1;33m)\u001b[0m\u001b[1;33m)\u001b[0m \u001b[1;32mfor\u001b[0m \u001b[0m_\u001b[0m \u001b[1;32min\u001b[0m \u001b[0mrange\u001b[0m\u001b[1;33m(\u001b[0m\u001b[0mN\u001b[0m\u001b[1;33m)\u001b[0m\u001b[1;33m]\u001b[0m\u001b[1;33m\u001b[0m\u001b[1;33m\u001b[0m\u001b[0m\n\u001b[0;32m     29\u001b[0m \u001b[1;33m\u001b[0m\u001b[0m\n",
      "\u001b[1;32m~\\Anaconda3\\Lib\\site-packages\\ipykernel\\kernelbase.py\u001b[0m in \u001b[0;36mraw_input\u001b[1;34m(self, prompt)\u001b[0m\n\u001b[0;32m    861\u001b[0m             \u001b[0mself\u001b[0m\u001b[1;33m.\u001b[0m\u001b[0m_parent_ident\u001b[0m\u001b[1;33m,\u001b[0m\u001b[1;33m\u001b[0m\u001b[1;33m\u001b[0m\u001b[0m\n\u001b[0;32m    862\u001b[0m             \u001b[0mself\u001b[0m\u001b[1;33m.\u001b[0m\u001b[0m_parent_header\u001b[0m\u001b[1;33m,\u001b[0m\u001b[1;33m\u001b[0m\u001b[1;33m\u001b[0m\u001b[0m\n\u001b[1;32m--> 863\u001b[1;33m             \u001b[0mpassword\u001b[0m\u001b[1;33m=\u001b[0m\u001b[1;32mFalse\u001b[0m\u001b[1;33m,\u001b[0m\u001b[1;33m\u001b[0m\u001b[1;33m\u001b[0m\u001b[0m\n\u001b[0m\u001b[0;32m    864\u001b[0m         )\n\u001b[0;32m    865\u001b[0m \u001b[1;33m\u001b[0m\u001b[0m\n",
      "\u001b[1;32m~\\Anaconda3\\Lib\\site-packages\\ipykernel\\kernelbase.py\u001b[0m in \u001b[0;36m_input_request\u001b[1;34m(self, prompt, ident, parent, password)\u001b[0m\n\u001b[0;32m    902\u001b[0m             \u001b[1;32mexcept\u001b[0m \u001b[0mKeyboardInterrupt\u001b[0m\u001b[1;33m:\u001b[0m\u001b[1;33m\u001b[0m\u001b[1;33m\u001b[0m\u001b[0m\n\u001b[0;32m    903\u001b[0m                 \u001b[1;31m# re-raise KeyboardInterrupt, to truncate traceback\u001b[0m\u001b[1;33m\u001b[0m\u001b[1;33m\u001b[0m\u001b[1;33m\u001b[0m\u001b[0m\n\u001b[1;32m--> 904\u001b[1;33m                 \u001b[1;32mraise\u001b[0m \u001b[0mKeyboardInterrupt\u001b[0m\u001b[1;33m(\u001b[0m\u001b[1;34m\"Interrupted by user\"\u001b[0m\u001b[1;33m)\u001b[0m \u001b[1;32mfrom\u001b[0m \u001b[1;32mNone\u001b[0m\u001b[1;33m\u001b[0m\u001b[1;33m\u001b[0m\u001b[0m\n\u001b[0m\u001b[0;32m    905\u001b[0m             \u001b[1;32mexcept\u001b[0m \u001b[0mException\u001b[0m \u001b[1;32mas\u001b[0m \u001b[0me\u001b[0m\u001b[1;33m:\u001b[0m\u001b[1;33m\u001b[0m\u001b[1;33m\u001b[0m\u001b[0m\n\u001b[0;32m    906\u001b[0m                 \u001b[0mself\u001b[0m\u001b[1;33m.\u001b[0m\u001b[0mlog\u001b[0m\u001b[1;33m.\u001b[0m\u001b[0mwarning\u001b[0m\u001b[1;33m(\u001b[0m\u001b[1;34m\"Invalid Message:\"\u001b[0m\u001b[1;33m,\u001b[0m \u001b[0mexc_info\u001b[0m\u001b[1;33m=\u001b[0m\u001b[1;32mTrue\u001b[0m\u001b[1;33m)\u001b[0m\u001b[1;33m\u001b[0m\u001b[1;33m\u001b[0m\u001b[0m\n",
      "\u001b[1;31mKeyboardInterrupt\u001b[0m: Interrupted by user"
     ]
    }
   ],
   "source": [
    "#14620\n",
    "\n",
    "dx = [-1, 1, 0, 0]\n",
    "dy = [0, 0, -1, 1]\n",
    "\n",
    "def solve(el):\n",
    "    tmp = set()\n",
    "    sum_val = []\n",
    "    for i in el:\n",
    "        # 좌표 변환\n",
    "        n, m = i // N, i % N\n",
    "        tmp.add((n, m))\n",
    "        sum_val.append(data[n][m])\n",
    "        for i in range(4):\n",
    "            x, y = n + dx[i],m + dy[i]\n",
    "            if 0 <= x < N and 0 <=y < N:\n",
    "                tmp.add((x, y))\n",
    "                sum_val.append(data[x][y])\n",
    "            else:\n",
    "                return 200 * 15\n",
    "    if len(tmp) == 15:\n",
    "        return sum(sum_val)\n",
    "    else:\n",
    "        return 200 * 15\n",
    "        \n",
    "\n",
    "N = int(input())\n",
    "data = [list(map(int, input().split())) for _ in range(N)]\n",
    "\n",
    "answer = 200 * 15\n",
    "\n",
    "for i in range(N*N):\n",
    "    for j in range(i+1, N*N):\n",
    "        for k in range(j+1, N*N):\n",
    "            answer = min(answer, solve([i, j, k]))\n",
    "                \n",
    "print(answer)"
   ]
  },
  {
   "cell_type": "code",
   "execution_count": null,
   "metadata": {
    "scrolled": true
   },
   "outputs": [],
   "source": [
    "#17406\n",
    "from itertools import permutations\n",
    "import sys, copy\n",
    "\n",
    "#방향있는 방백\n",
    "dx = [1, 0, -1, 0]\n",
    "dy = [0, -1, 0, 1]\n",
    "\n",
    "def rotate(lst, r, c, s):\n",
    "    new_lst = copy.deepcopy(lst)\n",
    "    # 전환 라인\n",
    "    for k in range(1, s+1):\n",
    "        # 시작점\n",
    "        n, m = r - k, c + k\n",
    "        for i in range(4):\n",
    "            for _ in range(k * 2):\n",
    "                nn, mm = n + dx[i], m + dy[i]\n",
    "                print(n, m, nn ,mm)\n",
    "                new_lst[nn][mm] = lst[n][m]\n",
    "                n, m = nn, mm\n",
    "    return new_lst\n",
    "                \n",
    "\n",
    "N, M, K = map(int, input().split())\n",
    "data = [list(map(int, input().split())) for _ in range(N)]\n",
    "K_lst = [list(map(int, input().split())) for _ in range(K)]\n",
    "\n",
    "# 순열 조합\n",
    "K_lst = list(permutations(K_lst, K))\n",
    "\n",
    "answer = sys.maxsize\n",
    "for el in K_lst:\n",
    "    lst = copy.deepcopy(data)\n",
    "    for r, c, s in el:\n",
    "        lst = rotate(lst, r-1, c-1, s)\n",
    "    #결과 처리\n",
    "    tmp = min([sum(el) for el in lst])\n",
    "    answer = min(answer, tmp)\n",
    "print(answer)"
   ]
  },
  {
   "cell_type": "code",
   "execution_count": 15,
   "metadata": {},
   "outputs": [
    {
     "name": "stdout",
     "output_type": "stream",
     "text": [
      "5\n",
      "7\n",
      "3 8\n",
      "8 1 0\n",
      "2 7 4 4\n",
      "4 5 2 6 5\n",
      "30\n"
     ]
    }
   ],
   "source": [
    "#1932\n",
    "N = int(input())\n",
    "data = [[0] + list(map(int, input().split())) for _ in range(N)]\n",
    "# dp[i] i열에 최고 수익 * 슬라이딩 윈도우\n",
    "dp = [0] * (N+1)\n",
    "dp[1] = data[0][1]\n",
    "for i in range(1, N):\n",
    "    for j in range(i+1, 0, -1):\n",
    "        dp[j] = max(dp[j], dp[j-1]) + data[i][j]\n",
    "print(max(dp))"
   ]
  },
  {
   "cell_type": "code",
   "execution_count": 21,
   "metadata": {},
   "outputs": [
    {
     "name": "stdout",
     "output_type": "stream",
     "text": [
      "3\n",
      "2 2 2\n",
      "4 4 4\n",
      "8 8 8\n",
      "16\n"
     ]
    }
   ],
   "source": [
    "#12100\n",
    "# 5번 이동가능 => 각 이동시마다 선택할 수 있는건 상하좌우 4가지\n",
    "# 4가지를 전부 구현할 수는 없으므로 회전 시켜서 사용 => 가장 큰 블록을 구하는 것이기 떄문에 결과는 안바꾸미\n",
    "# 회전시키고 슬라이딩, 합치기 알고리즘\n",
    "\n",
    "# 데이터랑 몇번 돌렸는지\n",
    "import copy\n",
    "def rotate(lst):\n",
    "    new_lst = copy.deepcopy(lst)\n",
    "    for i in range(N):\n",
    "        for j in range(N):\n",
    "            new_lst[j][N-i-1] = lst[i][j]\n",
    "    return new_lst\n",
    "\n",
    "def slide(lst):\n",
    "    # 왼쪽으로 이동한다 생각\n",
    "    new_lst = copy.deepcopy(lst)\n",
    "    for i in range(N):\n",
    "        # 일단 담기\n",
    "        tmp = []\n",
    "        for j in range(N):\n",
    "            if new_lst[i][j] != 0:\n",
    "                tmp.append(new_lst[i][j])\n",
    "                new_lst[i][j] = 0\n",
    "        #다시 뿌리기\n",
    "        idx = 0\n",
    "        for el in tmp:\n",
    "            if new_lst[i][idx] == 0:\n",
    "                new_lst[i][idx] = el\n",
    "            else:\n",
    "                #비어 있지 않으면 판단\n",
    "                if new_lst[i][idx] == el:\n",
    "                    new_lst[i][idx] += el\n",
    "                    idx += 1\n",
    "                else:\n",
    "                    idx += 1\n",
    "                    new_lst[i][idx] = el\n",
    "    return new_lst\n",
    "            \n",
    "\n",
    "def DFS(lst, idx):\n",
    "    global answer\n",
    "    if idx == 5:\n",
    "        # 찾기\n",
    "        tmp = max([max(el) for el in lst])\n",
    "        answer = max(answer, tmp)\n",
    "        return\n",
    "    for _ in range(4):\n",
    "        # 회전\n",
    "        lst = rotate(lst)\n",
    "        new_lst = slide(lst)\n",
    "        DFS(new_lst, idx + 1)\n",
    "\n",
    "N = int(input())\n",
    "data = [list(map(int, input().split())) for _ in range(N)]\n",
    "\n",
    "answer = 0\n",
    "DFS(data, 0)\n",
    "print(answer)"
   ]
  },
  {
   "cell_type": "code",
   "execution_count": null,
   "metadata": {},
   "outputs": [],
   "source": []
  }
 ],
 "metadata": {
  "kernelspec": {
   "display_name": "Python 3",
   "language": "python",
   "name": "python3"
  },
  "language_info": {
   "codemirror_mode": {
    "name": "ipython",
    "version": 3
   },
   "file_extension": ".py",
   "mimetype": "text/x-python",
   "name": "python",
   "nbconvert_exporter": "python",
   "pygments_lexer": "ipython3",
   "version": "3.7.3"
  }
 },
 "nbformat": 4,
 "nbformat_minor": 4
}
