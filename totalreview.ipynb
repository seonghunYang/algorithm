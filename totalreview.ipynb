{
 "cells": [
  {
   "cell_type": "code",
   "execution_count": 4,
   "metadata": {},
   "outputs": [
    {
     "name": "stdout",
     "output_type": "stream",
     "text": [
      "2 3 1\n",
      "11\n"
     ]
    }
   ],
   "source": [
    "#1074\n",
    "def solve(r, c, N):\n",
    "    if N == 0:\n",
    "        return 0\n",
    "    size = 2 ** (N-1)\n",
    "    answer = 0\n",
    "    for i in range(2):\n",
    "        for j in range(2):\n",
    "            if r < size * (i+1) and c < size * (j+1):\n",
    "                answer += solve(N-1, r - size * i,c - size *j )\n",
    "                return answer\n",
    "            else:\n",
    "                answer += size * size\n",
    "    \n",
    "\n",
    "N, R, C = map(int, input().split())\n",
    "\n",
    "#x, y 시작점과 N\n",
    "print(solve(R, C, N))"
   ]
  },
  {
   "cell_type": "code",
   "execution_count": null,
   "metadata": {},
   "outputs": [],
   "source": [
    "# 1074\n",
    "\n",
    "def solve(n, r, c):\n",
    "    if n == 0:\n",
    "        return 0\n",
    "    size = \n",
    "\n",
    "n, r, c = map(int, input().split())\n",
    "\n",
    "print(solve(n, r, c))"
   ]
  }
 ],
 "metadata": {
  "kernelspec": {
   "display_name": "Python 3",
   "language": "python",
   "name": "python3"
  },
  "language_info": {
   "codemirror_mode": {
    "name": "ipython",
    "version": 3
   },
   "file_extension": ".py",
   "mimetype": "text/x-python",
   "name": "python",
   "nbconvert_exporter": "python",
   "pygments_lexer": "ipython3",
   "version": "3.7.3"
  }
 },
 "nbformat": 4,
 "nbformat_minor": 4
}
