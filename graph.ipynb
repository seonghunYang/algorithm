{
 "cells": [
  {
   "cell_type": "code",
   "execution_count": 8,
   "metadata": {},
   "outputs": [
    {
     "name": "stdout",
     "output_type": "stream",
     "text": [
      "5 5 3\n",
      "5 4\n",
      "5 2\n",
      "1 2\n",
      "3 4\n",
      "3 1\n",
      "3 1 2 5 4 \n",
      "3 1 4 2 5 "
     ]
    }
   ],
   "source": [
    "#1260\n",
    "from collections import deque\n",
    "import sys\n",
    "# input = sys.stdin.readline\n",
    "print = sys.stdout.write\n",
    "\n",
    "\n",
    "\n",
    "def DFS(node):\n",
    "    visited_DFS[node] = 1\n",
    "    print(str(node) + \" \")\n",
    "    for i in graph[node]:\n",
    "        if visited_DFS[i] == 0:\n",
    "            DFS(i)\n",
    "\n",
    "\n",
    "def BFS(node):\n",
    "    queue = deque([])\n",
    "    queue.append(node)\n",
    "    visited_BFS[node] = 1\n",
    "    while queue:\n",
    "        node = queue.popleft()\n",
    "        print(str(node) + \" \")\n",
    "        for i in graph[node]:\n",
    "            if visited_BFS[i] == 0:\n",
    "                queue.append(i)\n",
    "                visited_BFS[i] = 1\n",
    "\n",
    "\n",
    "N, M, V = map(int, input().split())\n",
    "\n",
    "graph = [[] for _ in range(N+1)]\n",
    "\n",
    "for i in range(M):\n",
    "    a, b = map(int, input().split())\n",
    "    graph[a].append(b)\n",
    "    graph[b].append(a)\n",
    "for i in range(1, N+1):\n",
    "    graph[i].sort()\n",
    "\n",
    "visited_DFS = [0 for _ in range(N+1)]\n",
    "DFS(V)\n",
    "print(\"\\n\")\n",
    "visited_BFS = [0 for _ in range(N+1)]\n",
    "BFS(V)"
   ]
  },
  {
   "cell_type": "code",
   "execution_count": null,
   "metadata": {},
   "outputs": [],
   "source": []
  }
 ],
 "metadata": {
  "kernelspec": {
   "display_name": "Python 3",
   "language": "python",
   "name": "python3"
  },
  "language_info": {
   "codemirror_mode": {
    "name": "ipython",
    "version": 3
   },
   "file_extension": ".py",
   "mimetype": "text/x-python",
   "name": "python",
   "nbconvert_exporter": "python",
   "pygments_lexer": "ipython3",
   "version": "3.7.3"
  }
 },
 "nbformat": 4,
 "nbformat_minor": 4
}
