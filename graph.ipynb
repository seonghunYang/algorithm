{
 "cells": [
  {
   "cell_type": "code",
   "execution_count": 8,
   "metadata": {},
   "outputs": [
    {
     "name": "stdout",
     "output_type": "stream",
     "text": [
      "5 5 3\n",
      "5 4\n",
      "5 2\n",
      "1 2\n",
      "3 4\n",
      "3 1\n",
      "3 1 2 5 4 \n",
      "3 1 4 2 5 "
     ]
    }
   ],
   "source": [
    "#1260\n",
    "from collections import deque\n",
    "import sys\n",
    "# input = sys.stdin.readline\n",
    "print = sys.stdout.write\n",
    "\n",
    "\n",
    "\n",
    "def DFS(node):\n",
    "    visited_DFS[node] = 1\n",
    "    print(str(node) + \" \")\n",
    "    for i in graph[node]:\n",
    "        if visited_DFS[i] == 0:\n",
    "            DFS(i)\n",
    "\n",
    "\n",
    "def BFS(node):\n",
    "    queue = deque([])\n",
    "    queue.append(node)\n",
    "    visited_BFS[node] = 1\n",
    "    while queue:\n",
    "        node = queue.popleft()\n",
    "        print(str(node) + \" \")\n",
    "        for i in graph[node]:\n",
    "            if visited_BFS[i] == 0:\n",
    "                queue.append(i)\n",
    "                visited_BFS[i] = 1\n",
    "\n",
    "\n",
    "N, M, V = map(int, input().split())\n",
    "\n",
    "graph = [[] for _ in range(N+1)]\n",
    "\n",
    "for i in range(M):\n",
    "    a, b = map(int, input().split())\n",
    "    graph[a].append(b)\n",
    "    graph[b].append(a)\n",
    "for i in range(1, N+1):\n",
    "    graph[i].sort()\n",
    "\n",
    "visited_DFS = [0 for _ in range(N+1)]\n",
    "DFS(V)\n",
    "print(\"\\n\")\n",
    "visited_BFS = [0 for _ in range(N+1)]\n",
    "BFS(V)"
   ]
  },
  {
   "cell_type": "code",
   "execution_count": 3,
   "metadata": {},
   "outputs": [
    {
     "name": "stdout",
     "output_type": "stream",
     "text": [
      "6 8\n",
      "1 2\n",
      "2 5\n",
      "5 1\n",
      "3 4\n",
      "4 6\n",
      "5 4\n",
      "2 4\n",
      "2 3\n",
      "1"
     ]
    }
   ],
   "source": [
    "#11724\n",
    "import sys\n",
    "# input = sys.stdin.readline\n",
    "print = sys.stdout.write\n",
    "\n",
    "def DFS():\n",
    "    count = 0\n",
    "    for i in range(1, N+1):\n",
    "        if visited[i] == 0:\n",
    "            count += 1\n",
    "            aDFS(i)\n",
    "    return count\n",
    "\n",
    "def aDFS(node):\n",
    "    visited[node] = 1\n",
    "    for i in graph[node]:\n",
    "        if visited[i] == 0:\n",
    "            aDFS(i)\n",
    "\n",
    "\n",
    "N, M = map(int, input().split())\n",
    "graph = [[] for _ in range(N+1)]\n",
    "\n",
    "visited = [0 for _ in range(N+1)]\n",
    "for _ in range(M):\n",
    "    u, v = map(int, input().split())\n",
    "    graph[u].append(v)\n",
    "    graph[v].append(u)\n",
    "\n",
    "ans = DFS()\n",
    "print(str(ans))"
   ]
  },
  {
   "cell_type": "code",
   "execution_count": 15,
   "metadata": {},
   "outputs": [
    {
     "name": "stdout",
     "output_type": "stream",
     "text": [
      "2\n",
      "3 2\n",
      "1 3\n",
      "2 3\n",
      "YES\n",
      "4 4\n",
      "1 2\n",
      "2 3\n",
      "3 4\n",
      "4 2\n",
      "NO\n"
     ]
    }
   ],
   "source": [
    "#1707\n",
    "from collections import deque\n",
    "import sys\n",
    "# input = sys.stdin.readline\n",
    "print = sys.stdout.write\n",
    "\n",
    "def BFS(node):\n",
    "    queue = deque([node])\n",
    "    bio[node] = 0\n",
    "    while queue:\n",
    "        node = queue.popleft()\n",
    "        for i in graph[node]:\n",
    "            if bio[i] == bio[node]:\n",
    "                return \"NO\"\n",
    "            if bio[i] == None:\n",
    "                queue.append(i)\n",
    "                bio[i] = (bio[node]-1) *(-1)\n",
    "    return \"YES\"\n",
    "            \n",
    "\n",
    "K = int(input())\n",
    "\n",
    "for i in range(K):\n",
    "    V, E = map(int, input().split())\n",
    "    graph = [[] for _ in range(V+1)]\n",
    "    for i in range(E):\n",
    "        u, v = map(int, input().split())\n",
    "        graph[u].append(v)\n",
    "        graph[v].append(u)\n",
    "        \n",
    "    bio = [None for _ in range(V+1)]\n",
    "    ans = \"YES\"\n",
    "    for i in range(1, V):\n",
    "        if bio[i] == None:\n",
    "            ans = BFS(i)\n",
    "            if ans == \"NO\":\n",
    "                break\n",
    "                \n",
    "    \n",
    "    print(ans + \"\\n\")\n",
    "\n",
    "#이분 그래프 개념"
   ]
  },
  {
   "cell_type": "code",
   "execution_count": 17,
   "metadata": {},
   "outputs": [
    {
     "name": "stdout",
     "output_type": "stream",
     "text": [
      "2\n",
      "8\n",
      "3 2 7 8 1 4 5 6\n",
      "3\n",
      "10\n",
      "2 1 3 4 5 6 7 9 10 8\n",
      "7\n"
     ]
    }
   ],
   "source": [
    "#10451\n",
    "import sys\n",
    "# input = sys.stdin.readline\n",
    "print = sys.stdout.write\n",
    "\n",
    "T = int(input())\n",
    "\n",
    "for i in range(T):\n",
    "    N = int(input())\n",
    "    data = [0] + list(map(int, input().split()))\n",
    "    graph = [ 0 for _ in range(N+1)]\n",
    "    for i in range(1, N+1):\n",
    "        graph[i] = data[i]\n",
    "    visited = [0 for _ in range(N+1)]\n",
    "    \n",
    "    count = 0\n",
    "    \n",
    "    for i in range(1, N+1):\n",
    "        if visited[i] == 0:\n",
    "            visited[i] = 1\n",
    "            next_node = graph[i]\n",
    "            count += 1\n",
    "            while i != next_node:\n",
    "                visited[next_node] = 1\n",
    "                next_node = graph[next_node]\n",
    "    print(str(count) + \"\\n\")\n",
    "                \n",
    "    "
   ]
  },
  {
   "cell_type": "code",
   "execution_count": 24,
   "metadata": {},
   "outputs": [
    {
     "name": "stdout",
     "output_type": "stream",
     "text": [
      "57 2\n",
      "4"
     ]
    }
   ],
   "source": [
    "#2331\n",
    "import sys\n",
    "# input = sys.stdin.readline\n",
    "print = sys.stdout.write\n",
    "\n",
    "A, P = map(int, input().split())\n",
    "dic = {}\n",
    "A =str(A)\n",
    "dic[A] = 0\n",
    "idx = 1\n",
    "while True:\n",
    "    tmp = 0\n",
    "    for i in range(len(A)):\n",
    "        tmp += int(A[i]) ** P\n",
    "        \n",
    "    A = str(tmp)\n",
    "    if A in dic:\n",
    "        print(str(dic[A]))\n",
    "        break\n",
    "    else:\n",
    "        dic[A] = idx\n",
    "        idx += 1"
   ]
  },
  {
   "cell_type": "code",
   "execution_count": null,
   "metadata": {},
   "outputs": [
    {
     "name": "stdout",
     "output_type": "stream",
     "text": [
      "2\n",
      "7\n",
      "3 1 3 7 3 4 6\n",
      "{1: 1, 3: 2}{2: 1}{4: 1, 7: 2, 6: 3}{5: 1}3\n"
     ]
    }
   ],
   "source": [
    "#9466\n",
    "import sys\n",
    "# input = sys.stdin.readline\n",
    "print = sys.stdout.write\n",
    "\n",
    "def DFS():\n",
    "    count = 0\n",
    "    for i in range(1, n+1):\n",
    "        if visited[i] == 0:\n",
    "            visited[i] = 1\n",
    "            check = {}\n",
    "            check[i] = 1\n",
    "            idx = 2\n",
    "            node = i\n",
    "            next_node = graph[i]\n",
    "            while True:\n",
    "                if visited[next_node] == 1:\n",
    "                    if next_node in check:\n",
    "                        count += (check[node] - check[next_node] + 1) \n",
    "                    break\n",
    "                else:\n",
    "                    node = next_node\n",
    "                    next_node = graph[node]\n",
    "                    visited[node] = 1\n",
    "                    check[node] = idx\n",
    "                    idx += 1    \n",
    "    return count\n",
    "    \n",
    "\n",
    "T = int(input())\n",
    "for i in range(T):\n",
    "    n = int(input())\n",
    "    data = [0] + list(map(int, input().split()))\n",
    "    graph = [0 for _ in range(n+1)]\n",
    "    for idx, el in enumerate(data):\n",
    "        graph[idx] = el\n",
    "    visited = [0 for _ in range(n+1)]\n",
    "    count = DFS()\n",
    "    print(str(n-count)+ \"\\n\")\n",
    "    \n",
    "# 사이클 찾는 방법? \n",
    "#1. check 리스트 또는 딕션을 사용해서 방문한 기록을 남기고 다시 오면 그 기록으로 구한다 => 갯수 알기 편하지만 오버헤드 발생 가능성\n",
    "#2. visited의 값을 다르게 준다(그룹id 같은) 사이클 갯수알기는 편할 듯, "
   ]
  },
  {
   "cell_type": "code",
   "execution_count": null,
   "metadata": {},
   "outputs": [],
   "source": []
  }
 ],
 "metadata": {
  "kernelspec": {
   "display_name": "Python 3",
   "language": "python",
   "name": "python3"
  },
  "language_info": {
   "codemirror_mode": {
    "name": "ipython",
    "version": 3
   },
   "file_extension": ".py",
   "mimetype": "text/x-python",
   "name": "python",
   "nbconvert_exporter": "python",
   "pygments_lexer": "ipython3",
   "version": "3.7.3"
  }
 },
 "nbformat": 4,
 "nbformat_minor": 4
}
