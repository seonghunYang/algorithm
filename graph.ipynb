{
 "cells": [
  {
   "cell_type": "code",
   "execution_count": 8,
   "metadata": {},
   "outputs": [
    {
     "name": "stdout",
     "output_type": "stream",
     "text": [
      "5 5 3\n",
      "5 4\n",
      "5 2\n",
      "1 2\n",
      "3 4\n",
      "3 1\n",
      "3 1 2 5 4 \n",
      "3 1 4 2 5 "
     ]
    }
   ],
   "source": [
    "#1260\n",
    "from collections import deque\n",
    "import sys\n",
    "# input = sys.stdin.readline\n",
    "print = sys.stdout.write\n",
    "\n",
    "\n",
    "\n",
    "def DFS(node):\n",
    "    visited_DFS[node] = 1\n",
    "    print(str(node) + \" \")\n",
    "    for i in graph[node]:\n",
    "        if visited_DFS[i] == 0:\n",
    "            DFS(i)\n",
    "\n",
    "\n",
    "def BFS(node):\n",
    "    queue = deque([])\n",
    "    queue.append(node)\n",
    "    visited_BFS[node] = 1\n",
    "    while queue:\n",
    "        node = queue.popleft()\n",
    "        print(str(node) + \" \")\n",
    "        for i in graph[node]:\n",
    "            if visited_BFS[i] == 0:\n",
    "                queue.append(i)\n",
    "                visited_BFS[i] = 1\n",
    "\n",
    "\n",
    "N, M, V = map(int, input().split())\n",
    "\n",
    "graph = [[] for _ in range(N+1)]\n",
    "\n",
    "for i in range(M):\n",
    "    a, b = map(int, input().split())\n",
    "    graph[a].append(b)\n",
    "    graph[b].append(a)\n",
    "for i in range(1, N+1):\n",
    "    graph[i].sort()\n",
    "\n",
    "visited_DFS = [0 for _ in range(N+1)]\n",
    "DFS(V)\n",
    "print(\"\\n\")\n",
    "visited_BFS = [0 for _ in range(N+1)]\n",
    "BFS(V)"
   ]
  },
  {
   "cell_type": "code",
   "execution_count": 3,
   "metadata": {},
   "outputs": [
    {
     "name": "stdout",
     "output_type": "stream",
     "text": [
      "6 8\n",
      "1 2\n",
      "2 5\n",
      "5 1\n",
      "3 4\n",
      "4 6\n",
      "5 4\n",
      "2 4\n",
      "2 3\n",
      "1"
     ]
    }
   ],
   "source": [
    "#11724\n",
    "import sys\n",
    "# input = sys.stdin.readline\n",
    "print = sys.stdout.write\n",
    "\n",
    "def DFS():\n",
    "    count = 0\n",
    "    for i in range(1, N+1):\n",
    "        if visited[i] == 0:\n",
    "            count += 1\n",
    "            aDFS(i)\n",
    "    return count\n",
    "\n",
    "def aDFS(node):\n",
    "    visited[node] = 1\n",
    "    for i in graph[node]:\n",
    "        if visited[i] == 0:\n",
    "            aDFS(i)\n",
    "\n",
    "\n",
    "N, M = map(int, input().split())\n",
    "graph = [[] for _ in range(N+1)]\n",
    "\n",
    "visited = [0 for _ in range(N+1)]\n",
    "for _ in range(M):\n",
    "    u, v = map(int, input().split())\n",
    "    graph[u].append(v)\n",
    "    graph[v].append(u)\n",
    "\n",
    "ans = DFS()\n",
    "print(str(ans))"
   ]
  },
  {
   "cell_type": "code",
   "execution_count": 15,
   "metadata": {},
   "outputs": [
    {
     "name": "stdout",
     "output_type": "stream",
     "text": [
      "2\n",
      "3 2\n",
      "1 3\n",
      "2 3\n",
      "YES\n",
      "4 4\n",
      "1 2\n",
      "2 3\n",
      "3 4\n",
      "4 2\n",
      "NO\n"
     ]
    }
   ],
   "source": [
    "#1707\n",
    "from collections import deque\n",
    "import sys\n",
    "# input = sys.stdin.readline\n",
    "print = sys.stdout.write\n",
    "\n",
    "def BFS(node):\n",
    "    queue = deque([node])\n",
    "    bio[node] = 0\n",
    "    while queue:\n",
    "        node = queue.popleft()\n",
    "        for i in graph[node]:\n",
    "            if bio[i] == bio[node]:\n",
    "                return \"NO\"\n",
    "            if bio[i] == None:\n",
    "                queue.append(i)\n",
    "                bio[i] = (bio[node]-1) *(-1)\n",
    "    return \"YES\"\n",
    "            \n",
    "\n",
    "K = int(input())\n",
    "\n",
    "for i in range(K):\n",
    "    V, E = map(int, input().split())\n",
    "    graph = [[] for _ in range(V+1)]\n",
    "    for i in range(E):\n",
    "        u, v = map(int, input().split())\n",
    "        graph[u].append(v)\n",
    "        graph[v].append(u)\n",
    "        \n",
    "    bio = [None for _ in range(V+1)]\n",
    "    ans = \"YES\"\n",
    "    for i in range(1, V):\n",
    "        if bio[i] == None:\n",
    "            ans = BFS(i)\n",
    "            if ans == \"NO\":\n",
    "                break\n",
    "                \n",
    "    \n",
    "    print(ans + \"\\n\")\n",
    "\n",
    "#이분 그래프 개념"
   ]
  },
  {
   "cell_type": "code",
   "execution_count": 17,
   "metadata": {},
   "outputs": [
    {
     "name": "stdout",
     "output_type": "stream",
     "text": [
      "2\n",
      "8\n",
      "3 2 7 8 1 4 5 6\n",
      "3\n",
      "10\n",
      "2 1 3 4 5 6 7 9 10 8\n",
      "7\n"
     ]
    }
   ],
   "source": [
    "#10451\n",
    "import sys\n",
    "# input = sys.stdin.readline\n",
    "print = sys.stdout.write\n",
    "\n",
    "T = int(input())\n",
    "\n",
    "for i in range(T):\n",
    "    N = int(input())\n",
    "    data = [0] + list(map(int, input().split()))\n",
    "    graph = [ 0 for _ in range(N+1)]\n",
    "    for i in range(1, N+1):\n",
    "        graph[i] = data[i]\n",
    "    visited = [0 for _ in range(N+1)]\n",
    "    \n",
    "    count = 0\n",
    "    \n",
    "    for i in range(1, N+1):\n",
    "        if visited[i] == 0:\n",
    "            visited[i] = 1\n",
    "            next_node = graph[i]\n",
    "            count += 1\n",
    "            while i != next_node:\n",
    "                visited[next_node] = 1\n",
    "                next_node = graph[next_node]\n",
    "    print(str(count) + \"\\n\")\n",
    "                \n",
    "    "
   ]
  },
  {
   "cell_type": "code",
   "execution_count": 24,
   "metadata": {},
   "outputs": [
    {
     "name": "stdout",
     "output_type": "stream",
     "text": [
      "57 2\n",
      "4"
     ]
    }
   ],
   "source": [
    "import sys\n",
    "# input = sys.stdin.readline\n",
    "print = sys.stdout.write\n",
    "\n",
    "A, P = map(int, input().split())\n",
    "dic = {}\n",
    "A =str(A)\n",
    "dic[A] = 0\n",
    "idx = 1\n",
    "while True:\n",
    "    tmp = 0\n",
    "    for i in range(len(A)):\n",
    "        tmp += int(A[i]) ** P\n",
    "        \n",
    "    A = str(tmp)\n",
    "    if A in dic:\n",
    "        print(str(dic[A]))\n",
    "        break\n",
    "    else:\n",
    "        dic[A] = idx\n",
    "        idx += 1"
   ]
  },
  {
   "cell_type": "code",
   "execution_count": null,
   "metadata": {},
   "outputs": [],
   "source": []
  }
 ],
 "metadata": {
  "kernelspec": {
   "display_name": "Python 3",
   "language": "python",
   "name": "python3"
  },
  "language_info": {
   "codemirror_mode": {
    "name": "ipython",
    "version": 3
   },
   "file_extension": ".py",
   "mimetype": "text/x-python",
   "name": "python",
   "nbconvert_exporter": "python",
   "pygments_lexer": "ipython3",
   "version": "3.7.3"
  }
 },
 "nbformat": 4,
 "nbformat_minor": 4
}
