{
 "cells": [
  {
   "cell_type": "code",
   "execution_count": 3,
   "metadata": {},
   "outputs": [
    {
     "name": "stdout",
     "output_type": "stream",
     "text": [
      "4\n",
      "5 1 7 9\n",
      "5\n"
     ]
    }
   ],
   "source": [
    "# 안테나\n",
    "N = int(input())\n",
    "data = list(map(int, input().split()))\n",
    "\n",
    "data.sort()\n",
    "answer = (N-1) // 2\n",
    "print(data[answer])"
   ]
  },
  {
   "cell_type": "code",
   "execution_count": 44,
   "metadata": {},
   "outputs": [
    {
     "name": "stdout",
     "output_type": "stream",
     "text": [
      "321 2\n",
      "2 3\n",
      "233\n"
     ]
    }
   ],
   "source": [
    "# 큰수 구성하기\n",
    "\n",
    "def DFS(val):\n",
    "    if len(val) == len(str(N)):\n",
    "        if int(val) <= N:\n",
    "            return val\n",
    "        else:\n",
    "            return 0\n",
    "    for el in data:\n",
    "        tmp = DFS(val + str(el))\n",
    "        if tmp:\n",
    "            return tmp\n",
    "\n",
    "\n",
    "N, K = map(int, input().split())\n",
    "data = list(map(int, input().split()))\n",
    "data.sort(reverse=True)\n",
    "\n",
    "isdigit = False\n",
    "for el in data:\n",
    "    if int(str(N)[0]) >=el:\n",
    "        isdigit = True\n",
    "        break\n",
    "if isdigit:\n",
    "    answer = DFS(\"\")\n",
    "else:\n",
    "    answer = str(data[0]) * (len(str(N)) - 1)\n",
    "print(answer)"
   ]
  },
  {
   "cell_type": "markdown",
   "metadata": {},
   "source": [
    "# "
   ]
  },
  {
   "cell_type": "code",
   "execution_count": 48,
   "metadata": {
    "scrolled": true
   },
   "outputs": [
    {
     "name": "stdout",
     "output_type": "stream",
     "text": [
      "5 3\n",
      "2 4\n",
      "3 2\n",
      "3 5\n",
      "4 5\n",
      "1 2 1\n"
     ]
    }
   ],
   "source": [
    "#현명한 나이트\n",
    "from collections import deque\n",
    "dx = [-2, -2, -1, -1, 1, 1, 2, 2]\n",
    "dy = [-1, 1, -2, 2, -2, 2, -1, 1]\n",
    "\n",
    "N, M = map(int, input().split())\n",
    "x, y = map(int, input().split())\n",
    "x, y = x-1, y-1\n",
    "data = [[0] * (N) for _ in range(N)]\n",
    "visited= [[0] * (N) for _ in range(N)]\n",
    "for i in range(1, M+1):\n",
    "    a, b = map(int, input().split())\n",
    "    #answer에 기록할 인덱스\n",
    "    data[a-1][b-1] = i\n",
    "answer = [0] * M\n",
    "# 몇개 말을 잡았는지\n",
    "cnt = 0\n",
    "que = deque([[x, y, 0]])\n",
    "visited[x][y] = 1\n",
    "while que:\n",
    "    n, m, val = que.popleft()\n",
    "    if data[n][m] != 0:\n",
    "        answer[data[n][m]-1] = val\n",
    "        cnt += 1\n",
    "    if cnt == M:\n",
    "        break\n",
    "    for i in range(8):\n",
    "        nn, mm = n + dx[i], m + dy[i]\n",
    "        if 0 <= nn <= N-1 and 0 <= mm <= N-1 and visited[nn][mm] == 0:\n",
    "            que.append([nn, mm, val+1])\n",
    "            visited[nn][mm] = 1\n",
    "print(*answer)"
   ]
  },
  {
   "cell_type": "code",
   "execution_count": 8,
   "metadata": {},
   "outputs": [
    {
     "name": "stdout",
     "output_type": "stream",
     "text": [
      "5 3\n",
      "11475\n"
     ]
    }
   ],
   "source": [
    "#시각\n",
    "\n",
    "def change(n):\n",
    "    n = str(n)\n",
    "    if len(n) == 1:\n",
    "        n = \"0\" + n\n",
    "    return n\n",
    "\n",
    "N, K = map(int, input().split())\n",
    "hour = 0\n",
    "mn = 0\n",
    "sec = 0\n",
    "answer = 0\n",
    "K = str(K)\n",
    "while True:\n",
    "    if K in change(hour) or K in change(mn) or K in change(sec):\n",
    "        answer += 1\n",
    "    # 시간 증가\n",
    "    sec += 1\n",
    "    if sec == 60:\n",
    "        mn += 1\n",
    "        sec = 0\n",
    "    if mn == 60:\n",
    "        hour += 1\n",
    "        mn = 0\n",
    "    # 종료\n",
    "    if hour == N+1 and mn == 0 and sec == 0:\n",
    "        break\n",
    "print(answer)"
   ]
  },
  {
   "cell_type": "code",
   "execution_count": 7,
   "metadata": {},
   "outputs": [
    {
     "data": {
      "text/plain": [
       "True"
      ]
     },
     "execution_count": 7,
     "metadata": {},
     "output_type": "execute_result"
    }
   ],
   "source": [
    "\"0\" in change(2)"
   ]
  },
  {
   "cell_type": "code",
   "execution_count": 9,
   "metadata": {},
   "outputs": [
    {
     "name": "stdout",
     "output_type": "stream",
     "text": [
      "3 3 5\n",
      "2 3 5\n",
      "3 5\n",
      "1 2 3\n",
      "6\n"
     ]
    }
   ],
   "source": [
    "#\n",
    "# 판단되어져야할 idx와 기전까지 쌓은 높이\n",
    "def DFS(idx, val):\n",
    "    if idx == N:\n",
    "        if val == H:\n",
    "            return 1\n",
    "        else:\n",
    "            return 0\n",
    "    if dp[idx][val] != None:\n",
    "        return dp[idx][val]\n",
    "    tmp = 0\n",
    "    tmp += DFS(idx+1, val)\n",
    "    for el in data[idx]:\n",
    "        if val + el <= H:\n",
    "            tmp += DFS(idx+1, val+el)\n",
    "    dp[idx][val] = tmp\n",
    "    return tmp\n",
    "    \n",
    "N, M, H = map(int, input().split())\n",
    "data = [list(map(int, input().split())) for _ in range(N)]\n",
    "dp = [[None] * (H+1) for _ in range(N)]\n",
    "\n",
    "answer = DFS(0, 0)\n",
    "print(answer % 10007)"
   ]
  },
  {
   "cell_type": "code",
   "execution_count": 28,
   "metadata": {},
   "outputs": [
    {
     "name": "stdout",
     "output_type": "stream",
     "text": [
      "4\n",
      "S S S T\n",
      "X X X X\n",
      "X X X X\n",
      "T T T X\n",
      "NO\n"
     ]
    }
   ],
   "source": [
    "from itertools import combinations\n",
    "\n",
    "dx = [-1, 1, 0, 0]\n",
    "dy = [0, 0, -1, 1]\n",
    "\n",
    "def check():\n",
    "    # t위치에서 검사 가능한지안한지\n",
    "    isposs =True\n",
    "    for n, m in t:\n",
    "        for i in range(4):\n",
    "            x, y = n, m\n",
    "            while True:\n",
    "                x, y = x + dx[i], y +dy[i]\n",
    "                if not (0 <= x <= N-1) or not(0 <= y <= N-1):\n",
    "                    break\n",
    "                if data[x][y] == 2:\n",
    "                    break\n",
    "                if data[x][y] == 1:\n",
    "                    return False\n",
    "    return isposs\n",
    "                \n",
    "        \n",
    "\n",
    "N = int(input())\n",
    "data = [input().split() for _ in range(N)]\n",
    "t = []\n",
    "space = []\n",
    "for i in range(N):\n",
    "    for j in range(N):\n",
    "        if data[i][j] == \"X\":\n",
    "            space.append([i, j])\n",
    "            data[i][j] = 0\n",
    "        elif data[i][j] == \"S\":\n",
    "            data[i][j] = 1\n",
    "        else:\n",
    "            t.append([i, j])\n",
    "            data[i][j] = 0\n",
    "que = list(combinations(space, 3))\n",
    "isposs = False\n",
    "for el in que:\n",
    "    for i in range(3):\n",
    "        n, m = el[i]\n",
    "        data[n][m] = 2\n",
    "    isposs = check()\n",
    "    if isposs == True:\n",
    "        break\n",
    "    for i in range(3):\n",
    "        n, m = el[i]\n",
    "        data[n][m] = 0\n",
    "if isposs:\n",
    "    print(\"YES\")\n",
    "else:\n",
    "    print(\"NO\")"
   ]
  },
  {
   "cell_type": "markdown",
   "metadata": {},
   "source": [
    "#### "
   ]
  },
  {
   "cell_type": "code",
   "execution_count": 36,
   "metadata": {},
   "outputs": [
    {
     "name": "stdout",
     "output_type": "stream",
     "text": [
      "7755\n",
      "READY\n"
     ]
    }
   ],
   "source": [
    "#럭키 스트레이트\n",
    "N = input()\n",
    "n = len(N)\n",
    "a = sum(list(map(int, N[: n // 2])))\n",
    "b = sum(list(map(int, N[n // 2:])))\n",
    "if a != b:\n",
    "    print(\"READY\")\n",
    "else:\n",
    "    print(\"LUCKY\")"
   ]
  },
  {
   "cell_type": "code",
   "execution_count": 38,
   "metadata": {},
   "outputs": [
    {
     "name": "stdout",
     "output_type": "stream",
     "text": [
      "3 4\n",
      "3 7 5\n",
      "4\n"
     ]
    }
   ],
   "source": [
    "from itertools import permutations\n",
    "\n",
    "N, K = map(int, input().split())\n",
    "data = list(map(int, input().split()))\n",
    "\n",
    "que = permutations(data, N)\n",
    "\n",
    "answer = 0\n",
    "for el in que:\n",
    "    tmp = 500\n",
    "    isposs = True\n",
    "    for l in el:\n",
    "        tmp -= K\n",
    "        tmp += l\n",
    "        if tmp < 500:\n",
    "            isposs = False\n",
    "            break\n",
    "    if isposs:\n",
    "        answer += 1\n",
    "print(answer)"
   ]
  },
  {
   "cell_type": "code",
   "execution_count": 58,
   "metadata": {},
   "outputs": [
    {
     "name": "stdout",
     "output_type": "stream",
     "text": [
      "3 3\n",
      "32 83 75\n",
      "24 96 56\n",
      "71 88 12\n",
      "632\n"
     ]
    }
   ],
   "source": [
    "\n",
    "shape = [[[0, -1], [1, 0]], [[0, -1], [-1, 0]], [[-1, 0], [0, 1]], [[1, 0], [0, 1]]]\n",
    "\n",
    "def DFS(n, m, val):\n",
    "    global answer\n",
    "    for i in range(4):\n",
    "        x, y = n, m\n",
    "        isposs = True\n",
    "        for dx, dy in shape[i]:\n",
    "            xx, yy = x + dx, y + dy\n",
    "            if 0 <= xx <= N-1 and 0 <= yy <= M-1 and visited[xx][yy] == 0:\n",
    "                continue\n",
    "            else:\n",
    "                isposs = False\n",
    "                break\n",
    "        if isposs:\n",
    "            visited[x][y]= 1\n",
    "            val += data[x][y] * 2\n",
    "            for dx, dy in shape[i]:\n",
    "                xx, yy = x + dx, y + dy\n",
    "                visited[xx][yy] = 1\n",
    "                val += data[xx][yy]\n",
    "            # 되는 곳 찾기\n",
    "            answer = max(answer, val)\n",
    "        \n",
    "        while True:\n",
    "            y += 1\n",
    "            if y == M:\n",
    "                y = 0\n",
    "                x += 1\n",
    "            if x == N:\n",
    "                break\n",
    "            if visited[x][y]== 0:\n",
    "                DFS(x, y, val)\n",
    "                break\n",
    "        if isposs:\n",
    "            x, y = n, m\n",
    "            visited[x][y]= 0\n",
    "            val -= data[x][y] * 2\n",
    "            for dx, dy in shape[i]:\n",
    "                xx, yy = x + dx, y + dy\n",
    "                visited[xx][yy] = 0\n",
    "                val -= data[xx][yy]\n",
    "\n",
    "N, M = map(int, input().split())\n",
    "data = [list(map(int, input().split())) for _ in range(N)]\n",
    "visited= [[0] * M for _ in range(N)]\n",
    "answer = 0\n",
    "DFS(0, 0, 0)\n",
    "print(answer)\n"
   ]
  },
  {
   "cell_type": "code",
   "execution_count": 40,
   "metadata": {},
   "outputs": [
    {
     "data": {
      "text/plain": [
       "[[0, 0, 0], [0, 0, 0], [0, 0, 0]]"
      ]
     },
     "execution_count": 40,
     "metadata": {},
     "output_type": "execute_result"
    }
   ],
   "source": [
    "visited"
   ]
  },
  {
   "cell_type": "code",
   "execution_count": null,
   "metadata": {},
   "outputs": [],
   "source": []
  }
 ],
 "metadata": {
  "kernelspec": {
   "display_name": "Python 3",
   "language": "python",
   "name": "python3"
  },
  "language_info": {
   "codemirror_mode": {
    "name": "ipython",
    "version": 3
   },
   "file_extension": ".py",
   "mimetype": "text/x-python",
   "name": "python",
   "nbconvert_exporter": "python",
   "pygments_lexer": "ipython3",
   "version": "3.7.3"
  }
 },
 "nbformat": 4,
 "nbformat_minor": 4
}
