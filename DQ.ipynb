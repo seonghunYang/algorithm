{
 "cells": [
  {
   "cell_type": "code",
   "execution_count": 2,
   "metadata": {},
   "outputs": [
    {
     "name": "stdout",
     "output_type": "stream",
     "text": [
      "2 2\n",
      "3 5\n",
      "2 9\n",
      "2 3 5 9 "
     ]
    }
   ],
   "source": [
    "import sys\n",
    "# input = sys.stdin.readline\n",
    "print = sys.stdout.write\n",
    "\n",
    "N, M = map(int, input().split())\n",
    "A = list(map(int, input().split()))\n",
    "B = list(map(int, input().split()))\n",
    "\n",
    "a = 0\n",
    "b = 0\n",
    "ans = []\n",
    "while a <= (N-1) and b <= (M-1):\n",
    "    if A[a] <= B[b]:\n",
    "        ans.append(A[a])\n",
    "        a += 1\n",
    "    else:\n",
    "        ans.append(B[b])\n",
    "        b += 1\n",
    "while a <= (N-1):\n",
    "    ans.append(A[a])\n",
    "    a += 1\n",
    "while b <= (M-1):\n",
    "    ans.append(B[b])\n",
    "    b += 1\n",
    "for el in ans: print(str(el) + \" \")"
   ]
  },
  {
   "cell_type": "code",
   "execution_count": 8,
   "metadata": {},
   "outputs": [
    {
     "name": "stdout",
     "output_type": "stream",
     "text": [
      "9\n",
      "0 0 0 1 1 1 -1 -1 -1\n",
      "0 0 0 1 1 1 -1 -1 -1\n",
      "0 0 0 1 1 1 -1 -1 -1\n",
      "1 1 1 0 0 0 0 0 0\n",
      "1 1 1 0 0 0 0 0 0\n",
      "1 1 1 0 0 0 0 0 0\n",
      "0 1 -1 0 1 -1 0 1 -1\n",
      "0 -1 1 0 1 -1 0 1 -1\n",
      "0 1 -1 1 0 -1 0 1 -1\n",
      "{-1: 10, 0: 12, 1: 11}"
     ]
    }
   ],
   "source": [
    "#1780\n",
    "import sys\n",
    "# input = sys.stdin.readline\n",
    "print = sys.stdout.write\n",
    "\n",
    "def paper(n, m,  size):\n",
    "    ispaper = True\n",
    "    a = data[n][m]\n",
    "    for i in range(n, n + size):\n",
    "        for j in range(m, m+ size):\n",
    "            if data[i][j] != a:\n",
    "                ispaper = False\n",
    "                break\n",
    "    if ispaper:\n",
    "        ans[a] += 1\n",
    "    else:\n",
    "        for i in range(n, n + size, size // 3):\n",
    "            for j in range(m, m + size, size // 3):\n",
    "                paper(i, j, size // 3)\n",
    "                \n",
    "\n",
    "\n",
    "N = int(input())\n",
    "data = [list(map(int, input().split())) for _ in range(N)]\n",
    "ans = {-1: 0, 0: 0, 1: 0}\n",
    "\n",
    "paper(0, 0, N)\n",
    "\n",
    "print(str(ans[-1]) + \"\\n\")\n",
    "print(str(ans[0]) + \"\\n\")\n",
    "print(str(ans[1]) + \"\\n\")"
   ]
  },
  {
   "cell_type": "code",
   "execution_count": null,
   "metadata": {},
   "outputs": [],
   "source": []
  }
 ],
 "metadata": {
  "kernelspec": {
   "display_name": "Python 3",
   "language": "python",
   "name": "python3"
  },
  "language_info": {
   "codemirror_mode": {
    "name": "ipython",
    "version": 3
   },
   "file_extension": ".py",
   "mimetype": "text/x-python",
   "name": "python",
   "nbconvert_exporter": "python",
   "pygments_lexer": "ipython3",
   "version": "3.7.3"
  }
 },
 "nbformat": 4,
 "nbformat_minor": 4
}
