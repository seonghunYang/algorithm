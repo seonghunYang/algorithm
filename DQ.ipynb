{
 "cells": [
  {
   "cell_type": "code",
   "execution_count": 2,
   "metadata": {},
   "outputs": [
    {
     "name": "stdout",
     "output_type": "stream",
     "text": [
      "2 2\n",
      "3 5\n",
      "2 9\n",
      "2 3 5 9 "
     ]
    }
   ],
   "source": [
    "import sys\n",
    "# input = sys.stdin.readline\n",
    "print = sys.stdout.write\n",
    "\n",
    "N, M = map(int, input().split())\n",
    "A = list(map(int, input().split()))\n",
    "B = list(map(int, input().split()))\n",
    "\n",
    "a = 0\n",
    "b = 0\n",
    "ans = []\n",
    "while a <= (N-1) and b <= (M-1):\n",
    "    if A[a] <= B[b]:\n",
    "        ans.append(A[a])\n",
    "        a += 1\n",
    "    else:\n",
    "        ans.append(B[b])\n",
    "        b += 1\n",
    "while a <= (N-1):\n",
    "    ans.append(A[a])\n",
    "    a += 1\n",
    "while b <= (M-1):\n",
    "    ans.append(B[b])\n",
    "    b += 1\n",
    "for el in ans: print(str(el) + \" \")"
   ]
  },
  {
   "cell_type": "code",
   "execution_count": null,
   "metadata": {},
   "outputs": [],
   "source": []
  }
 ],
 "metadata": {
  "kernelspec": {
   "display_name": "Python 3",
   "language": "python",
   "name": "python3"
  },
  "language_info": {
   "codemirror_mode": {
    "name": "ipython",
    "version": 3
   },
   "file_extension": ".py",
   "mimetype": "text/x-python",
   "name": "python",
   "nbconvert_exporter": "python",
   "pygments_lexer": "ipython3",
   "version": "3.7.3"
  }
 },
 "nbformat": 4,
 "nbformat_minor": 4
}
