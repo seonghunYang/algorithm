{
 "cells": [
  {
   "cell_type": "code",
   "execution_count": 2,
   "metadata": {},
   "outputs": [
    {
     "name": "stdout",
     "output_type": "stream",
     "text": [
      "2 2\n",
      "3 5\n",
      "2 9\n",
      "2 3 5 9 "
     ]
    }
   ],
   "source": [
    "import sys\n",
    "# input = sys.stdin.readline\n",
    "print = sys.stdout.write\n",
    "\n",
    "N, M = map(int, input().split())\n",
    "A = list(map(int, input().split()))\n",
    "B = list(map(int, input().split()))\n",
    "\n",
    "a = 0\n",
    "b = 0\n",
    "ans = []\n",
    "while a <= (N-1) and b <= (M-1):\n",
    "    if A[a] <= B[b]:\n",
    "        ans.append(A[a])\n",
    "        a += 1\n",
    "    else:\n",
    "        ans.append(B[b])\n",
    "        b += 1\n",
    "while a <= (N-1):\n",
    "    ans.append(A[a])\n",
    "    a += 1\n",
    "while b <= (M-1):\n",
    "    ans.append(B[b])\n",
    "    b += 1\n",
    "for el in ans: print(str(el) + \" \")"
   ]
  },
  {
   "cell_type": "code",
   "execution_count": 8,
   "metadata": {},
   "outputs": [
    {
     "name": "stdout",
     "output_type": "stream",
     "text": [
      "9\n",
      "0 0 0 1 1 1 -1 -1 -1\n",
      "0 0 0 1 1 1 -1 -1 -1\n",
      "0 0 0 1 1 1 -1 -1 -1\n",
      "1 1 1 0 0 0 0 0 0\n",
      "1 1 1 0 0 0 0 0 0\n",
      "1 1 1 0 0 0 0 0 0\n",
      "0 1 -1 0 1 -1 0 1 -1\n",
      "0 -1 1 0 1 -1 0 1 -1\n",
      "0 1 -1 1 0 -1 0 1 -1\n",
      "{-1: 10, 0: 12, 1: 11}"
     ]
    }
   ],
   "source": [
    "#1780\n",
    "import sys\n",
    "# input = sys.stdin.readline\n",
    "print = sys.stdout.write\n",
    "\n",
    "def paper(n, m,  size):\n",
    "    ispaper = True\n",
    "    a = data[n][m]\n",
    "    for i in range(n, n + size):\n",
    "        for j in range(m, m+ size):\n",
    "            if data[i][j] != a:\n",
    "                ispaper = False\n",
    "                break\n",
    "    if ispaper:\n",
    "        ans[a] += 1\n",
    "    else:\n",
    "        for i in range(n, n + size, size // 3):\n",
    "            for j in range(m, m + size, size // 3):\n",
    "                paper(i, j, size // 3)\n",
    "                \n",
    "\n",
    "햣\n",
    "N = int(input())\n",
    "data = [list(map(int, input().split())) for _ in range(N)]\n",
    "ans = {-1: 0, 0: 0, 1: 0}\n",
    "\n",
    "paper(0, 0, N)\n",
    "\n",
    "print(str(ans[-1]) + \"\\n\")\n",
    "print(str(ans[0]) + \"\\n\")\n",
    "print(str(ans[1]) + \"\\n\")"
   ]
  },
  {
   "cell_type": "code",
   "execution_count": 11,
   "metadata": {},
   "outputs": [
    {
     "name": "stdout",
     "output_type": "stream",
     "text": [
      "3\n",
      "7\n",
      "1 3\n",
      "1 2\n",
      "3 2\n",
      "1 3\n",
      "2 1\n",
      "2 3\n",
      "1 3\n"
     ]
    }
   ],
   "source": [
    "#11729\n",
    "\n",
    "import sys\n",
    "# input = sys.stdin.readline\n",
    "print = sys.stdout.write\n",
    "\n",
    "def hanoi(N, start, end, via):\n",
    "    if N == 0:\n",
    "        return\n",
    "    hanoi(N-1, start, via, end)\n",
    "    ans.append([start, end])\n",
    "    hanoi(N-1, via, end, start)\n",
    "ans = []\n",
    "N = int(input())\n",
    "\n",
    "hanoi(N, 1, 3, 2)\n",
    "\n",
    "print(str(len(ans)) + \"\\n\")\n",
    "for u, v in ans: print(\"{0} {1}\".format(u, v) + \"\\n\")"
   ]
  },
  {
   "cell_type": "code",
   "execution_count": 12,
   "metadata": {
    "scrolled": true
   },
   "outputs": [
    {
     "name": "stdout",
     "output_type": "stream",
     "text": [
      "4\n",
      "1100\n",
      "1100\n",
      "0000\n",
      "0000\n",
      "(1000)"
     ]
    }
   ],
   "source": [
    "#1992\n",
    "import sys\n",
    "# input = sys.stdin.readline\n",
    "print = sys.stdout.write\n",
    "\n",
    "def zip(n, m, size):\n",
    "    iszip = True\n",
    "    tmp = data[n][m]\n",
    "    for i in range(n, n+size):\n",
    "        for j in range(m, m+size):\n",
    "            if data[i][j] != tmp:\n",
    "                iszip = False\n",
    "    if iszip:\n",
    "        print(str(tmp))\n",
    "        return\n",
    "    print(\"(\")\n",
    "    for i in range(n, n+size, size//2):\n",
    "        for j in range(m, m+size, size//2):\n",
    "            zip(i, j, size//2)\n",
    "    print(\")\")\n",
    "\n",
    "N = int(input())\n",
    "data = [list(map(int, list(input().strip()))) for _ in range(N)]\n",
    "\n",
    "zip(0, 0, N)\n"
   ]
  },
  {
   "cell_type": "code",
   "execution_count": 31,
   "metadata": {},
   "outputs": [
    {
     "name": "stdout",
     "output_type": "stream",
     "text": [
      "27\n",
      "***************************\n",
      "* ** ** ** ** ** ** ** ** *\n",
      "***************************\n",
      "***   ******   ******   ***\n",
      "* *   * ** *   * ** *   * *\n",
      "***   ******   ******   ***\n",
      "***************************\n",
      "* ** ** ** ** ** ** ** ** *\n",
      "***************************\n",
      "*********         *********\n",
      "* ** ** *         * ** ** *\n",
      "*********         *********\n",
      "***   ***         ***   ***\n",
      "* *   * *         * *   * *\n",
      "***   ***         ***   ***\n",
      "*********         *********\n",
      "* ** ** *         * ** ** *\n",
      "*********         *********\n",
      "***************************\n",
      "* ** ** ** ** ** ** ** ** *\n",
      "***************************\n",
      "***   ******   ******   ***\n",
      "* *   * ** *   * ** *   * *\n",
      "***   ******   ******   ***\n",
      "***************************\n",
      "* ** ** ** ** ** ** ** ** *\n",
      "***************************\n"
     ]
    }
   ],
   "source": [
    "import sys\n",
    "# input = sys.stdin.readline\n",
    "print = sys.stdout.write\n",
    "\n",
    "def getStar(star):\n",
    "    n = len(star)\n",
    "    new_star = []\n",
    "    for i in range(n*3):\n",
    "        if n <= i < 2 *n:\n",
    "            new_star.append(star[i%n] + \" \" * n + star[i%n])\n",
    "        else:\n",
    "            new_star.append(star[i%n] * 3)\n",
    "    return new_star\n",
    "\n",
    "N = int(input())\n",
    "\n",
    "star = [\"***\", \"* *\", \"***\"]\n",
    "k = 0\n",
    "while N // 3 > 1:\n",
    "    N //= 3\n",
    "    k+=1\n",
    "for _ in range(k):\n",
    "    star = getStar(star)\n",
    "for el in star: print(el + \"\\n\")"
   ]
  },
  {
   "cell_type": "code",
   "execution_count": 35,
   "metadata": {},
   "outputs": [
    {
     "name": "stdout",
     "output_type": "stream",
     "text": [
      "12\n",
      "           *            \n",
      "          * *           \n",
      "         *****          \n",
      "        *     *         \n",
      "       * *   * *        \n",
      "      ***** *****       \n",
      "     *           *      \n",
      "    * *         * *     \n",
      "   *****       *****    \n",
      "  *     *     *     *   \n",
      " * *   * *   * *   * *  \n",
      "***** ***** ***** ***** \n"
     ]
    }
   ],
   "source": [
    "# 2448\n",
    "import sys\n",
    "# input = sys.stdin.readline\n",
    "print = sys.stdout.write\n",
    "\n",
    "N = int(input())\n",
    "\n",
    "def getStar(star):\n",
    "    n = len(star)\n",
    "    new_star = []\n",
    "    for i in range(n*2):\n",
    "        if i // n == 0:\n",
    "            new_star.append(\" \" * n + star[i] + \" \" * n)\n",
    "        else:\n",
    "            new_star.append(star[i%n] * 2)\n",
    "    return new_star\n",
    "star = [\"  *   \", \" * *  \", \"***** \"]\n",
    "\n",
    "k = 0\n",
    "while N != 3:\n",
    "    N //= 2\n",
    "    k += 1\n",
    "    \n",
    "for _ in range(k):\n",
    "    star = getStar(star)\n",
    "for el in star:\n",
    "    print(el + \"\\n\")"
   ]
  },
  {
   "cell_type": "code",
   "execution_count": null,
   "metadata": {},
   "outputs": [],
   "source": []
  },
  {
   "cell_type": "code",
   "execution_count": null,
   "metadata": {},
   "outputs": [],
   "source": []
  }
 ],
 "metadata": {
  "kernelspec": {
   "display_name": "Python 3",
   "language": "python",
   "name": "python3"
  },
  "language_info": {
   "codemirror_mode": {
    "name": "ipython",
    "version": 3
   },
   "file_extension": ".py",
   "mimetype": "text/x-python",
   "name": "python",
   "nbconvert_exporter": "python",
   "pygments_lexer": "ipython3",
   "version": "3.7.3"
  }
 },
 "nbformat": 4,
 "nbformat_minor": 4
}
