{
 "cells": [
  {
   "cell_type": "code",
   "execution_count": 9,
   "metadata": {},
   "outputs": [
    {
     "name": "stdout",
     "output_type": "stream",
     "text": [
      "4 11\n",
      "802\n",
      "743\n",
      "457\n",
      "539\n",
      "200"
     ]
    }
   ],
   "source": [
    "# 1654\n",
    "\n",
    "import sys\n",
    "# input = sys.stdin.readline\n",
    "print = sys.stdout.write\n",
    "\n",
    "K, N = map(int, input().split())\n",
    "data = [int(input()) for _ in range(K)]\n",
    "# 최소값 0 설정시 제로 디비전 오류 발생가능성\n",
    "mink = 0\n",
    "maxk = max(data)\n",
    "mid = 0 \n",
    "while mink <= maxk:\n",
    "    mid = (mink + maxk) // 2\n",
    "    M = 0\n",
    "    for i in range(K):\n",
    "        M += data[i] // mid\n",
    "    # 이렇게 폭을 좁이는게 포인트 최종 검출지점은 max와 min이 포개지는 지점\n",
    "    if N > M:\n",
    "        maxk = mid -1\n",
    "    else:\n",
    "        mink = mid + 1\n",
    "print(str(maxk))"
   ]
  },
  {
   "cell_type": "code",
   "execution_count": 12,
   "metadata": {},
   "outputs": [
    {
     "name": "stdout",
     "output_type": "stream",
     "text": [
      "4 7\n",
      "20 15 10 17\n",
      "15"
     ]
    }
   ],
   "source": [
    "# 2805\n",
    "import sys\n",
    "# input = sys.stdin.readline\n",
    "print = sys.stdout.write\n",
    "\n",
    "N, M = map(int, input().split())\n",
    "data = list(map(int, input().split()))\n",
    "start = 1\n",
    "end = max(data)\n",
    "\n",
    "while start <= end:\n",
    "    mid = (start + end) // 2\n",
    "    K = 0\n",
    "    for el in data:\n",
    "        K +=  (el-mid if (el - mid) > 0 else 0)\n",
    "    if K < M:\n",
    "        end = mid - 1\n",
    "    else:\n",
    "        start = mid + 1\n",
    "\n",
    "print(str(end))"
   ]
  },
  {
   "cell_type": "code",
   "execution_count": 22,
   "metadata": {},
   "outputs": [
    {
     "name": "stdout",
     "output_type": "stream",
     "text": [
      "5 3\n",
      "1\n",
      "2\n",
      "8\n",
      "4\n",
      "9\n",
      "4"
     ]
    }
   ],
   "source": [
    "#2110\n",
    "import sys\n",
    "# input = sys.stdin.readline\n",
    "print = sys.stdout.write\n",
    "\n",
    "N, C = map(int, input().split())\n",
    "data = [int(input()) for _ in range(N)]\n",
    "data.sort()\n",
    "start = data[0]\n",
    "end = data[-1]\n",
    "while start<= end:\n",
    "    mid = (start + end) // 2\n",
    "    tmp = data[0]\n",
    "    K = 1\n",
    "    for i in range(1, N):\n",
    "        if data[i] >= tmp + mid:\n",
    "            tmp = data[i]\n",
    "            K += 1\n",
    "    if K < C:\n",
    "        end = mid - 1\n",
    "    else:\n",
    "        start = mid + 1\n",
    "print(str(end))"
   ]
  },
  {
   "cell_type": "code",
   "execution_count": 26,
   "metadata": {},
   "outputs": [
    {
     "name": "stdout",
     "output_type": "stream",
     "text": [
      "5\n",
      "6 3 2 10 -10\n",
      "8\n",
      "10 9 -5 2 3 4 5 -10\n",
      "1 001 1 001 "
     ]
    }
   ],
   "source": [
    "#10815\n",
    "import sys\n",
    "# input = sys.stdin.readline\n",
    "print = sys.stdout.write\n",
    "\n",
    "N = int(input())\n",
    "data = sorted(list(map(int, input().split())))\n",
    "M = int(input())\n",
    "num = list(map(int, input().split()))\n",
    "\n",
    "for el in num:\n",
    "    start = 0\n",
    "    end = len(data)-2\n",
    "    isin = False\n",
    "    while start<=end:\n",
    "        mid = (start + end) // 2\n",
    "        if el > data[mid]:\n",
    "            start = mid + 1\n",
    "        else: \n",
    "            end = mid - 1\n",
    "    if data[start] == el:\n",
    "        print(\"1 \")\n",
    "    else:\n",
    "        print(\"0 \")\n",
    "        \n",
    "import sys\n",
    "input = sys.stdin.readline\n",
    "print = sys.stdout.write\n",
    "\n",
    "N = int(input())\n",
    "data = sorted(list(map(int, input().split())))\n",
    "M = int(input())\n",
    "num = list(map(int, input().split()))\n",
    "\n",
    "for el in num:\n",
    "    start = 0\n",
    "    end = len(data)-1\n",
    "    isin = False\n",
    "    while start<=end:\n",
    "        mid = (start + end) // 2\n",
    "        if el >= data[mid]:\n",
    "            start = mid + 1\n",
    "        else: \n",
    "            end = mid - 1\n",
    "    if data[end] == el:\n",
    "        print(\"1 \")\n",
    "    else:\n",
    "        print(\"0 \")"
   ]
  },
  {
   "cell_type": "markdown",
   "metadata": {},
   "source": [
    "## 초기값을 주는 기준 end를 출력할시 start의 왼쪽까지감 따라서 start = 1로 했던것 start 출력시에는 end 오른쪽에 있으므로 end -1해야함!\n",
    "## end 출력은 참고로가 start 같을때 옆으로 갈떄이다"
   ]
  },
  {
   "cell_type": "code",
   "execution_count": 49,
   "metadata": {},
   "outputs": [
    {
     "name": "stdout",
     "output_type": "stream",
     "text": [
      "4\n",
      "0 0 0 1\n",
      "1\n",
      "0\n",
      "3 "
     ]
    }
   ],
   "source": [
    "#10816\n",
    "import sys\n",
    "# input = sys.stdin.readline\n",
    "print = sys.stdout.write\n",
    "\n",
    "N = int(input())\n",
    "data = sorted(list(map(int, input().split())))\n",
    "M = int(input())\n",
    "num = list(map(int, input().split()))\n",
    "\n",
    "for el in num:\n",
    "    ans = 0\n",
    "    \n",
    "    start = 1\n",
    "    end = len(data) - 1\n",
    "    while start<=end:\n",
    "        mid = (start + end) // 2\n",
    "        if el >= data[mid]:\n",
    "            start = mid + 1\n",
    "        else:\n",
    "            end = mid - 1\n",
    "        \n",
    "    ans += end\n",
    "    \n",
    "    start = 0\n",
    "    end = len(data)-2\n",
    "    while start<=end:\n",
    "        mid = (start + end) // 2\n",
    "        if el > data[mid]:\n",
    "            start = mid + 1\n",
    "        else:\n",
    "            end = mid - 1\n",
    "    ans = ans - start + 1\n",
    "    \n",
    "    if el == data[start]:\n",
    "        print(str(ans) + \" \")\n",
    "    else:\n",
    "        print(\"0 \")\n"
   ]
  },
  {
   "cell_type": "code",
   "execution_count": 19,
   "metadata": {},
   "outputs": [
    {
     "name": "stdout",
     "output_type": "stream",
     "text": [
      "0 0 10 20 30 0 5 10\n",
      "8.2416338369"
     ]
    }
   ],
   "source": [
    "#11662\n",
    "import sys, math\n",
    "# input = sys.stdin.readline\n",
    "print = sys.stdout.write\n",
    "data = list(map(int, input().split()))\n",
    "\n",
    "A = [data[0], data[1]]\n",
    "B = [data[2], data[3]]\n",
    "C = [data[4], data[5]]\n",
    "D = [data[6], data[7]]\n",
    "\n",
    "dax = (B[0] - A[0]) / 100\n",
    "day = (B[1] - A[1]) / 100\n",
    "dcx = (D[0] - C[0]) / 100\n",
    "dcy = (D[1] - C[1]) / 100\n",
    "\n",
    "def getDistance(x1, y1, x2, y2):\n",
    "    return math.sqrt(((x1 - x2) ** 2) + ((y1 - y2) ** 2))\n",
    "ans = sys.maxsize\n",
    "lo, hi = 0, 100\n",
    "while (hi - lo) >= 10 ** (-10):\n",
    "    p = (lo*2 + hi) / 3\n",
    "    q = (lo + hi * 2) / 3\n",
    "    p_val = getDistance(A[0] + dax * p, A[1] + day * p, C[0] + dcx * p, C[1] + dcy * p)\n",
    "    q_val = getDistance(A[0] + dax * q, A[1] + day * q, C[0] + dcx * q, C[1] + dcy * q)\n",
    "    ans = min(ans, min(p_val, q_val))\n",
    "    if p_val < q_val:\n",
    "        hi = q\n",
    "    else:\n",
    "        lo = p\n",
    "print(str(round(ans, 10)))"
   ]
  },
  {
   "cell_type": "code",
   "execution_count": 8,
   "metadata": {},
   "outputs": [],
   "source": [
    "ans = sys.maxsize"
   ]
  },
  {
   "cell_type": "code",
   "execution_count": null,
   "metadata": {},
   "outputs": [],
   "source": []
  }
 ],
 "metadata": {
  "kernelspec": {
   "display_name": "Python 3",
   "language": "python",
   "name": "python3"
  },
  "language_info": {
   "codemirror_mode": {
    "name": "ipython",
    "version": 3
   },
   "file_extension": ".py",
   "mimetype": "text/x-python",
   "name": "python",
   "nbconvert_exporter": "python",
   "pygments_lexer": "ipython3",
   "version": "3.7.3"
  }
 },
 "nbformat": 4,
 "nbformat_minor": 4
}
