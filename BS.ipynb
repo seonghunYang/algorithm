{
 "cells": [
  {
   "cell_type": "code",
   "execution_count": 9,
   "metadata": {},
   "outputs": [
    {
     "name": "stdout",
     "output_type": "stream",
     "text": [
      "4 11\n",
      "802\n",
      "743\n",
      "457\n",
      "539\n",
      "200"
     ]
    }
   ],
   "source": [
    "# 1654\n",
    "\n",
    "import sys\n",
    "# input = sys.stdin.readline\n",
    "print = sys.stdout.write\n",
    "\n",
    "K, N = map(int, input().split())\n",
    "data = [int(input()) for _ in range(K)]\n",
    "# 최소값 0 설정시 제로 디비전 오류 발생가능성\n",
    "mink = 0\n",
    "maxk = max(data)\n",
    "mid = 0 \n",
    "while mink <= maxk:\n",
    "    mid = (mink + maxk) // 2\n",
    "    M = 0\n",
    "    for i in range(K):\n",
    "        M += data[i] // mid\n",
    "    # 이렇게 폭을 좁이는게 포인트 최종 검출지점은 max와 min이 포개지는 지점\n",
    "    if N > M:\n",
    "        maxk = mid -1\n",
    "    else:\n",
    "        mink = mid + 1\n",
    "print(str(maxk))"
   ]
  },
  {
   "cell_type": "code",
   "execution_count": 12,
   "metadata": {},
   "outputs": [
    {
     "name": "stdout",
     "output_type": "stream",
     "text": [
      "4 7\n",
      "20 15 10 17\n",
      "15"
     ]
    }
   ],
   "source": [
    "# 2805\n",
    "import sys\n",
    "# input = sys.stdin.readline\n",
    "print = sys.stdout.write\n",
    "\n",
    "N, M = map(int, input().split())\n",
    "data = list(map(int, input().split()))\n",
    "start = 1\n",
    "end = max(data)\n",
    "\n",
    "while start <= end:\n",
    "    mid = (start + end) // 2\n",
    "    K = 0\n",
    "    for el in data:\n",
    "        K +=  (el-mid if (el - mid) > 0 else 0)\n",
    "    if K < M:\n",
    "        end = mid - 1\n",
    "    else:\n",
    "        start = mid + 1\n",
    "\n",
    "print(str(end))"
   ]
  },
  {
   "cell_type": "code",
   "execution_count": 22,
   "metadata": {},
   "outputs": [
    {
     "name": "stdout",
     "output_type": "stream",
     "text": [
      "5 3\n",
      "1\n",
      "2\n",
      "8\n",
      "4\n",
      "9\n",
      "4"
     ]
    }
   ],
   "source": [
    "#2110\n",
    "import sys\n",
    "# input = sys.stdin.readline\n",
    "print = sys.stdout.write\n",
    "\n",
    "N, C = map(int, input().split())\n",
    "data = [int(input()) for _ in range(N)]\n",
    "data.sort()\n",
    "start = data[0]\n",
    "end = data[-1]\n",
    "while start<= end:\n",
    "    mid = (start + end) // 2\n",
    "    tmp = data[0]\n",
    "    K = 1\n",
    "    for i in range(1, N):\n",
    "        if data[i] >= tmp + mid:\n",
    "            tmp = data[i]\n",
    "            K += 1\n",
    "    if K < C:\n",
    "        end = mid - 1\n",
    "    else:\n",
    "        start = mid + 1\n",
    "print(str(end))"
   ]
  },
  {
   "cell_type": "markdown",
   "metadata": {},
   "source": [
    "### "
   ]
  }
 ],
 "metadata": {
  "kernelspec": {
   "display_name": "Python 3",
   "language": "python",
   "name": "python3"
  },
  "language_info": {
   "codemirror_mode": {
    "name": "ipython",
    "version": 3
   },
   "file_extension": ".py",
   "mimetype": "text/x-python",
   "name": "python",
   "nbconvert_exporter": "python",
   "pygments_lexer": "ipython3",
   "version": "3.7.3"
  }
 },
 "nbformat": 4,
 "nbformat_minor": 4
}
