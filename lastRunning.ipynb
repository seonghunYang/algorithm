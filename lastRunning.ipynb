{
 "cells": [
  {
   "cell_type": "code",
   "execution_count": 1,
   "metadata": {},
   "outputs": [
    {
     "name": "stdout",
     "output_type": "stream",
     "text": [
      "3\n",
      "1 0\n",
      "5\n",
      "1\n",
      "4 2\n",
      "1 2 3 4\n",
      "2\n",
      "6 0\n",
      "1 1 9 1 1 1\n",
      "5\n"
     ]
    }
   ],
   "source": [
    "#1966\n",
    "from collections import deque\n",
    "for _ in range(int(input())):\n",
    "    N, M = map(int, input().split())\n",
    "    data = list(map(int, input().split()))\n",
    "    data = [[i, data[i]] for i in range(N)]\n",
    "    que = deque(data)\n",
    "    answer = 0\n",
    "    while que:\n",
    "        idx, val = que.popleft()\n",
    "        isposs = True\n",
    "        for i in range(len(que)):\n",
    "            if que[i][1] > val:\n",
    "                que.append([idx, val])\n",
    "                isposs = False\n",
    "                break\n",
    "        if isposs:\n",
    "            answer += 1\n",
    "            if idx == M:\n",
    "                break\n",
    "    print(answer)\n",
    "        \n",
    "    "
   ]
  },
  {
   "cell_type": "code",
   "execution_count": 2,
   "metadata": {},
   "outputs": [
    {
     "name": "stdout",
     "output_type": "stream",
     "text": [
      "5\n",
      "6 9 5 7 4\n",
      "0 0 2 2 4\n"
     ]
    }
   ],
   "source": [
    "#2493\n",
    "N = int(input())\n",
    "data = list(map(int, input().split()))\n",
    "stack = []\n",
    "# 답 idx + 1해서 저장 필요\n",
    "answer = [0] * N\n",
    "for i in range(N-1, -1, -1):\n",
    "    el = data[i]\n",
    "    while stack and stack[-1][1] < el:\n",
    "        idx, val = stack.pop()\n",
    "        answer[idx] = i + 1\n",
    "    stack.append([i, el])\n",
    "while stack:\n",
    "    idx, val = stack.pop()\n",
    "    answer[idx] = 0\n",
    "print(*answer)"
   ]
  },
  {
   "cell_type": "code",
   "execution_count": 15,
   "metadata": {},
   "outputs": [
    {
     "name": "stdout",
     "output_type": "stream",
     "text": [
      "(()()[]\n",
      "0\n"
     ]
    }
   ],
   "source": [
    "#2504\n",
    "data = list(input())\n",
    "stack = []\n",
    "try:\n",
    "    for el in data:\n",
    "        if el == \"(\" or el == \"[\":\n",
    "            stack.append(el)\n",
    "        else:\n",
    "            tmp = 1\n",
    "            check = \"(\" if el == \")\" else \"[\"\n",
    "            while stack and stack[-1] != check:\n",
    "                tmp = stack.pop()\n",
    "\n",
    "            stack.pop() \n",
    "            # 다음이 숫자인지 다시 stack에 있는 숫자 합치기\n",
    "            res = 0\n",
    "            if stack and type(stack[-1]) == int:\n",
    "                res = stack.pop()\n",
    "            if el == \")\":\n",
    "                stack.append(2 * tmp + res)\n",
    "            else:\n",
    "                stack.append(3 * tmp + res)\n",
    "    if type(stack[0]) == int:\n",
    "        print(stack[0])\n",
    "    else:\n",
    "        print(0)\n",
    "except:\n",
    "    print(0)\n",
    "\n",
    "        \n"
   ]
  },
  {
   "cell_type": "code",
   "execution_count": 18,
   "metadata": {},
   "outputs": [
    {
     "name": "stdout",
     "output_type": "stream",
     "text": [
      "6\n",
      "9\n",
      "1 2 5\n",
      "1 3 4\n",
      "2 3 2\n",
      "2 4 7\n",
      "3 4 6\n",
      "3 5 11\n",
      "4 5 3\n",
      "4 6 8\n",
      "5 6 8\n",
      "23\n"
     ]
    }
   ],
   "source": [
    "#1922\n",
    "import heapq\n",
    "\n",
    "def find(x):\n",
    "    if parent[x] == x:\n",
    "        return x\n",
    "    parent[x] = find(parent[x])\n",
    "    return parent[x]\n",
    "\n",
    "def union(x, y):\n",
    "    x, y = find(x), find(y)\n",
    "    if x == y:\n",
    "        return False\n",
    "    parent[x] = y\n",
    "    return True\n",
    "\n",
    "N = int(input())\n",
    "M = int(input())\n",
    "data = []\n",
    "for _ in range(M):\n",
    "    n, m, val = map(int, input().split())\n",
    "    data.append([val, n, m])\n",
    "heapq.heapify(data)\n",
    "parent = [i for i in range(N+1)]\n",
    "answer = 0\n",
    "while data:\n",
    "    val, n, m = heapq.heappop(data)\n",
    "    if union(n, m):\n",
    "        answer += val\n",
    "print(answer)"
   ]
  },
  {
   "cell_type": "code",
   "execution_count": 22,
   "metadata": {},
   "outputs": [
    {
     "name": "stdout",
     "output_type": "stream",
     "text": [
      "......\n",
      "......\n",
      "......\n",
      "......\n",
      "......\n",
      "......\n",
      "......\n",
      "......\n",
      ".Y....\n",
      ".YG...\n",
      "RRYG..\n",
      "RRYGG.\n",
      "3\n"
     ]
    }
   ],
   "source": [
    "#11559\n",
    "dx = [-1, 1, 0, 0]\n",
    "dy = [0, 0, -1, 1]\n",
    "\n",
    "from collections import deque\n",
    "data = [list(input()) for _ in range(12)]\n",
    "answer = 0\n",
    "while True:\n",
    "    isposs = False\n",
    "    visited = [[0] * 6 for _ in range(12)]\n",
    "    for i in range(12):\n",
    "        for j in range(6):\n",
    "            if data[i][j] != \".\" and visited[i][j] == 0:\n",
    "                #경로 저장\n",
    "                tmp = [[i, j]]\n",
    "                que = deque([[i, j, data[i][j]]])\n",
    "                visited[i][j] = 1\n",
    "                while que:\n",
    "                    n, m, val = que.popleft()\n",
    "                    for k in range(4):\n",
    "                        x, y = n + dx[k], m + dy[k]\n",
    "                        if 0 <= x <= 11 and 0 <= y <= 5 and visited[x][y] == 0 and data[x][y] == val:\n",
    "                            que.append([x, y, val])\n",
    "                            visited[x][y] = 1\n",
    "                            tmp.append([x, y])\n",
    "                if len(tmp) >= 4:\n",
    "                    # 삭제\n",
    "                    for n, m in tmp:\n",
    "                        data[n][m] = \".\"\n",
    "                        isposs = True\n",
    "    if isposs:\n",
    "        answer += 1\n",
    "        # 스위핑\n",
    "        for j in range(6):\n",
    "            tmp = []\n",
    "            for i in range(12):\n",
    "                if data[i][j] != \".\":\n",
    "                    tmp.append(data[i][j])\n",
    "                    data[i][j] = \".\"\n",
    "            idx = 11\n",
    "            while tmp:\n",
    "                data[idx][j] = tmp.pop()\n",
    "                idx -= 1\n",
    "    else:\n",
    "        break\n",
    "print(answer)"
   ]
  },
  {
   "cell_type": "code",
   "execution_count": 25,
   "metadata": {},
   "outputs": [
    {
     "name": "stdout",
     "output_type": "stream",
     "text": [
      "5\n"
     ]
    },
    {
     "ename": "IndexError",
     "evalue": "list index out of range",
     "output_type": "error",
     "traceback": [
      "\u001b[1;31m---------------------------------------------------------------------------\u001b[0m",
      "\u001b[1;31mIndexError\u001b[0m                                Traceback (most recent call last)",
      "\u001b[1;32m<ipython-input-25-27983f95e7c2>\u001b[0m in \u001b[0;36m<module>\u001b[1;34m\u001b[0m\n\u001b[0;32m     20\u001b[0m \u001b[0manswer\u001b[0m \u001b[1;33m=\u001b[0m \u001b[1;36m0\u001b[0m\u001b[1;33m\u001b[0m\u001b[1;33m\u001b[0m\u001b[0m\n\u001b[0;32m     21\u001b[0m \u001b[1;32mfor\u001b[0m \u001b[0mi\u001b[0m \u001b[1;32min\u001b[0m \u001b[0mrange\u001b[0m\u001b[1;33m(\u001b[0m\u001b[1;36m1\u001b[0m\u001b[1;33m,\u001b[0m \u001b[0mN\u001b[0m\u001b[1;33m+\u001b[0m\u001b[1;36m1\u001b[0m\u001b[1;33m)\u001b[0m\u001b[1;33m:\u001b[0m\u001b[1;33m\u001b[0m\u001b[1;33m\u001b[0m\u001b[0m\n\u001b[1;32m---> 22\u001b[1;33m     \u001b[0manswer\u001b[0m \u001b[1;33m+=\u001b[0m \u001b[1;33m(\u001b[0m\u001b[0msolve\u001b[0m\u001b[1;33m(\u001b[0m\u001b[0mi\u001b[0m\u001b[1;33m,\u001b[0m \u001b[0mn\u001b[0m\u001b[1;33m-\u001b[0m\u001b[0mi\u001b[0m\u001b[1;33m-\u001b[0m\u001b[1;36m1\u001b[0m\u001b[1;33m,\u001b[0m \u001b[1;36m1\u001b[0m\u001b[1;33m)\u001b[0m \u001b[1;33m+\u001b[0m \u001b[0msolve\u001b[0m\u001b[1;33m(\u001b[0m\u001b[0mi\u001b[0m\u001b[1;33m,\u001b[0m \u001b[0mn\u001b[0m\u001b[1;33m-\u001b[0m\u001b[0mi\u001b[0m\u001b[1;33m-\u001b[0m\u001b[1;36m1\u001b[0m\u001b[1;33m,\u001b[0m \u001b[1;36m0\u001b[0m\u001b[1;33m)\u001b[0m\u001b[1;33m)\u001b[0m \u001b[1;33m%\u001b[0m \u001b[1;36m100000\u001b[0m\u001b[1;33m\u001b[0m\u001b[1;33m\u001b[0m\u001b[0m\n\u001b[0m\u001b[0;32m     23\u001b[0m \u001b[1;33m\u001b[0m\u001b[0m\n\u001b[0;32m     24\u001b[0m \u001b[0mprint\u001b[0m\u001b[1;33m(\u001b[0m\u001b[1;36m1\u001b[0m \u001b[1;32mif\u001b[0m \u001b[0mN\u001b[0m\u001b[1;33m==\u001b[0m\u001b[1;36m1\u001b[0m \u001b[1;32melse\u001b[0m \u001b[0manswer\u001b[0m\u001b[1;33m)\u001b[0m\u001b[1;33m\u001b[0m\u001b[1;33m\u001b[0m\u001b[0m\n",
      "\u001b[1;32m<ipython-input-25-27983f95e7c2>\u001b[0m in \u001b[0;36msolve\u001b[1;34m(left, right, d)\u001b[0m\n\u001b[0;32m      5\u001b[0m     \u001b[1;32mif\u001b[0m \u001b[0mleft\u001b[0m \u001b[1;33m+\u001b[0m \u001b[0mright\u001b[0m \u001b[1;33m==\u001b[0m \u001b[1;36m0\u001b[0m\u001b[1;33m:\u001b[0m\u001b[1;33m\u001b[0m\u001b[1;33m\u001b[0m\u001b[0m\n\u001b[0;32m      6\u001b[0m         \u001b[1;32mreturn\u001b[0m \u001b[1;36m1\u001b[0m\u001b[1;33m\u001b[0m\u001b[1;33m\u001b[0m\u001b[0m\n\u001b[1;32m----> 7\u001b[1;33m     \u001b[1;32mif\u001b[0m \u001b[0mdp\u001b[0m\u001b[1;33m[\u001b[0m\u001b[0mleft\u001b[0m\u001b[1;33m]\u001b[0m\u001b[1;33m[\u001b[0m\u001b[0mright\u001b[0m\u001b[1;33m]\u001b[0m\u001b[1;33m[\u001b[0m\u001b[0md\u001b[0m\u001b[1;33m]\u001b[0m \u001b[1;33m!=\u001b[0m \u001b[1;33m-\u001b[0m\u001b[1;36m1\u001b[0m\u001b[1;33m:\u001b[0m\u001b[1;33m\u001b[0m\u001b[1;33m\u001b[0m\u001b[0m\n\u001b[0m\u001b[0;32m      8\u001b[0m         \u001b[1;32mreturn\u001b[0m \u001b[0mdp\u001b[0m\u001b[1;33m[\u001b[0m\u001b[0mleft\u001b[0m\u001b[1;33m]\u001b[0m\u001b[1;33m[\u001b[0m\u001b[0mright\u001b[0m\u001b[1;33m]\u001b[0m\u001b[1;33m[\u001b[0m\u001b[0md\u001b[0m\u001b[1;33m]\u001b[0m\u001b[1;33m\u001b[0m\u001b[1;33m\u001b[0m\u001b[0m\n\u001b[0;32m      9\u001b[0m     \u001b[0mtmp\u001b[0m \u001b[1;33m=\u001b[0m \u001b[1;36m0\u001b[0m\u001b[1;33m\u001b[0m\u001b[1;33m\u001b[0m\u001b[0m\n",
      "\u001b[1;31mIndexError\u001b[0m: list index out of range"
     ]
    }
   ],
   "source": [
    "#\n",
    "\n",
    "http://blog.naver.com/PostView.nhn?blogId=pasdfq&logNo=221317287900\n",
    "            "
   ]
  },
  {
   "cell_type": "code",
   "execution_count": 32,
   "metadata": {},
   "outputs": [
    {
     "name": "stdout",
     "output_type": "stream",
     "text": [
      "3 4\n",
      "0000\n",
      "0010\n",
      "0000\n",
      "1001\n",
      "1011\n",
      "1001\n",
      "0 0\n",
      "0 1\n",
      "0 2\n",
      "1 0\n",
      "1 1\n",
      "1 2\n",
      "2 0\n",
      "2 1\n",
      "2 2\n",
      "0 1\n",
      "0 2\n",
      "0 3\n",
      "1 1\n",
      "1 2\n",
      "1 3\n",
      "2 1\n",
      "2 2\n",
      "2 3\n",
      "2\n"
     ]
    }
   ],
   "source": [
    "#1080\n",
    "N, M = map(int, input().split())\n",
    "data = [list(map(int, input())) for _ in range(N)]\n",
    "des = [list(map(int, input())) for _ in range(N)]\n",
    "answer = 0\n",
    "for i in range(N-2):\n",
    "    for j in range(M-2):\n",
    "        if data[i][j] != des[i][j]:\n",
    "            answer += 1\n",
    "            for k in range(3):\n",
    "                for l in range(3):\n",
    "                    data[i+k][j+l] ^= 1\n",
    "if data == des:\n",
    "    print(answer)\n",
    "else:\n",
    "    print(-1)"
   ]
  },
  {
   "cell_type": "code",
   "execution_count": 33,
   "metadata": {},
   "outputs": [
    {
     "name": "stdout",
     "output_type": "stream",
     "text": [
      "5\n",
      "top\n",
      "top\n",
      "top\n",
      "top\n",
      "kimtop\n",
      "top\n"
     ]
    }
   ],
   "source": [
    "#1302\n",
    "N = int(input())\n",
    "data = {}\n",
    "for _ in range(N):\n",
    "    st = input()\n",
    "    if data.get(st):\n",
    "        data[st] += 1\n",
    "    else:\n",
    "        data[st] = 1\n",
    "data = list(data.items())\n",
    "data.sort(key=lambda x: (-x[1], x[0]))\n",
    "print(data[0][0])"
   ]
  },
  {
   "cell_type": "code",
   "execution_count": 46,
   "metadata": {},
   "outputs": [
    {
     "name": "stdout",
     "output_type": "stream",
     "text": [
      "5\n",
      "2\n"
     ]
    }
   ],
   "source": [
    "#1146\n",
    "\n",
    "def solve(left, right):\n",
    "    here = N - (left + right)\n",
    "    if here == N:\n",
    "        return 1\n",
    "    if dp[left][right] != -1:\n",
    "        return dp[left][right]\n",
    "    tmp = 0\n",
    "    if right == 0:\n",
    "        return tmp\n",
    "    for i in range(right):\n",
    "        #flag 대신 뒤집기 위해서 \n",
    "        tmp += (solve(right-1-i, left + i) % 1000000)\n",
    "    dp[left][right] = tmp\n",
    "    return tmp\n",
    "N = int(input())\n",
    "if N == 1:\n",
    "    print(1)\n",
    "else:\n",
    "    dp = [[-1] * N for _ in range(N)]\n",
    "    answer = 0\n",
    "    for i in range(N):\n",
    "        answer += (solve(i, N-i-1) )\n",
    "        answer += (solve(N-i-1, i) )\n",
    "        answer = answer % 1000000\n",
    "    print(answer)"
   ]
  },
  {
   "cell_type": "code",
   "execution_count": 44,
   "metadata": {},
   "outputs": [
    {
     "data": {
      "text/plain": [
       "[[-1, 0, 0, 0, 0],\n",
       " [-1, 0, 0, 0, -1],\n",
       " [-1, 0, 0, -1, -1],\n",
       " [-1, 0, -1, -1, -1],\n",
       " [-1, -1, -1, -1, -1]]"
      ]
     },
     "execution_count": 44,
     "metadata": {},
     "output_type": "execute_result"
    }
   ],
   "source": [
    "dp"
   ]
  },
  {
   "cell_type": "code",
   "execution_count": null,
   "metadata": {},
   "outputs": [],
   "source": []
  }
 ],
 "metadata": {
  "kernelspec": {
   "display_name": "Python 3",
   "language": "python",
   "name": "python3"
  },
  "language_info": {
   "codemirror_mode": {
    "name": "ipython",
    "version": 3
   },
   "file_extension": ".py",
   "mimetype": "text/x-python",
   "name": "python",
   "nbconvert_exporter": "python",
   "pygments_lexer": "ipython3",
   "version": "3.7.3"
  }
 },
 "nbformat": 4,
 "nbformat_minor": 4
}
