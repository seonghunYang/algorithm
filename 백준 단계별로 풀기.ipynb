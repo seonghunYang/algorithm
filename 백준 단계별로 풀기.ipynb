{
 "cells": [
  {
   "cell_type": "markdown",
   "metadata": {},
   "source": [
    "## BFS/DFS"
   ]
  },
  {
   "cell_type": "code",
   "execution_count": 3,
   "metadata": {},
   "outputs": [
    {
     "name": "stdout",
     "output_type": "stream",
     "text": [
      "7\n",
      "6\n",
      "1 2\n",
      "2 3\n",
      "1 5\n",
      "5 2\n",
      "5 6\n",
      "4 7\n",
      "4\n"
     ]
    }
   ],
   "source": [
    "# 2606\n",
    "from collections import deque\n",
    "N = int(input())\n",
    "graph = [[] for _ in range(N+1)]\n",
    "for _ in range(int(input())):\n",
    "    n, m = map(int, input().split())\n",
    "    graph[n].append(m)\n",
    "    graph[m].append(n)\n",
    "\n",
    "visited = [0] * (N+1)\n",
    "que = deque([1])\n",
    "visited[1] = 1\n",
    "ans = 0\n",
    "while que:\n",
    "    node = que.popleft()\n",
    "    \n",
    "    for el in graph[node]:\n",
    "        if visited[el] == 0:\n",
    "            que.append(el)\n",
    "            visited[el] = 1\n",
    "            ans += 1\n",
    "print(ans)"
   ]
  },
  {
   "cell_type": "markdown",
   "metadata": {},
   "source": [
    "## 그리디"
   ]
  },
  {
   "cell_type": "code",
   "execution_count": 20,
   "metadata": {},
   "outputs": [
    {
     "name": "stdout",
     "output_type": "stream",
     "text": [
      "55-50+40\n",
      "-35\n"
     ]
    }
   ],
   "source": [
    "#1541\n",
    "N = input()\n",
    "data = N.split(\"-\")\n",
    "answer = sum([int(el) for el in data[0].split(\"+\")])\n",
    "for i in range(1, len(data)):\n",
    "    answer -= sum([int(el) for el in data[i].split(\"+\")])\n",
    "print(answer)"
   ]
  },
  {
   "cell_type": "code",
   "execution_count": 23,
   "metadata": {},
   "outputs": [
    {
     "name": "stdout",
     "output_type": "stream",
     "text": [
      "4\n",
      "3 3 4\n",
      "1 1 1 1\n",
      "10\n"
     ]
    }
   ],
   "source": [
    "N = int(input())\n",
    "distance = list(map(int, input().split()))\n",
    "data = list(map(int, input().split()))\n",
    "# 시작 노드(시작 도시)\n",
    "node = 0\n",
    "answer = 0\n",
    "while True:\n",
    "    #현재 노드보다 작은놈 있는 곳까지 이동 가능 이동하면서 비용 계산\n",
    "    isposs = False\n",
    "    for i in range(node+1, N):\n",
    "        # 비용계산\n",
    "        answer += data[node] * distance[i-1]\n",
    "        if data[node] > data[i]:\n",
    "            node = i\n",
    "            isposs = True\n",
    "            break\n",
    "    if not isposs:\n",
    "        break\n",
    "print(answer)"
   ]
  },
  {
   "cell_type": "code",
   "execution_count": 33,
   "metadata": {},
   "outputs": [
    {
     "name": "stdout",
     "output_type": "stream",
     "text": [
      "11\n",
      "3\n"
     ]
    }
   ],
   "source": [
    "# 2839\n",
    "N = int(input())\n",
    "mx = N // 5\n",
    "mn = 0\n",
    "# mx하고남은 설탕\n",
    "tmp = N - (mx * 5)\n",
    "isposs = False\n",
    "while mx > -1:\n",
    "    if tmp % 3 == 0:\n",
    "        mn = tmp // 3\n",
    "        isposs = True\n",
    "        break\n",
    "    mx -= 1\n",
    "    tmp += 5\n",
    "if isposs:\n",
    "    print(mx + mn)\n",
    "else:\n",
    "    print(-1)"
   ]
  },
  {
   "cell_type": "code",
   "execution_count": 40,
   "metadata": {},
   "outputs": [
    {
     "name": "stdout",
     "output_type": "stream",
     "text": [
      "2\n",
      "AB\n",
      "BA\n",
      "187\n"
     ]
    }
   ],
   "source": [
    "# 1339\n",
    "N = int(input())\n",
    "words = [input() for _ in range(N)]\n",
    "score = {}\n",
    "#각 알파벳별 점수 기록\n",
    "for el in words:\n",
    "    for i in range(len(el)):\n",
    "        # 10 곱할 단위\n",
    "        tmp = len(el) - 1 - i\n",
    "        if score.get(el[i]):\n",
    "            score[el[i]] += (10 ** tmp)\n",
    "        else:\n",
    "            score[el[i]]= (10 ** tmp)\n",
    "# socre를 list로\n",
    "data = []\n",
    "for key, val in score.items():\n",
    "    data.append([val, key])\n",
    "data.sort(reverse=True)\n",
    "# 다시 dic으로\n",
    "score = {}\n",
    "tmp = 9\n",
    "for val, key in data:\n",
    "    score[key] = tmp\n",
    "    tmp -= 1\n",
    "answer = 0\n",
    "for el in words:\n",
    "    tmp = \"\"\n",
    "    for e in el:\n",
    "        tmp += str(score[e])\n",
    "    answer += int(tmp)\n",
    "print(answer)"
   ]
  },
  {
   "cell_type": "code",
   "execution_count": 12,
   "metadata": {},
   "outputs": [
    {
     "name": "stdout",
     "output_type": "stream",
     "text": [
      "15\n",
      "1 21 3 4 5 35 5 4 3 5 98 21 14 17 32\n"
     ]
    },
    {
     "ename": "ValueError",
     "evalue": "invalid literal for int() with base 10: '1 21 3 4 5 35 5 4 3 5 98 21 14 17 32'",
     "output_type": "error",
     "traceback": [
      "\u001b[1;31m---------------------------------------------------------------------------\u001b[0m",
      "\u001b[1;31mValueError\u001b[0m                                Traceback (most recent call last)",
      "\u001b[1;32m<ipython-input-12-54d17eebf0aa>\u001b[0m in \u001b[0;36m<module>\u001b[1;34m\u001b[0m\n\u001b[0;32m      2\u001b[0m \u001b[1;32mimport\u001b[0m \u001b[0mheapq\u001b[0m\u001b[1;33m\u001b[0m\u001b[1;33m\u001b[0m\u001b[0m\n\u001b[0;32m      3\u001b[0m \u001b[0mN\u001b[0m \u001b[1;33m=\u001b[0m \u001b[0mint\u001b[0m\u001b[1;33m(\u001b[0m\u001b[0minput\u001b[0m\u001b[1;33m(\u001b[0m\u001b[1;33m)\u001b[0m\u001b[1;33m)\u001b[0m\u001b[1;33m\u001b[0m\u001b[1;33m\u001b[0m\u001b[0m\n\u001b[1;32m----> 4\u001b[1;33m \u001b[0mdata\u001b[0m \u001b[1;33m=\u001b[0m \u001b[1;33m[\u001b[0m\u001b[0mint\u001b[0m\u001b[1;33m(\u001b[0m\u001b[0minput\u001b[0m\u001b[1;33m(\u001b[0m\u001b[1;33m)\u001b[0m\u001b[1;33m)\u001b[0m \u001b[1;32mfor\u001b[0m \u001b[0m_\u001b[0m \u001b[1;32min\u001b[0m \u001b[0mrange\u001b[0m\u001b[1;33m(\u001b[0m\u001b[0mN\u001b[0m\u001b[1;33m)\u001b[0m\u001b[1;33m]\u001b[0m\u001b[1;33m\u001b[0m\u001b[1;33m\u001b[0m\u001b[0m\n\u001b[0m\u001b[0;32m      5\u001b[0m \u001b[0mheapq\u001b[0m\u001b[1;33m.\u001b[0m\u001b[0mheapify\u001b[0m\u001b[1;33m(\u001b[0m\u001b[0mdata\u001b[0m\u001b[1;33m)\u001b[0m\u001b[1;33m\u001b[0m\u001b[1;33m\u001b[0m\u001b[0m\n\u001b[0;32m      6\u001b[0m \u001b[0manswer\u001b[0m \u001b[1;33m=\u001b[0m \u001b[1;36m0\u001b[0m\u001b[1;33m\u001b[0m\u001b[1;33m\u001b[0m\u001b[0m\n",
      "\u001b[1;32m<ipython-input-12-54d17eebf0aa>\u001b[0m in \u001b[0;36m<listcomp>\u001b[1;34m(.0)\u001b[0m\n\u001b[0;32m      2\u001b[0m \u001b[1;32mimport\u001b[0m \u001b[0mheapq\u001b[0m\u001b[1;33m\u001b[0m\u001b[1;33m\u001b[0m\u001b[0m\n\u001b[0;32m      3\u001b[0m \u001b[0mN\u001b[0m \u001b[1;33m=\u001b[0m \u001b[0mint\u001b[0m\u001b[1;33m(\u001b[0m\u001b[0minput\u001b[0m\u001b[1;33m(\u001b[0m\u001b[1;33m)\u001b[0m\u001b[1;33m)\u001b[0m\u001b[1;33m\u001b[0m\u001b[1;33m\u001b[0m\u001b[0m\n\u001b[1;32m----> 4\u001b[1;33m \u001b[0mdata\u001b[0m \u001b[1;33m=\u001b[0m \u001b[1;33m[\u001b[0m\u001b[0mint\u001b[0m\u001b[1;33m(\u001b[0m\u001b[0minput\u001b[0m\u001b[1;33m(\u001b[0m\u001b[1;33m)\u001b[0m\u001b[1;33m)\u001b[0m \u001b[1;32mfor\u001b[0m \u001b[0m_\u001b[0m \u001b[1;32min\u001b[0m \u001b[0mrange\u001b[0m\u001b[1;33m(\u001b[0m\u001b[0mN\u001b[0m\u001b[1;33m)\u001b[0m\u001b[1;33m]\u001b[0m\u001b[1;33m\u001b[0m\u001b[1;33m\u001b[0m\u001b[0m\n\u001b[0m\u001b[0;32m      5\u001b[0m \u001b[0mheapq\u001b[0m\u001b[1;33m.\u001b[0m\u001b[0mheapify\u001b[0m\u001b[1;33m(\u001b[0m\u001b[0mdata\u001b[0m\u001b[1;33m)\u001b[0m\u001b[1;33m\u001b[0m\u001b[1;33m\u001b[0m\u001b[0m\n\u001b[0;32m      6\u001b[0m \u001b[0manswer\u001b[0m \u001b[1;33m=\u001b[0m \u001b[1;36m0\u001b[0m\u001b[1;33m\u001b[0m\u001b[1;33m\u001b[0m\u001b[0m\n",
      "\u001b[1;31mValueError\u001b[0m: invalid literal for int() with base 10: '1 21 3 4 5 35 5 4 3 5 98 21 14 17 32'"
     ]
    }
   ],
   "source": [
    "#1715\n",
    "import heapq\n",
    "N = int(input())\n",
    "data = [int(input()) for _ in range(N)]\n",
    "heapq.heapify(data)\n",
    "answer = 0\n",
    "while len(data) > 1:\n",
    "    a = heapq.heappop(data)\n",
    "    b = heapq.heappop(data)\n",
    "    heapq.heappush(data, a+b)\n",
    "    answer += a+b\n",
    "print(answer)"
   ]
  },
  {
   "cell_type": "markdown",
   "metadata": {},
   "source": [
    "## DP"
   ]
  },
  {
   "cell_type": "code",
   "execution_count": 48,
   "metadata": {},
   "outputs": [
    {
     "name": "stdout",
     "output_type": "stream",
     "text": [
      "4 5\n",
      "50 45 37 32 30\n",
      "35 50 40 20 25\n",
      "30 30 25 17 28\n",
      "27 24 22 15 10\n"
     ]
    }
   ],
   "source": [
    "dx = [-1, 1, 0, 0]\n",
    "dy = [0, 0, -1, 1]\n",
    "def DFS(x, y):\n",
    "    if dp[x][y] != None:\n",
    "        return dp[x][y]\n",
    "    if x == N-1 and y == M-1:\n",
    "        return 1\n",
    "    tmp = 0\n",
    "    for i in range(4):\n",
    "        n, m = x + dx[i], y + dy[i]\n",
    "        if 0 <= n <= N-1 and 0 <= m <= M-1 and visited[n][m] == 0 and data[x][y] > data[n][m]:\n",
    "            visited[n][m] = 1\n",
    "            tmp += DFS(n, m)\n",
    "            visited[n][m] = 0\n",
    "    dp[x][y] = tmp\n",
    "    return tmp\n",
    "\n",
    "N, M = map(int, input().split())\n",
    "data = [list(map(int, input().split())) for _ in range(N)]\n",
    "dp = [[None] * M for _ in range(N)]\n",
    "visited = [[0] * M for _ in range(N)]\n",
    "\n",
    "visited[0][0] = 1\n",
    "answer = DFS(0, 0)\n",
    "print(answer)"
   ]
  },
  {
   "cell_type": "code",
   "execution_count": 5,
   "metadata": {},
   "outputs": [
    {
     "name": "stdout",
     "output_type": "stream",
     "text": [
      "7\n",
      "1 2 1 3 1 2 1\n",
      "4\n",
      "1 3\n",
      "1\n",
      "2 5\n",
      "0\n",
      "3 3\n",
      "1\n",
      "5 7\n",
      "1\n"
     ]
    }
   ],
   "source": [
    "#10942\n",
    "import sys\n",
    "input = sys.stdin.readline\n",
    "N = int(input())\n",
    "data = list(map(int, input().split()))\n",
    "dp = [[1] * N for _ in range(N)]\n",
    "#길이 3 => 1, 2, 3\n",
    "for k in range(2, N+1):\n",
    "    # 시작점\n",
    "    for i in range(N-k+1):\n",
    "        j = i + k -1\n",
    "        # i, j범위\n",
    "        if dp[i+1][j-1] and data[i] == data[j]:\n",
    "            dp[i][j] = 1\n",
    "        else:\n",
    "            dp[i][j] = 0\n",
    "for _ in range(int(input())):\n",
    "    n, m = map(int, input().split())\n",
    "    print(dp[n-1][m-1])"
   ]
  },
  {
   "cell_type": "markdown",
   "metadata": {},
   "source": [
    "## 문자열"
   ]
  },
  {
   "cell_type": "code",
   "execution_count": 52,
   "metadata": {},
   "outputs": [
    {
     "name": "stdout",
     "output_type": "stream",
     "text": [
      "A\n",
      "65\n"
     ]
    }
   ],
   "source": [
    "print(ord(input()))"
   ]
  },
  {
   "cell_type": "code",
   "execution_count": 53,
   "metadata": {
    "scrolled": true
   },
   "outputs": [
    {
     "name": "stdout",
     "output_type": "stream",
     "text": [
      "2\n",
      "3 ABC\n",
      "AAABBBCCC\n",
      "5 /HTP\n",
      "/////HHHHHTTTTTPPPPP\n"
     ]
    }
   ],
   "source": [
    "for _ in range(int(input())):\n",
    "    r, string = input().split()\n",
    "    r = int(r)\n",
    "    answer = \"\"\n",
    "    for el in string:\n",
    "        answer += el* r\n",
    "    print(answer)"
   ]
  },
  {
   "cell_type": "code",
   "execution_count": 62,
   "metadata": {},
   "outputs": [
    {
     "name": "stdout",
     "output_type": "stream",
     "text": [
      "baaa\n",
      "A\n"
     ]
    }
   ],
   "source": [
    "N = input().upper()\n",
    "dic = {}\n",
    "for el in N:\n",
    "    if dic.get(el):\n",
    "        dic[el] += 1\n",
    "    else:\n",
    "        dic[el] = 1\n",
    "dic = list(dic.items())\n",
    "dic.sort(key=lambda x:x[1], reverse=True)\n",
    "if len(dic) > 1 and  dic[0][1] == dic[1][1]:\n",
    "    print(\"?\")\n",
    "else:\n",
    "    print(dic[0][0])"
   ]
  },
  {
   "cell_type": "code",
   "execution_count": 68,
   "metadata": {},
   "outputs": [
    {
     "ename": "NameError",
     "evalue": "name 'reverse' is not defined",
     "output_type": "error",
     "traceback": [
      "\u001b[1;31m---------------------------------------------------------------------------\u001b[0m",
      "\u001b[1;31mNameError\u001b[0m                                 Traceback (most recent call last)",
      "\u001b[1;32m<ipython-input-68-85cb28374bc0>\u001b[0m in \u001b[0;36m<module>\u001b[1;34m\u001b[0m\n\u001b[0;32m      1\u001b[0m \u001b[0ma\u001b[0m \u001b[1;33m=\u001b[0m \u001b[1;34m\"asd\"\u001b[0m\u001b[1;33m\u001b[0m\u001b[1;33m\u001b[0m\u001b[0m\n\u001b[1;32m----> 2\u001b[1;33m \u001b[0mreverse\u001b[0m\u001b[1;33m(\u001b[0m\u001b[0ma\u001b[0m\u001b[1;33m)\u001b[0m\u001b[1;33m\u001b[0m\u001b[1;33m\u001b[0m\u001b[0m\n\u001b[0m",
      "\u001b[1;31mNameError\u001b[0m: name 'reverse' is not defined"
     ]
    }
   ],
   "source": [
    "a, b = input().split()\n",
    "a = int(a[::-1])\n",
    "b = int(b[::-1])\n",
    "print(max(a, b))"
   ]
  },
  {
   "cell_type": "code",
   "execution_count": 70,
   "metadata": {},
   "outputs": [
    {
     "name": "stdout",
     "output_type": "stream",
     "text": [
      "UNUCIC\n"
     ]
    }
   ],
   "source": [
    "N = input()\n",
    "dic = {}\n",
    "val = 2\n",
    "tmp = 0\n",
    "for i in range(ord(\"A\"), ord(\"Z\")+1):\n",
    "    dic[chr(i)] = val\n",
    "    tmp += 1\n",
    "    if val == 7 or val == 9:\n",
    "        if tmp == 4:\n",
    "            tmp = 0\n",
    "            val += 1\n",
    "    else:\n",
    "        if tmp == 3:\n",
    "            tmp = 0\n",
    "            val += 1\n",
    "answer = 0\n",
    "for el in N:\n",
    "    answer += dic[el] + 1\n",
    "print(answer)"
   ]
  },
  {
   "cell_type": "code",
   "execution_count": 84,
   "metadata": {},
   "outputs": [
    {
     "name": "stdout",
     "output_type": "stream",
     "text": [
      "nljj\n",
      "3\n"
     ]
    }
   ],
   "source": [
    "N = input()\n",
    "dic = {\"c=\": 1, \"c-\": 1, \"dz=\":1, \"d-\":1, \"lj\":1, \"nj\": 1, \"s=\":1, \"z=\":1}\n",
    "answer = 0\n",
    "tmp = 0\n",
    "for el in dic.keys():\n",
    "    dic[el] = N.count(el)\n",
    "    if el == \"z=\":\n",
    "        dic[el] -= dic[\"dz=\"]\n",
    "    answer += dic[el]\n",
    "    tmp += dic[el] * len(el)\n",
    "answer += (len(N) - tmp)\n",
    "print(answer)"
   ]
  },
  {
   "cell_type": "code",
   "execution_count": 86,
   "metadata": {},
   "outputs": [
    {
     "name": "stdout",
     "output_type": "stream",
     "text": [
      "4\n",
      "aba\n",
      "abab\n",
      "abcabc\n",
      "a\n",
      "False\n",
      "False\n",
      "False\n",
      "True\n",
      "1\n"
     ]
    }
   ],
   "source": [
    "#1316\n",
    "N = int(input())\n",
    "data = [input() for _ in range(N)]\n",
    "answer = 0\n",
    "for el in data:\n",
    "    isposs = True\n",
    "    dic = {}\n",
    "    idx = 0\n",
    "    while idx <= len(el)-1:\n",
    "        if dic.get(el[idx]):\n",
    "            isposs = False\n",
    "            break\n",
    "        dic[el[idx]] = 1\n",
    "        while idx + 1 <= len(el) -1 and el[idx] == el[idx+1]:\n",
    "            idx += 1\n",
    "        idx += 1\n",
    "    if isposs:\n",
    "        answer += 1\n",
    "print(answer)"
   ]
  },
  {
   "cell_type": "markdown",
   "metadata": {},
   "source": [
    "빽트래킹"
   ]
  },
  {
   "cell_type": "code",
   "execution_count": null,
   "metadata": {},
   "outputs": [],
   "source": [
    "# 9663\n",
    "#방향 백터 (밑으로만)\n",
    "dx = [1, 1, 1]\n",
    "dy = [1, 0, -1]\n",
    "\n",
    "def check(n, m):\n",
    "    tmp = []\n",
    "    for i in range(3):\n",
    "        x, y = n, m\n",
    "        while 0 <= x <= N-1 and 0 <= y <= N-1:\n",
    "            visited[x][y] += 1\n",
    "            tmp.append([x, y])\n",
    "            x, y = x + dx[i], y + dy[i]\n",
    "    return tmp\n",
    "\n",
    "#검열 필요한 라인\n",
    "def DFS(idx):\n",
    "    global answer\n",
    "    if idx == N:\n",
    "        answer += 1\n",
    "        return\n",
    "    for i in range(N):\n",
    "        if visited[idx][i] == 0:\n",
    "            # 체크한 곳\n",
    "            tmp = check(idx, i)\n",
    "            DFS(idx+1)\n",
    "            #체크 해제\n",
    "            for n, m in tmp:\n",
    "                visited[n][m] -= 1\n",
    "    \n",
    "N = int(input())\n",
    "# 퀸을 세울 수 있는 영역인가\n",
    "visited =[[0] * N for _ in range(N)]\n",
    "answer = 0\n",
    "DFS(0)\n",
    "print(answer)"
   ]
  },
  {
   "cell_type": "code",
   "execution_count": 29,
   "metadata": {},
   "outputs": [
    {
     "name": "stdout",
     "output_type": "stream",
     "text": [
      "6\n",
      "1 2 3 4 5 6\n",
      "2 1 1 1\n",
      "54\n",
      "-24\n"
     ]
    }
   ],
   "source": [
    "#14888\n",
    "# data, 처리된연산계수 계산된 val\n",
    "def DFS(data, num, val):\n",
    "    global mx\n",
    "    global mn\n",
    "    if num == N-1:\n",
    "        mx = max(mx, val)\n",
    "        mn = min(mn, val)\n",
    "        return\n",
    "    for i in range(4):\n",
    "        if visited[i] != 0:\n",
    "            visited[i] -= 1\n",
    "            tmp = val\n",
    "            if i == 0:\n",
    "                tmp += data[num+1]\n",
    "            elif i == 1:\n",
    "                tmp -= data[num+1]\n",
    "            elif i == 2:\n",
    "                tmp *= data[num+1]\n",
    "            elif i == 3:\n",
    "                tmp = abs(val) // data[num+1]\n",
    "                if val < 0:\n",
    "                    tmp = -tmp\n",
    "                \n",
    "            DFS(data, num+1, tmp)\n",
    "            visited[i] += 1\n",
    "            \n",
    "N = int(input())\n",
    "data = list(map(int, input().split()))\n",
    "# idx 덧 뺄 곱 나\n",
    "visited = list(map(int, input().split()))\n",
    "\n",
    "mx = -1000000001\n",
    "mn = +1000000001\n",
    "DFS(data, 0, data[0])\n",
    "print(mx)\n",
    "print(mn)"
   ]
  },
  {
   "cell_type": "code",
   "execution_count": 27,
   "metadata": {},
   "outputs": [
    {
     "data": {
      "text/plain": [
       "0"
      ]
     },
     "execution_count": 27,
     "metadata": {},
     "output_type": "execute_result"
    }
   ],
   "source": [
    "1 // 3"
   ]
  },
  {
   "cell_type": "markdown",
   "metadata": {},
   "source": [
    "## 재귀"
   ]
  },
  {
   "cell_type": "code",
   "execution_count": 2,
   "metadata": {},
   "outputs": [
    {
     "name": "stdout",
     "output_type": "stream",
     "text": [
      "10\n",
      "55\n"
     ]
    }
   ],
   "source": [
    "#10870\n",
    "N = int(input())\n",
    "dp = [0] * (N+1)\n",
    "if N == 0:\n",
    "    print(0)\n",
    "else:\n",
    "    dp[1] = 1\n",
    "    for i in range(2, N+1):\n",
    "        dp[i] = dp[i-1] + dp[i-2]\n",
    "    print(dp[N])"
   ]
  },
  {
   "cell_type": "markdown",
   "metadata": {},
   "source": [
    "## 브루트 포스"
   ]
  },
  {
   "cell_type": "code",
   "execution_count": 4,
   "metadata": {},
   "outputs": [
    {
     "name": "stdout",
     "output_type": "stream",
     "text": [
      "10 500\n",
      "93 181 245 214 315 36 185 138 216 295\n",
      "497\n"
     ]
    }
   ],
   "source": [
    "#2798\n",
    "from itertools import combinations\n",
    "\n",
    "# 은근히 쉬울 것 같지만 묘수가 없다\n",
    "N, M = map(int, input().split())\n",
    "data = list(map(int, input().split()))\n",
    "data = list(combinations(data, 3))\n",
    "#차이\n",
    "answer = M\n",
    "for el in data:\n",
    "    tmp = sum(el)\n",
    "    if tmp <= M:\n",
    "        answer = min(answer, M - tmp)\n",
    "\n",
    "print(M-answer)"
   ]
  },
  {
   "cell_type": "code",
   "execution_count": 14,
   "metadata": {},
   "outputs": [
    {
     "name": "stdout",
     "output_type": "stream",
     "text": [
      "1\n",
      "0\n"
     ]
    }
   ],
   "source": [
    "#2231\n",
    "#역시 쉬울것같은데 묘수가 없네...\n",
    "#어 N이 백만? 근데 1초? 시간 개남네?\n",
    "N = int(input())\n",
    "answer = 0\n",
    "for i in range(1, N+1):\n",
    "    tmp = i\n",
    "    tmp += sum(list(map(int, str(i))))\n",
    "    if tmp == N:\n",
    "        answer = i\n",
    "        break\n",
    "if answer == 0:\n",
    "    print(0)\n",
    "else:\n",
    "    print(answer)"
   ]
  },
  {
   "cell_type": "code",
   "execution_count": 9,
   "metadata": {},
   "outputs": [
    {
     "data": {
      "text/plain": [
       "[1, 9, 8]"
      ]
     },
     "execution_count": 9,
     "metadata": {},
     "output_type": "execute_result"
    }
   ],
   "source": [
    "list(map(int, \"198\"))"
   ]
  },
  {
   "cell_type": "code",
   "execution_count": null,
   "metadata": {},
   "outputs": [],
   "source": []
  }
 ],
 "metadata": {
  "kernelspec": {
   "display_name": "Python 3",
   "language": "python",
   "name": "python3"
  },
  "language_info": {
   "codemirror_mode": {
    "name": "ipython",
    "version": 3
   },
   "file_extension": ".py",
   "mimetype": "text/x-python",
   "name": "python",
   "nbconvert_exporter": "python",
   "pygments_lexer": "ipython3",
   "version": "3.7.3"
  }
 },
 "nbformat": 4,
 "nbformat_minor": 4
}
