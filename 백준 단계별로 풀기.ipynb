{
 "cells": [
  {
   "cell_type": "markdown",
   "metadata": {},
   "source": [
    "## BFS/DFS"
   ]
  },
  {
   "cell_type": "code",
   "execution_count": 3,
   "metadata": {},
   "outputs": [
    {
     "name": "stdout",
     "output_type": "stream",
     "text": [
      "7\n",
      "6\n",
      "1 2\n",
      "2 3\n",
      "1 5\n",
      "5 2\n",
      "5 6\n",
      "4 7\n",
      "4\n"
     ]
    }
   ],
   "source": [
    "# 2606\n",
    "from collections import deque\n",
    "N = int(input())\n",
    "graph = [[] for _ in range(N+1)]\n",
    "for _ in range(int(input())):\n",
    "    n, m = map(int, input().split())\n",
    "    graph[n].append(m)\n",
    "    graph[m].append(n)\n",
    "\n",
    "visited = [0] * (N+1)\n",
    "que = deque([1])\n",
    "visited[1] = 1\n",
    "ans = 0\n",
    "while que:\n",
    "    node = que.popleft()\n",
    "    \n",
    "    for el in graph[node]:\n",
    "        if visited[el] == 0:\n",
    "            que.append(el)\n",
    "            visited[el] = 1\n",
    "            ans += 1\n",
    "print(ans)"
   ]
  },
  {
   "cell_type": "markdown",
   "metadata": {},
   "source": [
    "## 그리드"
   ]
  },
  {
   "cell_type": "code",
   "execution_count": 20,
   "metadata": {},
   "outputs": [
    {
     "name": "stdout",
     "output_type": "stream",
     "text": [
      "55-50+40\n",
      "-35\n"
     ]
    }
   ],
   "source": [
    "#1541\n",
    "N = input()\n",
    "data = N.split(\"-\")\n",
    "answer = sum([int(el) for el in data[0].split(\"+\")])\n",
    "for i in range(1, len(data)):\n",
    "    answer -= sum([int(el) for el in data[i].split(\"+\")])\n",
    "print(answer)"
   ]
  },
  {
   "cell_type": "code",
   "execution_count": 23,
   "metadata": {},
   "outputs": [
    {
     "name": "stdout",
     "output_type": "stream",
     "text": [
      "4\n",
      "3 3 4\n",
      "1 1 1 1\n",
      "10\n"
     ]
    }
   ],
   "source": [
    "N = int(input())\n",
    "distance = list(map(int, input().split()))\n",
    "data = list(map(int, input().split()))\n",
    "# 시작 노드(시작 도시)\n",
    "node = 0\n",
    "answer = 0\n",
    "while True:\n",
    "    #현재 노드보다 작은놈 있는 곳까지 이동 가능 이동하면서 비용 계산\n",
    "    isposs = False\n",
    "    for i in range(node+1, N):\n",
    "        # 비용계산\n",
    "        answer += data[node] * distance[i-1]\n",
    "        if data[node] > data[i]:\n",
    "            node = i\n",
    "            isposs = True\n",
    "            break\n",
    "    if not isposs:\n",
    "        break\n",
    "print(answer)"
   ]
  },
  {
   "cell_type": "code",
   "execution_count": 33,
   "metadata": {},
   "outputs": [
    {
     "name": "stdout",
     "output_type": "stream",
     "text": [
      "11\n",
      "3\n"
     ]
    }
   ],
   "source": [
    "# 2839\n",
    "N = int(input())\n",
    "mx = N // 5\n",
    "mn = 0\n",
    "# mx하고남은 설탕\n",
    "tmp = N - (mx * 5)\n",
    "isposs = False\n",
    "while mx > -1:\n",
    "    if tmp % 3 == 0:\n",
    "        mn = tmp // 3\n",
    "        isposs = True\n",
    "        break\n",
    "    mx -= 1\n",
    "    tmp += 5\n",
    "if isposs:\n",
    "    print(mx + mn)\n",
    "else:\n",
    "    print(-1)"
   ]
  },
  {
   "cell_type": "code",
   "execution_count": 40,
   "metadata": {},
   "outputs": [
    {
     "name": "stdout",
     "output_type": "stream",
     "text": [
      "2\n",
      "AB\n",
      "BA\n",
      "187\n"
     ]
    }
   ],
   "source": [
    "N = int(input())\n",
    "words = [input() for _ in range(N)]\n",
    "score = {}\n",
    "#각 알파벳별 점수 기록\n",
    "for el in words:\n",
    "    for i in range(len(el)):\n",
    "        # 10 곱할 단위\n",
    "        tmp = len(el) - 1 - i\n",
    "        if score.get(el[i]):\n",
    "            score[el[i]] += (10 ** tmp)\n",
    "        else:\n",
    "            score[el[i]]= (10 ** tmp)\n",
    "# socre를 list로\n",
    "data = []\n",
    "for key, val in score.items():\n",
    "    data.append([val, key])\n",
    "data.sort(reverse=True)\n",
    "# 다시 dic으로\n",
    "score = {}\n",
    "tmp = 9\n",
    "for val, key in data:\n",
    "    score[key] = tmp\n",
    "    tmp -= 1\n",
    "answer = 0\n",
    "for el in words:\n",
    "    tmp = \"\"\n",
    "    for e in el:\n",
    "        tmp += str(score[e])\n",
    "    answer += int(tmp)\n",
    "print(answer)"
   ]
  },
  {
   "cell_type": "code",
   "execution_count": null,
   "metadata": {},
   "outputs": [],
   "source": []
  }
 ],
 "metadata": {
  "kernelspec": {
   "display_name": "Python 3",
   "language": "python",
   "name": "python3"
  },
  "language_info": {
   "codemirror_mode": {
    "name": "ipython",
    "version": 3
   },
   "file_extension": ".py",
   "mimetype": "text/x-python",
   "name": "python",
   "nbconvert_exporter": "python",
   "pygments_lexer": "ipython3",
   "version": "3.7.3"
  }
 },
 "nbformat": 4,
 "nbformat_minor": 4
}
