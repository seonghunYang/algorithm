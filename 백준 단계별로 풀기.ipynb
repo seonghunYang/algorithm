{
 "cells": [
  {
   "cell_type": "markdown",
   "metadata": {},
   "source": [
    "## BFS/DFS"
   ]
  },
  {
   "cell_type": "code",
   "execution_count": null,
   "metadata": {},
   "outputs": [
    {
     "name": "stdout",
     "output_type": "stream",
     "text": [
      "7\n",
      "6\n"
     ]
    }
   ],
   "source": [
    "# 2606\n",
    "from collections import deque\n",
    "N = int(input())\n",
    "graph = [[] for _ in range(N+1)]\n",
    "for _ in range(int(input())):\n",
    "    n, m = map(int, input().split())\n",
    "    graph[n].append(m)\n",
    "    graph[m].append(n)\n",
    "\n",
    "visited = [0] * (N+1)\n",
    "que = deque([1])\n",
    "visited[1] = 1\n",
    "ans = 0\n",
    "while que:\n",
    "    node = que.popleft()\n",
    "    \n",
    "    for el in graph[node]:\n",
    "        if visited[el] == 0:\n",
    "            que.append(el)\n",
    "            visited[el] = 1\n",
    "            ans += 1\n",
    "print(ans)"
   ]
  },
  {
   "cell_type": "code",
   "execution_count": null,
   "metadata": {},
   "outputs": [],
   "source": []
  }
 ],
 "metadata": {
  "kernelspec": {
   "display_name": "Python 3",
   "language": "python",
   "name": "python3"
  },
  "language_info": {
   "codemirror_mode": {
    "name": "ipython",
    "version": 3
   },
   "file_extension": ".py",
   "mimetype": "text/x-python",
   "name": "python",
   "nbconvert_exporter": "python",
   "pygments_lexer": "ipython3",
   "version": "3.7.3"
  }
 },
 "nbformat": 4,
 "nbformat_minor": 4
}
