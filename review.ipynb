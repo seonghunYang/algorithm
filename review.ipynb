{
 "cells": [
  {
   "cell_type": "code",
   "execution_count": null,
   "metadata": {},
   "outputs": [],
   "source": [
    "#10951\n",
    "import sys\n",
    "input = sys.stdin.readline\n",
    "print = sys.stdout.write\n",
    "\n",
    "while True:\n",
    "    try:\n",
    "        a, b = map(int, input().split())\n",
    "        print(str(a+b) + \"\\n\")\n",
    "    except:\n",
    "        break"
   ]
  },
  {
   "cell_type": "code",
   "execution_count": null,
   "metadata": {},
   "outputs": [],
   "source": [
    "#11022\n",
    "import sys\n",
    "input = sys.stdin.readline\n",
    "print = sys.stdout.write\n",
    "\n",
    "N = int(input())\n",
    "\n",
    "for i in range(1, N+1):\n",
    "    a, b = map(int, input().split())\n",
    "    print(\"Case #{0}: {1} + {2} = {3}\".format(i, a, b, a+b) + \"\\n\")"
   ]
  },
  {
   "cell_type": "code",
   "execution_count": null,
   "metadata": {},
   "outputs": [],
   "source": [
    "#11718\n",
    "\n",
    "while True:\n",
    "    try:\n",
    "        print(input())\n",
    "    except:\n",
    "        break"
   ]
  },
  {
   "cell_type": "code",
   "execution_count": null,
   "metadata": {},
   "outputs": [],
   "source": [
    "#1463\n",
    "\n",
    "import sys\n",
    "input = sys.stdin.readline\n",
    "print = sys.stdout.write\n",
    "\n",
    "N = int(input())\n",
    "\n",
    "dp = [0 for _ in range(N+1)]\n",
    "\n",
    "for i in range(2, N+1):\n",
    "    if i % 2 == 0 and i % 3 == 0:\n",
    "        dp[i] = 1 + min(dp[i//2], dp[i//3], dp[i-1])\n",
    "    elif i % 2 == 0:\n",
    "        dp[i] = 1 + min(dp[i//2], dp[i-1])\n",
    "    elif i % 3 == 0:\n",
    "        dp[i] = 1 + min(dp[i//3], dp[i-1])\n",
    "    else:\n",
    "        dp[i] = 1 + dp[i-1]\n",
    "        \n",
    "print(str(dp[N]))"
   ]
  },
  {
   "cell_type": "code",
   "execution_count": 3,
   "metadata": {},
   "outputs": [
    {
     "name": "stdout",
     "output_type": "stream",
     "text": [
      "3\n",
      "5"
     ]
    }
   ],
   "source": [
    "#11727\n",
    "\n",
    "import sys\n",
    "# input = sys.stdin.readline\n",
    "print = sys.stdout.write\n",
    "\n",
    "N = int(input())\n",
    "\n",
    "dp = [1 for _ in range(1001)]\n",
    "\n",
    "dp[2] = 3\n",
    "\n",
    "for i in range(3, N+1):\n",
    "    dp[i] = dp[i-1] + dp[i-2] * 2\n",
    "    \n",
    "print(str(dp[N] % 10007))"
   ]
  },
  {
   "cell_type": "code",
   "execution_count": 4,
   "metadata": {},
   "outputs": [
    {
     "name": "stdout",
     "output_type": "stream",
     "text": [
      "1\n"
     ]
    },
    {
     "ename": "TypeError",
     "evalue": "unsupported operand type(s) for %: 'list' and 'int'",
     "output_type": "error",
     "traceback": [
      "\u001b[1;31m---------------------------------------------------------------------------\u001b[0m",
      "\u001b[1;31mTypeError\u001b[0m                                 Traceback (most recent call last)",
      "\u001b[1;32m<ipython-input-4-87b44a8ecfd7>\u001b[0m in \u001b[0;36m<module>\u001b[1;34m\u001b[0m\n\u001b[0;32m     15\u001b[0m         \u001b[0mdp\u001b[0m\u001b[1;33m[\u001b[0m\u001b[0mi\u001b[0m\u001b[1;33m]\u001b[0m\u001b[1;33m[\u001b[0m\u001b[0mj\u001b[0m\u001b[1;33m]\u001b[0m \u001b[1;33m=\u001b[0m \u001b[0mdp\u001b[0m\u001b[1;33m[\u001b[0m\u001b[0mi\u001b[0m\u001b[1;33m-\u001b[0m\u001b[1;36m1\u001b[0m\u001b[1;33m]\u001b[0m\u001b[1;33m[\u001b[0m\u001b[0mj\u001b[0m\u001b[1;33m+\u001b[0m\u001b[1;36m1\u001b[0m\u001b[1;33m]\u001b[0m \u001b[1;33m+\u001b[0m \u001b[0mdp\u001b[0m\u001b[1;33m[\u001b[0m\u001b[0mi\u001b[0m\u001b[1;33m-\u001b[0m\u001b[1;36m1\u001b[0m\u001b[1;33m]\u001b[0m\u001b[1;33m[\u001b[0m\u001b[0mj\u001b[0m\u001b[1;33m+\u001b[0m\u001b[1;36m1\u001b[0m\u001b[1;33m]\u001b[0m\u001b[1;33m\u001b[0m\u001b[1;33m\u001b[0m\u001b[0m\n\u001b[0;32m     16\u001b[0m     \u001b[0mdp\u001b[0m\u001b[1;33m[\u001b[0m\u001b[0mi\u001b[0m\u001b[1;33m]\u001b[0m\u001b[1;33m[\u001b[0m\u001b[1;36m9\u001b[0m\u001b[1;33m]\u001b[0m \u001b[1;33m=\u001b[0m \u001b[0mdp\u001b[0m\u001b[1;33m[\u001b[0m\u001b[0mi\u001b[0m\u001b[1;33m-\u001b[0m\u001b[1;36m1\u001b[0m\u001b[1;33m]\u001b[0m\u001b[1;33m[\u001b[0m\u001b[1;36m8\u001b[0m\u001b[1;33m]\u001b[0m\u001b[1;33m\u001b[0m\u001b[1;33m\u001b[0m\u001b[0m\n\u001b[1;32m---> 17\u001b[1;33m \u001b[0mprint\u001b[0m\u001b[1;33m(\u001b[0m\u001b[0mstr\u001b[0m\u001b[1;33m(\u001b[0m\u001b[0msum\u001b[0m\u001b[1;33m(\u001b[0m\u001b[0mdp\u001b[0m\u001b[1;33m[\u001b[0m\u001b[0mN\u001b[0m\u001b[1;33m]\u001b[0m \u001b[1;33m%\u001b[0m \u001b[1;36m1000000000\u001b[0m\u001b[1;33m)\u001b[0m\u001b[1;33m)\u001b[0m\u001b[1;33m)\u001b[0m\u001b[1;33m\u001b[0m\u001b[1;33m\u001b[0m\u001b[0m\n\u001b[0m",
      "\u001b[1;31mTypeError\u001b[0m: unsupported operand type(s) for %: 'list' and 'int'"
     ]
    }
   ],
   "source": [
    "#10844\n",
    "\n",
    "import sys\n",
    "# input = sys.stdin.readline\n",
    "print = sys.stdout.write\n",
    "\n",
    "N = int(input())\n",
    "\n",
    "dp = [[1] * 10 for _ in range(N+1)]\n",
    "dp[1][0] = 0\n",
    "\n",
    "for i in range(2, N+1):\n",
    "    dp[i][0] = dp[i-1][1]\n",
    "    for j in range(1, 9):\n",
    "        dp[i][j] = dp[i-1][j+1] + dp[i-1][j-1]\n",
    "    dp[i][9] = dp[i-1][8]\n",
    "    \n",
    "print(str(sum(dp[N]) % 1000000000))"
   ]
  },
  {
   "cell_type": "code",
   "execution_count": 5,
   "metadata": {},
   "outputs": [
    {
     "name": "stdout",
     "output_type": "stream",
     "text": [
      "3\n",
      "220"
     ]
    }
   ],
   "source": [
    "# 11057\n",
    "import sys\n",
    "input = sys.stdin.readline\n",
    "print = sys.stdout.write\n",
    "\n",
    "N = int(input())\n",
    "\n",
    "dp = [[1] * 10 for _ in range(N+1)]\n",
    "\n",
    "for i in range(2, N+1):\n",
    "    dp[i][0] = dp[i-1][0]\n",
    "    for j in range(1, 10):\n",
    "        dp[i][j] = dp[i][j-1] + dp[i-1][j]\n",
    "\n",
    "print(str(sum(dp[N]) % 10007))"
   ]
  },
  {
   "cell_type": "code",
   "execution_count": 9,
   "metadata": {},
   "outputs": [
    {
     "name": "stdout",
     "output_type": "stream",
     "text": [
      "6\n",
      "6\n",
      "10\n",
      "13\n",
      "9\n",
      "8\n",
      "1\n",
      "33"
     ]
    }
   ],
   "source": [
    "#2156\n",
    "\n",
    "import sys\n",
    "input = sys.stdin.readline\n",
    "print = sys.stdout.write\n",
    "\n",
    "N = int(input())\n",
    "\n",
    "data = [0] + [int(input()) for _ in range(N)]\n",
    "\n",
    "dp = [0 for _ in range(N+1)]\n",
    "dp[1] = data[1]\n",
    "\n",
    "if N >=2:\n",
    "    dp[2] = data[1] + data[2]\n",
    "\n",
    "for i in range(3, N+1):\n",
    "    dp[i] = max(dp[i-2] + data[i], dp[i-3] + data[i-1] + data[i], dp[i-1])\n",
    "    \n",
    "print(str(dp[N]))\n"
   ]
  },
  {
   "cell_type": "code",
   "execution_count": 4,
   "metadata": {},
   "outputs": [
    {
     "name": "stdout",
     "output_type": "stream",
     "text": [
      "6\n",
      "10 20 30 10 40 50\n"
     ]
    },
    {
     "ename": "TypeError",
     "evalue": "'int' object is not iterable",
     "output_type": "error",
     "traceback": [
      "\u001b[1;31m---------------------------------------------------------------------------\u001b[0m",
      "\u001b[1;31mTypeError\u001b[0m                                 Traceback (most recent call last)",
      "\u001b[1;32m<ipython-input-4-a9cba1e1453b>\u001b[0m in \u001b[0;36m<module>\u001b[1;34m\u001b[0m\n\u001b[0;32m     16\u001b[0m             \u001b[0mdp\u001b[0m\u001b[1;33m[\u001b[0m\u001b[0mi\u001b[0m\u001b[1;33m]\u001b[0m \u001b[1;33m=\u001b[0m \u001b[0mmax\u001b[0m\u001b[1;33m(\u001b[0m\u001b[0mdp\u001b[0m\u001b[1;33m[\u001b[0m\u001b[0mi\u001b[0m\u001b[1;33m]\u001b[0m\u001b[1;33m,\u001b[0m \u001b[0mdp\u001b[0m\u001b[1;33m[\u001b[0m\u001b[0mj\u001b[0m\u001b[1;33m]\u001b[0m \u001b[1;33m+\u001b[0m \u001b[1;36m1\u001b[0m\u001b[1;33m)\u001b[0m\u001b[1;33m\u001b[0m\u001b[1;33m\u001b[0m\u001b[0m\n\u001b[0;32m     17\u001b[0m \u001b[1;33m\u001b[0m\u001b[0m\n\u001b[1;32m---> 18\u001b[1;33m \u001b[0mprint\u001b[0m\u001b[1;33m(\u001b[0m\u001b[0mstr\u001b[0m\u001b[1;33m(\u001b[0m\u001b[0mmax\u001b[0m\u001b[1;33m(\u001b[0m\u001b[0mdp\u001b[0m\u001b[1;33m[\u001b[0m\u001b[0mN\u001b[0m\u001b[1;33m]\u001b[0m\u001b[1;33m)\u001b[0m\u001b[1;33m)\u001b[0m\u001b[1;33m)\u001b[0m\u001b[1;33m\u001b[0m\u001b[1;33m\u001b[0m\u001b[0m\n\u001b[0m",
      "\u001b[1;31mTypeError\u001b[0m: 'int' object is not iterable"
     ]
    }
   ],
   "source": [
    "#11053\n",
    "\n",
    "import sys\n",
    "# input = sys.stdin.readline\n",
    "print = sys.stdout.write\n",
    "\n",
    "N = int(input())\n",
    "\n",
    "data = [0] + list(map(int, input().split()))\n",
    "\n",
    "dp = [1 for _ in range(N+1)]\n",
    "\n",
    "for i in range(2, N+1):\n",
    "    for j in range(1, i):\n",
    "        if data[i] > data[j]:\n",
    "            dp[i] = max(dp[i], dp[j] + 1)\n",
    "\n",
    "print(str(max(dp)))"
   ]
  },
  {
   "cell_type": "code",
   "execution_count": 1,
   "metadata": {},
   "outputs": [
    {
     "name": "stdout",
     "output_type": "stream",
     "text": [
      "6\n",
      "10 20 10 30 20 50\n",
      "4"
     ]
    }
   ],
   "source": [
    "#11053\n",
    "import sys\n",
    "# input = sys.stdin.readline\n",
    "print = sys.stdout.write\n",
    "\n",
    "N = int(input())\n",
    "data = [0] + list(map(int, input().split()))\n",
    "\n",
    "dp = [1 for _ in range(N+1)]\n",
    "\n",
    "for i in range(2, N+1):\n",
    "    for j in range(1, i):\n",
    "        if data[i] > data[j]:\n",
    "            dp[i] = max(dp[i], dp[j] + 1)\n",
    "\n",
    "print(str(max(dp)))\n",
    "\n",
    "# 초기값 설정에 대한 중요성\n",
    "# 모든 조건 잊지말자!"
   ]
  },
  {
   "cell_type": "code",
   "execution_count": 10,
   "metadata": {},
   "outputs": [
    {
     "name": "stdout",
     "output_type": "stream",
     "text": [
      "7\n",
      "4"
     ]
    }
   ],
   "source": [
    "#1699\n",
    "\n",
    "import sys\n",
    "# input = sys.stdin.readline\n",
    "print = sys.stdout.write\n",
    "\n",
    "N = int(input())\n",
    "\n",
    "dp = [0 for _ in range(N+1)]\n",
    "dp[1] = 1\n",
    "for i in range(2, N+1):\n",
    "    dp[i] = dp[i-1] + 1\n",
    "    for j in range(2, N+1):\n",
    "        if j ** 2 > i:\n",
    "            break\n",
    "        dp[i] = min(dp[i], dp[i-j ** 2] + 1)\n",
    "\n",
    "print(str(dp[N]))\n",
    "\n",
    "# dp중 익숙치 않은 유형, 내부에 반복문을 포함하는 유형이다.\n",
    "# 그리디랑 헷갈려서는 안된다 그리디와 동적프로그래밍의 차이를 알아야한다\n",
    "# 그리디는 최대(최소) 선택시 값이 보장되며 동적은 포장되지 않기 때문에 모든 요소를 고려해야한다"
   ]
  },
  {
   "cell_type": "code",
   "execution_count": 11,
   "metadata": {},
   "outputs": [
    {
     "name": "stdout",
     "output_type": "stream",
     "text": [
      "20 2\n",
      "21"
     ]
    }
   ],
   "source": [
    "#2225\n",
    "import sys\n",
    "# input = sys.stdin.readline\n",
    "print = sys.stdout.write\n",
    "\n",
    "N, K = map(int, input().split())\n",
    "\n",
    "dp = [[1 for _ in range(K+1)] for _ in range(N+1)]\n",
    "\n",
    "for i in range(1, N+1):\n",
    "    for j in range(2, K+1):\n",
    "        tmp = 0\n",
    "        for k in range(0, i+1):\n",
    "            tmp += dp[k][j-1]\n",
    "        dp[i][j] = tmp\n",
    "        \n",
    "print(str(dp[N][K] % 1000000000))\n",
    "\n",
    "# 3번째 for문의 내용이 중복인 것을 알아야한다."
   ]
  },
  {
   "cell_type": "code",
   "execution_count": null,
   "metadata": {},
   "outputs": [],
   "source": [
    "#2225\n",
    "import sys\n",
    "# input = sys.stdin.readline\n",
    "print = sys.stdout.write\n",
    "\n",
    "N, K = map(int, input().split())\n",
    "\n",
    "dp = [[1 for _ in range(K+1)] for _ in range(N+1)]\n",
    "\n",
    "for i in range(1, N+1):\n",
    "    for j in range(2, K+1):\n",
    "        dp[i][j] = dp[i-1][j] + dp[i][j-1]\n",
    "        \n",
    "print(str(dp[N][K] % 1000000000))\n",
    "\n",
    "# 타일 유형과 비슷한 느낌을 받을 수 있다\n",
    "# 그려봐서 패턴을 찾는 것도 방법\n",
    "# 2차원 2p는 순서가 한정될 수 밖에 없다\n",
    "# dp는 중복된 계싼을 줄이는게 중요하다\n",
    "# 이유를 알고 그리는게 중요하다"
   ]
  },
  {
   "cell_type": "code",
   "execution_count": null,
   "metadata": {},
   "outputs": [],
   "source": [
    "#2011\n",
    "\n",
    "import sys\n",
    "# input = sys.stdin.readline\n",
    "print = sys.stdout.write\n",
    "\n",
    "string = input().strip()\n",
    "N = len(string)\n",
    "\n",
    "dp = [0 for _ in range(5001)]\n",
    "dp[0] = 1\n",
    "dp[1] = 1\n",
    "\n",
    "if string[0] == '0':\n",
    "    print(\"0\")\n",
    "else:\n",
    "    for i in range(2, N+1):\n",
    "        if int(string[i-1]) > 0:\n",
    "            dp[i] += dp[i-1]\n",
    "\n",
    "        tmp = int(string[i-1]) + int(string[i-2]) * 10\n",
    "        if 10 <= tmp and 26 >= tmp:\n",
    "            dp[i] += dp[i-2]\n",
    "\n",
    "    print(str(dp[N] % 1000000))"
   ]
  },
  {
   "cell_type": "code",
   "execution_count": null,
   "metadata": {},
   "outputs": [],
   "source": [
    "# 11651\n",
    "\n",
    "import sys\n",
    "# input = sys.stdin.readline\n",
    "print = sys.stdout.write\n",
    "\n",
    "N = int(input())\n",
    "data = sorted([list(map(int, input().split())) for _ in range(N)], key = lambda x: x[0])\n",
    "data.sort(key = lambda x: x[1])\n",
    "\n",
    "for i in range(N): print(\"{} {}\".format(data[i][0], data[i][1])+\"\\n\")"
   ]
  },
  {
   "cell_type": "code",
   "execution_count": null,
   "metadata": {},
   "outputs": [],
   "source": [
    "#10814\n",
    "import sys\n",
    "# input = sys.stdin.readline\n",
    "print = sys.stdout.write\n",
    "\n",
    "N = int(input())\n",
    "data= []\n",
    "for _ in range(N):\n",
    "    age, name = input().split()\n",
    "    data.append([int(age), name])\n",
    "data.sort(key=lambda x: x[0])\n",
    "\n",
    "for i in range(N): print(\"{} {}\".format(data[i][0], data[i][1])+\"\\n\")"
   ]
  },
  {
   "cell_type": "code",
   "execution_count": 11,
   "metadata": {},
   "outputs": [
    {
     "name": "stdout",
     "output_type": "stream",
     "text": [
      "6\n",
      "1\n",
      "2\n",
      "1\n",
      "2\n",
      "1\n",
      "2\n",
      "1"
     ]
    }
   ],
   "source": [
    "#10814\n",
    "import sys\n",
    "# input = sys.stdin.readline\n",
    "print = sys.stdout.write\n",
    "\n",
    "N = int(input())\n",
    "count = {}\n",
    "for i in range(N):\n",
    "    s = int(input())\n",
    "    if s in count:\n",
    "        count[s] += 1\n",
    "    else:\n",
    "        count[s] = 1\n",
    "\n",
    "data = sorted(list(count.items()), key=lambda x: x[0], reverse=True)\n",
    "data.sort(key=lambda x:x[1])\n",
    "\n",
    "print(str(data[-1][0]))"
   ]
  },
  {
   "cell_type": "code",
   "execution_count": 12,
   "metadata": {},
   "outputs": [
    {
     "name": "stdout",
     "output_type": "stream",
     "text": [
      "2\n",
      "(())())\n",
      "NO\n",
      "(()())((()))\n",
      "YES\n"
     ]
    }
   ],
   "source": [
    "import sys\n",
    "# input = sys.stdin.readline\n",
    "print = sys.stdout.write\n",
    "\n",
    "N = int(input())\n",
    "\n",
    "for _ in range(N):\n",
    "    string = input().strip()\n",
    "    valid = True\n",
    "    stack = []\n",
    "    for i in range(len(string)):\n",
    "        if string[i] == \"(\":\n",
    "            stack.append(\"(\")\n",
    "        else:\n",
    "            if len(stack) == 0:\n",
    "                valid = False\n",
    "                break\n",
    "            else:\n",
    "                stack.pop()\n",
    "    if len(stack) != 0:\n",
    "        valid = False\n",
    "    \n",
    "    if valid:\n",
    "        print(\"YES\" + \"\\n\")\n",
    "    else:\n",
    "        print(\"NO\" + \"\\n\")"
   ]
  },
  {
   "cell_type": "code",
   "execution_count": 2,
   "metadata": {},
   "outputs": [
    {
     "name": "stdout",
     "output_type": "stream",
     "text": [
      "3 6\n",
      "111"
     ]
    }
   ],
   "source": [
    "#1850\n",
    "import sys\n",
    "# input = sys.stdin.readline\n",
    "print = sys.stdout.write\n",
    "\n",
    "a, b = map(int, input().split())\n",
    "\n",
    "if b > a:\n",
    "    a, b = b, a\n",
    "\n",
    "while b:\n",
    "    a, b = b, a % b\n",
    "print(\"1\" * a)"
   ]
  },
  {
   "cell_type": "code",
   "execution_count": 10,
   "metadata": {},
   "outputs": [
    {
     "name": "stdout",
     "output_type": "stream",
     "text": [
      "25114\n",
      "[1, 1, 2, 2, 4, 6]"
     ]
    }
   ],
   "source": [
    "#2011\n",
    "import sys\n",
    "# input = sys.stdin.readline\n",
    "print = sys.stdout.write\n",
    "\n",
    "data = [0] + list(map(int, \",\".join(input().strip()).split(\",\")))\n",
    "N = len(data) - 1\n",
    "dp = [0 for _ in range(N+1)]\n",
    "dp[0], dp[1] = 1, 1\n",
    "if data[1] == 0:\n",
    "    print(\"0\")\n",
    "else:\n",
    "    for i in range(2,N+1):\n",
    "        if data[i] > 0:\n",
    "            dp[i] += dp[i-1]\n",
    "        tmp = data[i] + data[i-1] * 10\n",
    "        if tmp >= 10 and tmp <= 26:\n",
    "            dp[i] += dp[i-2]\n",
    "    print(str(dp[-1]))"
   ]
  },
  {
   "cell_type": "code",
   "execution_count": 15,
   "metadata": {
    "scrolled": true
   },
   "outputs": [
    {
     "name": "stdout",
     "output_type": "stream",
     "text": [
      "1\n",
      "1"
     ]
    }
   ],
   "source": [
    "#2089\n",
    "import sys\n",
    "# input = sys.stdin.readline\n",
    "print = sys.stdout.write\n",
    "\n",
    "N = int(input())\n",
    "stack = []\n",
    "if N == 0:\n",
    "    print(\"0\")\n",
    "else:\n",
    "    while N != 0:\n",
    "        if N % -2 == 0:\n",
    "            stack.append(0)\n",
    "            N //= -2\n",
    "        else:\n",
    "            stack.append(1)\n",
    "            N = (N // -2) + 1\n",
    "\n",
    "\n",
    "    for i in range(len(stack)): print(str(stack.pop()))"
   ]
  },
  {
   "cell_type": "code",
   "execution_count": 18,
   "metadata": {},
   "outputs": [
    {
     "name": "stdout",
     "output_type": "stream",
     "text": [
      "2 5\n",
      "2\n",
      "3\n",
      "5\n"
     ]
    }
   ],
   "source": [
    "#1929\n",
    "import sys\n",
    "# input = sys.stdin.readline\n",
    "print = sys.stdout.write\n",
    "\n",
    "m, n = map(int, input().split())\n",
    "prime = [True for _ in range(n+1)]\n",
    "prime[1] = False\n",
    "for i in range(2, int(n**0.5)+1):\n",
    "    if prime[i]:\n",
    "        for j in range(i*2, n+1, i):\n",
    "            prime[j] = False\n",
    "            \n",
    "for i in range(m, n+1):\n",
    "    if prime[i]:\n",
    "        print(str(i)+\"\\n\")"
   ]
  },
  {
   "cell_type": "code",
   "execution_count": 22,
   "metadata": {},
   "outputs": [
    {
     "ename": "KeyboardInterrupt",
     "evalue": "Interrupted by user",
     "output_type": "error",
     "traceback": [
      "\u001b[1;31m---------------------------------------------------------------------------\u001b[0m",
      "\u001b[1;31mKeyboardInterrupt\u001b[0m                         Traceback (most recent call last)",
      "\u001b[1;32m<ipython-input-22-d7d7aec39c8c>\u001b[0m in \u001b[0;36m<module>\u001b[1;34m\u001b[0m\n\u001b[0;32m      6\u001b[0m \u001b[0mdata\u001b[0m \u001b[1;33m=\u001b[0m \u001b[1;33m[\u001b[0m\u001b[1;33m]\u001b[0m\u001b[1;33m\u001b[0m\u001b[1;33m\u001b[0m\u001b[0m\n\u001b[0;32m      7\u001b[0m \u001b[1;32mwhile\u001b[0m \u001b[1;32mTrue\u001b[0m\u001b[1;33m:\u001b[0m\u001b[1;33m\u001b[0m\u001b[1;33m\u001b[0m\u001b[0m\n\u001b[1;32m----> 8\u001b[1;33m     \u001b[0mn\u001b[0m \u001b[1;33m=\u001b[0m \u001b[0mint\u001b[0m\u001b[1;33m(\u001b[0m\u001b[0minput\u001b[0m\u001b[1;33m(\u001b[0m\u001b[1;33m)\u001b[0m\u001b[1;33m)\u001b[0m\u001b[1;33m\u001b[0m\u001b[1;33m\u001b[0m\u001b[0m\n\u001b[0m\u001b[0;32m      9\u001b[0m     \u001b[1;32mif\u001b[0m \u001b[0mn\u001b[0m \u001b[1;33m==\u001b[0m \u001b[1;36m0\u001b[0m\u001b[1;33m:\u001b[0m\u001b[1;33m\u001b[0m\u001b[1;33m\u001b[0m\u001b[0m\n\u001b[0;32m     10\u001b[0m         \u001b[1;32mbreak\u001b[0m\u001b[1;33m\u001b[0m\u001b[1;33m\u001b[0m\u001b[0m\n",
      "\u001b[1;32m~\\Anaconda3\\Lib\\site-packages\\ipykernel\\kernelbase.py\u001b[0m in \u001b[0;36mraw_input\u001b[1;34m(self, prompt)\u001b[0m\n\u001b[0;32m    861\u001b[0m             \u001b[0mself\u001b[0m\u001b[1;33m.\u001b[0m\u001b[0m_parent_ident\u001b[0m\u001b[1;33m,\u001b[0m\u001b[1;33m\u001b[0m\u001b[1;33m\u001b[0m\u001b[0m\n\u001b[0;32m    862\u001b[0m             \u001b[0mself\u001b[0m\u001b[1;33m.\u001b[0m\u001b[0m_parent_header\u001b[0m\u001b[1;33m,\u001b[0m\u001b[1;33m\u001b[0m\u001b[1;33m\u001b[0m\u001b[0m\n\u001b[1;32m--> 863\u001b[1;33m             \u001b[0mpassword\u001b[0m\u001b[1;33m=\u001b[0m\u001b[1;32mFalse\u001b[0m\u001b[1;33m,\u001b[0m\u001b[1;33m\u001b[0m\u001b[1;33m\u001b[0m\u001b[0m\n\u001b[0m\u001b[0;32m    864\u001b[0m         )\n\u001b[0;32m    865\u001b[0m \u001b[1;33m\u001b[0m\u001b[0m\n",
      "\u001b[1;32m~\\Anaconda3\\Lib\\site-packages\\ipykernel\\kernelbase.py\u001b[0m in \u001b[0;36m_input_request\u001b[1;34m(self, prompt, ident, parent, password)\u001b[0m\n\u001b[0;32m    902\u001b[0m             \u001b[1;32mexcept\u001b[0m \u001b[0mKeyboardInterrupt\u001b[0m\u001b[1;33m:\u001b[0m\u001b[1;33m\u001b[0m\u001b[1;33m\u001b[0m\u001b[0m\n\u001b[0;32m    903\u001b[0m                 \u001b[1;31m# re-raise KeyboardInterrupt, to truncate traceback\u001b[0m\u001b[1;33m\u001b[0m\u001b[1;33m\u001b[0m\u001b[1;33m\u001b[0m\u001b[0m\n\u001b[1;32m--> 904\u001b[1;33m                 \u001b[1;32mraise\u001b[0m \u001b[0mKeyboardInterrupt\u001b[0m\u001b[1;33m(\u001b[0m\u001b[1;34m\"Interrupted by user\"\u001b[0m\u001b[1;33m)\u001b[0m \u001b[1;32mfrom\u001b[0m \u001b[1;32mNone\u001b[0m\u001b[1;33m\u001b[0m\u001b[1;33m\u001b[0m\u001b[0m\n\u001b[0m\u001b[0;32m    905\u001b[0m             \u001b[1;32mexcept\u001b[0m \u001b[0mException\u001b[0m \u001b[1;32mas\u001b[0m \u001b[0me\u001b[0m\u001b[1;33m:\u001b[0m\u001b[1;33m\u001b[0m\u001b[1;33m\u001b[0m\u001b[0m\n\u001b[0;32m    906\u001b[0m                 \u001b[0mself\u001b[0m\u001b[1;33m.\u001b[0m\u001b[0mlog\u001b[0m\u001b[1;33m.\u001b[0m\u001b[0mwarning\u001b[0m\u001b[1;33m(\u001b[0m\u001b[1;34m\"Invalid Message:\"\u001b[0m\u001b[1;33m,\u001b[0m \u001b[0mexc_info\u001b[0m\u001b[1;33m=\u001b[0m\u001b[1;32mTrue\u001b[0m\u001b[1;33m)\u001b[0m\u001b[1;33m\u001b[0m\u001b[1;33m\u001b[0m\u001b[0m\n",
      "\u001b[1;31mKeyboardInterrupt\u001b[0m: Interrupted by user"
     ]
    }
   ],
   "source": [
    "#6588\n",
    "import sys\n",
    "# input = sys.stdin.readline\n",
    "print = sys.stdout.write\n",
    "\n",
    "data = []\n",
    "while True:\n",
    "    n = int(input())\n",
    "    if n == 0:\n",
    "        break\n",
    "    data.append(n)\n",
    "    \n",
    "s = max(data)\n",
    "prime = [True for _ in range(s+1)]\n",
    "prime[1] = False\n",
    "for i in range(2, int(s**0.5) + 1):\n",
    "    if prime[i]:\n",
    "        for j in range(i*2, s+1, i):\n",
    "            prime[j] = False\n",
    "    \n",
    "for el in data:\n",
    "    isprime = False\n",
    "    for a in range(3, el):\n",
    "        if prime[a]:\n",
    "            b = el - a\n",
    "            if prime[b]:\n",
    "                isprime = True\n",
    "                print(\"{0} = {1} + {2}\".format(el, a, b) +\"\\n\")\n",
    "                break\n",
    "    if not isprime:\n",
    "        print(\"Goldbach's conjecture is wrong.\" + \"\\n\")"
   ]
  },
  {
   "cell_type": "code",
   "execution_count": 25,
   "metadata": {},
   "outputs": [
    {
     "name": "stdout",
     "output_type": "stream",
     "text": [
      "7\n",
      "7"
     ]
    }
   ],
   "source": [
    "#11653\n",
    "import sys\n",
    "# input = sys.stdin.readline\n",
    "print = sys.stdout.write\n",
    "\n",
    "N = int(input())\n",
    "prime = 2\n",
    "while prime ** 2 <= N:\n",
    "    if N % prime == 0:\n",
    "        N //= prime\n",
    "        print(str(prime) + \"\\n\")\n",
    "    else:\n",
    "        prime += 1\n",
    "\n",
    "if N != 1:\n",
    "    print(str(N))\n",
    "        "
   ]
  },
  {
   "cell_type": "code",
   "execution_count": 28,
   "metadata": {},
   "outputs": [
    {
     "name": "stdout",
     "output_type": "stream",
     "text": [
      "3\n",
      "0"
     ]
    }
   ],
   "source": [
    "#1676\n",
    "\n",
    "import sys\n",
    "# input = sys.stdin.readline\n",
    "print = sys.stdout.write\n",
    "\n",
    "N = int(input())\n",
    "\n",
    "exp = 1\n",
    "count = 0\n",
    "while 5 ** exp <= N:\n",
    "    count += (N // 5 **exp)\n",
    "    exp += 1\n",
    "print(str(count))"
   ]
  },
  {
   "cell_type": "code",
   "execution_count": 15,
   "metadata": {
    "scrolled": true
   },
   "outputs": [
    {
     "name": "stdout",
     "output_type": "stream",
     "text": [
      "2\n",
      "3 2\n",
      "1 3\n",
      "2 3\n",
      "YES\n",
      "4 4\n",
      "1 2\n",
      "2 3\n",
      "3 4\n",
      "4 2\n",
      "NO\n"
     ]
    }
   ],
   "source": [
    "#1707\n",
    "from collections import deque\n",
    "import sys\n",
    "# input = sys.stdin.readline\n",
    "print = sys.stdout.write\n",
    "\n",
    "def BFS(node):\n",
    "    que = deque([node])\n",
    "    visited[node] = 0\n",
    "    \n",
    "    while que:\n",
    "        node = que.popleft()\n",
    "        for i in graph[node]:\n",
    "            if visited[i] == visited[node]:\n",
    "                return \"NO\"\n",
    "            if visited[i] == None:\n",
    "                que.append(i)\n",
    "                visited[i] = (visited[node] - 1) * (-1) \n",
    "    \n",
    "    return \"YES\"\n",
    "    \n",
    "K = int(input())\n",
    "for i in range(K):\n",
    "    V, E = map(int, input().split())\n",
    "    graph = [[] for _ in range(V+1)]\n",
    "    for i in range(E):\n",
    "        u, v = map(int, input().split())\n",
    "        graph[u].append(v)\n",
    "        graph[v].append(u)\n",
    "    visited = [None for _ in range(V+1)]\n",
    "    for i in range(1, V+1):\n",
    "        if visited[i] == None:\n",
    "            ans = BFS(i)\n",
    "            if ans == \"NO\":\n",
    "                break\n",
    "    print(ans+\"\\n\")"
   ]
  },
  {
   "cell_type": "code",
   "execution_count": 23,
   "metadata": {},
   "outputs": [
    {
     "name": "stdout",
     "output_type": "stream",
     "text": [
      "2\n",
      "7\n",
      "3 1 3 7 3 4 6\n",
      "[0, 3, 1, 3, 7, 3, 4, 6]\n",
      "[0, 1, 2, 1, 3, 4, 3, 3]\n",
      "3\n",
      "8\n",
      "1 2 3 4 5 6 7 8\n",
      "[0, 1, 2, 3, 4, 5, 6, 7, 8]\n",
      "[0, 1, 2, 3, 4, 5, 6, 7, 8]\n",
      "0\n"
     ]
    }
   ],
   "source": [
    "#9466\n",
    "import sys\n",
    "# input = sys.stdin.readline\n",
    "print = sys.stdout.write\n",
    "\n",
    "T = int(input())\n",
    "for i in range(T):\n",
    "    N = int(input())\n",
    "    data = [0] + list(map(int, input().split()))\n",
    "    graph = [ 0 for _ in range(N+1) ]\n",
    "    for i in range(1, N+1):\n",
    "        graph[i] = data[i]\n",
    "    \n",
    "    visited = [ 0 for _ in range(N+1)]\n",
    "    circle = [ 0 for _ in range(N+1)]\n",
    "    group = 0\n",
    "    cnt = 0\n",
    "    for i in range(1, N+1):\n",
    "        if visited[i] == 0:\n",
    "            group += 1\n",
    "            visited[i] = group\n",
    "            circle[i] = 0\n",
    "            node = i\n",
    "            idx = 1\n",
    "            while True:\n",
    "                next_node = graph[node]\n",
    "                if visited[next_node]:\n",
    "                    if visited[next_node] == visited[node]:\n",
    "                        cnt += (circle[node] - circle[next_node] + 1)\n",
    "                    break\n",
    "                else: \n",
    "                    visited[next_node] = group\n",
    "                    circle[next_node] = idx\n",
    "                    node = next_node\n",
    "                    idx += 1\n",
    "\n",
    "    print(str(N - cnt) + \"\\n\")\n",
    "                \n",
    "                \n",
    "                "
   ]
  },
  {
   "cell_type": "code",
   "execution_count": 2,
   "metadata": {},
   "outputs": [
    {
     "name": "stdout",
     "output_type": "stream",
     "text": [
      "2\n",
      "3 2\n",
      "1 3\n",
      "2 3\n",
      "YES\n",
      "4 4\n",
      "1 2\n",
      "2 3\n",
      "3 4\n",
      "4 2\n",
      "NO\n"
     ]
    }
   ],
   "source": [
    "#1707\n",
    "from collections import deque\n",
    "import sys\n",
    "# input = sys.stdin.readline\n",
    "print = sys.stdout.write\n",
    "\n",
    "T = int(input())\n",
    "\n",
    "for _ in range(T):\n",
    "    V, E = map(int, input().split())\n",
    "    graph = [[] for _ in range(V+1)]\n",
    "    for _ in range(E):\n",
    "        u, v = map(int, input().split())\n",
    "        graph[u].append(v)\n",
    "        graph[v].append(u)\n",
    "    isbio = True\n",
    "    visited = [0 for _ in range(V+1)]\n",
    "    for i in range(1, V+1):\n",
    "        if visited[i] == 0:\n",
    "            que = deque([i])\n",
    "            visited[i] = 1\n",
    "            while que:\n",
    "                node = que.popleft()\n",
    "                for el in graph[node]:\n",
    "                    if visited[el] == visited[node]:\n",
    "                        isbio = False\n",
    "                    if visited[el] == 0:\n",
    "                        visited[el] = 3 - visited[node]\n",
    "                        que.append(el)\n",
    "\n",
    "    if isbio:\n",
    "        print(\"YES\" + \"\\n\")\n",
    "    else:\n",
    "        print(\"NO\" + \"\\n\")\n",
    "        "
   ]
  },
  {
   "cell_type": "code",
   "execution_count": 7,
   "metadata": {},
   "outputs": [
    {
     "name": "stdout",
     "output_type": "stream",
     "text": [
      "2\n",
      "11\n",
      "01\n"
     ]
    },
    {
     "ename": "IndexError",
     "evalue": "list index out of range",
     "output_type": "error",
     "traceback": [
      "\u001b[1;31m---------------------------------------------------------------------------\u001b[0m",
      "\u001b[1;31mIndexError\u001b[0m                                Traceback (most recent call last)",
      "\u001b[1;32m<ipython-input-7-43b7e62c2b54>\u001b[0m in \u001b[0;36m<module>\u001b[1;34m\u001b[0m\n\u001b[0;32m     16\u001b[0m \u001b[1;32mfor\u001b[0m \u001b[0mi\u001b[0m \u001b[1;32min\u001b[0m \u001b[0mrange\u001b[0m\u001b[1;33m(\u001b[0m\u001b[0mN\u001b[0m\u001b[1;33m)\u001b[0m\u001b[1;33m:\u001b[0m\u001b[1;33m\u001b[0m\u001b[1;33m\u001b[0m\u001b[0m\n\u001b[0;32m     17\u001b[0m     \u001b[1;32mfor\u001b[0m \u001b[0mj\u001b[0m \u001b[1;32min\u001b[0m \u001b[0mrange\u001b[0m\u001b[1;33m(\u001b[0m\u001b[0mN\u001b[0m\u001b[1;33m)\u001b[0m\u001b[1;33m:\u001b[0m\u001b[1;33m\u001b[0m\u001b[1;33m\u001b[0m\u001b[0m\n\u001b[1;32m---> 18\u001b[1;33m         \u001b[1;32mif\u001b[0m \u001b[0mdata\u001b[0m\u001b[1;33m[\u001b[0m\u001b[0mi\u001b[0m\u001b[1;33m]\u001b[0m\u001b[1;33m[\u001b[0m\u001b[0mj\u001b[0m\u001b[1;33m]\u001b[0m \u001b[1;33m==\u001b[0m \u001b[1;36m1\u001b[0m \u001b[1;32mand\u001b[0m \u001b[0mvisited\u001b[0m\u001b[1;33m[\u001b[0m\u001b[0mi\u001b[0m\u001b[1;33m]\u001b[0m\u001b[1;33m[\u001b[0m\u001b[0mj\u001b[0m\u001b[1;33m]\u001b[0m \u001b[1;33m==\u001b[0m \u001b[1;36m0\u001b[0m\u001b[1;33m:\u001b[0m\u001b[1;33m\u001b[0m\u001b[1;33m\u001b[0m\u001b[0m\n\u001b[0m\u001b[0;32m     19\u001b[0m             \u001b[0mgroup\u001b[0m \u001b[1;33m+=\u001b[0m \u001b[1;36m1\u001b[0m\u001b[1;33m\u001b[0m\u001b[1;33m\u001b[0m\u001b[0m\n\u001b[0;32m     20\u001b[0m             \u001b[0mque\u001b[0m \u001b[1;33m=\u001b[0m \u001b[0mdeque\u001b[0m\u001b[1;33m(\u001b[0m\u001b[1;33m[\u001b[0m\u001b[1;33m[\u001b[0m\u001b[0mi\u001b[0m\u001b[1;33m,\u001b[0m \u001b[0mj\u001b[0m\u001b[1;33m]\u001b[0m\u001b[1;33m]\u001b[0m\u001b[1;33m)\u001b[0m\u001b[1;33m\u001b[0m\u001b[1;33m\u001b[0m\u001b[0m\n",
      "\u001b[1;31mIndexError\u001b[0m: list index out of range"
     ]
    }
   ],
   "source": [
    "#2667\n",
    "from collections import deque\n",
    "import sys\n",
    "# input = sys.stdin.readline\n",
    "print = sys.stdout.write\n",
    "\n",
    "dx = [-1, 1, 0, 0]\n",
    "dy = [0, 0, -1, 1]\n",
    "\n",
    "N = int(input())\n",
    "data = [list(map(int, list(input().strip()))) for _ in range(N)]\n",
    "visited = [[0] * N for _ in range(N)]\n",
    "\n",
    "group = 0\n",
    "ans = []\n",
    "\n",
    "for i in range(N):\n",
    "    for j in range(N):\n",
    "        if data[i][j] == 1 and visited[i][j] == 0:\n",
    "            group += 1\n",
    "            que = deque([[i, j]])\n",
    "            visited[i][j] = group\n",
    "            cnt = 1\n",
    "            while que:\n",
    "                n, m = que.popleft()\n",
    "                for k in range(4):\n",
    "                    x = n + dx[k]\n",
    "                    y = m + dy[k]\n",
    "                    if 0 <= x < N and 0 <= y < N:\n",
    "                        if data[x][y] == 1 and visited[x][y] == 0:\n",
    "                            que.append([x, y])\n",
    "                            visited[x][y] = group\n",
    "                            cnt += 1\n",
    "            ans.append(cnt)\n",
    "print(str(group) + \"\\n\")\n",
    "for i in sorted(ans):\n",
    "    print(str(i) + \"\\n\")"
   ]
  },
  {
   "cell_type": "code",
   "execution_count": 9,
   "metadata": {},
   "outputs": [
    {
     "name": "stdout",
     "output_type": "stream",
     "text": [
      "5 4\n",
      "1 1 1 0 1\n",
      "1 0 1 0 1\n",
      "1 0 1 0 1\n",
      "1 0 1 1 1\n",
      "15 5\n"
     ]
    },
    {
     "ename": "KeyboardInterrupt",
     "evalue": "Interrupted by user",
     "output_type": "error",
     "traceback": [
      "\u001b[1;31m---------------------------------------------------------------------------\u001b[0m",
      "\u001b[1;31mKeyboardInterrupt\u001b[0m                         Traceback (most recent call last)",
      "\u001b[1;32m<ipython-input-9-530041f82dac>\u001b[0m in \u001b[0;36m<module>\u001b[1;34m\u001b[0m\n\u001b[0;32m     12\u001b[0m     \u001b[1;32mif\u001b[0m \u001b[0mW\u001b[0m \u001b[1;33m==\u001b[0m \u001b[1;36m0\u001b[0m\u001b[1;33m:\u001b[0m\u001b[1;33m\u001b[0m\u001b[1;33m\u001b[0m\u001b[0m\n\u001b[0;32m     13\u001b[0m         \u001b[1;32mbreak\u001b[0m\u001b[1;33m\u001b[0m\u001b[1;33m\u001b[0m\u001b[0m\n\u001b[1;32m---> 14\u001b[1;33m     \u001b[0mdata\u001b[0m \u001b[1;33m=\u001b[0m \u001b[1;33m[\u001b[0m\u001b[0mlist\u001b[0m\u001b[1;33m(\u001b[0m\u001b[0mmap\u001b[0m\u001b[1;33m(\u001b[0m\u001b[0mint\u001b[0m\u001b[1;33m,\u001b[0m \u001b[0minput\u001b[0m\u001b[1;33m(\u001b[0m\u001b[1;33m)\u001b[0m\u001b[1;33m.\u001b[0m\u001b[0msplit\u001b[0m\u001b[1;33m(\u001b[0m\u001b[1;33m)\u001b[0m\u001b[1;33m)\u001b[0m\u001b[1;33m)\u001b[0m \u001b[1;32mfor\u001b[0m \u001b[0m_\u001b[0m \u001b[1;32min\u001b[0m \u001b[0mrange\u001b[0m\u001b[1;33m(\u001b[0m\u001b[0mH\u001b[0m\u001b[1;33m)\u001b[0m\u001b[1;33m]\u001b[0m\u001b[1;33m\u001b[0m\u001b[1;33m\u001b[0m\u001b[0m\n\u001b[0m\u001b[0;32m     15\u001b[0m     \u001b[0mgroup\u001b[0m \u001b[1;33m=\u001b[0m \u001b[1;36m1\u001b[0m\u001b[1;33m\u001b[0m\u001b[1;33m\u001b[0m\u001b[0m\n\u001b[0;32m     16\u001b[0m     \u001b[1;32mfor\u001b[0m \u001b[0mi\u001b[0m \u001b[1;32min\u001b[0m \u001b[0mrange\u001b[0m\u001b[1;33m(\u001b[0m\u001b[0mH\u001b[0m\u001b[1;33m)\u001b[0m\u001b[1;33m:\u001b[0m\u001b[1;33m\u001b[0m\u001b[1;33m\u001b[0m\u001b[0m\n",
      "\u001b[1;32m<ipython-input-9-530041f82dac>\u001b[0m in \u001b[0;36m<listcomp>\u001b[1;34m(.0)\u001b[0m\n\u001b[0;32m     12\u001b[0m     \u001b[1;32mif\u001b[0m \u001b[0mW\u001b[0m \u001b[1;33m==\u001b[0m \u001b[1;36m0\u001b[0m\u001b[1;33m:\u001b[0m\u001b[1;33m\u001b[0m\u001b[1;33m\u001b[0m\u001b[0m\n\u001b[0;32m     13\u001b[0m         \u001b[1;32mbreak\u001b[0m\u001b[1;33m\u001b[0m\u001b[1;33m\u001b[0m\u001b[0m\n\u001b[1;32m---> 14\u001b[1;33m     \u001b[0mdata\u001b[0m \u001b[1;33m=\u001b[0m \u001b[1;33m[\u001b[0m\u001b[0mlist\u001b[0m\u001b[1;33m(\u001b[0m\u001b[0mmap\u001b[0m\u001b[1;33m(\u001b[0m\u001b[0mint\u001b[0m\u001b[1;33m,\u001b[0m \u001b[0minput\u001b[0m\u001b[1;33m(\u001b[0m\u001b[1;33m)\u001b[0m\u001b[1;33m.\u001b[0m\u001b[0msplit\u001b[0m\u001b[1;33m(\u001b[0m\u001b[1;33m)\u001b[0m\u001b[1;33m)\u001b[0m\u001b[1;33m)\u001b[0m \u001b[1;32mfor\u001b[0m \u001b[0m_\u001b[0m \u001b[1;32min\u001b[0m \u001b[0mrange\u001b[0m\u001b[1;33m(\u001b[0m\u001b[0mH\u001b[0m\u001b[1;33m)\u001b[0m\u001b[1;33m]\u001b[0m\u001b[1;33m\u001b[0m\u001b[1;33m\u001b[0m\u001b[0m\n\u001b[0m\u001b[0;32m     15\u001b[0m     \u001b[0mgroup\u001b[0m \u001b[1;33m=\u001b[0m \u001b[1;36m1\u001b[0m\u001b[1;33m\u001b[0m\u001b[1;33m\u001b[0m\u001b[0m\n\u001b[0;32m     16\u001b[0m     \u001b[1;32mfor\u001b[0m \u001b[0mi\u001b[0m \u001b[1;32min\u001b[0m \u001b[0mrange\u001b[0m\u001b[1;33m(\u001b[0m\u001b[0mH\u001b[0m\u001b[1;33m)\u001b[0m\u001b[1;33m:\u001b[0m\u001b[1;33m\u001b[0m\u001b[1;33m\u001b[0m\u001b[0m\n",
      "\u001b[1;32m~\\Anaconda3\\Lib\\site-packages\\ipykernel\\kernelbase.py\u001b[0m in \u001b[0;36mraw_input\u001b[1;34m(self, prompt)\u001b[0m\n\u001b[0;32m    861\u001b[0m             \u001b[0mself\u001b[0m\u001b[1;33m.\u001b[0m\u001b[0m_parent_ident\u001b[0m\u001b[1;33m,\u001b[0m\u001b[1;33m\u001b[0m\u001b[1;33m\u001b[0m\u001b[0m\n\u001b[0;32m    862\u001b[0m             \u001b[0mself\u001b[0m\u001b[1;33m.\u001b[0m\u001b[0m_parent_header\u001b[0m\u001b[1;33m,\u001b[0m\u001b[1;33m\u001b[0m\u001b[1;33m\u001b[0m\u001b[0m\n\u001b[1;32m--> 863\u001b[1;33m             \u001b[0mpassword\u001b[0m\u001b[1;33m=\u001b[0m\u001b[1;32mFalse\u001b[0m\u001b[1;33m,\u001b[0m\u001b[1;33m\u001b[0m\u001b[1;33m\u001b[0m\u001b[0m\n\u001b[0m\u001b[0;32m    864\u001b[0m         )\n\u001b[0;32m    865\u001b[0m \u001b[1;33m\u001b[0m\u001b[0m\n",
      "\u001b[1;32m~\\Anaconda3\\Lib\\site-packages\\ipykernel\\kernelbase.py\u001b[0m in \u001b[0;36m_input_request\u001b[1;34m(self, prompt, ident, parent, password)\u001b[0m\n\u001b[0;32m    902\u001b[0m             \u001b[1;32mexcept\u001b[0m \u001b[0mKeyboardInterrupt\u001b[0m\u001b[1;33m:\u001b[0m\u001b[1;33m\u001b[0m\u001b[1;33m\u001b[0m\u001b[0m\n\u001b[0;32m    903\u001b[0m                 \u001b[1;31m# re-raise KeyboardInterrupt, to truncate traceback\u001b[0m\u001b[1;33m\u001b[0m\u001b[1;33m\u001b[0m\u001b[1;33m\u001b[0m\u001b[0m\n\u001b[1;32m--> 904\u001b[1;33m                 \u001b[1;32mraise\u001b[0m \u001b[0mKeyboardInterrupt\u001b[0m\u001b[1;33m(\u001b[0m\u001b[1;34m\"Interrupted by user\"\u001b[0m\u001b[1;33m)\u001b[0m \u001b[1;32mfrom\u001b[0m \u001b[1;32mNone\u001b[0m\u001b[1;33m\u001b[0m\u001b[1;33m\u001b[0m\u001b[0m\n\u001b[0m\u001b[0;32m    905\u001b[0m             \u001b[1;32mexcept\u001b[0m \u001b[0mException\u001b[0m \u001b[1;32mas\u001b[0m \u001b[0me\u001b[0m\u001b[1;33m:\u001b[0m\u001b[1;33m\u001b[0m\u001b[1;33m\u001b[0m\u001b[0m\n\u001b[0;32m    906\u001b[0m                 \u001b[0mself\u001b[0m\u001b[1;33m.\u001b[0m\u001b[0mlog\u001b[0m\u001b[1;33m.\u001b[0m\u001b[0mwarning\u001b[0m\u001b[1;33m(\u001b[0m\u001b[1;34m\"Invalid Message:\"\u001b[0m\u001b[1;33m,\u001b[0m \u001b[0mexc_info\u001b[0m\u001b[1;33m=\u001b[0m\u001b[1;32mTrue\u001b[0m\u001b[1;33m)\u001b[0m\u001b[1;33m\u001b[0m\u001b[1;33m\u001b[0m\u001b[0m\n",
      "\u001b[1;31mKeyboardInterrupt\u001b[0m: Interrupted by user"
     ]
    }
   ],
   "source": [
    "#4963\n",
    "from collections import deque\n",
    "import sys\n",
    "# input = sys.stdin.readline\n",
    "print = sys.stdout.write\n",
    "\n",
    "dx = [-1, 0, 1]\n",
    "dy = [-1, 0, 1]\n",
    "\n",
    "while True:\n",
    "    W, H = map(int, input().split())\n",
    "    if W == 0:\n",
    "        break\n",
    "    data = [list(map(int, input().split())) for _ in range(H)]\n",
    "    group = 1\n",
    "    for i in range(H):\n",
    "        for j in range(W):\n",
    "            if data[i][j] == 1:\n",
    "                group += 1\n",
    "                que = deque([[i, j]])\n",
    "                data[i][j] = group\n",
    "                while que:\n",
    "                    n, m = que.popleft()\n",
    "                    for k in range(3):\n",
    "                        for l in range(3):\n",
    "                            if k == 1 and l == 1:\n",
    "                                continue\n",
    "                            x = n + dx[k]\n",
    "                            y = m + dy[l]\n",
    "                            if 0 <= x < H and 0 <= y < W and data[x][y] == 1:\n",
    "                                que.append([x, y])\n",
    "                                data[x][y] = group\n",
    "    print(str(group - 1) + \"\\n\")"
   ]
  },
  {
   "cell_type": "code",
   "execution_count": 11,
   "metadata": {},
   "outputs": [
    {
     "name": "stdout",
     "output_type": "stream",
     "text": [
      "6 4\n",
      "0 -1 0 0 0 0\n",
      "-1 0 0 0 0 0\n",
      "0 0 0 0 0 0\n",
      "0 0 0 0 0 1\n",
      "-1"
     ]
    }
   ],
   "source": [
    "# 7576\n",
    "from collections import deque\n",
    "import sys\n",
    "# input = sys.stdin.readline\n",
    "print = sys.stdout.write\n",
    "\n",
    "dx = [-1, 1, 0, 0]\n",
    "dy = [0, 0, -1, 1]\n",
    "\n",
    "M, N = map(int, input().split())\n",
    "data = [list(map(int, input().split())) for _ in range(N)]\n",
    "que = deque([])\n",
    "for i in range(N):\n",
    "    for j in range(M):\n",
    "        if data[i][j] == 1:\n",
    "            que.append([i, j])\n",
    "while que:\n",
    "    n, m = que.popleft()\n",
    "    for i in range(4):\n",
    "        x = n + dx[i]\n",
    "        y = m + dy[i]\n",
    "        if 0 <= x < N and 0 <= y < M and data[x][y] == 0:\n",
    "            data[x][y] = data[n][m] + 1\n",
    "            que.append([x, y])\n",
    "valid = True\n",
    "max = 1\n",
    "for i in range(N):\n",
    "    for j in range(M):\n",
    "        if data[i][j] == 0:\n",
    "            valid = False\n",
    "        if data[i][j] > max:\n",
    "            max = data[i][j]\n",
    "if valid:\n",
    "    print(str(max-1))\n",
    "else:\n",
    "    print(\"-1\")"
   ]
  },
  {
   "cell_type": "code",
   "execution_count": 16,
   "metadata": {},
   "outputs": [
    {
     "name": "stdout",
     "output_type": "stream",
     "text": [
      "5\n",
      "1 1 1 1 1 \n",
      "0 0 0 0 0\n",
      "0 0 0 0 0\n",
      "0 0 0 0 0\n",
      "1 0 0 1 1\n",
      "2"
     ]
    }
   ],
   "source": [
    "#2146\n",
    "from collections import deque\n",
    "import sys\n",
    "# input = sys.stdin.readline\n",
    "print = sys.stdout.write\n",
    "sys.setrecursionlimit(10000)\n",
    "\n",
    "dx = [-1, 1, 0, 0]\n",
    "dy = [0, 0, -1, 1]\n",
    "\n",
    "def DFS(i, j, group):\n",
    "    data[i][j] = group\n",
    "    visited[i][j] = 1\n",
    "    out = False\n",
    "    for k in range(4):\n",
    "        x = i + dx[k]\n",
    "        y = j + dy[k]\n",
    "        if 0<= x < N and 0 <= y < N:\n",
    "            if data[x][y] == 0:\n",
    "                out = True\n",
    "            if data[x][y] == 1:\n",
    "                DFS(x, y, group)\n",
    "    if out:\n",
    "        que.append([i, j])\n",
    "\n",
    "N = int(input())\n",
    "data = [list(map(int, input().split())) for _ in range(N)]\n",
    "visited = [[0] * N for _ in range(N)]\n",
    "group = 1\n",
    "que = deque([])\n",
    "for i in range(N):\n",
    "    for j in range(N):\n",
    "        if data[i][j] == 1:\n",
    "            group += 1\n",
    "            DFS(i, j, group)\n",
    "            \n",
    "ans = N * 2\n",
    "while que:\n",
    "    n, m = que.popleft()\n",
    "    for i in range(4):\n",
    "        x = n + dx[i]\n",
    "        y = m + dy[i]\n",
    "        if 0<= x < N and 0 <= y < N:\n",
    "            if data[x][y] == 0:\n",
    "                data[x][y] = data[n][m]\n",
    "                visited[x][y] = visited[n][m] +1\n",
    "                que.append([x, y])\n",
    "            else:\n",
    "                if data[x][y] != data[n][m]:\n",
    "                    ans = min(ans, visited[x][y] + visited[n][m] - 2)\n",
    "print(str(ans))\n"
   ]
  },
  {
   "cell_type": "code",
   "execution_count": 3,
   "metadata": {},
   "outputs": [
    {
     "name": "stdout",
     "output_type": "stream",
     "text": [
      "5\n",
      "1 3 2 -1\n",
      "2 4 4 -1\n",
      "3 1 2 4 3 -1\n",
      "4 2 4 3 3 5 6 -1\n",
      "5 4 6 -1\n",
      "11"
     ]
    }
   ],
   "source": [
    "#1167\n",
    "\n",
    "from collections import deque\n",
    "import sys\n",
    "# input = sys.stdin.readline\n",
    "print = sys.stdout.write\n",
    "\n",
    "\n",
    "def BFS(node):\n",
    "    distance = [None for _ in range(V+1)]\n",
    "    distance[0] = 0\n",
    "    que = deque([node])\n",
    "    distance[node] = 0\n",
    "    while que:\n",
    "        node = que.popleft()\n",
    "        for el, w in graph[node]:\n",
    "            if distance[el] == None:\n",
    "                distance[el] = distance[node] + w\n",
    "                que.append(el)\n",
    "    max_val = max(distance)\n",
    "    return [distance.index(max_val), max_val]\n",
    "\n",
    "V = int(input())\n",
    "graph = [[] for _ in range(V+1)]\n",
    "\n",
    "for _ in range(V):\n",
    "    info = list(map(int, input().split()))\n",
    "    for i in range(1, len(info) -1, 2):\n",
    "        graph[info[0]].append([info[i], info[i+1]])\n",
    "        \n",
    "x, x_val = BFS(1)\n",
    "y, y_val = BFS(x)\n",
    "print(str(y_val))"
   ]
  },
  {
   "cell_type": "code",
   "execution_count": 4,
   "metadata": {},
   "outputs": [
    {
     "name": "stdout",
     "output_type": "stream",
     "text": [
      "4 11\n",
      "802\n",
      "743\n",
      "457\n",
      "539\n",
      "200"
     ]
    }
   ],
   "source": [
    "#1654\n",
    "import sys\n",
    "# input = sys.stdin.readline\n",
    "print = sys.stdout.write\n",
    "\n",
    "K, N = map(int, input().split())\n",
    "data = [int(input()) for _ in range(K)]\n",
    "start = 1\n",
    "end = max(data)\n",
    "while start <= end:\n",
    "    mid = (start + end) // 2\n",
    "    M = 0\n",
    "    for el in data:\n",
    "        M += el // mid\n",
    "    if M < N:\n",
    "        end = mid - 1\n",
    "    else:\n",
    "        start = mid + 1\n",
    "print(str(end))\n"
   ]
  },
  {
   "cell_type": "code",
   "execution_count": 9,
   "metadata": {},
   "outputs": [
    {
     "name": "stdout",
     "output_type": "stream",
     "text": [
      "4 7\n",
      "20 15 10 17\n",
      "15"
     ]
    }
   ],
   "source": [
    "# 2805\n",
    "import sys\n",
    "# input = sys.stdin.readline\n",
    "print = sys.stdout.write\n",
    "\n",
    "N, M = map(int, input().split())\n",
    "data = list(map(int, input().split()))\n",
    "start = 1\n",
    "end = max(data) \n",
    "\n",
    "while start <= end:\n",
    "    mid = (start + end) // 2\n",
    "    K = 0\n",
    "    for el in data:\n",
    "        K += (el - mid if el - mid > 0 else 0)\n",
    "    if K < M:\n",
    "        end = mid - 1\n",
    "    else:\n",
    "        start = mid + 1\n",
    "print(str(end))"
   ]
  },
  {
   "cell_type": "code",
   "execution_count": 12,
   "metadata": {},
   "outputs": [
    {
     "name": "stdout",
     "output_type": "stream",
     "text": [
      "10\n",
      "6 3 2 10 10 10 -10 -10 7 3\n",
      "8\n",
      "10 9 -5 2 3 4 5 -10\n",
      "30 0 120 0 2"
     ]
    }
   ],
   "source": [
    "#10816\n",
    "import sys\n",
    "# input = sys.stdin.readline\n",
    "print = sys.stdout.write\n",
    "\n",
    "N = int(input())\n",
    "card = sorted(list(map(int, input().split())))\n",
    "M = int(input())\n",
    "num = list(map(int, input().split()))\n",
    "\n",
    "for el in num:\n",
    "    ans = 1\n",
    "    start = 1\n",
    "    end = len(card) - 1\n",
    "    while start <= end:\n",
    "        mid = (start + end) // 2\n",
    "        if card[mid] > el:\n",
    "            end = mid - 1\n",
    "        else:\n",
    "            start = mid + 1\n",
    "    if card[end] != el:\n",
    "        print(\"0 \")\n",
    "        continue\n",
    "    else:\n",
    "        ans += end\n",
    "\n",
    "    start = 0\n",
    "    end = len(card) - 2\n",
    "    while start <= end:\n",
    "        mid = (start + end) // 2\n",
    "        if card[mid] >= el:\n",
    "            end = mid - 1\n",
    "        else:\n",
    "            start = mid + 1\n",
    "    ans -= start\n",
    "    print(str(ans) + \" \")"
   ]
  },
  {
   "cell_type": "code",
   "execution_count": 30,
   "metadata": {},
   "outputs": [
    {
     "name": "stdout",
     "output_type": "stream",
     "text": [
      "0 0 1 1 1 0 0 1\n",
      "0.0"
     ]
    }
   ],
   "source": [
    "#11662\n",
    "import sys\n",
    "# input = sys.stdin.readline\n",
    "print = sys.stdout.write\n",
    "\n",
    "data = list(map(int, input().split()))\n",
    "\n",
    "dax = (data[2] - data[0]) / 100\n",
    "day = (data[3] - data[1]) / 100\n",
    "dbx = (data[6] - data[4]) / 100\n",
    "dby = (data[7] - data[5]) / 100\n",
    "\n",
    "low = 0\n",
    "high = 100\n",
    "\n",
    "def getDistance(x1, y1, x2, y2):\n",
    "    return ((x2-x1) ** 2 + (y2-y1) ** 2) ** 0.5\n",
    "\n",
    "ans = sys.maxsize\n",
    "while high - low >= (10**-10):\n",
    "    p = (low * 2 + high) / 3\n",
    "    q = (low  + high * 2) / 3\n",
    "    \n",
    "    p_val = getDistance(data[0] + dax * p, data[1] + day*p, data[4] + dbx * p, data[5] + dby * p)\n",
    "    q_val = getDistance(data[0] + dax * q, data[1] + day*q, data[4] + dbx * q, data[5] + dby * q)\n",
    "    if p_val > q_val:\n",
    "        low = p\n",
    "        ans = min(ans, q_val)\n",
    "    else:\n",
    "        high = q\n",
    "        ans = min(ans, p_val)\n",
    "print(str(round(ans, 10)))"
   ]
  },
  {
   "cell_type": "code",
   "execution_count": null,
   "metadata": {},
   "outputs": [],
   "source": []
  }
 ],
 "metadata": {
  "kernelspec": {
   "display_name": "Python 3",
   "language": "python",
   "name": "python3"
  },
  "language_info": {
   "codemirror_mode": {
    "name": "ipython",
    "version": 3
   },
   "file_extension": ".py",
   "mimetype": "text/x-python",
   "name": "python",
   "nbconvert_exporter": "python",
   "pygments_lexer": "ipython3",
   "version": "3.7.3"
  }
 },
 "nbformat": 4,
 "nbformat_minor": 4
}
