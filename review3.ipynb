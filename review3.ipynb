{
 "cells": [
  {
   "cell_type": "code",
   "execution_count": 5,
   "metadata": {},
   "outputs": [
    {
     "name": "stdout",
     "output_type": "stream",
     "text": [
      "3 7 7\n",
      "63\n"
     ]
    }
   ],
   "source": [
    "#1074\n",
    "\n",
    "def solve(n, r, c):\n",
    "    if n == 0:\n",
    "        return 0\n",
    "    size = 2 ** (n-1)\n",
    "    cnt = 0\n",
    "    for i in range(2):\n",
    "        for j in range(2):\n",
    "            if r < size * (i+1) and c < size * (j+1):\n",
    "                cnt += solve(n-1, r - size * i, c - size * j)\n",
    "                return cnt\n",
    "            else:\n",
    "                cnt += size * size\n",
    "\n",
    "                \n",
    "    \n",
    "\n",
    "N, r, c = map(int, input().split())\n",
    "print(solve(N, r, c))"
   ]
  },
  {
   "cell_type": "code",
   "execution_count": null,
   "metadata": {},
   "outputs": [],
   "source": []
  }
 ],
 "metadata": {
  "kernelspec": {
   "display_name": "Python 3",
   "language": "python",
   "name": "python3"
  },
  "language_info": {
   "codemirror_mode": {
    "name": "ipython",
    "version": 3
   },
   "file_extension": ".py",
   "mimetype": "text/x-python",
   "name": "python",
   "nbconvert_exporter": "python",
   "pygments_lexer": "ipython3",
   "version": "3.7.3"
  }
 },
 "nbformat": 4,
 "nbformat_minor": 4
}
