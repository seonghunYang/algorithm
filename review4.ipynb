{
 "cells": [
  {
   "cell_type": "code",
   "execution_count": 2,
   "metadata": {},
   "outputs": [
    {
     "ename": "ValueError",
     "evalue": "invalid literal for int() with base 10: ''",
     "output_type": "error",
     "traceback": [
      "\u001b[1;31m---------------------------------------------------------------------------\u001b[0m",
      "\u001b[1;31mValueError\u001b[0m                                Traceback (most recent call last)",
      "\u001b[1;32m<ipython-input-2-e5c063e17cb4>\u001b[0m in \u001b[0;36m<module>\u001b[1;34m\u001b[0m\n\u001b[0;32m     16\u001b[0m         \u001b[0midx\u001b[0m \u001b[1;33m//=\u001b[0m \u001b[1;36m2\u001b[0m\u001b[1;33m\u001b[0m\u001b[1;33m\u001b[0m\u001b[0m\n\u001b[0;32m     17\u001b[0m \u001b[1;33m\u001b[0m\u001b[0m\n\u001b[1;32m---> 18\u001b[1;33m \u001b[1;32mfor\u001b[0m \u001b[0m_\u001b[0m \u001b[1;32min\u001b[0m \u001b[0mrange\u001b[0m\u001b[1;33m(\u001b[0m\u001b[0mint\u001b[0m\u001b[1;33m(\u001b[0m\u001b[0minput\u001b[0m\u001b[1;33m(\u001b[0m\u001b[1;33m)\u001b[0m\u001b[1;33m)\u001b[0m\u001b[1;33m)\u001b[0m\u001b[1;33m:\u001b[0m\u001b[1;33m\u001b[0m\u001b[1;33m\u001b[0m\u001b[0m\n\u001b[0m\u001b[0;32m     19\u001b[0m     \u001b[0mN\u001b[0m \u001b[1;33m=\u001b[0m \u001b[0mint\u001b[0m\u001b[1;33m(\u001b[0m\u001b[0minput\u001b[0m\u001b[1;33m(\u001b[0m\u001b[1;33m)\u001b[0m\u001b[1;33m)\u001b[0m\u001b[1;33m\u001b[0m\u001b[1;33m\u001b[0m\u001b[0m\n\u001b[0;32m     20\u001b[0m     \u001b[0mdata\u001b[0m \u001b[1;33m=\u001b[0m \u001b[1;33m[\u001b[0m\u001b[1;33m]\u001b[0m\u001b[1;33m\u001b[0m\u001b[1;33m\u001b[0m\u001b[0m\n",
      "\u001b[1;31mValueError\u001b[0m: invalid literal for int() with base 10: ''"
     ]
    }
   ],
   "source": [
    "#5419\n",
    "import sys\n",
    "input = sys.stdin.readline\n",
    "def sumNum(L, R, nodeIdx, nodeL, nodeR):\n",
    "    if L > nodeR or R < nodeL:\n",
    "        return 0\n",
    "    if L <= nodeL and R >= nodeR:\n",
    "        return tree[nodeIdx]\n",
    "    mid = (nodeL + nodeR) // 2\n",
    "    return sumNum(L, R, nodeIdx*2, nodeL, mid) + sumNum(L, R, nodeIdx*2 + 1, mid+1, nodeR)\n",
    "\n",
    "def add(idx):\n",
    "    idx += start\n",
    "    while idx > 0:\n",
    "        tree[idx] += 1\n",
    "        idx //= 2\n",
    "\n",
    "for _ in range(int(input())):\n",
    "    N = int(input())\n",
    "    data = []\n",
    "    y_data = []\n",
    "    for _ in range(N):\n",
    "        x, y = map(int, input().split())\n",
    "        data.append([x, y])\n",
    "        y_data.append(y)\n",
    "    #좌표 압축 중복위해 따로 뺴기\n",
    "    y_data = sorted(set(y_data))\n",
    "    d = { y_data[i]: i  for i in range(len(y_data))}\n",
    "    data = [[data[i][0], d[data[i][1]]] for i in range(N)]\n",
    "    \n",
    "    #세그먼트 트리 준비\n",
    "    start = 1\n",
    "    while start < 75000:\n",
    "        start *= 2\n",
    "    tree = [0] * (start * 2 + 1)\n",
    "    \n",
    "    # 스위핑\n",
    "    result = 0\n",
    "    data.sort(key = lambda x: (x[0], -x[1]))\n",
    "    for el in data:\n",
    "        result += sumNum(el[1], start - 1, 1, 0, start - 1)\n",
    "        add(el[1])\n",
    "    print(result)"
   ]
  },
  {
   "cell_type": "code",
   "execution_count": 1,
   "metadata": {},
   "outputs": [
    {
     "name": "stdout",
     "output_type": "stream",
     "text": [
      "4 2 0 0 8\n",
      "0 2\n",
      "3 4\n",
      "5 6\n",
      "7 8\n",
      "4 4 4 1 3 3 3 2\n",
      "0\n",
      "0\n",
      "3\n",
      "0\n",
      "0\n",
      "8\n",
      "6\n",
      "3\n"
     ]
    }
   ],
   "source": [
    "#14499\n",
    "\n",
    "dx = [0, 0, -1, 1]\n",
    "dy = [1, -1, 0, 0]\n",
    "\n",
    "def move(k):\n",
    "    if k == 1:\n",
    "        sq[4], sq[1], sq[3], sq[6] = sq[1], sq[3], sq[6], sq[4]\n",
    "    elif k == 2:\n",
    "        sq[4], sq[1], sq[3], sq[6] = sq[6], sq[4], sq[1], sq[3]\n",
    "    elif k == 3:\n",
    "        sq[2], sq[1], sq[5], sq[6] = sq[6], sq[2], sq[1], sq[5]\n",
    "    else:\n",
    "        sq[2], sq[1], sq[5], sq[6] = sq[1], sq[5], sq[6], sq[2]\n",
    "\n",
    "N, M, x, y, K = map(int, input().split())\n",
    "data = [list(map(int, input().split())) for _ in range(N)]\n",
    "K_lst = list(map(int, input().split()))\n",
    "sq = [0] * 7\n",
    "while K_lst:\n",
    "    k = K_lst.pop(0)\n",
    "    n, m = x + dx[k-1], y + dy[k-1]\n",
    "    if 0 <= n <= N-1 and 0 <= m <= M-1:\n",
    "        #좌표 이동\n",
    "        x, y = n, m\n",
    "        # 주사위 이동\n",
    "        move(k)\n",
    "        #복사\n",
    "        if data[x][y] == 0:\n",
    "            data[x][y] = sq[1]\n",
    "        else:\n",
    "            sq[1] = data[x][y]\n",
    "            data[x][y] = 0\n",
    "        #상단 출력\n",
    "        print(sq[6])"
   ]
  },
  {
   "cell_type": "code",
   "execution_count": 2,
   "metadata": {},
   "outputs": [
    {
     "data": {
      "text/plain": [
       "-2"
      ]
     },
     "execution_count": 2,
     "metadata": {},
     "output_type": "execute_result"
    }
   ],
   "source": [
    "num=2\n",
    "-num"
   ]
  },
  {
   "cell_type": "code",
   "execution_count": 3,
   "metadata": {},
   "outputs": [],
   "source": [
    "import heapq\n",
    "def solution(operations):\n",
    "    answer = []\n",
    "    maxhp = []\n",
    "    minhp = []\n",
    "    #후행 조건\n",
    "    for el in operations:\n",
    "        op, num = input().split()\n",
    "        num = int(num)\n",
    "        if op == \"I\":\n",
    "            heapq.heappush(maxhp, -num)\n",
    "            heapq.heappush(minhp, num)\n",
    "        elif op == \"D\" and num == 1:\n",
    "            if maxheap:\n",
    "                heapq.heappop(maxhp)\n",
    "                if not maxhp or -maxhp[0] < minhp[0]:\n",
    "                    maxhp = []\n",
    "                    minhp = []\n",
    "        else:\n",
    "            if minheap:\n",
    "                heapq.heappop(minheap)\n",
    "                if not minheap or minhp[0] > -maxhp[0]:\n",
    "                    maxhp = []\n",
    "                    minhp = []\n",
    "                \n",
    "    if not maxhp and not minhp:\n",
    "        return [0,0]\n",
    "    else:\n",
    "        mx = heapq.heappop(maxhp)\n",
    "        mn = heapq.heappop(minhp)\n",
    "        return [-mx, mn]"
   ]
  },
  {
   "cell_type": "code",
   "execution_count": null,
   "metadata": {},
   "outputs": [],
   "source": [
    "solution([\"I 16\"])"
   ]
  },
  {
   "cell_type": "code",
   "execution_count": null,
   "metadata": {},
   "outputs": [],
   "source": []
  }
 ],
 "metadata": {
  "kernelspec": {
   "display_name": "Python 3",
   "language": "python",
   "name": "python3"
  },
  "language_info": {
   "codemirror_mode": {
    "name": "ipython",
    "version": 3
   },
   "file_extension": ".py",
   "mimetype": "text/x-python",
   "name": "python",
   "nbconvert_exporter": "python",
   "pygments_lexer": "ipython3",
   "version": "3.7.3"
  }
 },
 "nbformat": 4,
 "nbformat_minor": 4
}
