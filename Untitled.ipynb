{
 "cells": [
  {
   "cell_type": "code",
   "execution_count": 3,
   "metadata": {},
   "outputs": [
    {
     "name": "stdout",
     "output_type": "stream",
     "text": [
      "8\n",
      "85 42 79 95 37 11 72 32\n",
      "84\n"
     ]
    }
   ],
   "source": [
    "#15969\n",
    "import sys\n",
    "# input = sys.stdin.readline\n",
    "# print = sys.stdout.write\n",
    "\n",
    "N = int(input())\n",
    "data = list(map(int, input().split()))\n",
    "\n",
    "print(max(data) - min(data))\n",
    "#꼼수 예제보고 입력보면 더 빠른이해"
   ]
  },
  {
   "cell_type": "code",
   "execution_count": null,
   "metadata": {},
   "outputs": [],
   "source": []
  }
 ],
 "metadata": {
  "kernelspec": {
   "display_name": "Python 3",
   "language": "python",
   "name": "python3"
  },
  "language_info": {
   "codemirror_mode": {
    "name": "ipython",
    "version": 3
   },
   "file_extension": ".py",
   "mimetype": "text/x-python",
   "name": "python",
   "nbconvert_exporter": "python",
   "pygments_lexer": "ipython3",
   "version": "3.7.3"
  }
 },
 "nbformat": 4,
 "nbformat_minor": 4
}
