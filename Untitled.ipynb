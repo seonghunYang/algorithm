{
 "cells": [
  {
   "cell_type": "code",
   "execution_count": 3,
   "metadata": {},
   "outputs": [
    {
     "name": "stdout",
     "output_type": "stream",
     "text": [
      "8\n",
      "85 42 79 95 37 11 72 32\n",
      "84\n"
     ]
    }
   ],
   "source": [
    "#15969\n",
    "import sys\n",
    "# input = sys.stdin.readline\n",
    "# print = sys.stdout.write\n",
    "\n",
    "N = int(input())\n",
    "data = list(map(int, input().split()))\n",
    "\n",
    "print(max(data) - min(data))\n",
    "#꼼수 예제보고 입력보면 더 빠른이해"
   ]
  },
  {
   "cell_type": "code",
   "execution_count": 7,
   "metadata": {},
   "outputs": [
    {
     "name": "stdout",
     "output_type": "stream",
     "text": [
      "5\n",
      "1 2 2 3 4\n",
      "1 3 2 6 8\n"
     ]
    }
   ],
   "source": [
    "#10539\n",
    "import sys\n",
    "# input = sys.stdin.readline\n",
    "# print = sys.stdout.write\n",
    "\n",
    "N = int(input())\n",
    "B = list(map(int, input().split()))\n",
    "A = [B[0]]\n",
    "\n",
    "for i in range(1, N):\n",
    "    A.append(B[i] * (i+1) - B[i-1] * i)\n",
    "    \n",
    "print(*A)"
   ]
  },
  {
   "cell_type": "code",
   "execution_count": 16,
   "metadata": {},
   "outputs": [
    {
     "name": "stdout",
     "output_type": "stream",
     "text": [
      "3 2\n",
      "BOJ IN\n",
      "1%\n"
     ]
    }
   ],
   "source": [
    "#17269\n",
    "import sys\n",
    "# input = sys.stdin.readline\n",
    "# print = sys.stdout.write\n",
    "\n",
    "N, M = map(int, input().split())\n",
    "A, B = input().split()\n",
    "change = [3, 2, 1, 2, 4, 3, 1, 3, 1, 1, 3, 1, 3, 2, 1, 2,2,2, 1, 2, 1, 1, 1, 2, 2, 1]\n",
    "data = []\n",
    "n, m = 0, 0\n",
    "while n <= N-1 and m <= M-1:\n",
    "    data.append(A[n])\n",
    "    data.append(B[m])\n",
    "    n += 1\n",
    "    m += 1\n",
    "\n",
    "while n <= N-1:\n",
    "    data.append(A[n])\n",
    "    n += 1\n",
    "while m <= M-1:\n",
    "    data.append(B[m])\n",
    "    m += 1\n",
    "    \n",
    "for i in range(len(data)):\n",
    "    data[i] = change[ord(data[i]) - 65]\n",
    "    \n",
    "for i in range(len(data)-2):\n",
    "    for j in range(len(data) - i - 1):\n",
    "        data[j] = (data[j] + data[j+1]) % 10\n",
    "tmp = \"\"\n",
    "if data[0] != 0:\n",
    "    tmp += str(data[0])\n",
    "tmp += str(data[1])\n",
    "print(tmp + \"%\")"
   ]
  },
  {
   "cell_type": "code",
   "execution_count": 28,
   "metadata": {},
   "outputs": [
    {
     "name": "stdout",
     "output_type": "stream",
     "text": [
      "2 2\n",
      "AB CD\n",
      "77\n"
     ]
    }
   ],
   "source": [
    "import sys\n",
    "# input = sys.stdin.readline\n",
    "# print = sys.stdout.write\n",
    "\n",
    "N, M = map(int, input().split())\n",
    "A, B = input().split()\n",
    "change = [3, 2, 1, 2, 4, 3, 1, 3, 1, 1, 3, 1, 3, 2, 1, 2,2,2, 1, 2, 1, 1, 1, 2, 2, 1]\n",
    "\n",
    "AB = ''\n",
    "min_len = min(N, M)\n",
    "for i in range(min_len):\n",
    "    AB += A[i] + B[i]\n",
    "    \n",
    "AB += A[min_len:] + B[min_len:]\n",
    "\n",
    "data = [ change[ord(el) - ord('A')] for el in AB]\n",
    "\n",
    "for i in range(N+M-2):\n",
    "    for j in range(N+M-i-1):\n",
    "        data[j] += data[j+1]\n",
    "print(\"{}%\".format(data[0] % 10 * 10 + data[1] % 10))"
   ]
  },
  {
   "cell_type": "code",
   "execution_count": 30,
   "metadata": {},
   "outputs": [
    {
     "name": "stdout",
     "output_type": "stream",
     "text": [
      "8\n",
      "XOOOXOOX\n",
      "26\n"
     ]
    }
   ],
   "source": [
    "#17389\n",
    "import sys\n",
    "# input = sys.stdin.readline\n",
    "# print = sys.stdout.write\n",
    "\n",
    "N = int(input())\n",
    "S = input().strip()\n",
    "ans = 0\n",
    "bonus = 0\n",
    "for i in range(N):\n",
    "    if S[i] == \"O\":\n",
    "        ans += i + 1 + bonus\n",
    "        bonus += 1\n",
    "    else:\n",
    "        bonus = 0\n",
    "print(ans)"
   ]
  },
  {
   "cell_type": "code",
   "execution_count": null,
   "metadata": {},
   "outputs": [],
   "source": []
  }
 ],
 "metadata": {
  "kernelspec": {
   "display_name": "Python 3",
   "language": "python",
   "name": "python3"
  },
  "language_info": {
   "codemirror_mode": {
    "name": "ipython",
    "version": 3
   },
   "file_extension": ".py",
   "mimetype": "text/x-python",
   "name": "python",
   "nbconvert_exporter": "python",
   "pygments_lexer": "ipython3",
   "version": "3.7.3"
  }
 },
 "nbformat": 4,
 "nbformat_minor": 4
}
