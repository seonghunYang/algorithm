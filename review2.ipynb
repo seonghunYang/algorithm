{
 "cells": [
  {
   "cell_type": "code",
   "execution_count": 1,
   "metadata": {},
   "outputs": [
    {
     "name": "stdout",
     "output_type": "stream",
     "text": [
      "6 3 2\n",
      "2"
     ]
    }
   ],
   "source": [
    "#2875\n",
    "import sys\n",
    "# input = sys.stdin.readline\n",
    "print = sys.stdout.write\n",
    "\n",
    "N, M, K = map(int, input().split())\n",
    "\n",
    "cnt = 0\n",
    "\n",
    "while N + M -3 >= K and N - 2 >= 0 and M - 1 >= 0:\n",
    "    N -= 2\n",
    "    M -= 1\n",
    "    cnt += 1\n",
    "\n",
    "print(str(cnt))"
   ]
  },
  {
   "cell_type": "code",
   "execution_count": 4,
   "metadata": {},
   "outputs": [
    {
     "name": "stdout",
     "output_type": "stream",
     "text": [
      "17 5\n",
      "4"
     ]
    }
   ],
   "source": [
    "#1783\n",
    "import sys\n",
    "# input = sys.stdin.readline\n",
    "print = sys.stdout.write\n",
    "\n",
    "N, M = map(int, input().split())\n",
    "ans = 0\n",
    "if N == 1:\n",
    "    ans = 1\n",
    "elif N == 2:\n",
    "    ans = min(4, (M-1) // 2 + 1)\n",
    "else:\n",
    "    if M < 7:\n",
    "        ans = min(4, M)\n",
    "    else:\n",
    "        ans = M - 2\n",
    "        \n",
    "print(str(ans))"
   ]
  },
  {
   "cell_type": "code",
   "execution_count": 6,
   "metadata": {},
   "outputs": [
    {
     "name": "stdout",
     "output_type": "stream",
     "text": [
      "3\n",
      "2 3\n",
      "4 1\n",
      "1 3 \n",
      "2 5\n",
      "[[4, 1], [1, 3], [2, 3], [2, 5]]"
     ]
    }
   ],
   "source": [
    "#1931\n",
    "import sys\n",
    "# input = sys.stdin.readline\n",
    "print = sys.stdout.write\n",
    "\n",
    "N = int(input())\n",
    "data = [list(map(int, input().split())) for _ in range(N)]\n",
    "\n",
    "data.sort(key = lambda x: (x[1], x[0]))\n",
    "\n",
    "tmp = data[0][1]\n",
    "cnt = 1\n",
    "for i in range(1, N):\n",
    "    if tmp <= data[i][0]:\n",
    "        cnt += 1\n",
    "        tmp = data[i][1]\n",
    "print(str(cnt))"
   ]
  },
  {
   "cell_type": "code",
   "execution_count": null,
   "metadata": {},
   "outputs": [],
   "source": []
  }
 ],
 "metadata": {
  "kernelspec": {
   "display_name": "Python 3",
   "language": "python",
   "name": "python3"
  },
  "language_info": {
   "codemirror_mode": {
    "name": "ipython",
    "version": 3
   },
   "file_extension": ".py",
   "mimetype": "text/x-python",
   "name": "python",
   "nbconvert_exporter": "python",
   "pygments_lexer": "ipython3",
   "version": "3.7.3"
  }
 },
 "nbformat": 4,
 "nbformat_minor": 4
}
