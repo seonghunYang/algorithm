{
 "cells": [
  {
   "cell_type": "code",
   "execution_count": 1,
   "metadata": {},
   "outputs": [
    {
     "name": "stdout",
     "output_type": "stream",
     "text": [
      "6 3 2\n",
      "2"
     ]
    }
   ],
   "source": [
    "#2875\n",
    "import sys\n",
    "# input = sys.stdin.readline\n",
    "print = sys.stdout.write\n",
    "\n",
    "N, M, K = map(int, input().split())\n",
    "\n",
    "cnt = 0\n",
    "\n",
    "while N + M -3 >= K and N - 2 >= 0 and M - 1 >= 0:\n",
    "    N -= 2\n",
    "    M -= 1\n",
    "    cnt += 1\n",
    "\n",
    "print(str(cnt))"
   ]
  },
  {
   "cell_type": "code",
   "execution_count": 4,
   "metadata": {},
   "outputs": [
    {
     "name": "stdout",
     "output_type": "stream",
     "text": [
      "17 5\n",
      "4"
     ]
    }
   ],
   "source": [
    "#1783\n",
    "import sys\n",
    "# input = sys.stdin.readline\n",
    "print = sys.stdout.write\n",
    "\n",
    "N, M = map(int, input().split())\n",
    "ans = 0\n",
    "if N == 1:\n",
    "    ans = 1\n",
    "elif N == 2:\n",
    "    ans = min(4, (M-1) // 2 + 1)\n",
    "else:\n",
    "    if M < 7:\n",
    "        ans = min(4, M)\n",
    "    else:\n",
    "        ans = M - 2\n",
    "        \n",
    "print(str(ans))"
   ]
  },
  {
   "cell_type": "code",
   "execution_count": 6,
   "metadata": {},
   "outputs": [
    {
     "name": "stdout",
     "output_type": "stream",
     "text": [
      "3\n",
      "2 3\n",
      "4 1\n",
      "1 3 \n",
      "2 5\n",
      "[[4, 1], [1, 3], [2, 3], [2, 5]]"
     ]
    }
   ],
   "source": [
    "#1931\n",
    "import sys\n",
    "# input = sys.stdin.readline\n",
    "print = sys.stdout.write\n",
    "\n",
    "N = int(input())\n",
    "data = [list(map(int, input().split())) for _ in range(N)]\n",
    "\n",
    "data.sort(key = lambda x: (x[1], x[0]))\n",
    "\n",
    "tmp = data[0][1]\n",
    "cnt = 1\n",
    "for i in range(1, N):\n",
    "    if tmp <= data[i][0]:\n",
    "        cnt += 1\n",
    "        tmp = data[i][1]\n",
    "print(str(cnt))"
   ]
  },
  {
   "cell_type": "code",
   "execution_count": 11,
   "metadata": {},
   "outputs": [
    {
     "name": "stdout",
     "output_type": "stream",
     "text": [
      "2 5\n",
      "2 2 2 2 2\n",
      "2 2 2 2 2\n",
      "DRURDRURD"
     ]
    }
   ],
   "source": [
    "#2873\n",
    "import sys\n",
    "# input = sys.stdin.readline\n",
    "print = sys.stdout.write\n",
    "\n",
    "R, C = map(int, input().split())\n",
    "data = [list(map(int, input().split())) for _ in range(R)]\n",
    "rl = [\"R\", \"L\"]\n",
    "updown = [\"D\", \"U\"]\n",
    "\n",
    "if R % 2 == 1:\n",
    "    for i in range(R):\n",
    "        print(rl[i%2] * (C-1))\n",
    "        if i != R-1:\n",
    "            print(\"D\")\n",
    "elif C % 2 == 1:\n",
    "    for i in range(C):\n",
    "        print(updown[i%2] * (R-1))\n",
    "        if i != C-1:\n",
    "            print(\"R\")\n",
    "else:\n",
    "    min_val = 1001\n",
    "    n, m = 0, 0\n",
    "    for i in range(R):\n",
    "        for j in range(C):\n",
    "            if (i+j) % 2 == 1 and data[i][j] < min_val:\n",
    "                min_val = data[i][j]\n",
    "                n, m = i, j\n",
    "    for i in range(0, R, 2):\n",
    "        if i // 2 < n // 2:\n",
    "            print(\"R\" * (C-1))\n",
    "            print(\"D\")\n",
    "            print(\"L\" * (C-1))\n",
    "        elif i // 2 > n // 2:\n",
    "            print(\"L\" * (C-1))\n",
    "            print(\"D\")\n",
    "            print(\"R\" * (C-1))\n",
    "        else:\n",
    "            for j in range(C):\n",
    "                if j!= m:\n",
    "                    print(updown[j%2])\n",
    "                    if j != C-1:\n",
    "                        print(\"R\")\n",
    "                else:\n",
    "                    if j != C-1:\n",
    "                        print(\"R\")\n",
    "                    updown = [\"U\", \"D\"]\n",
    "        if i != R-2:\n",
    "            print(\"D\")\n",
    "            \n",
    "                "
   ]
  },
  {
   "cell_type": "code",
   "execution_count": 11,
   "metadata": {},
   "outputs": [
    {
     "name": "stdout",
     "output_type": "stream",
     "text": [
      "500000\n",
      "8\n",
      "0 2 3 4 6 7 8 9\n",
      "11117"
     ]
    }
   ],
   "source": [
    "#1107\n",
    "import sys\n",
    "# input = sys.stdin.readline\n",
    "print = sys.stdout.write\n",
    "\n",
    "N = input().strip()\n",
    "N_int = int(N)\n",
    "M = int(input())\n",
    "ans = abs(N_int - 100)\n",
    "if M == 0:\n",
    "    ans = min(ans, len(N))\n",
    "else:\n",
    "    M_list = input().split()\n",
    "    for i in range(1000000):\n",
    "        isable = True\n",
    "        for el in list(str(i)):\n",
    "            if el in M_list:\n",
    "                isable = False\n",
    "                break\n",
    "        if isable:\n",
    "            ans = min(ans, len(str(i)) + abs(N_int - i))\n",
    "print(str(ans))"
   ]
  },
  {
   "cell_type": "code",
   "execution_count": 17,
   "metadata": {
    "scrolled": false
   },
   "outputs": [
    {
     "name": "stdout",
     "output_type": "stream",
     "text": [
      "1 8\n",
      "11911103\n",
      "108\n"
     ]
    }
   ],
   "source": [
    "#1451\n",
    "import sys\n",
    "# input = sys.stdin.readline\n",
    "# print = sys.stdout.write\n",
    "\n",
    "def getArea(n, m, i, j):\n",
    "    return (s[i+1][j+1] - (s[i+1][m] + s[n][j+1] - s[n][m]))\n",
    "\n",
    "N, M = map(int, input().split())\n",
    "data = [list(map(int, list(input().strip()))) for _ in range(N)]\n",
    "\n",
    "s = [[0] * (M+1) for _ in range(N+1)]\n",
    "for i in range(1, N+1):\n",
    "    for j in range(1, M+1):\n",
    "        s[i][j] = s[i-1][j] + s[i][j-1] - s[i-1][j-1] + data[i-1][j-1]\n",
    "ans = 0\n",
    "# 1 \n",
    "for i in range(M-2):\n",
    "    for j in range(i+1, M-1):\n",
    "        sq1 = getArea(0, 0, N-1, i)\n",
    "        sq2 = getArea(0, i+1, N-1, j)\n",
    "        sq3 = getArea(0, j+1, N-1, M-1)\n",
    "        ans = max(ans, sq1 * sq2 * sq3)\n",
    "#2\n",
    "for i in range(M-1):\n",
    "    for j in range(N-1):\n",
    "        sq1 = getArea(0, 0, N-1, i)\n",
    "        sq2 = getArea(0, i+1, j, M-1)\n",
    "        sq3 = getArea(j+1, i+1, N-1, M-1)\n",
    "        ans = max(ans, sq1 * sq2 * sq3)\n",
    "        \n",
    "#3\n",
    "for i in range(N-1):\n",
    "    for j in range(M-1):\n",
    "        sq1 = getArea(0, 0, i, M-1)\n",
    "        sq2 = getArea(i+1, 0, N-1, j)\n",
    "        sq3 = getArea(i+1, j+1, N-1, M-1)\n",
    "        ans = max(ans, sq1 * sq2 * sq3)\n",
    "\n",
    "#4\n",
    "for i in range(N-2):\n",
    "    for j in range(i+1, N-1):\n",
    "        sq1 = getArea(0, 0, i, M-1)\n",
    "        sq2 = getArea(i+1, 0, j, M-1)\n",
    "        sq3 = getArea(j+1, 0, N-1, M-1)\n",
    "        ans = max(ans, sq1 * sq2 * sq3)\n",
    "\n",
    "#5\n",
    "for i in range(1, N):\n",
    "    for j in range(M-1):\n",
    "        sq1 = getArea(0, 0, i-1, j)\n",
    "        sq2 = getArea(0, j+1, i-1, M-1)\n",
    "        sq3 = getArea(i, 0, N-1, M-1)\n",
    "        ans = max(ans, sq1 * sq2 * sq3)\n",
    "\n",
    "#6\n",
    "for i in range(1, M):\n",
    "    for j in range(N-1):\n",
    "        sq1 = getArea(0, 0, j, i-1)\n",
    "        sq2 = getArea(j+1, 0, N-1, i-1)\n",
    "        sq3 = getArea(0, i, N-1, M-1)\n",
    "        ans = max(ans, sq1 * sq2 * sq3)\n",
    "\n",
    "print(str(ans))"
   ]
  },
  {
   "cell_type": "code",
   "execution_count": 34,
   "metadata": {},
   "outputs": [
    {
     "name": "stdout",
     "output_type": "stream",
     "text": [
      "4\n",
      "4 3 2 1\n",
      "[[4, 3, 2, 1], [4, 3, 1, 2], [4, 1, 3, 2], [4, 1, 2, 3], [4, 3, 2, 1], [4, 3, 1, 2], [3, 4, 1, 2], [3, 4, 2, 1], [3, 2, 4, 1], [3, 2, 1, 4], [3, 4, 1, 2], [3, 4, 2, 1], [2, 4, 3, 1], [2, 4, 1, 3], [2, 1, 4, 3], [2, 1, 3, 4], [2, 4, 3, 1], [2, 4, 1, 3], [3, 4, 1, 2], [3, 4, 2, 1], [3, 2, 4, 1], [3, 2, 1, 4], [3, 4, 1, 2], [3, 4, 2, 1]]\n"
     ]
    }
   ],
   "source": [
    "#10819\n",
    "\n",
    "import sys\n",
    "# input = sys.stdin.readline\n",
    "# print = sys.stdout.write\n",
    "\n",
    "def getValue():\n",
    "    tmp = 0\n",
    "    for i in range(N-1):\n",
    "        tmp += abs(A[i] - A[i+1])\n",
    "    return tmp\n",
    "\n",
    "def perm(depth):\n",
    "    if depth == N:\n",
    "        ans.append(getValue())\n",
    "        return\n",
    "    else:\n",
    "        for i in range(depth, N):\n",
    "            A[depth], A[i] = A[i], A[depth]\n",
    "            perm(depth+1)\n",
    "            A[depth], A[i] = A[i], A[depth]\n",
    "N = int(input())\n",
    "A = list(map(int, input().split()))\n",
    "ans = []\n",
    "\n",
    "perm(0)\n",
    "print(max(ans))"
   ]
  },
  {
   "cell_type": "code",
   "execution_count": 39,
   "metadata": {},
   "outputs": [
    {
     "name": "stdout",
     "output_type": "stream",
     "text": [
      "6\n",
      "20 1 15 8 4 10\n",
      "62\n"
     ]
    }
   ],
   "source": [
    "from itertools import permutations\n",
    "import sys\n",
    "# input = sys.stdin.readline\n",
    "# print = sys.stdout.write\n",
    "\n",
    "def getValue(A):\n",
    "    tmp = 0\n",
    "    for i in range(N-1):\n",
    "        tmp += abs(A[i] - A[i+1])\n",
    "    return tmp\n",
    "\n",
    "N = int(input())\n",
    "A = list(map(int, input().split()))\n",
    "permute = list(permutations(A, N))\n",
    "ans = 0\n",
    "for el in permute:\n",
    "    ans = max(ans, getValue(el))\n",
    "print(ans)"
   ]
  },
  {
   "cell_type": "code",
   "execution_count": 9,
   "metadata": {},
   "outputs": [
    {
     "name": "stdout",
     "output_type": "stream",
     "text": [
      "4\n",
      "0 10 15 20\n",
      "5 0 9 10\n",
      "6 13 0 12\n",
      "8 8 9 0\n",
      "35\n"
     ]
    }
   ],
   "source": [
    "#10971\n",
    "import sys\n",
    "# input = sys.stdin.readline\n",
    "# print = sys.stdout.write\n",
    "\n",
    "def DFS():\n",
    "    visited[start_node] = 1\n",
    "    for el, val in graph[start_node]:\n",
    "        aDFS(el, val)\n",
    "        \n",
    "def aDFS(node, value):\n",
    "    if node == start_node:\n",
    "        isposs = True\n",
    "        for i in range(1, N+1):\n",
    "            if visited[i] == 0:\n",
    "                isposs = False\n",
    "        if isposs:\n",
    "            ans[0] = min(ans[0], value)\n",
    "    else:\n",
    "        visited[node] = 1\n",
    "        for el, val in graph[node]:\n",
    "            if visited[el] == 0 or el == start_node:\n",
    "                aDFS(el, value+val)\n",
    "        visited[node] = 0\n",
    "    \n",
    "    \n",
    "N = int(input())\n",
    "graph = [[] for _ in range(11)]\n",
    "for i in range(1, N+1):\n",
    "    info = list(map(int, input().split()))\n",
    "    for idx, el in enumerate(info):\n",
    "        if el != 0:\n",
    "            graph[i].append([idx+1, el])\n",
    "visited = [0 for _ in range(N+1)]\n",
    "start_node = 1\n",
    "ans = [sys.maxsize]\n",
    "DFS()\n",
    "print(ans[0])"
   ]
  },
  {
   "cell_type": "code",
   "execution_count": 33,
   "metadata": {},
   "outputs": [
    {
     "name": "stdout",
     "output_type": "stream",
     "text": [
      "4\n",
      "0 10 15 20\n",
      "5 0 9 10\n",
      "6 13 0 12\n",
      "8 8 9 0\n",
      "35\n"
     ]
    }
   ],
   "source": [
    "#10971 비트마스크 풀이\n",
    "import sys\n",
    "# input = sys.stdin.readline\n",
    "# print = sys.stdout.write\n",
    "\n",
    "def find(now, before):\n",
    "    if dp[now][before]:\n",
    "        return dp[now][before]\n",
    "    if before == (1<<N) - 1:\n",
    "        return graph[now][1] or sys.maxsize\n",
    "\n",
    "    cost = sys.maxsize\n",
    "    for i in range(2, N+1):\n",
    "        if not (before>>(i-1))%2 and graph[now][i]:\n",
    "            tmp = find(i, before | (1<<(i-1)))\n",
    "            cost = min(cost, tmp + graph[now][i])\n",
    "    dp[now][before] = cost\n",
    "    return cost\n",
    "\n",
    "\n",
    "N = int(input())\n",
    "graph = [[0] * (N+1)] + [[0] + list(map(int, input().split())) for _ in range(N)]\n",
    "\n",
    "            \n",
    "visited = 0\n",
    "dp = [[0] *(1 << N) for _ in range(N+1)]\n",
    "\n",
    "print(find(1, 1))"
   ]
  },
  {
   "cell_type": "code",
   "execution_count": 35,
   "metadata": {},
   "outputs": [
    {
     "name": "stdout",
     "output_type": "stream",
     "text": [
      "4\n",
      "0 10 15 20\n",
      "5 0 9 10\n",
      "6 13 0 12\n",
      "8 8 9 0\n",
      "35\n"
     ]
    }
   ],
   "source": [
    "#10971 비트마스크 풀이\n",
    "import sys\n",
    "# input = sys.stdin.readline\n",
    "# print = sys.stdout.write\n",
    "\n",
    "def find(now, before):\n",
    "\n",
    "    if before == (1<<N) - 1:\n",
    "        return graph[now][1] or sys.maxsize\n",
    "\n",
    "    cost = sys.maxsize\n",
    "    for i in range(2, N+1):\n",
    "        if not (before>>(i-1))%2 and graph[now][i]:\n",
    "            tmp = find(i, before | (1<<(i-1)))\n",
    "            cost = min(cost, tmp + graph[now][i])\n",
    "    return cost\n",
    "\n",
    "\n",
    "N = int(input())\n",
    "graph = [[0] * (N+1)] + [[0] + list(map(int, input().split())) for _ in range(N)]\n",
    "\n",
    "            \n",
    "visited = 0\n",
    "\n",
    "print(find(1, 1))"
   ]
  },
  {
   "cell_type": "code",
   "execution_count": 1,
   "metadata": {},
   "outputs": [
    {
     "name": "stdout",
     "output_type": "stream",
     "text": [
      "4\n",
      "0 10 15 20\n",
      "5 0 9 10\n",
      "6 13 0 12\n",
      "8 8 9 0\n",
      "35\n"
     ]
    }
   ],
   "source": [
    "import sys\n",
    "# input = sys.stdin.readline\n",
    "# print = sys.stdout.write\n",
    "\n",
    "def find(node, visited):\n",
    "    if dp[node][visited] != 0:\n",
    "        return dp[node][visited]\n",
    "    \n",
    "    if visited == (1 << N) -1:\n",
    "        return graph[node][start_node] or sys.maxsize\n",
    "    \n",
    "    cost = sys.maxsize\n",
    "    for idx, el in enumerate(graph[node]):\n",
    "        if (visited >> idx) % 2 == 0 and el != 0:\n",
    "            tmp = find(idx, visited | (1<<idx))\n",
    "            cost = min(cost, tmp + el)\n",
    "    dp[node][visited] = cost\n",
    "    return cost\n",
    "\n",
    "N = int(input())\n",
    "graph = [list(map(int, input().split())) for _ in range(N)]\n",
    "dp = [[0] * (1 << N) for _ in range(N)]\n",
    "start_node = 0\n",
    "\n",
    "print(find(start_node, 1))"
   ]
  },
  {
   "cell_type": "code",
   "execution_count": null,
   "metadata": {},
   "outputs": [],
   "source": [
    "#1697\n",
    "from collections import deque\n",
    "import sys\n",
    "# input = sys.stdin.readline\n",
    "# print = sys.stdout.write\n",
    "\n",
    "\n",
    "N, K = map(int, input().split())\n",
    "visited = [0 for _ in range(100001)]\n",
    "que = deque([N])\n",
    "visited[N] = 1\n",
    "loop = 0\n",
    "while que:\n",
    "    for i in range(len(que)):\n",
    "        node = que.popleft()\n",
    "        if node == K:\n",
    "            print(loop)\n",
    "            exit()\n",
    "        for el in [node-1, node+1, node*2]:\n",
    "            if 0<= el <= 100000 and visited[el] == 0:\n",
    "                que.append(el)\n",
    "                visited[el] = 1\n",
    "    loop += 1\n"
   ]
  },
  {
   "cell_type": "code",
   "execution_count": 37,
   "metadata": {},
   "outputs": [
    {
     "name": "stdout",
     "output_type": "stream",
     "text": [
      "3\n",
      "1033 8179\n",
      "6\n",
      "1373 8017\n",
      "7\n",
      "1033 1033\n",
      "0\n"
     ]
    }
   ],
   "source": [
    "#1963\n",
    "from collections import deque\n",
    "import sys\n",
    "# input = sys.stdin.readline\n",
    "# print = sys.stdout.write\n",
    "\n",
    "prime = [True for _ in range(10001)]\n",
    "\n",
    "for i in range(2, int((10000**0.5)) +1):\n",
    "    if prime[i]:\n",
    "        for j in range(2*i, 10001, i):\n",
    "            prime[j] = False\n",
    "\n",
    "T = int(input())\n",
    "for _ in range(T):\n",
    "    A, B = map(int, input().split())\n",
    "    visited = [0 for _ in range(10001)]\n",
    "    que = deque([A])\n",
    "    visited[A] = 1\n",
    "    loop = 0\n",
    "    isend = False\n",
    "    while que:\n",
    "        for _ in range(len(que)):\n",
    "            node = que.popleft()\n",
    "            if node == B:\n",
    "                isend = True\n",
    "                break\n",
    "            for i in range(1, 5):\n",
    "                for j in range(10):\n",
    "                    if i == 4 and j == 0:\n",
    "                        continue\n",
    "                    tmp = (node - (node % 10 ** i)) + j * (10 ** (i-1)) + node % (10 ** (i-1))\n",
    "                    if prime[tmp] and visited[tmp] == 0:\n",
    "                        que.append(tmp)\n",
    "                        visited[tmp] = 1\n",
    "        if isend:\n",
    "            break\n",
    "        loop += 1\n",
    "    if isend:\n",
    "        print(loop)\n",
    "    else:\n",
    "        print(\"Impossible\")\n",
    "    "
   ]
  },
  {
   "cell_type": "code",
   "execution_count": 15,
   "metadata": {},
   "outputs": [
    {
     "name": "stdout",
     "output_type": "stream",
     "text": [
      "3\n",
      "1033 8179\n",
      "6\n",
      "1373 8017\n",
      "7\n",
      "1033 1033\n",
      "0\n"
     ]
    }
   ],
   "source": [
    "#1963\n",
    "from collections import deque\n",
    "import sys\n",
    "# input = sys.stdin.readline\n",
    "# print = sys.stdout.write\n",
    "\n",
    "prime = [True for _ in range(10000)]\n",
    "\n",
    "for i in range(2, 100):\n",
    "    if prime[i]:\n",
    "        for j in range(i*2, 10000, i):\n",
    "            prime[j] = False\n",
    "\n",
    "T = int(input())\n",
    "for _ in range(T):\n",
    "    A, B = map(int, input().split())\n",
    "    #visited 초기값 0...\n",
    "    visited = [0 for _ in range(10000)]\n",
    "    que = deque([[A, 0]])\n",
    "    visited[A] = 1\n",
    "    \n",
    "    while que:\n",
    "        node, val = que.popleft()\n",
    "        \n",
    "        if node == B:\n",
    "            print(val)\n",
    "            break\n",
    "        \n",
    "        for i in [1, 10, 100, 1000]:\n",
    "            #자릿수 맞추기\n",
    "            tmp = node - ((node // i) % 10) * i\n",
    "            for j in range(10):\n",
    "                # 숫자 맨앞은 0이면 안된다\n",
    "                if i == 1000 and j == 0:\n",
    "                    continue\n",
    "                t = tmp + (j * i)\n",
    "                if prime[t] and visited[t] == 0:\n",
    "                    que.append([t, val + 1])\n",
    "                    visited[t] = 1\n",
    "                    "
   ]
  },
  {
   "cell_type": "markdown",
   "metadata": {},
   "source": [
    "prime "
   ]
  },
  {
   "cell_type": "code",
   "execution_count": 17,
   "metadata": {},
   "outputs": [
    {
     "name": "stdout",
     "output_type": "stream",
     "text": [
      "3\n",
      "1234 3412\n",
      "LL\n",
      "1000 1\n",
      "L\n",
      "1 16\n",
      "DDDD\n"
     ]
    }
   ],
   "source": [
    "#9019\n",
    "from collections import deque\n",
    "import sys\n",
    "# input = sys.stdin.readline\n",
    "# print = sys.stdout.write\n",
    "\n",
    "T = int(input())\n",
    "for _ in range(T):\n",
    "    A, B = map(int, input().split())\n",
    "    visited = [0 for _ in range(10000)]\n",
    "    que = deque([[A, \"\"]])\n",
    "    visited[A] = 1\n",
    "    \n",
    "    while que:\n",
    "        node, route = que.popleft()\n",
    "        if node == B:\n",
    "            print(route)\n",
    "            break\n",
    "        \n",
    "        d = (2 * node) % 10000\n",
    "        if visited[d] == 0:\n",
    "            que.append([d, route+\"D\"])\n",
    "            visited[d] = 1\n",
    "        \n",
    "        s = 9999 if node == 0 else node-1\n",
    "        if visited[s] == 0:\n",
    "            que.append([s, route+\"S\"])\n",
    "            visited[s] = 1\n",
    "        \n",
    "        l = (node % 1000) * 10 + (node//1000)\n",
    "        if visited[l] == 0:\n",
    "            que.append([l, route+\"L\"])\n",
    "            visited[l] = 1\n",
    "            \n",
    "        r = (node % 10) * 1000 + node//10 \n",
    "        if visited[r] == 0:\n",
    "            que.append([r, route+\"R\"])\n",
    "            visited[r] = 1\n",
    "        "
   ]
  },
  {
   "cell_type": "code",
   "execution_count": 13,
   "metadata": {},
   "outputs": [
    {
     "name": "stdout",
     "output_type": "stream",
     "text": [
      "1\n",
      "1033 1033\n",
      "0\n"
     ]
    }
   ],
   "source": [
    "#1963\n",
    "from collections import deque\n",
    "import sys\n",
    "# input = sys.stdin.readline\n",
    "# print = sys.stdout.write\n",
    "\n",
    "prime = [True for _ in range(10000)]\n",
    "for i in range(2, 101):\n",
    "    if prime[i]:\n",
    "        for j in range(2*i, 10000, i):\n",
    "            prime[j] = False\n",
    "\n",
    "T = int(input())\n",
    "for _ in range(T):\n",
    "    A, B = map(int, input().split())\n",
    "    visited = [0 for _ in range(10000)]\n",
    "    que = deque([[A, 0]])\n",
    "    visited[A] = 1\n",
    "    isposs = False\n",
    "    while que:\n",
    "        node, val = que.popleft()\n",
    "        if node == B:\n",
    "            isposs = True\n",
    "            print(val)\n",
    "            break\n",
    "        for i in [1, 10, 100, 1000]:\n",
    "            tmp = node - (node // i) % 10 * i\n",
    "            for j in range(10):\n",
    "                if i == 1000 and j == 0:\n",
    "                    continue\n",
    "                tmp2 = tmp + j * i\n",
    "                if prime[tmp2] and visited[tmp2] == 0:\n",
    "                    que.append([tmp2, val+1])\n",
    "                    visited[tmp2] = 1\n",
    "    \n",
    "    if not isposs:\n",
    "        print(\"Impossible\")"
   ]
  },
  {
   "cell_type": "code",
   "execution_count": 22,
   "metadata": {},
   "outputs": [
    {
     "name": "stdout",
     "output_type": "stream",
     "text": [
      "3 6 0\n",
      "8 1 2\n",
      "7 4 5\n",
      "-1\n"
     ]
    }
   ],
   "source": [
    "#1525\n",
    "from collections import deque\n",
    "import sys\n",
    "# input = sys.stdin.readline\n",
    "# print = sys.stdout.write\n",
    "\n",
    "#초기 상태 받기\n",
    "A = 0\n",
    "zero_idx = 0\n",
    "for i in range(3):\n",
    "    info = list(map(int, input().split()))\n",
    "    for j in range(3):\n",
    "        if info[j] == 0:\n",
    "            zero_idx = (3 * i + j)\n",
    "        A += info[j] * (10 ** (3 * i + j))\n",
    "visited = {}\n",
    "que = deque([[A, zero_idx, 0]])\n",
    "visited[A] = 1\n",
    "isposs = False\n",
    "while que:\n",
    "    node, idx, val = que.popleft()\n",
    "    if node == 87654321:\n",
    "        isposs =True\n",
    "        print(val)\n",
    "        break\n",
    "        \n",
    "    for i in [-1, 1]:\n",
    "        tmp = idx + i\n",
    "        if 0<= tmp <= 8 and tmp // 3 == idx // 3:\n",
    "            s = node // (10 ** tmp) % 10\n",
    "            tmp2 = node - (s * (10 ** tmp)) + s * (10 **idx)\n",
    "            if not visited.get(tmp2):\n",
    "                que.append([tmp2, tmp, val+1])\n",
    "                visited[tmp2] = 1\n",
    "    \n",
    "    for i in [-3, +3]:\n",
    "        tmp = idx + i\n",
    "        if 0<= tmp <= 8:\n",
    "            s = node // (10 ** tmp) % 10 \n",
    "            tmp2 = node - (s * (10 ** tmp)) + s * (10 **idx)\n",
    "            if not visited.get(tmp2):\n",
    "                que.append([tmp2, tmp, val+1])\n",
    "                visited[tmp2] = 1\n",
    "                \n",
    "if not isposs:\n",
    "    print(-1)"
   ]
  },
  {
   "cell_type": "code",
   "execution_count": 28,
   "metadata": {},
   "outputs": [
    {
     "name": "stdout",
     "output_type": "stream",
     "text": [
      "1 1 1\n",
      "0 1 "
     ]
    }
   ],
   "source": [
    "#2251\n",
    "from collections import deque\n",
    "import sys\n",
    "# input = sys.stdin.readline\n",
    "# print = sys.stdout.write\n",
    "\n",
    "data = list(map(int, input().split()))\n",
    "ans = []\n",
    "visited = [[0] * (data[1]+1) for _ in range(data[0]+1)]\n",
    "\n",
    "que = deque([[0, 0, data[2]]])\n",
    "visited[0][0] = 1\n",
    "\n",
    "while que:\n",
    "    info = que.popleft()\n",
    "    if info[0] == 0:\n",
    "        ans.append(info[2])\n",
    "    \n",
    "    for i in range(3):\n",
    "        for j in range(3):\n",
    "            if i == j:\n",
    "                continue\n",
    "            tmp = info.copy()\n",
    "            if info[i] <= (data[j] - tmp[j]):\n",
    "                tmp[i], tmp[j] = 0, tmp[j] + tmp[i]\n",
    "                if visited[tmp[0]][tmp[1]] == 0:\n",
    "                    que.append(tmp)\n",
    "                    visited[tmp[0]][tmp[1]] = 1\n",
    "            else:\n",
    "                tmp[i], tmp[j] = tmp[i] - (data[j] - tmp[j]), data[j]\n",
    "                if visited[tmp[0]][tmp[1]] == 0:\n",
    "                    que.append(tmp)\n",
    "                    visited[tmp[0]][tmp[1]] = 1\n",
    "                    \n",
    "for el in sorted(ans):\n",
    "    print(el, end=\" \")"
   ]
  },
  {
   "cell_type": "code",
   "execution_count": 23,
   "metadata": {},
   "outputs": [
    {
     "data": {
      "text/plain": [
       "7"
      ]
     },
     "execution_count": 23,
     "metadata": {},
     "output_type": "execute_result"
    }
   ],
   "source": [
    "a = 3\n",
    "b= 4\n",
    "a, b = 0, a+ b\n",
    "b"
   ]
  },
  {
   "cell_type": "code",
   "execution_count": null,
   "metadata": {},
   "outputs": [],
   "source": []
  }
 ],
 "metadata": {
  "kernelspec": {
   "display_name": "Python 3",
   "language": "python",
   "name": "python3"
  },
  "language_info": {
   "codemirror_mode": {
    "name": "ipython",
    "version": 3
   },
   "file_extension": ".py",
   "mimetype": "text/x-python",
   "name": "python",
   "nbconvert_exporter": "python",
   "pygments_lexer": "ipython3",
   "version": "3.7.3"
  }
 },
 "nbformat": 4,
 "nbformat_minor": 4
}
