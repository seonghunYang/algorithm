{
 "cells": [
  {
   "cell_type": "code",
   "execution_count": null,
   "metadata": {},
   "outputs": [],
   "source": [
    "#11047\n",
    "import sys\n",
    "# input = sys.stdin.readline\n",
    "print = sys.stdout.write\n",
    "\n",
    "N, K = map(int, input().split())\n",
    "\n",
    "data = [int(input()) for _ in range(N)]\n",
    "cnt = 0\n",
    "for i in range(N-1, -1, -1):\n",
    "    cnt += K // data[i]\n",
    "    if K % data[i] == 0:\n",
    "        break\n",
    "    K = K % data[i]\n",
    "print(str(cnt))"
   ]
  },
  {
   "cell_type": "code",
   "execution_count": 2,
   "metadata": {},
   "outputs": [
    {
     "name": "stdout",
     "output_type": "stream",
     "text": [
      "6 3 2\n",
      "2"
     ]
    }
   ],
   "source": [
    "#2875\n",
    "\n",
    "import sys\n",
    "# input = sys.stdin.readline\n",
    "print = sys.stdout.write\n",
    "\n",
    "N, M, K = map(int, input().split())\n",
    "\n",
    "if N > 2 * M:\n",
    "    max_team = M\n",
    "    K -= (N - 2* M)\n",
    "else:\n",
    "    max_team = N // 2\n",
    "    K -= (M - N//2)\n",
    "while K > 0:\n",
    "    max_team -=1\n",
    "    K -= 3\n",
    "print(str(max_team))"
   ]
  },
  {
   "cell_type": "code",
   "execution_count": null,
   "metadata": {},
   "outputs": [],
   "source": [
    "import sys\n",
    "# input = sys.stdin.readline\n",
    "print = sys.stdout.write\n",
    "\n",
    "N, M, K = map(int, input().split())\n",
    "cnt = 0\n",
    "while True:\n",
    "    if (N-2) + (M-1) >= K and (N-2) >= 0 and (M-1) >= 0:\n",
    "        N-=2\n",
    "        M-=1\n",
    "        cnt += 1\n",
    "    else:\n",
    "        break\n",
    "        \n",
    "print(str(cnt))"
   ]
  },
  {
   "cell_type": "code",
   "execution_count": 8,
   "metadata": {},
   "outputs": [
    {
     "name": "stdout",
     "output_type": "stream",
     "text": [
      "80875542\n",
      "88755420"
     ]
    }
   ],
   "source": [
    "#10610\n",
    "import sys\n",
    "# input = sys.stdin.readline\n",
    "print = sys.stdout.write\n",
    "\n",
    "N = list(map(int, list(input().strip())))\n",
    "N.sort(reverse=True)\n",
    "\n",
    "if N[-1] != 0:\n",
    "    print(\"-1\")\n",
    "elif sum(N) % 3 != 0:\n",
    "    print(\"-1\")\n",
    "else:\n",
    "    for el in N:\n",
    "        print(str(el))"
   ]
  },
  {
   "cell_type": "code",
   "execution_count": 13,
   "metadata": {},
   "outputs": [
    {
     "name": "stdout",
     "output_type": "stream",
     "text": [
      "20 4\n",
      "4"
     ]
    }
   ],
   "source": [
    "#1783\n",
    "import sys\n",
    "# input = sys.stdin.readline\n",
    "print = sys.stdout.write\n",
    "\n",
    "N, M = map(int, input().split())\n",
    "\n",
    "ans = 0\n",
    "\n",
    "if N == 1:\n",
    "    ans = 1\n",
    "elif N == 2:\n",
    "    ans = min(4, (M -1) // 2 + 1)\n",
    "else:\n",
    "    if M < 7:\n",
    "        ans = min(4,M)\n",
    "    else:\n",
    "        ans = M -2\n",
    "print(str(ans))\n"
   ]
  },
  {
   "cell_type": "code",
   "execution_count": 17,
   "metadata": {},
   "outputs": [
    {
     "name": "stdout",
     "output_type": "stream",
     "text": [
      "3\n",
      "1 4\n",
      "4 4\n",
      "4 6\n",
      "3"
     ]
    }
   ],
   "source": [
    "#1931\n",
    "import sys\n",
    "# input = sys.stdin.readline\n",
    "print = sys.stdout.write\n",
    "\n",
    "N = int(input())\n",
    "data = [list(map(int, input().split())) for _ in range(N)]\n",
    "data.sort(key=lambda x; x[0])\n",
    "data.sort(key = lambda x: x[1])\n",
    "\n",
    "tmp = data[0][1]\n",
    "cnt = 1\n",
    "\n",
    "for i in range(1, N):\n",
    "    if tmp <= data[i][0]:\n",
    "        cnt += 1\n",
    "        tmp = data[i][1]\n",
    "print(str(cnt))"
   ]
  },
  {
   "cell_type": "code",
   "execution_count": 18,
   "metadata": {},
   "outputs": [
    {
     "name": "stdout",
     "output_type": "stream",
     "text": [
      "5\n",
      "3 1 4 3 2\n",
      "32"
     ]
    }
   ],
   "source": [
    "#11399\n",
    "\n",
    "import sys\n",
    "# input = sys.stdin.readline\n",
    "print = sys.stdout.write\n",
    "\n",
    "N = int(input())\n",
    "data = sorted(list(map(int, input().split())))\n",
    "\n",
    "ans = 0\n",
    "for i in range(1, N+1):\n",
    "    ans += sum(data[:i])\n",
    "print(str(ans))"
   ]
  },
  {
   "cell_type": "code",
   "execution_count": 51,
   "metadata": {
    "scrolled": true
   },
   "outputs": [
    {
     "name": "stdout",
     "output_type": "stream",
     "text": [
      "2 2\n",
      "2 2\n",
      "2 1\n",
      "DR"
     ]
    }
   ],
   "source": [
    "#2873\n",
    "import sys\n",
    "# input = sys.stdin.readline\n",
    "print = sys.stdout.write\n",
    "\n",
    "R, C = map(int, input().split())\n",
    "\n",
    "data = [list(map(int, input().split())) for _ in range(R)]\n",
    "updown = [\"D\", \"U\"]\n",
    "\n",
    "if R % 2 == 1:\n",
    "    for i in range(R):\n",
    "        if i % 2 == 0:\n",
    "            print(\"R\" * (C-1))\n",
    "        else:\n",
    "            print(\"L\" * (C-1))\n",
    "        if i != R-1:\n",
    "            print(\"D\")\n",
    "elif C % 2 == 1:\n",
    "    for i in range(C):\n",
    "        if i % 2 == 0:\n",
    "            print(\"D\" * (R-1))\n",
    "        else:\n",
    "            print(\"U\" * (R-1))\n",
    "        if i != C-1:\n",
    "            print(\"R\")\n",
    "else:\n",
    "    n, m = 0, 0\n",
    "    min_val = sys.maxsize\n",
    "    for i in range(R):\n",
    "        for j in range(C):\n",
    "            if i == 0 and j == 0:\n",
    "                continue\n",
    "            if i == R-1 and j == C-1:\n",
    "                continue\n",
    "            if (i + j) % 2 == 1 and data[i][j] < min_val:\n",
    "                min_val = data[i][j]\n",
    "                n, m = i, j\n",
    "    for i in range(0, R, 2):\n",
    "        if i // 2 < n // 2:\n",
    "            print(\"R\" * (C-1))\n",
    "            print(\"D\")\n",
    "            print(\"L\" * (C-1))\n",
    "        elif i // 2 > n // 2:\n",
    "            print(\"L\" * (C-1))\n",
    "            print(\"D\")\n",
    "            print(\"R\" * (C-1))\n",
    "        else:\n",
    "            #막성정리하면 몇줄 안되는데 왜 눈으로 풀려고하냐 ! 쓰면서 정리해라\n",
    "            for j in range(C):\n",
    "                if j != m:\n",
    "                    if j != C-1:\n",
    "                        print(str(updown[j % 2]))\n",
    "                        print(\"R\")\n",
    "                    else:\n",
    "                        print(\"D\")\n",
    "                else:\n",
    "                    if j != C-1:\n",
    "                        print(\"R\")\n",
    "                        updown = [\"U\", \"D\"]\n",
    "        if i != R-2:\n",
    "            print(\"D\")\n",
    "\n"
   ]
  },
  {
   "cell_type": "code",
   "execution_count": 66,
   "metadata": {},
   "outputs": [
    {
     "name": "stdout",
     "output_type": "stream",
     "text": [
      "3\n",
      "-2\n",
      "-1\n",
      "-1\n",
      "1"
     ]
    }
   ],
   "source": [
    "#1744\n",
    "import sys\n",
    "# input = sys.stdin.readline\n",
    "print = sys.stdout.write\n",
    "N = int(input())\n",
    "\n",
    "data = sorted([int(input()) for _ in range(N)])\n",
    "ans = 0\n",
    "plus_idx = N\n",
    "for i in range(0, N, 2):\n",
    "    if data[i] > 0:\n",
    "        plus_idx = i\n",
    "        break\n",
    "\n",
    "    if i + 1 <= N-1:\n",
    "        if data[i+1] > 0:\n",
    "            ans += data[i]\n",
    "            plus_idx = i+1\n",
    "            break\n",
    "    else:\n",
    "        ans += data[i]\n",
    "        break\n",
    "    ans += (data[i] * data[i+1])\n",
    "    \n",
    "for i in range(N-1, plus_idx-1, -2):\n",
    "    if i-1 < plus_idx:\n",
    "        ans += data[i]\n",
    "        break\n",
    "    plus = data[i] + data[i-1]\n",
    "    multi = data[i] * data[i-1]\n",
    "    if multi > plus:\n",
    "        ans += multi\n",
    "    else:\n",
    "        ans += plus\n",
    "print(str(ans))\n",
    "        \n"
   ]
  },
  {
   "cell_type": "code",
   "execution_count": 74,
   "metadata": {},
   "outputs": [
    {
     "name": "stdout",
     "output_type": "stream",
     "text": [
      "15 28 19\n",
      "7980"
     ]
    }
   ],
   "source": [
    "#1476\n",
    "import sys\n",
    "# input = sys.stdin.readline\n",
    "print = sys.stdout.write\n",
    "\n",
    "E, S, M = map(int, input().split())\n",
    "\n",
    "ans = S\n",
    "while True:\n",
    "    if ans % 15 == (E % 15) and ans % 19 == (M % 19):\n",
    "        break\n",
    "    else:\n",
    "        ans += 28\n",
    "print(str(ans))"
   ]
  },
  {
   "cell_type": "code",
   "execution_count": 2,
   "metadata": {},
   "outputs": [
    {
     "name": "stdout",
     "output_type": "stream",
     "text": [
      "100\n",
      "0\n",
      "0"
     ]
    }
   ],
   "source": [
    "#1107\n",
    "import sys\n",
    "# input = sys.stdin.readline\n",
    "print = sys.stdout.write\n",
    "\n",
    "#타입 뭐로 받을지\n",
    "N = input().strip()\n",
    "M = int(input())\n",
    "##최소 최대 조건문\n",
    "if M == 0:\n",
    "    print(str(min(len(N), abs(int(N)-100))))\n",
    "else:\n",
    "    data = input().split()\n",
    "    ans = abs(int(N)-100)\n",
    "    #브루트포스\n",
    "    for i in range(1000000):\n",
    "        istrue = True\n",
    "        tmp = list(str(i))\n",
    "        for el in tmp:\n",
    "            if el in data:\n",
    "                istrue = False\n",
    "                break\n",
    "        if istrue:\n",
    "            ans = min(ans, len(tmp) + abs(int(N)-i))\n",
    "    print(str(ans))"
   ]
  },
  {
   "cell_type": "code",
   "execution_count": 8,
   "metadata": {},
   "outputs": [
    {
     "name": "stdout",
     "output_type": "stream",
     "text": [
      "0\n",
      "0\n",
      "1"
     ]
    }
   ],
   "source": [
    "#1107 그리디로\n",
    "\n",
    "import sys\n",
    "# input = sys.stdin.readline\n",
    "print = sys.stdout.write\n",
    "\n",
    "#타입 뭐로 받을지\n",
    "N = input().strip()\n",
    "M = int(input())\n",
    "if M == 0:\n",
    "    print(str(min(abs(int(N)-100), len(N))))\n",
    "else:\n",
    "    data = input().split()\n",
    "    n = int(N)\n",
    "    ans = abs(n - 100)\n",
    "    for i in range(n+1, 1000000):\n",
    "        isable = True\n",
    "        for el in list(str(i)):\n",
    "            if el in data:\n",
    "                isable = False\n",
    "        \n",
    "        if isable:\n",
    "            ans = min(ans, len(str(i)) + (i-n))\n",
    "            break\n",
    "\n",
    "    for i in range(n, -1, -1):\n",
    "        isable = True\n",
    "        for  el in list(str(i)):\n",
    "            if el in data:\n",
    "                isable = False\n",
    "        if isable:\n",
    "            ans = min(ans, len(str(i)) + (n-i))\n",
    "            break\n",
    "            \n",
    "    print(str(ans))"
   ]
  },
  {
   "cell_type": "code",
   "execution_count": null,
   "metadata": {},
   "outputs": [],
   "source": [
    "#1451\n",
    "import sys\n",
    "# input = sys.stdin.readline\n",
    "# print = sys.stdout.write\n",
    "\n"
   ]
  }
 ],
 "metadata": {
  "kernelspec": {
   "display_name": "Python 3",
   "language": "python",
   "name": "python3"
  },
  "language_info": {
   "codemirror_mode": {
    "name": "ipython",
    "version": 3
   },
   "file_extension": ".py",
   "mimetype": "text/x-python",
   "name": "python",
   "nbconvert_exporter": "python",
   "pygments_lexer": "ipython3",
   "version": "3.7.3"
  }
 },
 "nbformat": 4,
 "nbformat_minor": 4
}
