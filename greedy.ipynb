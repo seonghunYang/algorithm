{
 "cells": [
  {
   "cell_type": "code",
   "execution_count": null,
   "metadata": {},
   "outputs": [],
   "source": [
    "#11047\n",
    "import sys\n",
    "# input = sys.stdin.readline\n",
    "print = sys.stdout.write\n",
    "\n",
    "N, K = map(int, input().split())\n",
    "\n",
    "data = [int(input()) for _ in range(N)]\n",
    "cnt = 0\n",
    "for i in range(N-1, -1, -1):\n",
    "    cnt += K // data[i]\n",
    "    if K % data[i] == 0:\n",
    "        break\n",
    "    K = K % data[i]\n",
    "print(str(cnt))"
   ]
  },
  {
   "cell_type": "code",
   "execution_count": 2,
   "metadata": {},
   "outputs": [
    {
     "name": "stdout",
     "output_type": "stream",
     "text": [
      "6 3 2\n",
      "2"
     ]
    }
   ],
   "source": [
    "#2875\n",
    "\n",
    "import sys\n",
    "# input = sys.stdin.readline\n",
    "print = sys.stdout.write\n",
    "\n",
    "N, M, K = map(int, input().split())\n",
    "\n",
    "if N > 2 * M:\n",
    "    max_team = M\n",
    "    K -= (N - 2* M)\n",
    "else:\n",
    "    max_team = N // 2\n",
    "    K -= (M - N//2)\n",
    "while K > 0:\n",
    "    max_team -=1\n",
    "    K -= 3\n",
    "print(str(max_team))"
   ]
  },
  {
   "cell_type": "code",
   "execution_count": null,
   "metadata": {},
   "outputs": [],
   "source": [
    "import sys\n",
    "# input = sys.stdin.readline\n",
    "print = sys.stdout.write\n",
    "\n",
    "N, M, K = map(int, input().split())\n",
    "cnt = 0\n",
    "while True:\n",
    "    if (N-2) + (M-1) >= K and (N-2) >= 0 and (M-1) >= 0:\n",
    "        N-=2\n",
    "        M-=1\n",
    "        cnt += 1\n",
    "    else:\n",
    "        break\n",
    "        \n",
    "print(str(cnt))"
   ]
  },
  {
   "cell_type": "code",
   "execution_count": 8,
   "metadata": {},
   "outputs": [
    {
     "name": "stdout",
     "output_type": "stream",
     "text": [
      "80875542\n",
      "88755420"
     ]
    }
   ],
   "source": [
    "#10610\n",
    "import sys\n",
    "# input = sys.stdin.readline\n",
    "print = sys.stdout.write\n",
    "\n",
    "N = list(map(int, list(input().strip())))\n",
    "N.sort(reverse=True)\n",
    "\n",
    "if N[-1] != 0:\n",
    "    print(\"-1\")\n",
    "elif sum(N) % 3 != 0:\n",
    "    print(\"-1\")\n",
    "else:\n",
    "    for el in N:\n",
    "        print(str(el))"
   ]
  },
  {
   "cell_type": "code",
   "execution_count": null,
   "metadata": {},
   "outputs": [],
   "source": []
  }
 ],
 "metadata": {
  "kernelspec": {
   "display_name": "Python 3",
   "language": "python",
   "name": "python3"
  },
  "language_info": {
   "codemirror_mode": {
    "name": "ipython",
    "version": 3
   },
   "file_extension": ".py",
   "mimetype": "text/x-python",
   "name": "python",
   "nbconvert_exporter": "python",
   "pygments_lexer": "ipython3",
   "version": "3.7.3"
  }
 },
 "nbformat": 4,
 "nbformat_minor": 4
}
