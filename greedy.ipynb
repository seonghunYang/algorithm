{
 "cells": [
  {
   "cell_type": "code",
   "execution_count": null,
   "metadata": {},
   "outputs": [],
   "source": [
    "#11047\n",
    "import sys\n",
    "# input = sys.stdin.readline\n",
    "print = sys.stdout.write\n",
    "\n",
    "N, K = map(int, input().split())\n",
    "\n",
    "data = [int(input()) for _ in range(N)]\n",
    "cnt = 0\n",
    "for i in range(N-1, -1, -1):\n",
    "    cnt += K // data[i]\n",
    "    if K % data[i] == 0:\n",
    "        break\n",
    "    K = K % data[i]\n",
    "print(str(cnt))"
   ]
  },
  {
   "cell_type": "code",
   "execution_count": 2,
   "metadata": {},
   "outputs": [
    {
     "name": "stdout",
     "output_type": "stream",
     "text": [
      "6 3 2\n",
      "2"
     ]
    }
   ],
   "source": [
    "#2875\n",
    "\n",
    "import sys\n",
    "# input = sys.stdin.readline\n",
    "print = sys.stdout.write\n",
    "\n",
    "N, M, K = map(int, input().split())\n",
    "\n",
    "if N > 2 * M:\n",
    "    max_team = M\n",
    "    K -= (N - 2* M)\n",
    "else:\n",
    "    max_team = N // 2\n",
    "    K -= (M - N//2)\n",
    "while K > 0:\n",
    "    max_team -=1\n",
    "    K -= 3\n",
    "print(str(max_team))"
   ]
  },
  {
   "cell_type": "code",
   "execution_count": null,
   "metadata": {},
   "outputs": [],
   "source": [
    "import sys\n",
    "# input = sys.stdin.readline\n",
    "print = sys.stdout.write\n",
    "\n",
    "N, M, K = map(int, input().split())\n",
    "cnt = 0\n",
    "while True:\n",
    "    if (N-2) + (M-1) >= K and (N-2) >= 0 and (M-1) >= 0:\n",
    "        N-=2\n",
    "        M-=1\n",
    "        cnt += 1\n",
    "    else:\n",
    "        break\n",
    "        \n",
    "print(str(cnt))"
   ]
  },
  {
   "cell_type": "code",
   "execution_count": 8,
   "metadata": {},
   "outputs": [
    {
     "name": "stdout",
     "output_type": "stream",
     "text": [
      "80875542\n",
      "88755420"
     ]
    }
   ],
   "source": [
    "#10610\n",
    "import sys\n",
    "# input = sys.stdin.readline\n",
    "print = sys.stdout.write\n",
    "\n",
    "N = list(map(int, list(input().strip())))\n",
    "N.sort(reverse=True)\n",
    "\n",
    "if N[-1] != 0:\n",
    "    print(\"-1\")\n",
    "elif sum(N) % 3 != 0:\n",
    "    print(\"-1\")\n",
    "else:\n",
    "    for el in N:\n",
    "        print(str(el))"
   ]
  },
  {
   "cell_type": "code",
   "execution_count": 13,
   "metadata": {},
   "outputs": [
    {
     "name": "stdout",
     "output_type": "stream",
     "text": [
      "20 4\n",
      "4"
     ]
    }
   ],
   "source": [
    "#1783\n",
    "import sys\n",
    "# input = sys.stdin.readline\n",
    "print = sys.stdout.write\n",
    "\n",
    "N, M = map(int, input().split())\n",
    "\n",
    "ans = 0\n",
    "\n",
    "if N == 1:\n",
    "    ans = 1\n",
    "elif N == 2:\n",
    "    ans = min(4, (M -1) // 2 + 1)\n",
    "else:\n",
    "    if M < 7:\n",
    "        ans = min(4,M)\n",
    "    else:\n",
    "        ans = M -2\n",
    "print(str(ans))\n"
   ]
  },
  {
   "cell_type": "code",
   "execution_count": 17,
   "metadata": {},
   "outputs": [
    {
     "name": "stdout",
     "output_type": "stream",
     "text": [
      "3\n",
      "1 4\n",
      "4 4\n",
      "4 6\n",
      "3"
     ]
    }
   ],
   "source": [
    "#1931\n",
    "import sys\n",
    "# input = sys.stdin.readline\n",
    "print = sys.stdout.write\n",
    "\n",
    "N = int(input())\n",
    "data = [list(map(int, input().split())) for _ in range(N)]\n",
    "data.sort(key=lambda x; x[0])\n",
    "data.sort(key = lambda x: x[1])\n",
    "\n",
    "tmp = data[0][1]\n",
    "cnt = 1\n",
    "\n",
    "for i in range(1, N):\n",
    "    if tmp <= data[i][0]:\n",
    "        cnt += 1\n",
    "        tmp = data[i][1]\n",
    "print(str(cnt))"
   ]
  },
  {
   "cell_type": "code",
   "execution_count": 18,
   "metadata": {},
   "outputs": [
    {
     "name": "stdout",
     "output_type": "stream",
     "text": [
      "5\n",
      "3 1 4 3 2\n",
      "32"
     ]
    }
   ],
   "source": [
    "#11399\n",
    "\n",
    "import sys\n",
    "# input = sys.stdin.readline\n",
    "print = sys.stdout.write\n",
    "\n",
    "N = int(input())\n",
    "data = sorted(list(map(int, input().split())))\n",
    "\n",
    "ans = 0\n",
    "for i in range(1, N+1):\n",
    "    ans += sum(data[:i])\n",
    "print(str(ans))"
   ]
  },
  {
   "cell_type": "code",
   "execution_count": 22,
   "metadata": {},
   "outputs": [
    {
     "name": "stdout",
     "output_type": "stream",
     "text": [
      "3 3\n",
      "5 1 3\n",
      "2 4 8\n",
      "1 1 2\n",
      "RRDLLDRR"
     ]
    }
   ],
   "source": [
    "#2873\n",
    "import sys\n",
    "# input = sys.stdin.readline\n",
    "print = sys.stdout.write\n",
    "R, C = map(int, input().split())\n",
    "\n",
    "data = [list(map(int, input().split())) for _ in range(R)]\n",
    "\n",
    "if R % 2 == 0 and C % 2 == 0:\n",
    "    min_idx = 0\n",
    "    min_val = 1000\n",
    "    for i in range(R):\n",
    "        for j in range(C):\n",
    "\n",
    "    \n",
    "else:\n",
    "    for i in range(R):\n",
    "        if i % 2 == 0:\n",
    "            print(\"R\"*(C-1))\n",
    "        else:\n",
    "            print(\"L\"*(C-1))\n",
    "        if i != (R-1):\n",
    "            print(\"D\")"
   ]
  },
  {
   "cell_type": "code",
   "execution_count": 19,
   "metadata": {},
   "outputs": [
    {
     "data": {
      "text/plain": [
       "0"
      ]
     },
     "execution_count": 19,
     "metadata": {},
     "output_type": "execute_result"
    }
   ],
   "source": [
    "0 % 2"
   ]
  },
  {
   "cell_type": "code",
   "execution_count": null,
   "metadata": {},
   "outputs": [],
   "source": []
  }
 ],
 "metadata": {
  "kernelspec": {
   "display_name": "Python 3",
   "language": "python",
   "name": "python3"
  },
  "language_info": {
   "codemirror_mode": {
    "name": "ipython",
    "version": 3
   },
   "file_extension": ".py",
   "mimetype": "text/x-python",
   "name": "python",
   "nbconvert_exporter": "python",
   "pygments_lexer": "ipython3",
   "version": "3.7.3"
  }
 },
 "nbformat": 4,
 "nbformat_minor": 4
}
