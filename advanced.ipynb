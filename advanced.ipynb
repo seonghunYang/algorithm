{
 "cells": [
  {
   "cell_type": "markdown",
   "metadata": {},
   "source": [
    "세그먼트 트리"
   ]
  },
  {
   "cell_type": "code",
   "execution_count": 24,
   "metadata": {},
   "outputs": [
    {
     "name": "stdout",
     "output_type": "stream",
     "text": [
      "5 2 2\n",
      "1\n",
      "2\n",
      "3\n",
      "4\n",
      "5\n",
      "1 3 6\n",
      "2 2 5\n",
      "17\n",
      "1 5 2\n",
      "2 3 5\n",
      "12\n"
     ]
    }
   ],
   "source": [
    "#2042\n",
    "\n",
    "# update까지 가능\n",
    "# 갱신 QlogN\n",
    "# 설정(NlogN)\n",
    "def add(idx, val):\n",
    "    idx += start\n",
    "    val -= tree[idx]\n",
    "    while idx > 0:\n",
    "        tree[idx] += val\n",
    "        idx //= 2\n",
    "\n",
    "# add(idx, val):\n",
    "#     idx += start\n",
    "#     tree[idx] = val\n",
    "#     while idx > 0:\n",
    "#         idx //= 2\n",
    "#         tree[idx] = tree[idx*2] + tree[idx*2+1]\n",
    "\n",
    "# left, right => 우리가 구하려는 범위\n",
    "# node, nodeleft, noderight 현제의 노드와 노드의 범위\n",
    "#만약 left right 범위 안에 nodeleft와 right가 있으면 return\n",
    "#logN\n",
    "def sum(left, right, nodeidx, nodeleft, noderight):\n",
    "    if right < nodeleft or left > noderight:\n",
    "        return 0\n",
    "    if left <= nodeleft and right >= noderight:\n",
    "        return tree[nodeidx]\n",
    "    mid = (nodeleft + noderight) // 2\n",
    "    return sum(left, right, nodeidx*2 ,nodeleft, mid) + sum(left, right, nodeidx*2 +1 , mid+1, noderight)\n",
    "        \n",
    "    \n",
    "N, M, K = map(int, input().split())\n",
    "tree = [0] * 3000000\n",
    "\n",
    "# 세그먼트 위치\n",
    "start = 1\n",
    "while start < N:\n",
    "    start *= 2\n",
    "    \n",
    "for i in range(N):\n",
    "    val = int(input())\n",
    "    add(i, val)\n",
    "for _ in range(M+K):\n",
    "    a, b, c = map(int, input().split())\n",
    "    if a == 1:\n",
    "        add(b-1, c)\n",
    "    else:\n",
    "        print(sum(b-1, c-1, 1, 0, start-1))\n",
    "\n"
   ]
  },
  {
   "cell_type": "code",
   "execution_count": null,
   "metadata": {},
   "outputs": [
    {
     "name": "stdout",
     "output_type": "stream",
     "text": [
      "6\n"
     ]
    }
   ],
   "source": [
    "#12015 LIS 세그먼트 트리로 풀기\n",
    "\n",
    "def add(idx, val):\n",
    "    idx += start\n",
    "    tree[idx] = val\n",
    "    while idx >0 :\n",
    "        idx //= 2\n",
    "        tree[idx] = max(tree[idx*2], tree[idx*2 + 1])\n",
    "\n",
    "def max_value(L, R, node_idx, nodeL, nodeR):\n",
    "    if L > nodeR or R < nodeL:\n",
    "        return 0\n",
    "    if L <= nodeL and R >= nodeR:\n",
    "        return tree[node_idx]\n",
    "    mid = (nodeL + nodeR) // 2\n",
    "    return max(max_value(L, R, node_idx*2, nodeL, mid), max_value(L, R, node_idx*2+1, mid+1, nodeR))\n",
    "\n",
    "tree = [0] * 2097152\n",
    "N = int(input())\n",
    "data = list(map(int, input().split()))\n",
    "for i in range(N):\n",
    "    data[i] = [data[i], i]\n",
    "data.sort(key= lambda x: x[1], reverse=True)\n",
    "data.sort(key= lambda x: x[0])\n",
    "\n",
    "start = 1\n",
    "while start < N:\n",
    "    start *= 2\n",
    "\n",
    "\n",
    "for val, idx in data:\n",
    "    a = max_value(0, idx-1, 1, 0, start-1)\n",
    "    add(idx, a+1)\n",
    "print(tree[1])"
   ]
  },
  {
   "cell_type": "markdown",
   "metadata": {},
   "source": [
    "스위핑(sweeping)"
   ]
  },
  {
   "cell_type": "code",
   "execution_count": 3,
   "metadata": {},
   "outputs": [
    {
     "name": "stdout",
     "output_type": "stream",
     "text": [
      "4\n",
      "1 3\n",
      "2 5\n",
      "3 5\n",
      "6 7\n",
      "5\n"
     ]
    }
   ],
   "source": [
    "#2170 선긋기\n",
    "N = int(input())\n",
    "data = [list(map(int, input().split())) for _ in range(N)]\n",
    "data.sort(key = lambda x:x[0])\n",
    "\n",
    "ans = 0\n",
    "left = -1000000001\n",
    "right = -1000000001\n",
    "for l, r in data:\n",
    "    if l <= right:\n",
    "        right = max(right, r)\n",
    "    else:\n",
    "        ans += (right - left)\n",
    "        left = l\n",
    "        right = r\n",
    "ans += right - left\n",
    "print(ans)"
   ]
  },
  {
   "cell_type": "markdown",
   "metadata": {},
   "source": [
    "좌표 압축"
   ]
  },
  {
   "cell_type": "code",
   "execution_count": 4,
   "metadata": {},
   "outputs": [
    {
     "name": "stdout",
     "output_type": "stream",
     "text": [
      "5\n",
      "2 4 -10 4 -9\n",
      "2 3 0 3 1\n"
     ]
    }
   ],
   "source": [
    "#18870\n",
    "N = int(input())\n",
    "data = list(map(int, input().split()))\n",
    "d = sorted(set(data))\n",
    "d = {d[i]: i for i in range(len(d))}\n",
    "for i in range(N):\n",
    "    data[i] = d[data[i]]\n",
    "print(*data)"
   ]
  },
  {
   "cell_type": "code",
   "execution_count": 22,
   "metadata": {},
   "outputs": [
    {
     "name": "stdout",
     "output_type": "stream",
     "text": [
      "2\n",
      "4\n",
      "-10 -10\n",
      "-10 10\n",
      "10 -10\n",
      "10 10\n",
      "5\n",
      "3\n",
      "1 3\n",
      "2 2\n",
      "3 1\n",
      "3\n"
     ]
    }
   ],
   "source": [
    "#5419 북서풍\n",
    "\n",
    "# 구간 값 1씩 증가\n",
    "def add (idx, tree, size):\n",
    "    idx += size\n",
    "    while idx > 0:\n",
    "        tree[idx] += 1\n",
    "        idx //= 2\n",
    "# y좌표 구간의 갯수\n",
    "def sum_num(L, R, nodeIdx, nodeL, nodeR, tree):\n",
    "    if L > nodeR or R < nodeL:\n",
    "        return 0\n",
    "    if nodeL >= L and nodeR <= R:\n",
    "        return tree[nodeIdx]\n",
    "    mid = (nodeL + nodeR) // 2\n",
    "    return sum_num(L, R, nodeIdx*2, nodeL, mid, tree) + sum_num(L, R, nodeIdx*2 + 1, mid+1, nodeR, tree)\n",
    "    \n",
    "def process():\n",
    "    N = int(input())\n",
    "    data = [list(map(int, input().split())) for _ in range(N)]\n",
    "    # y좌표 압축\n",
    "    y_data = [data[i][1] for i in range(N)]\n",
    "    d = sorted(set(y_data))\n",
    "    d = { d[i]: i  for i in range(len(d))}\n",
    "    data = [ [data[i][0], d[data[i][1]]] for i in range(N)]\n",
    "    #스위핑을 위한 재정렬\n",
    "    data.sort(key = lambda x: (x[0], -x[1]))\n",
    "    #세그먼트 트리 생성 // y좌표 구간의 갯수를 가지고 있다\n",
    "    size = 1\n",
    "    while size < 75000:\n",
    "        size *= 2\n",
    "    tree = [0] * (size * 2 + 1)\n",
    "    result = 0\n",
    "    for el in data:\n",
    "        result+= sum_num(el[1], size-1, 1, 0, size-1, tree)\n",
    "        add(el[1], tree, size)\n",
    "    print(result)\n",
    "    \n",
    "T = int(input())\n",
    "for _ in range(T):\n",
    "    process()"
   ]
  },
  {
   "cell_type": "code",
   "execution_count": 24,
   "metadata": {},
   "outputs": [
    {
     "name": "stdout",
     "output_type": "stream",
     "text": [
      "2\n",
      "4\n",
      "-10 -10\n",
      "-10 10\n",
      "10 -10\n",
      "10 10\n",
      "5\n",
      "3\n",
      "1 3\n",
      "2 2\n",
      "3 1\n",
      "3\n"
     ]
    }
   ],
   "source": [
    "# 북서풍\n",
    "# idx의 값을 1증가\n",
    "import sys\n",
    "input = sys.stdin.readline\n",
    "def add(idx):\n",
    "    idx += start\n",
    "    while idx > 0:\n",
    "        tree[idx] += 1\n",
    "        idx //= 2\n",
    "# R, L구간내 개수\n",
    "def sumNum(L, R, nodeIdx, nodeL, nodeR):\n",
    "    if L > nodeR or R < nodeL:\n",
    "        return 0\n",
    "    if L <= nodeL and R >= nodeR:\n",
    "        return tree[nodeIdx]\n",
    "    mid = (nodeL + nodeR) // 2\n",
    "    return sumNum(L, R, nodeIdx*2, nodeL, mid) + sumNum(L, R, nodeIdx*2 + 1, mid+1, nodeR)\n",
    "\n",
    "\n",
    "T = int(input())\n",
    "for _ in range(T):\n",
    "    N = int(input())\n",
    "    data = []\n",
    "    y_data = []\n",
    "    for _ in range(N):\n",
    "        x, y = map(int, input().split())\n",
    "        data.append([x, y])\n",
    "        y_data.append(y)\n",
    "    # y좌표 압축\n",
    "    d = sorted(set(y_data))\n",
    "    d = { d[i]:i for i in range(len(d))}\n",
    "    data = [[data[i][0], d[data[i][1]]]  for i in range(N)]\n",
    "    # x축으로 정렬\n",
    "    data.sort(key=lambda x:(x[0], -x[1]))\n",
    "    \n",
    "    #세그먼트 세팅 // y좌표 범위내 좌표 갯수\n",
    "    start = 1\n",
    "    while start < 75000:\n",
    "        start *= 2\n",
    "    tree = [0] * (start * 2 + 1)\n",
    "    result = 0\n",
    "    for el in data:\n",
    "        result += sumNum(el[1], start-1, 1, 0, start-1)\n",
    "        add(el[1])\n",
    "    print(result)"
   ]
  },
  {
   "cell_type": "markdown",
   "metadata": {},
   "source": [
    "유니온 파인드"
   ]
  },
  {
   "cell_type": "code",
   "execution_count": null,
   "metadata": {},
   "outputs": [],
   "source": [
    "#find 경로압축\n",
    "\n",
    "def find(node):\n",
    "    if parent[node] == node:\n",
    "        return node\n",
    "    else:\n",
    "        parent[node] = find(parent[node])\n",
    "        return parent[node]\n",
    "    \n",
    "# union y를 x에 연결\n",
    "def union(x, y):\n",
    "    x = find(x)\n",
    "    y = find(y)\n",
    "    if x == y:\n",
    "        return\n",
    "    parent[y] = x"
   ]
  },
  {
   "cell_type": "code",
   "execution_count": 6,
   "metadata": {},
   "outputs": [
    {
     "name": "stdout",
     "output_type": "stream",
     "text": [
      "5\n",
      "1 1 4 4\n",
      "3 3 6 6\n",
      "4 4 5 5\n",
      "5 0 8 3\n",
      "6 1 7 2\n",
      "2\n"
     ]
    }
   ],
   "source": [
    "#3108\n",
    "# 추상화를 통해 pu의 횟수는 사각형 연결 집합의 갯수 => 유니온파인드로 풀기 가능\n",
    "# 좌표에 사각형\n",
    "def find(n):\n",
    "    if parent[n] == n:\n",
    "        return n\n",
    "    else:\n",
    "        parent[n] = find(parent[n])\n",
    "        return parent[n]\n",
    "# y를 x에\n",
    "def union(x, y):\n",
    "    x = find(x)\n",
    "    y = find(y)\n",
    "    if x == y:\n",
    "        return\n",
    "    parent[y] = x\n",
    "\n",
    "\n",
    "N = int(input())\n",
    "parent = [i for i in range(N+1)]\n",
    "# x, y 500더해서 사용\n",
    "data = [[0] * 1001 for i in range(1001)]\n",
    "\n",
    "for i in range(1, N+1):\n",
    "    x1, y1, x2, y2 = map(int, input().split())\n",
    "    x1, y1, x2, y2 = x1+500, y1+500, x2+500, y2+500\n",
    "    for j in range(y1, y2):\n",
    "        if data[x1][j] != 0:\n",
    "            union(data[x1][j], i)\n",
    "        else:\n",
    "            data[x1][j] = i\n",
    "    for j in range(x1, x2):\n",
    "        if data[j][y2] != 0:\n",
    "            union(data[j][y2], i)\n",
    "        else:\n",
    "            data[j][y2] = i\n",
    "            \n",
    "    for j in range(y2, y1, -1):\n",
    "        if data[x2][j] != 0:\n",
    "            union(data[x2][j], i)\n",
    "        else:\n",
    "            data[x2][j] = i\n",
    "    for j in range(x2, x1, -1):\n",
    "        if data[j][y1] != 0:\n",
    "            union(data[j][y1], i)\n",
    "        else:\n",
    "            data[j][y1] = i\n",
    "cnt = 0 if data[500][500] == 0 else -1\n",
    "for i in range(1, N+1):\n",
    "    if parent[i] == i:\n",
    "        cnt += 1\n",
    "print(cnt)"
   ]
  },
  {
   "cell_type": "markdown",
   "metadata": {},
   "source": [
    "### "
   ]
  }
 ],
 "metadata": {
  "kernelspec": {
   "display_name": "Python 3",
   "language": "python",
   "name": "python3"
  },
  "language_info": {
   "codemirror_mode": {
    "name": "ipython",
    "version": 3
   },
   "file_extension": ".py",
   "mimetype": "text/x-python",
   "name": "python",
   "nbconvert_exporter": "python",
   "pygments_lexer": "ipython3",
   "version": "3.7.3"
  }
 },
 "nbformat": 4,
 "nbformat_minor": 4
}
