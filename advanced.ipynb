{
 "cells": [
  {
   "cell_type": "markdown",
   "metadata": {},
   "source": [
    "세그먼트 트리"
   ]
  },
  {
   "cell_type": "code",
   "execution_count": 24,
   "metadata": {},
   "outputs": [
    {
     "name": "stdout",
     "output_type": "stream",
     "text": [
      "5 2 2\n",
      "1\n",
      "2\n",
      "3\n",
      "4\n",
      "5\n",
      "1 3 6\n",
      "2 2 5\n",
      "17\n",
      "1 5 2\n",
      "2 3 5\n",
      "12\n"
     ]
    }
   ],
   "source": [
    "#2042\n",
    "\n",
    "# update까지 가능\n",
    "# 갱신 QlogN\n",
    "# 설정(NlogN)\n",
    "def add(idx, val):\n",
    "    idx += start\n",
    "    val -= tree[idx]\n",
    "    while idx > 0:\n",
    "        tree[idx] += val\n",
    "        idx //= 2\n",
    "\n",
    "# add(idx, val):\n",
    "#     idx += start\n",
    "#     tree[idx] = val\n",
    "#     while idx > 0:\n",
    "#         idx //= 2\n",
    "#         tree[idx] = tree[idx*2] + tree[idx*2+1]\n",
    "\n",
    "# left, right => 우리가 구하려는 범위\n",
    "# node, nodeleft, noderight 현제의 노드와 노드의 범위\n",
    "#만약 left right 범위 안에 nodeleft와 right가 있으면 return\n",
    "#logN\n",
    "def sum(left, right, nodeidx, nodeleft, noderight):\n",
    "    if right < nodeleft or left > noderight:\n",
    "        return 0\n",
    "    if left <= nodeleft and right >= noderight:\n",
    "        return tree[nodeidx]\n",
    "    mid = (nodeleft + noderight) // 2\n",
    "    return sum(left, right, nodeidx*2 ,nodeleft, mid) + sum(left, right, nodeidx*2 +1 , mid+1, noderight)\n",
    "        \n",
    "    \n",
    "N, M, K = map(int, input().split())\n",
    "tree = [0] * 3000000\n",
    "\n",
    "# 세그먼트 위치\n",
    "start = 1\n",
    "while start < N:\n",
    "    start *= 2\n",
    "    \n",
    "for i in range(N):\n",
    "    val = int(input())\n",
    "    add(i, val)\n",
    "for _ in range(M+K):\n",
    "    a, b, c = map(int, input().split())\n",
    "    if a == 1:\n",
    "        add(b-1, c)\n",
    "    else:\n",
    "        print(sum(b-1, c-1, 1, 0, start-1))\n",
    "\n"
   ]
  },
  {
   "cell_type": "code",
   "execution_count": null,
   "metadata": {},
   "outputs": [
    {
     "name": "stdout",
     "output_type": "stream",
     "text": [
      "6\n"
     ]
    }
   ],
   "source": [
    "#12015 LIS 세그먼트 트리로 풀기\n",
    "\n",
    "def add(idx, val):\n",
    "    idx += start\n",
    "    tree[idx] = val\n",
    "    while idx >0 :\n",
    "        idx //= 2\n",
    "        tree[idx] = max(tree[idx*2], tree[idx*2 + 1])\n",
    "\n",
    "def max_value(L, R, node_idx, nodeL, nodeR):\n",
    "    if L > nodeR or R < nodeL:\n",
    "        return 0\n",
    "    if L <= nodeL and R >= nodeR:\n",
    "        return tree[node_idx]\n",
    "    mid = (nodeL + nodeR) // 2\n",
    "    return max(max_value(L, R, node_idx*2, nodeL, mid), max_value(L, R, node_idx*2+1, mid+1, nodeR))\n",
    "\n",
    "tree = [0] * 2097152\n",
    "N = int(input())\n",
    "data = list(map(int, input().split()))\n",
    "for i in range(N):\n",
    "    data[i] = [data[i], i]\n",
    "data.sort(key= lambda x: x[1], reverse=True)\n",
    "data.sort(key= lambda x: x[0])\n",
    "\n",
    "start = 1\n",
    "while start < N:\n",
    "    start *= 2\n",
    "\n",
    "\n",
    "for val, idx in data:\n",
    "    a = max_value(0, idx-1, 1, 0, start-1)\n",
    "    add(idx, a+1)\n",
    "print(tree[1])"
   ]
  },
  {
   "cell_type": "code",
   "execution_count": 9,
   "metadata": {},
   "outputs": [
    {
     "data": {
      "text/plain": [
       "[[1, 1], [2, 2], [3, 5], [4, 7], [5, 6], [6, 0], [7, 3], [8, 4]]"
      ]
     },
     "execution_count": 9,
     "metadata": {},
     "output_type": "execute_result"
    }
   ],
   "source": [
    "data"
   ]
  },
  {
   "cell_type": "code",
   "execution_count": null,
   "metadata": {},
   "outputs": [],
   "source": []
  }
 ],
 "metadata": {
  "kernelspec": {
   "display_name": "Python 3",
   "language": "python",
   "name": "python3"
  },
  "language_info": {
   "codemirror_mode": {
    "name": "ipython",
    "version": 3
   },
   "file_extension": ".py",
   "mimetype": "text/x-python",
   "name": "python",
   "nbconvert_exporter": "python",
   "pygments_lexer": "ipython3",
   "version": "3.7.3"
  }
 },
 "nbformat": 4,
 "nbformat_minor": 4
}
