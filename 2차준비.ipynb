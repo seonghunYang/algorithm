{
 "cells": [
  {
   "cell_type": "code",
   "execution_count": 3,
   "metadata": {},
   "outputs": [
    {
     "name": "stdout",
     "output_type": "stream",
     "text": [
      "10\n",
      "3\n"
     ]
    }
   ],
   "source": [
    "#1463\n",
    "import sys\n",
    "N = int(input())\n",
    "dp = [0] * (N+1)\n",
    "\n",
    "for i in range(2, N+1):\n",
    "    dp[i] = dp[i-1] + 1\n",
    "    if i % 3 == 0:\n",
    "        dp[i] = min(dp[i], dp[i//3] + 1)\n",
    "    if i % 2 == 0:\n",
    "        dp[i] = min(dp[i], dp[i//2] + 1)\n",
    "        \n",
    "print(dp[N])"
   ]
  },
  {
   "cell_type": "code",
   "execution_count": 7,
   "metadata": {},
   "outputs": [
    {
     "name": "stdout",
     "output_type": "stream",
     "text": [
      "2\n",
      "55\n"
     ]
    }
   ],
   "source": [
    "# 11057\n",
    "N = int(input())\n",
    "dp = [[1] * 10 for _ in range(N+1)]\n",
    "for i in range(2, N+1):\n",
    "    dp[i][0] = dp[i-1][0]\n",
    "    for j in range(1, 10):\n",
    "        dp[i][j] = dp[i-1][j] + dp[i][j-1]\n",
    "print(sum(dp[N]) % 10007)"
   ]
  },
  {
   "cell_type": "code",
   "execution_count": 9,
   "metadata": {},
   "outputs": [
    {
     "name": "stdout",
     "output_type": "stream",
     "text": [
      "1\n",
      "1\n",
      "1\n"
     ]
    }
   ],
   "source": [
    "#2156\n",
    "N = int(input())\n",
    "data = [0] + [int(input()) for _ in range(N)]\n",
    "# dp[i] i 번째 포도주까지 왔을때 마실 수 있는 최대 포도주양\n",
    "# dp[i]의 가능 상태 안마신다 1번째 2번째\n",
    "dp = [0] * (N+1)\n",
    "dp[1] = data[1]\n",
    "if N != 1:\n",
    "    dp[2] = dp[1] + data[2]\n",
    "    for i in range(3, N+1):\n",
    "        # 안마실떄\n",
    "        dp[i] = dp[i-1]\n",
    "        # 첫째 짠\n",
    "        dp[i] = max(dp[i], dp[i-2] + data[i])\n",
    "        # 둘 째 짠\n",
    "        dp[i] = max(dp[i], dp[i-3] + data[i-1] + data[i])\n",
    "print(dp[N])"
   ]
  },
  {
   "cell_type": "code",
   "execution_count": 12,
   "metadata": {},
   "outputs": [
    {
     "name": "stdout",
     "output_type": "stream",
     "text": [
      "6\n",
      "10 20 10 30 20 50\n",
      "4\n"
     ]
    }
   ],
   "source": [
    "#11053\n",
    "N = int(input())\n",
    "data = list(map(int, input().split()))\n",
    "# dp[i] i까지 가장 긴 증가하는부분순열 개수\n",
    "dp = [1] * N\n",
    "for i in range(1, N):\n",
    "    for j in range(i):\n",
    "        if data[i] > data[j]:\n",
    "            dp[i] = max(dp[j] + 1, dp[i])\n",
    "print(max(dp))"
   ]
  },
  {
   "cell_type": "code",
   "execution_count": 15,
   "metadata": {},
   "outputs": [
    {
     "name": "stdout",
     "output_type": "stream",
     "text": [
      "7\n",
      "4\n"
     ]
    }
   ],
   "source": [
    "# 1699\n",
    "N = int(input())\n",
    "#dp[i] i를 제곱수 합으로 표현할 때 최소 개수\n",
    "dp = [i for i in range(N+1)]\n",
    "dp[1] = 1\n",
    "for i in range(2, N+1):\n",
    "    tmp = 1\n",
    "    while tmp ** 2 <= i:\n",
    "        dp[i] = min(dp[i], dp[i - tmp**2] + 1)\n",
    "        tmp += 1\n",
    "print(dp[N])"
   ]
  },
  {
   "cell_type": "code",
   "execution_count": 17,
   "metadata": {},
   "outputs": [
    {
     "name": "stdout",
     "output_type": "stream",
     "text": [
      "20 2\n",
      "21\n"
     ]
    }
   ],
   "source": [
    "#2225\n",
    "N, K = map(int, input().split())\n",
    "# dp[n][k] 숫자 n을 k개 숫자로 만드는 경우의 수\n",
    "# d[n][k] = dp[0][k-1] + ~ + dp[n][k-1]\n",
    "# => dp[n][m] = dp[n-1][k] + do[n][k-1]\n",
    "dp = [[0] * (K+1) for _ in range(N+1)]\n",
    "for i in range(N+1):\n",
    "    dp[i][1] = 1\n",
    "for j in range(2, K+1):\n",
    "    dp[0][j] = dp[0][j-1]\n",
    "    for i in range(1, N+1):\n",
    "        dp[i][j] = dp[i-1][j] + dp[i][j-1]\n",
    "print(dp[N][K] % 1000000000)"
   ]
  },
  {
   "cell_type": "code",
   "execution_count": 21,
   "metadata": {},
   "outputs": [
    {
     "name": "stdout",
     "output_type": "stream",
     "text": [
      "2\n",
      "3 2\n",
      "1 3\n",
      "2 3\n",
      "YES\n",
      "4 4\n",
      "1 2\n",
      "2 3\n",
      "3 4\n",
      "4 2\n",
      "NO\n"
     ]
    }
   ],
   "source": [
    "#1707\n",
    "from collections import deque\n",
    "\n",
    "for _ in range(int(input())):\n",
    "    V, E = map(int, input().split())\n",
    "    graph = [[] for _ in range(V+1)]\n",
    "    for _ in range(E):\n",
    "        a, b = map(int, input().split())\n",
    "        graph[a].append(b)\n",
    "        graph[b].append(a)\n",
    "    # 방문과 집합 체크\n",
    "    visited = [0] * (V+1)\n",
    "    isposs = True\n",
    "    for i in range(1,V+1):\n",
    "        if visited[i] == 0:\n",
    "            que = deque([i])\n",
    "            visited[i] = 1\n",
    "            while que:\n",
    "                n = que.popleft()\n",
    "                for el in graph[n]:\n",
    "                    if visited[el] == 0:\n",
    "                        que.append(el)\n",
    "                        visited[el] = 3 - visited[n]\n",
    "                    if visited[el] == visited[n]:\n",
    "                        isposs = False\n",
    "                        break\n",
    "                \n",
    "            if not isposs:\n",
    "                break\n",
    "        if not isposs:\n",
    "            break\n",
    "    if isposs:\n",
    "        print(\"YES\")\n",
    "    else:\n",
    "        print(\"NO\")"
   ]
  },
  {
   "cell_type": "code",
   "execution_count": null,
   "metadata": {},
   "outputs": [
    {
     "name": "stdout",
     "output_type": "stream",
     "text": [
      "2\n",
      "7\n",
      "1 2 3 4 5 6 7 8\n",
      "0\n",
      "8\n"
     ]
    }
   ],
   "source": [
    "#9466\n",
    "for _ in range(int(input())):\n",
    "    N = int(input())\n",
    "    data = [0] + list(map(int, input().split()))\n",
    "    visited = [0] * (N+1)\n",
    "    circle = [0] * (N+1)\n",
    "    group = 0\n",
    "    answer = 0\n",
    "    for i in range(1, N+1):\n",
    "        if visited[i] == 0:\n",
    "            group += 1\n",
    "            node = i\n",
    "            visited[i] = group\n",
    "            circle[i] = 1\n",
    "            while True:\n",
    "                nex = data[node]\n",
    "                if visited[nex] == group:\n",
    "                    answer += circle[node] - circle[nex]  + 1\n",
    "                    break\n",
    "                if visited[nex] != 0:\n",
    "                    break\n",
    "                if visited[nex] == 0:\n",
    "                    visited[nex] = group\n",
    "                    circle[nex] = circle[node] + 1\n",
    "                    node = nex\n",
    "                \n",
    "    print(N - answer)"
   ]
  },
  {
   "cell_type": "code",
   "execution_count": 6,
   "metadata": {},
   "outputs": [
    {
     "data": {
      "text/plain": [
       "[3, 1]"
      ]
     },
     "execution_count": 6,
     "metadata": {},
     "output_type": "execute_result"
    }
   ],
   "source": [
    "answer"
   ]
  },
  {
   "cell_type": "code",
   "execution_count": 5,
   "metadata": {},
   "outputs": [
    {
     "name": "stdout",
     "output_type": "stream",
     "text": [
      "3\n",
      "110\n",
      "100\n",
      "001\n",
      "2\n"
     ]
    },
    {
     "ename": "AttributeError",
     "evalue": "'list' object has no attribute 'sorted'",
     "output_type": "error",
     "traceback": [
      "\u001b[1;31m---------------------------------------------------------------------------\u001b[0m",
      "\u001b[1;31mAttributeError\u001b[0m                            Traceback (most recent call last)",
      "\u001b[1;32m<ipython-input-5-22bd2b99f6d0>\u001b[0m in \u001b[0;36m<module>\u001b[1;34m\u001b[0m\n\u001b[0;32m     22\u001b[0m             \u001b[0manswer\u001b[0m\u001b[1;33m.\u001b[0m\u001b[0mappend\u001b[0m\u001b[1;33m(\u001b[0m\u001b[0mDFS\u001b[0m\u001b[1;33m(\u001b[0m\u001b[0mi\u001b[0m\u001b[1;33m,\u001b[0m \u001b[0mj\u001b[0m\u001b[1;33m)\u001b[0m\u001b[1;33m)\u001b[0m\u001b[1;33m\u001b[0m\u001b[1;33m\u001b[0m\u001b[0m\n\u001b[0;32m     23\u001b[0m \u001b[0mprint\u001b[0m\u001b[1;33m(\u001b[0m\u001b[0mgroup\u001b[0m\u001b[1;33m)\u001b[0m\u001b[1;33m\u001b[0m\u001b[1;33m\u001b[0m\u001b[0m\n\u001b[1;32m---> 24\u001b[1;33m \u001b[1;32mfor\u001b[0m \u001b[0mel\u001b[0m \u001b[1;32min\u001b[0m \u001b[0manswer\u001b[0m\u001b[1;33m.\u001b[0m\u001b[0msorted\u001b[0m\u001b[1;33m(\u001b[0m\u001b[1;33m)\u001b[0m\u001b[1;33m:\u001b[0m\u001b[1;33m\u001b[0m\u001b[1;33m\u001b[0m\u001b[0m\n\u001b[0m\u001b[0;32m     25\u001b[0m     \u001b[0mprint\u001b[0m\u001b[1;33m(\u001b[0m\u001b[0mel\u001b[0m\u001b[1;33m)\u001b[0m\u001b[1;33m\u001b[0m\u001b[1;33m\u001b[0m\u001b[0m\n",
      "\u001b[1;31mAttributeError\u001b[0m: 'list' object has no attribute 'sorted'"
     ]
    }
   ],
   "source": [
    "#2667\n",
    "dx =[-1, 1, 0, 0]\n",
    "dy = [0, 0, -1, 1]\n",
    "def DFS(x, y):\n",
    "    tmp = 1\n",
    "    for i in range(4):\n",
    "        n, m = x + dx[i], y + dy[i]\n",
    "        if 0 <= n <= N-1 and 0 <= m <= N-1 and data[n][m] == 1 and visited[n][m] == 0:\n",
    "            visited[n][m] = 1\n",
    "            tmp += DFS(n, m)\n",
    "    return tmp\n",
    "N = int(input())\n",
    "data = [list(map(int, input())) for _ in range(N)]\n",
    "group = 0\n",
    "visited = [[0] * N for _ in range(N)]\n",
    "answer = []\n",
    "for i in range(N):\n",
    "    for j in range(N):\n",
    "        if data[i][j] == 1 and visited[i][j] == 0:\n",
    "            group += 1\n",
    "            visited[i][j] = 1\n",
    "            answer.append(DFS(i, j))\n",
    "print(group)\n",
    "for el in sorted(answer):\n",
    "    print(el)"
   ]
  },
  {
   "cell_type": "code",
   "execution_count": 14,
   "metadata": {},
   "outputs": [
    {
     "name": "stdout",
     "output_type": "stream",
     "text": [
      "5 3\n",
      "1\n",
      "2\n",
      "8\n",
      "4\n",
      "9\n",
      "8 1 4\n",
      "4 1 2\n",
      "8 4 2\n",
      "4 1 3\n",
      "8 4 3\n",
      "3\n"
     ]
    }
   ],
   "source": [
    "# 2110\n",
    "N, C = map(int, input().split())\n",
    "data = [int(input()) for _ in range(N)]\n",
    "data.sort()\n",
    "# 두 공유기 사이의 최대 거리\n",
    "start = 1\n",
    "end = data[-1] - data[0]\n",
    "while start <= end :\n",
    "    mid = (start + end) // 2\n",
    "    tmp = data[0]\n",
    "    cnt = 1\n",
    "    for i in range(1, N):\n",
    "        el = data[i]\n",
    "        if el - tmp >= mid:\n",
    "            tmp = el\n",
    "            cnt += 1\n",
    "    if cnt >= C:\n",
    "        start = mid+ 1\n",
    "    else:\n",
    "        end = mid - 1\n",
    "print(end)"
   ]
  },
  {
   "cell_type": "code",
   "execution_count": 14,
   "metadata": {},
   "outputs": [
    {
     "name": "stdout",
     "output_type": "stream",
     "text": [
      "3 6 0\n",
      "8 1 2\n",
      "7 4 5\n",
      "-1\n"
     ]
    }
   ],
   "source": [
    "#1525\n",
    "from collections import deque\n",
    "import copy\n",
    "\n",
    "dx = [-1, 1, 0, 0]\n",
    "dy = [0, 0, -1, 1]\n",
    "\n",
    "def getValue(lst):\n",
    "    tmp = \"\"\n",
    "    for i in range(3):\n",
    "        for j in range(3):\n",
    "            tmp += str(lst[i][j])\n",
    "    return tmp\n",
    "\n",
    "\n",
    "data = [list(map(int, input().split())) for _ in range(3)]\n",
    "n, m = 0 ,0\n",
    "for i in range(3):\n",
    "    for j in range(3):\n",
    "        if data[i][j] == 0:\n",
    "            n, m = i, j\n",
    "visited = {}\n",
    "a = getValue(data)\n",
    "visited[a] = 1\n",
    "que = deque([[data, 0, n, m]])\n",
    "isposs = False\n",
    "while que:\n",
    "    lst, val, n, m = que.popleft()\n",
    "    if getValue(lst) == \"123456780\":\n",
    "        isposs = True\n",
    "        break\n",
    "    for i in range(4):\n",
    "        x, y = n + dx[i], m + dy[i]\n",
    "        if 0 <= x <= 2 and 0 <= y <= 2:\n",
    "            new_lst = copy.deepcopy(lst)\n",
    "            new_lst[x][y], new_lst[n][m] = new_lst[n][m], new_lst[x][y]\n",
    "            tmp = getValue(new_lst)\n",
    "            if not visited.get(tmp):\n",
    "                visited[tmp] = 1\n",
    "                que.append([new_lst, val+1, x, y])\n",
    "        \n",
    "if isposs:\n",
    "    print(val)\n",
    "else:\n",
    "    print(-1)"
   ]
  },
  {
   "cell_type": "code",
   "execution_count": 19,
   "metadata": {},
   "outputs": [
    {
     "name": "stdout",
     "output_type": "stream",
     "text": [
      "2 4\n",
      "CAAB\n",
      "ADCB\n",
      "3\n"
     ]
    }
   ],
   "source": [
    "# 1987\n",
    "dx = [-1, 1, 0, 0]\n",
    "dy = [0, 0, -1, 1]\n",
    "\n",
    "def DFS(n, m, val):\n",
    "    global answer\n",
    "    \n",
    "    answer = max(answer, val)\n",
    "    \n",
    "    for i in range(4):\n",
    "        x, y = n + dx[i], m + dy[i]\n",
    "        if 0 <= x <= R-1 and 0 <= y <= C-1 and visited[data[x][y]] == 0:\n",
    "            visited[data[x][y]] = 1\n",
    "            DFS(x, y, val+1)\n",
    "            visited[data[x][y]] = 0\n",
    "    \n",
    "\n",
    "R, C = map(int, input().split())\n",
    "data = [list(map(lambda x: ord(x) -65, input())) for _ in range(R)]\n",
    "visited = [0] * (26)\n",
    "\n",
    "answer = 0\n",
    "visited[data[0][0]] = 1\n",
    "DFS(0, 0, 1)\n",
    "\n",
    "print(answer)"
   ]
  },
  {
   "cell_type": "code",
   "execution_count": 24,
   "metadata": {},
   "outputs": [
    {
     "name": "stdout",
     "output_type": "stream",
     "text": [
      "10 5\n",
      "1 2 3 4 2 5 3 1 1 2\n",
      "1 3 5\n",
      "5 6 5\n",
      "6 9 5\n",
      "3\n"
     ]
    }
   ],
   "source": [
    "#2003\n",
    "N, M = map(int, input().split())\n",
    "data = list(map(int, input().split()))\n",
    "# left == right => 아무것도 x 범위가 [0, right)\n",
    "left = 0\n",
    "right = 0\n",
    "tmp = 0\n",
    "cnt = 0\n",
    "while True:\n",
    "    if tmp < M:\n",
    "        if right >= N:\n",
    "            break\n",
    "        tmp += data[right]\n",
    "        right += 1\n",
    "    else:\n",
    "        tmp -= data[left]\n",
    "        left += 1\n",
    "    if tmp == M:\n",
    "        cnt += 1\n",
    "print(cnt)\n",
    "    \n"
   ]
  },
  {
   "cell_type": "code",
   "execution_count": 34,
   "metadata": {},
   "outputs": [
    {
     "name": "stdout",
     "output_type": "stream",
     "text": [
      "6 6\n",
      "001111\n",
      "010000\n",
      "001111\n",
      "110001\n",
      "011010\n",
      "100010\n",
      "2\n"
     ]
    }
   ],
   "source": [
    "import heapq, sys\n",
    "\n",
    "dx = [-1, 1, 0, 0]\n",
    "dy = [0, 0, -1, 1]\n",
    "\n",
    "M, N = map(int, input().split())\n",
    "data = [list(map(int, input())) for _ in range(N)]\n",
    "\n",
    "que = [[0, 0, 0]]\n",
    "distance = [[sys.maxsize] * (M) for _ in range(N)]\n",
    "distance[0][0] = 0\n",
    "while que:\n",
    "    val, n, m = heapq.heappop(que)\n",
    "    if n == N-1 and m == M-1:\n",
    "        break\n",
    "    if val > distance[n][m]:\n",
    "        continue\n",
    "    \n",
    "    for i in range(4):\n",
    "        x, y = n + dx[i], m + dy[i]\n",
    "        if 0 <= x <= N-1 and 0 <= y <= M-1 and distance[x][y] > distance[n][m] + data[x][y]:\n",
    "            distance[x][y] = distance[n][m] + data[x][y]\n",
    "            heapq.heappush(que, [distance[x][y], x, y])\n",
    "print(distance[N-1][M-1])"
   ]
  },
  {
   "cell_type": "code",
   "execution_count": 48,
   "metadata": {},
   "outputs": [
    {
     "name": "stdout",
     "output_type": "stream",
     "text": [
      "5 13\n",
      "-7 -3 -2 5 8\n",
      "1\n"
     ]
    }
   ],
   "source": [
    "#1208\n",
    "from itertools import combinations\n",
    "\n",
    "N, S = map(int, input().split())\n",
    "data = list(map(int, input().split()))\n",
    "\n",
    "n = N // 2\n",
    "tmp1 = data[:N//2]\n",
    "tmp2 = data[N//2:]\n",
    "dic1 = {0 : 1}\n",
    "dic2 = {0 : 1}\n",
    "\n",
    "\n",
    "for i in range(1, len(tmp1)+1):\n",
    "    for el in list(combinations(tmp1, i)):\n",
    "        s = sum(el)\n",
    "        if dic1.get(s):\n",
    "            dic1[s] += 1\n",
    "        else:\n",
    "            dic1[s] = 1\n",
    "for i in range(1, len(tmp2)+1):\n",
    "    for el in list(combinations(tmp2, i)):\n",
    "        s = sum(el)\n",
    "        if dic2.get(s):\n",
    "            dic2[s] += 1\n",
    "        else:\n",
    "            dic2[s] = 1\n",
    "answer = -1 if S == 0 else 0\n",
    "for key, val in dic1.items():\n",
    "    tmp = S - key\n",
    "    if dic2.get(tmp):\n",
    "        answer += val * dic2[tmp]\n",
    "print(answer)"
   ]
  },
  {
   "cell_type": "code",
   "execution_count": 3,
   "metadata": {},
   "outputs": [
    {
     "name": "stdout",
     "output_type": "stream",
     "text": [
      "5 2 2\n",
      "1\n",
      "2\n",
      "3\n",
      "4\n",
      "5\n",
      "1 3 6\n",
      "2 2 5\n",
      "17\n",
      "1 5 2\n",
      "2 3 5\n",
      "12\n"
     ]
    }
   ],
   "source": [
    "#2042 세그먼트 트리\n",
    "N, M, K = map(int, input().split())\n",
    "\n",
    "def add(idx, val):\n",
    "    idx = start + idx\n",
    "    val = val - tree[idx]\n",
    "    while idx:\n",
    "        tree[idx] += val\n",
    "        idx //= 2\n",
    "\n",
    "def sumTree(left, right, nodeIdx, nodeleft, noderight):\n",
    "    if left > noderight or right < nodeleft:\n",
    "        return 0\n",
    "    if left <= nodeleft and right >= noderight:\n",
    "        return tree[nodeIdx]\n",
    "    mid = (nodeleft + noderight) // 2\n",
    "    return sumTree(left, right, 2* nodeIdx, nodeleft, mid) + sumTree(left, right, 2*nodeIdx+1, mid+1, noderight)\n",
    "\n",
    "start = 1\n",
    "while start < N:\n",
    "    start *= 2\n",
    "tree = [0] * (2 * start + 1)\n",
    "\n",
    "for i in range(N):\n",
    "    a = int(input())\n",
    "    add(i, a)\n",
    "\n",
    "for _ in range(M+K):\n",
    "    a, b, c = map(int, input().split())\n",
    "    if a == 1:\n",
    "        add(b-1, c)\n",
    "    else:\n",
    "        tmp = sumTree(b-1, c-1, 1, 0, start-1)\n",
    "        print(tmp)"
   ]
  },
  {
   "cell_type": "code",
   "execution_count": 16,
   "metadata": {},
   "outputs": [
    {
     "name": "stdout",
     "output_type": "stream",
     "text": [
      "2\n",
      "4\n",
      "-10 -10\n",
      "-10 10\n",
      "10 -10\n",
      "10 10\n",
      "5\n",
      "3\n",
      "1 3\n",
      "2 2\n",
      "3 1\n",
      "3\n"
     ]
    }
   ],
   "source": [
    "#5419\n",
    "\n",
    "def add(idx):\n",
    "    idx += start\n",
    "    while idx:\n",
    "        tree[idx] += 1\n",
    "        idx //= 2\n",
    "    \n",
    "\n",
    "def sumTree(left, right, nodeIdx, nodeLeft, nodeRight):\n",
    "    if left > nodeRight or right < nodeLeft:\n",
    "        return 0\n",
    "    if left <= nodeLeft and right >= nodeRight:\n",
    "        return tree[nodeIdx]\n",
    "    mid = (nodeLeft + nodeRight) // 2\n",
    "    return sumTree(left, right, nodeIdx * 2, nodeLeft, mid) + sumTree(left, right, nodeIdx * 2 +1, mid+1, nodeRight)\n",
    "\n",
    "\n",
    "for _ in range(int(input())):\n",
    "    N = int(input())\n",
    "    # y좌표 압축이 필요한 이유 +> tree의 공간, tree 시간복잡도\n",
    "    data = []\n",
    "    y_data =[]\n",
    "    for _ in range(N):\n",
    "        x, y = map(int, input().split())\n",
    "        data.append([x, y])\n",
    "        y_data.append(y)\n",
    "    # 좌표압축\n",
    "    y_data = sorted(set(y_data))\n",
    "    y_data = {y_data[i]:i for i in range(len(y_data))}\n",
    "    data = [[data[i][0], y_data[data[i][1]]] for i in range(N)]\n",
    "    \n",
    "    #세그먼트 트리\n",
    "    start= 1\n",
    "    while start < N:\n",
    "        start *= 2\n",
    "    tree = [0] * (start * 2 +1)\n",
    "    \n",
    "    answer = 0\n",
    "    # 스위핑 \n",
    "    data.sort(key=lambda x: (x[0], -x[1]))\n",
    "    for i in range(N):\n",
    "        x, y = data[i]\n",
    "        tmp = sumTree(y, start-1, 1, 0, start-1)\n",
    "        answer += tmp\n",
    "        add(y)\n",
    "    print(answer)"
   ]
  },
  {
   "cell_type": "code",
   "execution_count": 17,
   "metadata": {},
   "outputs": [
    {
     "name": "stdout",
     "output_type": "stream",
     "text": [
      "2\n",
      "2\n",
      "0 0 1\n",
      "1 0 1\n",
      "1\n",
      "3\n",
      "0 0 1\n",
      "2 0 1\n",
      "10 0 5\n",
      "2\n"
     ]
    }
   ],
   "source": [
    "#10216\n",
    "def distance(x, y, n, m):\n",
    "    return (x - n) ** 2 + (y-m) ** 2\n",
    "\n",
    "def find(x):\n",
    "    if x == parent[x]:\n",
    "        return x\n",
    "    parent[x] = find(parent[x])\n",
    "    return parent[x]\n",
    "\n",
    "def union(x, y):\n",
    "    x, y = find(x), find(y)\n",
    "    \n",
    "    if x == y:\n",
    "        return\n",
    "    parent[x] = y\n",
    "    return\n",
    "\n",
    "for _ in range(int(input())):\n",
    "    N = int(input())\n",
    "    data = [list(map(int, input().split())) for _ in range(N)]\n",
    "    parent = [i for i in range(N)]\n",
    "    for i in range(N):\n",
    "        n1, m1, r1 = data[i]\n",
    "        for j in range(i+1, N):\n",
    "            n2, m2, r2 = data[j]\n",
    "            if distance(n1, m1, n2, m2) <= (r1 + r2) ** 2:\n",
    "                # 연결되어 있음\n",
    "                union(i, j)\n",
    "    answer = 0\n",
    "    for i in range(N):\n",
    "        if i == parent[i]:\n",
    "            answer += 1\n",
    "    print(answer)\n",
    "        \n",
    "    \n",
    "    "
   ]
  },
  {
   "cell_type": "code",
   "execution_count": 24,
   "metadata": {},
   "outputs": [
    {
     "name": "stdout",
     "output_type": "stream",
     "text": [
      "41\n",
      "3\n"
     ]
    }
   ],
   "source": [
    "#1644\n",
    "N = int(input())\n",
    "\n",
    "prime = [1] * (N+1)\n",
    "for i in range(2, int(N ** 0.5) + 1):\n",
    "    if prime[i] == 1:\n",
    "        for j in range(i*2, N+1, i):\n",
    "            prime[j] = 0\n",
    "data = []\n",
    "for i in range(2, N+1):\n",
    "    if prime[i] == 1:\n",
    "        data.append(i)\n",
    "\n",
    "left = 0\n",
    "right = 0\n",
    "tmp = 0\n",
    "answer = 0\n",
    "while True:\n",
    "    if tmp < N:\n",
    "        if right >= len(data):\n",
    "            break\n",
    "        tmp += data[right]\n",
    "        right +=1\n",
    "    else:\n",
    "        tmp -= data[left]\n",
    "        left += 1\n",
    "        \n",
    "    if tmp == N:\n",
    "        answer += 1\n",
    "print(answer)"
   ]
  },
  {
   "cell_type": "code",
   "execution_count": 50,
   "metadata": {
    "scrolled": true
   },
   "outputs": [
    {
     "name": "stdout",
     "output_type": "stream",
     "text": [
      "4\n",
      "0 10 15 20\n",
      "5 0 9 10\n",
      "6 13 0 12\n",
      "8 8 9 0\n",
      "0\n",
      "1\n",
      "2\n",
      "3\n",
      "8\n",
      "20\n",
      "3\n",
      "2\n",
      "6\n",
      "15\n",
      "25\n",
      "2\n",
      "1\n",
      "3\n",
      "8\n",
      "18\n",
      "3\n",
      "1\n",
      "5\n",
      "13\n",
      "25\n",
      "3\n",
      "1\n",
      "2\n",
      "6\n",
      "15\n",
      "2\n",
      "1\n",
      "5\n",
      "18\n",
      "23\n",
      "35\n"
     ]
    }
   ],
   "source": [
    "#2098\n",
    "import sys\n",
    "\n",
    "def DFS(node, visited):\n",
    "    if dp[node][visited] != None:\n",
    "        return dp[node][visited]\n",
    "    if visited == (1 << N) - 1:\n",
    "        if data[node][0]:\n",
    "            return data[node][0]\n",
    "        else:\n",
    "            return sys.maxsize\n",
    "    tmp = sys.maxsize\n",
    "    for i in range(N):\n",
    "        if data[node][i] != 0 and (visited & 1 << i) == 0:\n",
    "            a = DFS(i, visited | 1 << i)\n",
    "            tmp = min(tmp, a + data[node][i])\n",
    "    dp[node][visited] = tmp\n",
    "    return tmp\n",
    "    \n",
    "N = int(input())\n",
    "data = [list(map(int, input().split())) for _ in range(N)]\n",
    "\n",
    "dp = [[None] * (1 << N) for _ in range(N)]\n",
    "answer = DFS(0, 1)\n",
    "print(answer)"
   ]
  },
  {
   "cell_type": "code",
   "execution_count": 54,
   "metadata": {},
   "outputs": [
    {
     "name": "stdout",
     "output_type": "stream",
     "text": [
      "4\n",
      "0 10 15 20\n",
      "5 0 9 10\n",
      "6 13 0 12\n",
      "8 8 9 0\n",
      "35\n"
     ]
    }
   ],
   "source": [
    "#2098\n",
    "import sys\n",
    "\n",
    "def DFS(node, visited):\n",
    "    if dp[node][visited] != None:\n",
    "        return dp[node][visited]\n",
    "    \n",
    "    if visited == (1 << N) - 1:\n",
    "        return data[node][0] or sys.maxsize\n",
    "    tmp = sys.maxsize\n",
    "    for i in range(N):\n",
    "        if data[node][i] != 0 and visited & 1 << i == 0:\n",
    "            tmp = min(tmp, DFS(i, visited | 1 << i) + data[node][i])\n",
    "    dp[node][visited] = tmp\n",
    "    return tmp\n",
    "    \n",
    "N = int(input())\n",
    "data = [list(map(int, input().split())) for _ in range(N)]\n",
    "\n",
    "dp = [[None] * (1 << N) for _ in range(N)]\n",
    "\n",
    "answer = DFS(0, 1)\n",
    "print(answer)"
   ]
  },
  {
   "cell_type": "code",
   "execution_count": 58,
   "metadata": {
    "scrolled": false
   },
   "outputs": [
    {
     "name": "stdout",
     "output_type": "stream",
     "text": [
      "6 6\n",
      "001111\n",
      "010000\n",
      "001111\n",
      "110001\n",
      "011010\n",
      "100010\n",
      "2\n"
     ]
    }
   ],
   "source": [
    "#1261\n",
    "import heapq, sys\n",
    "\n",
    "dx = [-1, 1, 0, 0]\n",
    "dy = [0, 0, -1, 1]\n",
    "\n",
    "M, N = map(int, input().split())\n",
    "data = [list(map(int, input())) for _ in range(N)]\n",
    "\n",
    "# val, n, m\n",
    "que = [[0, 0, 0]]\n",
    "distance = [[sys.maxsize] * M for _ in range(N)]\n",
    "distance[0][0] = 0\n",
    "\n",
    "while que:\n",
    "    val, n, m = heapq.heappop(que)\n",
    "    if n == N-1 and m == M-1:\n",
    "        break\n",
    "    for i in range(4):\n",
    "        x, y = n + dx[i], m + dy[i]\n",
    "        if 0 <= x <= N-1 and 0 <= y <= M-1 and distance[x][y] > distance[n][m] + data[x][y]:\n",
    "            heapq.heappush(que, [distance[n][m] + data[x][y], x, y])\n",
    "            distance[x][y] = distance[n][m] + data[x][y]\n",
    "print(val)\n",
    "    "
   ]
  },
  {
   "cell_type": "code",
   "execution_count": 85,
   "metadata": {},
   "outputs": [
    {
     "name": "stdout",
     "output_type": "stream",
     "text": [
      "2 7\n",
      "2 3 2 3 1 2 7\n",
      "2\n"
     ]
    }
   ],
   "source": [
    "# 1700\n",
    "N, K = map(int, input().split())\n",
    "data = list(map(int, input().split()))\n",
    "que = set()\n",
    "answer = 0\n",
    "for i in range(len(data)):\n",
    "    el = data[i]\n",
    "    if el in que:\n",
    "        continue\n",
    "    if len(que) < N:\n",
    "        que.add(el)\n",
    "    else:\n",
    "        # 가장 멀리 있는거 제거\n",
    "        answer += 1\n",
    "        max_idx = i\n",
    "        max_val = 0\n",
    "        for l in que:\n",
    "            isposs = False\n",
    "            for j in range(i+1, len(data)):\n",
    "                if data[j] == l:\n",
    "                    isposs = True\n",
    "                    if j > max_idx:\n",
    "                        max_idx = j\n",
    "                        max_val = l\n",
    "                    break\n",
    "            if not isposs:\n",
    "                max_val = l\n",
    "                break\n",
    "        que.remove(max_val)\n",
    "        que.add(el)\n",
    "        \n",
    "print(answer)"
   ]
  },
  {
   "cell_type": "code",
   "execution_count": 87,
   "metadata": {},
   "outputs": [
    {
     "name": "stdout",
     "output_type": "stream",
     "text": [
      "2 7\n",
      "2 3 2 3 1 2 7\n",
      "2\n"
     ]
    }
   ],
   "source": [
    "#1700\n",
    "N, K = map(int, input().split())\n",
    "data = list(map(int, input().split()))\n",
    "que = set()\n",
    "answer = 0\n",
    "for i in range(K):\n",
    "    el = data[i]\n",
    "    if el in que:\n",
    "        continue\n",
    "    if len(que) != N:\n",
    "        que.add(el)\n",
    "    else:\n",
    "        max_val = 0\n",
    "        max_idx = 0\n",
    "        answer += 1\n",
    "        for l in que:\n",
    "            isposs = False\n",
    "            for j in range(i+1, K):\n",
    "                if data[j] == l:\n",
    "                    isposs = True\n",
    "                    if j > max_idx:\n",
    "                        max_idx = j\n",
    "                        max_val = l\n",
    "                    break\n",
    "            if not isposs:\n",
    "                max_val = l\n",
    "                break\n",
    "        que.remove(max_val)\n",
    "        que.add(el)\n",
    "print(answer)"
   ]
  },
  {
   "cell_type": "code",
   "execution_count": 88,
   "metadata": {},
   "outputs": [
    {
     "name": "stdout",
     "output_type": "stream",
     "text": [
      "4\n",
      "1 3\n",
      "2 5\n",
      "3 5\n",
      "6 7\n",
      "5\n"
     ]
    }
   ],
   "source": [
    "#2170\n",
    "import sys\n",
    "input = sys.stdin.readline\n",
    "N = int(input())\n",
    "data = [list(map(int, input().split())) for _ in range(N)]\n",
    "data.sort()\n",
    "\n",
    "answer = 0\n",
    "start = -1000000001\n",
    "end = -1000000001\n",
    "for x, y in data:\n",
    "    if end < x:\n",
    "        answer += (end - start)\n",
    "        start = x\n",
    "        end = y\n",
    "    else:\n",
    "        end = max(end, y)\n",
    "answer += (end - start)\n",
    "print(answer)"
   ]
  },
  {
   "cell_type": "code",
   "execution_count": 100,
   "metadata": {},
   "outputs": [
    {
     "name": "stdout",
     "output_type": "stream",
     "text": [
      "2\n",
      "AB\n",
      "BA\n",
      "187\n"
     ]
    }
   ],
   "source": [
    "#1339\n",
    "N = int(input())\n",
    "data = [input() for _ in range(N)]\n",
    "dic = {}\n",
    "for el in data:\n",
    "    n = len(el)-1\n",
    "    for l in el:\n",
    "        if dic.get(l):\n",
    "            dic[l] += 10 ** n\n",
    "        else:\n",
    "            dic[l] = 10 ** n\n",
    "        n -= 1\n",
    "dic = sorted(dic.items(), key=lambda x:-x[1])\n",
    "dic = {dic[i][0]: 9-i  for i in range(len(dic))}\n",
    "answer = 0\n",
    "for el in data:\n",
    "    tmp = \"\"\n",
    "    for l in el:\n",
    "        tmp += str(dic[l])\n",
    "    answer += int(tmp)\n",
    "print(answer)"
   ]
  },
  {
   "cell_type": "code",
   "execution_count": 102,
   "metadata": {
    "scrolled": false
   },
   "outputs": [
    {
     "name": "stdout",
     "output_type": "stream",
     "text": [
      "4 5\n",
      "50 45 37 32 30\n",
      "35 50 40 20 25\n",
      "30 30 25 17 28\n",
      "27 24 22 15 10\n",
      "3\n"
     ]
    }
   ],
   "source": [
    "#1520\n",
    "dx = [-1, 1, 0, 0]\n",
    "dy = [0, 0, -1, 1]\n",
    "\n",
    "def DFS(n, m):\n",
    "    if dp[n][m] != None:\n",
    "        return dp[n][m]\n",
    "    if n == N-1 and m == M-1:\n",
    "        return 1\n",
    "    tmp = 0\n",
    "    for i in range(4):\n",
    "        x, y = n + dx[i], m + dy[i]\n",
    "        if 0 <= x <= N-1 and 0 <= y <= M-1 and data[n][m] > data[x][y]:\n",
    "            tmp += DFS(x, y)\n",
    "    dp[n][m] = tmp\n",
    "    return tmp\n",
    "\n",
    "N, M = map(int, input().split())\n",
    "data = [list(map(int, input().split())) for _ in range(N)]\n",
    "\n",
    "dp = [[None] * M for _ in range(N)]\n",
    "\n",
    "answer = DFS(0, 0)\n",
    "print(answer)"
   ]
  },
  {
   "cell_type": "code",
   "execution_count": 106,
   "metadata": {},
   "outputs": [
    {
     "name": "stdout",
     "output_type": "stream",
     "text": [
      "8\n",
      "92\n"
     ]
    }
   ],
   "source": [
    "#9663\n",
    "dx = [1, 1, 1]\n",
    "dy = [1, 0, -1]\n",
    "\n",
    "def check(n, m):\n",
    "    tmp = []\n",
    "    for i in range(3):\n",
    "        x, y = n, m\n",
    "        while 0 <= x <= N-1 and 0 <= y <= N-1:\n",
    "            visited[x][y] += 1\n",
    "            tmp.append([x, y])\n",
    "            x, y = x + dx[i], y + dy[i]\n",
    "    return tmp\n",
    "\n",
    "def DFS(idx):\n",
    "    if idx == N:\n",
    "        return 1\n",
    "    tmp = 0\n",
    "    for i in range(N):\n",
    "        if visited[idx][i] == 0:\n",
    "            checklst = check(idx, i)\n",
    "            tmp += DFS(idx+1)\n",
    "            for n, m in checklst:\n",
    "                visited[n][m] -= 1\n",
    "    return tmp\n",
    "\n",
    "N = int(input())\n",
    "visited = [[0] * N for _ in range(N)]\n",
    "answer = DFS(0)\n",
    "print(answer)"
   ]
  },
  {
   "cell_type": "code",
   "execution_count": 110,
   "metadata": {},
   "outputs": [
    {
     "name": "stdout",
     "output_type": "stream",
     "text": [
      "7\n",
      "1 2 1 3 1 2 1\n",
      "3\n",
      "1 1\n",
      "1\n",
      "2 2\n",
      "1\n",
      "5 7\n",
      "1\n"
     ]
    }
   ],
   "source": [
    "#10942\n",
    "import sys\n",
    "input = sys.stdin.readline\n",
    "N = int(input())\n",
    "data = list(map(int, input().split()))\n",
    "# dp[i][j]: i ~ j 사이가 펠린드롬인지\n",
    "dp = [[1] * N for _ in range(N)]\n",
    "# 길이\n",
    "for k in range(1, N):\n",
    "    for i in range(N-k):\n",
    "        j = i + k\n",
    "        if dp[i+1][j-1] and data[i] == data[j]:\n",
    "            dp[i][j] = 1\n",
    "        else:\n",
    "            dp[i][j] = 0\n",
    "for _ in range(int(input())):\n",
    "    a, b = map(int, input().split())\n",
    "    print(dp[a-1][b-1])"
   ]
  },
  {
   "cell_type": "code",
   "execution_count": 113,
   "metadata": {
    "scrolled": false
   },
   "outputs": [
    {
     "ename": "KeyboardInterrupt",
     "evalue": "Interrupted by user",
     "output_type": "error",
     "traceback": [
      "\u001b[1;31m---------------------------------------------------------------------------\u001b[0m",
      "\u001b[1;31mKeyboardInterrupt\u001b[0m                         Traceback (most recent call last)",
      "\u001b[1;32m<ipython-input-113-0c09e12d61eb>\u001b[0m in \u001b[0;36m<module>\u001b[1;34m\u001b[0m\n\u001b[0;32m      1\u001b[0m \u001b[1;31m#2629\u001b[0m\u001b[1;33m\u001b[0m\u001b[1;33m\u001b[0m\u001b[1;33m\u001b[0m\u001b[0m\n\u001b[1;32m----> 2\u001b[1;33m \u001b[0mN\u001b[0m \u001b[1;33m=\u001b[0m \u001b[0mint\u001b[0m\u001b[1;33m(\u001b[0m\u001b[0minput\u001b[0m\u001b[1;33m(\u001b[0m\u001b[1;33m)\u001b[0m\u001b[1;33m)\u001b[0m\u001b[1;33m\u001b[0m\u001b[1;33m\u001b[0m\u001b[0m\n\u001b[0m\u001b[0;32m      3\u001b[0m \u001b[0mdata\u001b[0m \u001b[1;33m=\u001b[0m \u001b[0mlist\u001b[0m\u001b[1;33m(\u001b[0m\u001b[0mmap\u001b[0m\u001b[1;33m(\u001b[0m\u001b[0mint\u001b[0m\u001b[1;33m,\u001b[0m \u001b[0minput\u001b[0m\u001b[1;33m(\u001b[0m\u001b[1;33m)\u001b[0m\u001b[1;33m.\u001b[0m\u001b[0msplit\u001b[0m\u001b[1;33m(\u001b[0m\u001b[1;33m)\u001b[0m\u001b[1;33m)\u001b[0m\u001b[1;33m)\u001b[0m\u001b[1;33m\u001b[0m\u001b[1;33m\u001b[0m\u001b[0m\n\u001b[0;32m      4\u001b[0m \u001b[0mdp\u001b[0m \u001b[1;33m=\u001b[0m \u001b[1;33m[\u001b[0m\u001b[1;33m[\u001b[0m\u001b[1;36m0\u001b[0m\u001b[1;33m]\u001b[0m \u001b[1;33m*\u001b[0m \u001b[1;36m40001\u001b[0m \u001b[1;32mfor\u001b[0m \u001b[0m_\u001b[0m \u001b[1;32min\u001b[0m \u001b[0mrange\u001b[0m\u001b[1;33m(\u001b[0m\u001b[0mN\u001b[0m\u001b[1;33m)\u001b[0m\u001b[1;33m]\u001b[0m\u001b[1;33m\u001b[0m\u001b[1;33m\u001b[0m\u001b[0m\n\u001b[0;32m      5\u001b[0m \u001b[0mdp\u001b[0m\u001b[1;33m[\u001b[0m\u001b[1;36m0\u001b[0m\u001b[1;33m]\u001b[0m\u001b[1;33m[\u001b[0m\u001b[1;36m0\u001b[0m\u001b[1;33m]\u001b[0m \u001b[1;33m=\u001b[0m \u001b[1;36m1\u001b[0m\u001b[1;33m\u001b[0m\u001b[1;33m\u001b[0m\u001b[0m\n",
      "\u001b[1;32m~\\Anaconda3\\Lib\\site-packages\\ipykernel\\kernelbase.py\u001b[0m in \u001b[0;36mraw_input\u001b[1;34m(self, prompt)\u001b[0m\n\u001b[0;32m    861\u001b[0m             \u001b[0mself\u001b[0m\u001b[1;33m.\u001b[0m\u001b[0m_parent_ident\u001b[0m\u001b[1;33m,\u001b[0m\u001b[1;33m\u001b[0m\u001b[1;33m\u001b[0m\u001b[0m\n\u001b[0;32m    862\u001b[0m             \u001b[0mself\u001b[0m\u001b[1;33m.\u001b[0m\u001b[0m_parent_header\u001b[0m\u001b[1;33m,\u001b[0m\u001b[1;33m\u001b[0m\u001b[1;33m\u001b[0m\u001b[0m\n\u001b[1;32m--> 863\u001b[1;33m             \u001b[0mpassword\u001b[0m\u001b[1;33m=\u001b[0m\u001b[1;32mFalse\u001b[0m\u001b[1;33m,\u001b[0m\u001b[1;33m\u001b[0m\u001b[1;33m\u001b[0m\u001b[0m\n\u001b[0m\u001b[0;32m    864\u001b[0m         )\n\u001b[0;32m    865\u001b[0m \u001b[1;33m\u001b[0m\u001b[0m\n",
      "\u001b[1;32m~\\Anaconda3\\Lib\\site-packages\\ipykernel\\kernelbase.py\u001b[0m in \u001b[0;36m_input_request\u001b[1;34m(self, prompt, ident, parent, password)\u001b[0m\n\u001b[0;32m    902\u001b[0m             \u001b[1;32mexcept\u001b[0m \u001b[0mKeyboardInterrupt\u001b[0m\u001b[1;33m:\u001b[0m\u001b[1;33m\u001b[0m\u001b[1;33m\u001b[0m\u001b[0m\n\u001b[0;32m    903\u001b[0m                 \u001b[1;31m# re-raise KeyboardInterrupt, to truncate traceback\u001b[0m\u001b[1;33m\u001b[0m\u001b[1;33m\u001b[0m\u001b[1;33m\u001b[0m\u001b[0m\n\u001b[1;32m--> 904\u001b[1;33m                 \u001b[1;32mraise\u001b[0m \u001b[0mKeyboardInterrupt\u001b[0m\u001b[1;33m(\u001b[0m\u001b[1;34m\"Interrupted by user\"\u001b[0m\u001b[1;33m)\u001b[0m \u001b[1;32mfrom\u001b[0m \u001b[1;32mNone\u001b[0m\u001b[1;33m\u001b[0m\u001b[1;33m\u001b[0m\u001b[0m\n\u001b[0m\u001b[0;32m    905\u001b[0m             \u001b[1;32mexcept\u001b[0m \u001b[0mException\u001b[0m \u001b[1;32mas\u001b[0m \u001b[0me\u001b[0m\u001b[1;33m:\u001b[0m\u001b[1;33m\u001b[0m\u001b[1;33m\u001b[0m\u001b[0m\n\u001b[0;32m    906\u001b[0m                 \u001b[0mself\u001b[0m\u001b[1;33m.\u001b[0m\u001b[0mlog\u001b[0m\u001b[1;33m.\u001b[0m\u001b[0mwarning\u001b[0m\u001b[1;33m(\u001b[0m\u001b[1;34m\"Invalid Message:\"\u001b[0m\u001b[1;33m,\u001b[0m \u001b[0mexc_info\u001b[0m\u001b[1;33m=\u001b[0m\u001b[1;32mTrue\u001b[0m\u001b[1;33m)\u001b[0m\u001b[1;33m\u001b[0m\u001b[1;33m\u001b[0m\u001b[0m\n",
      "\u001b[1;31mKeyboardInterrupt\u001b[0m: Interrupted by user"
     ]
    }
   ],
   "source": [
    "#2629\n",
    "N = int(input())\n",
    "data = list(map(int, input().split()))\n",
    "dp = [[0] * 40001 for _ in range(N)]\n",
    "dp[0][0] = 1\n",
    "dp[0][data[0]] = 1\n",
    "\n",
    "for i in range(1, N):\n",
    "    el = data[i]\n",
    "    dp[i][el] = 1\n",
    "    for j in range(40001):\n",
    "        if dp[i-1][j] == 1:\n",
    "            dp[i][j] = dp[i-1][j]\n",
    "            if el + j <= 40000:\n",
    "                dp[i][el + j] = 1\n",
    "            dp[i][abs(el - j)] = 1\n",
    "\n",
    "M = int(input())\n",
    "M_lst = list(map(int, input().split()))\n",
    "answer = []\n",
    "for el in M_lst:\n",
    "    answer.append(\"Y\" if dp[N-1][el] else \"N\")\n",
    "print(*answer)"
   ]
  },
  {
   "cell_type": "code",
   "execution_count": 119,
   "metadata": {},
   "outputs": [
    {
     "name": "stdout",
     "output_type": "stream",
     "text": [
      "3 10\n",
      "1\n",
      "2\n",
      "5\n",
      "10\n"
     ]
    }
   ],
   "source": [
    "#2293\n",
    "n, k = map(int, input().split())\n",
    "data = [int(input()) for _ in range(n)]\n",
    "dp = [0] * (k+1)\n",
    "dp[0] = 1\n",
    "for el in data:\n",
    "    for l in range(el, k+1):\n",
    "        dp[l] += dp[l - el] \n",
    "print(dp[k])"
   ]
  },
  {
   "cell_type": "code",
   "execution_count": 122,
   "metadata": {},
   "outputs": [
    {
     "name": "stdout",
     "output_type": "stream",
     "text": [
      "3 2\n",
      "1 65\n",
      "5 23\n",
      "2 99\n",
      "10\n",
      "2\n",
      "164\n"
     ]
    }
   ],
   "source": [
    "#1202\n",
    "import heapq\n",
    "N, K = map(int, input().split())\n",
    "\n",
    "data = [list(map(int, input().split())) for _ in range(N)]\n",
    "bag = [int(input()) for _ in range(K)]\n",
    "\n",
    "heapq.heapify(data)\n",
    "heapq.heapify(bag)\n",
    "que = []\n",
    "answer = 0\n",
    "while True:\n",
    "    c = heapq.heappop(bag)\n",
    "    while data and data[0][0] <= c:\n",
    "        m, v = heapq.heappop(data)\n",
    "        heapq.heappush(que, -v)\n",
    "    if que:\n",
    "        answer -= heapq.heappop(que)\n",
    "    if not bag:\n",
    "        break\n",
    "    if not que and not data:\n",
    "        break\n",
    "print(answer)"
   ]
  },
  {
   "cell_type": "code",
   "execution_count": 129,
   "metadata": {},
   "outputs": [
    {
     "name": "stdout",
     "output_type": "stream",
     "text": [
      "5 60\n",
      "30 10 20 35 40\n",
      "3 0 3 5 4\n",
      "6\n"
     ]
    }
   ],
   "source": [
    "#7579\n",
    "N, M = map(int, input().split())\n",
    "data = list(map(int, input().split()))\n",
    "C = list(map(int, input().split()))\n",
    "\n",
    "dp = [-1] * 10001\n",
    "dp[0] = 0\n",
    "for i in range(N):\n",
    "    el = data[i]\n",
    "    c = C[i]\n",
    "    for j in range(10000, -1, -1):\n",
    "        if j >= c and dp[j-c] != -1:\n",
    "            dp[j] = max(dp[j], dp[j-c]+el)\n",
    "        \n",
    "for i in range(10001):\n",
    "    if dp[i] >= M:\n",
    "        print(i)\n",
    "        break"
   ]
  },
  {
   "cell_type": "code",
   "execution_count": 2,
   "metadata": {},
   "outputs": [
    {
     "name": "stdout",
     "output_type": "stream",
     "text": [
      "6 2\n",
      "-1\n",
      "3\n",
      "1\n",
      "2\n",
      "4\n",
      "-1\n",
      "9\n"
     ]
    }
   ],
   "source": [
    "#2228\n",
    "import sys\n",
    "\n",
    "def DFS(N, M):\n",
    "    if M == 0:\n",
    "        return 0\n",
    "    if N <= 0:\n",
    "        return -sys.maxsize\n",
    "    if dp[N][M] != None:\n",
    "        return dp[N][M]\n",
    "    \n",
    "    tmp = DFS(N-1, M)\n",
    "    \n",
    "    for k in range(N, 0, -1):\n",
    "        tmp = max(tmp, DFS(k-2, M-1) + s[N] - s[k-1])\n",
    "    dp[N][M] = tmp\n",
    "    return tmp\n",
    "\n",
    "N, M = map(int, input().split())\n",
    "data = [0] + [int(input()) for _ in range(N)]\n",
    "dp = [[None] * (M+1) for _ in range(N+1)]\n",
    "\n",
    "s = [0] * (N+1)\n",
    "for i in range(1, N+1):\n",
    "    s[i] = s[i-1] + data[i]\n",
    "\n",
    "a = DFS(N, M)\n",
    "print(a)"
   ]
  },
  {
   "cell_type": "code",
   "execution_count": 8,
   "metadata": {},
   "outputs": [
    {
     "name": "stdout",
     "output_type": "stream",
     "text": [
      "4\n",
      "6\n",
      "2\n",
      "2\n",
      "3\n",
      "3\n",
      "3\n"
     ]
    }
   ],
   "source": [
    "#10775\n",
    "\n",
    "def find(x):\n",
    "    if parent[x] == x:\n",
    "        return x\n",
    "    parent[x] = find(parent[x])\n",
    "    return parent[x]\n",
    "\n",
    "def union(x, y):\n",
    "    x, y = find(x), find(y)\n",
    "    parent[x] = y\n",
    "\n",
    "N = int(input())\n",
    "# 내릴 수 있는 승강장 0에 닿으면 도킹 못시킨다\n",
    "parent = [i for i in range(N+1)]\n",
    "answer = 0\n",
    "M = int(input())\n",
    "for i in range(M):\n",
    "    n = int(input())\n",
    "    n = find(n)\n",
    "    if n == 0:\n",
    "        break\n",
    "    union(n, n-1)\n",
    "    answer += 1\n",
    "print(answer)"
   ]
  },
  {
   "cell_type": "code",
   "execution_count": 12,
   "metadata": {},
   "outputs": [
    {
     "name": "stdout",
     "output_type": "stream",
     "text": [
      "7\n",
      "3 10\n",
      "5 20\n",
      "1 10\n",
      "1 20\n",
      "2 15\n",
      "4 40\n",
      "2 200\n",
      "45\n"
     ]
    }
   ],
   "source": [
    "#14501\n",
    "\n",
    "N = int(input())\n",
    "data = [list(map(int, input().split())) for _ in range(N)] + [0]\n",
    "dp = [0] * (N+1)\n",
    "for i in range(N-1, -1, -1):\n",
    "    t, p = data[i]\n",
    "    dp[i] = dp[i+1]\n",
    "    if i + t -1 <= N-1:\n",
    "        dp[i] = max(dp[i], dp[i+t] + p)\n",
    "print(dp[0])"
   ]
  },
  {
   "cell_type": "code",
   "execution_count": 13,
   "metadata": {},
   "outputs": [
    {
     "name": "stdout",
     "output_type": "stream",
     "text": [
      "4\n",
      "2333\n",
      "2339\n",
      "2393\n",
      "2399\n",
      "2939\n",
      "3119\n",
      "3137\n",
      "3733\n",
      "3739\n",
      "3793\n",
      "3797\n",
      "5939\n",
      "7193\n",
      "7331\n",
      "7333\n",
      "7393\n"
     ]
    }
   ],
   "source": [
    "#2023\n",
    "\n",
    "def check(n):\n",
    "    n = int(n)\n",
    "    for i in range(2, int(n**0.5)+1):\n",
    "        if n % i == 0:\n",
    "            return False\n",
    "    return True\n",
    "\n",
    "def DFS(val):\n",
    "    if len(val) == N:\n",
    "        print(val)\n",
    "    for i in range(1, 10, 2):\n",
    "        tmp = val + str(i)\n",
    "        if check(tmp):\n",
    "            DFS(tmp)\n",
    "            \n",
    "\n",
    "N = int(input())\n",
    "start =[\"2\", \"3\", \"5\", \"7\"]\n",
    "for el in start:\n",
    "    DFS(el)"
   ]
  },
  {
   "cell_type": "code",
   "execution_count": null,
   "metadata": {},
   "outputs": [],
   "source": []
  }
 ],
 "metadata": {
  "kernelspec": {
   "display_name": "Python 3",
   "language": "python",
   "name": "python3"
  },
  "language_info": {
   "codemirror_mode": {
    "name": "ipython",
    "version": 3
   },
   "file_extension": ".py",
   "mimetype": "text/x-python",
   "name": "python",
   "nbconvert_exporter": "python",
   "pygments_lexer": "ipython3",
   "version": "3.7.3"
  }
 },
 "nbformat": 4,
 "nbformat_minor": 4
}
