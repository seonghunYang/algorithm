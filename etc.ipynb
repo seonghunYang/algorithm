{
 "cells": [
  {
   "cell_type": "code",
   "execution_count": 10,
   "metadata": {},
   "outputs": [
    {
     "name": "stdout",
     "output_type": "stream",
     "text": [
      "baekjoon\n",
      "1 1 0 0 1 0 0 0 0 1 1 0 0 1 2 0 0 0 0 0 0 0 0 0 0 0 "
     ]
    }
   ],
   "source": [
    "#10808\n",
    "import sys\n",
    "# input = sys.stdin.readline\n",
    "print = sys.stdout.write\n",
    "\n",
    "string = input().strip()\n",
    "\n",
    "for i in range(ord(\"a\"), ord(\"z\")+1):\n",
    "    print(str(string.count(chr(i))) + \" \")\n"
   ]
  },
  {
   "cell_type": "code",
   "execution_count": null,
   "metadata": {},
   "outputs": [],
   "source": [
    "#10809\n",
    "\n",
    "import sys\n",
    "# input = sys.stdin.readline\n",
    "print = sys.stdout.write\n",
    "\n",
    "string = input().strip()\n",
    "\n",
    "for i in range(ord(\"a\"), ord(\"z\")+1):\n",
    "    print(str(string.find(chr(i))) + \" \")"
   ]
  },
  {
   "cell_type": "code",
   "execution_count": 18,
   "metadata": {},
   "outputs": [
    {
     "name": "stdout",
     "output_type": "stream",
     "text": [
      "ad\n",
      "2 0 0 0\n"
     ]
    }
   ],
   "source": [
    "#10820\n",
    "\n",
    "import sys\n",
    "# input = sys.stdin.readline\n",
    "print = sys.stdout.write\n",
    "\n",
    "while True:\n",
    "    try:\n",
    "        string = input()\n",
    "        a, b, c, d = 0, 0, 0, 0\n",
    "        for i in range(len(string)):\n",
    "            s = string[i]\n",
    "            if s == \" \": d+=1    \n",
    "            elif s >= \"a\" and s <= \"z\": a+=1\n",
    "            elif s >= \"A\" and s <= \"Z\": b+=1\n",
    "            else:\n",
    "                c+=1\n",
    "        print(\"{0} {1} {2} {3}\".format(a,b,c,d) + \"\\n\")\n",
    "    except:\n",
    "        break\n",
    "\n"
   ]
  },
  {
   "cell_type": "code",
   "execution_count": null,
   "metadata": {},
   "outputs": [],
   "source": []
  }
 ],
 "metadata": {
  "kernelspec": {
   "display_name": "Python 3",
   "language": "python",
   "name": "python3"
  },
  "language_info": {
   "codemirror_mode": {
    "name": "ipython",
    "version": 3
   },
   "file_extension": ".py",
   "mimetype": "text/x-python",
   "name": "python",
   "nbconvert_exporter": "python",
   "pygments_lexer": "ipython3",
   "version": "3.7.3"
  }
 },
 "nbformat": 4,
 "nbformat_minor": 4
}
