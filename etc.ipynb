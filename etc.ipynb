{
 "cells": [
  {
   "cell_type": "code",
   "execution_count": 10,
   "metadata": {},
   "outputs": [
    {
     "name": "stdout",
     "output_type": "stream",
     "text": [
      "baekjoon\n",
      "1 1 0 0 1 0 0 0 0 1 1 0 0 1 2 0 0 0 0 0 0 0 0 0 0 0 "
     ]
    }
   ],
   "source": [
    "#10808\n",
    "import sys\n",
    "# input = sys.stdin.readline\n",
    "print = sys.stdout.write\n",
    "\n",
    "string = input().strip()\n",
    "\n",
    "for i in range(ord(\"a\"), ord(\"z\")+1):\n",
    "    print(str(string.count(chr(i))) + \" \")\n"
   ]
  },
  {
   "cell_type": "code",
   "execution_count": null,
   "metadata": {},
   "outputs": [],
   "source": [
    "#10809\n",
    "\n",
    "import sys\n",
    "# input = sys.stdin.readline\n",
    "print = sys.stdout.write\n",
    "\n",
    "string = input().strip()\n",
    "\n",
    "for i in range(ord(\"a\"), ord(\"z\")+1):\n",
    "    print(str(string.find(chr(i))) + \" \")"
   ]
  },
  {
   "cell_type": "code",
   "execution_count": 18,
   "metadata": {},
   "outputs": [
    {
     "name": "stdout",
     "output_type": "stream",
     "text": [
      "ad\n",
      "2 0 0 0\n"
     ]
    }
   ],
   "source": [
    "#10820\n",
    "\n",
    "import sys\n",
    "# input = sys.stdin.readline\n",
    "print = sys.stdout.write\n",
    "\n",
    "while True:\n",
    "    try:\n",
    "        string = input()\n",
    "        a, b, c, d = 0, 0, 0, 0\n",
    "        for i in range(len(string)):\n",
    "            s = string[i]\n",
    "            if s == \" \": d+=1    \n",
    "            elif s >= \"a\" and s <= \"z\": a+=1\n",
    "            elif s >= \"A\" and s <= \"Z\": b+=1\n",
    "            else:\n",
    "                c+=1\n",
    "        print(\"{0} {1} {2} {3}\".format(a,b,c,d) + \"\\n\")\n",
    "    except:\n",
    "        break\n",
    "\n",
    "## islower() isupper(), isdigit() 이라는 함수도 존재한다"
   ]
  },
  {
   "cell_type": "code",
   "execution_count": null,
   "metadata": {},
   "outputs": [],
   "source": [
    "#2743\n",
    "\n",
    "import sys\n",
    "# input = sys.stdin.readline\n",
    "print = sys.stdout.write\n",
    "\n",
    "string = input().strip()\n",
    "\n",
    "print(str(len(string)))"
   ]
  },
  {
   "cell_type": "code",
   "execution_count": 17,
   "metadata": {},
   "outputs": [
    {
     "name": "stdout",
     "output_type": "stream",
     "text": [
      "   s\n",
      "   f"
     ]
    }
   ],
   "source": [
    "#11655\n",
    "import sys\n",
    "# input = sys.stdin.readline\n",
    "print = sys.stdout.write\n",
    "\n",
    "string = input().rstrip()\n",
    "\n",
    "for i in range(len(string)):\n",
    "    s = string[i]\n",
    "    if s.islower():\n",
    "        tmp = ord(\"a\") + ((ord(s) - ord(\"a\")+13) % 26)\n",
    "        print(str(chr(tmp)))\n",
    "    elif s.isupper():\n",
    "        tmp = ord(\"A\") + ((ord(s) - ord(\"A\")+13) % 26)\n",
    "        print(str(chr(tmp)))\n",
    "    elif s.isdigit():\n",
    "        print(str(s))\n",
    "    else:\n",
    "        print(\" \")"
   ]
  },
  {
   "cell_type": "code",
   "execution_count": 4,
   "metadata": {},
   "outputs": [
    {
     "name": "stdout",
     "output_type": "stream",
     "text": [
      "10 20 30 40\n",
      "4060"
     ]
    }
   ],
   "source": [
    "#10824\n",
    "import sys\n",
    "# input = sys.stdin.readline\n",
    "print = sys.stdout.write\n",
    "\n",
    "a, b, c, d = input().split()\n",
    "\n",
    "a += b\n",
    "c += d\n",
    "\n",
    "a = int(a) + int(c)\n",
    "\n",
    "print(str(a))"
   ]
  },
  {
   "cell_type": "code",
   "execution_count": 5,
   "metadata": {},
   "outputs": [
    {
     "name": "stdout",
     "output_type": "stream",
     "text": [
      "baekjoon\n",
      "aekjoon\n",
      "baekjoon\n",
      "ekjoon\n",
      "joon\n",
      "kjoon\n",
      "n\n",
      "on\n",
      "oon\n"
     ]
    }
   ],
   "source": [
    "#11656\n",
    "import sys\n",
    "input = sys.stdin.readline\n",
    "print = sys.stdout.write\n",
    "\n",
    "string = input().strip()\n",
    "data = [string]\n",
    "for i in range(1, len(string)):\n",
    "    data.append(string[i:])\n",
    "data.sort()\n",
    "\n",
    "for i in range(len(data)): print(str(data[i]) + \"\\n\")"
   ]
  },
  {
   "cell_type": "code",
   "execution_count": 16,
   "metadata": {},
   "outputs": [
    {
     "name": "stdout",
     "output_type": "stream",
     "text": [
      "dmih\n",
      "11\n",
      "B\n",
      "B\n",
      "P x\n",
      "L\n",
      "B\n",
      "B\n",
      "B\n",
      "P y\n",
      "D\n",
      "D\n",
      "P z\n",
      "yxz"
     ]
    }
   ],
   "source": [
    "#1406\n",
    "import sys\n",
    "# input = sys.stdin.readline\n",
    "print = sys.stdout.write\n",
    "\n",
    "data = input().strip()\n",
    "N = int(input())\n",
    "cursor = len(data)\n",
    "\n",
    "for i in range(N):\n",
    "    op = input().split()\n",
    "    if op[0] == \"P\":\n",
    "        data = data[:cursor] + op[1] + data[cursor:]\n",
    "        cursor += 1\n",
    "    if op[0] == \"L\":\n",
    "        if cursor == 0:\n",
    "            continue\n",
    "        cursor -= 1\n",
    "    if op[0] == \"D\":\n",
    "        if cursor == len(data):\n",
    "            continue\n",
    "        cursor += 1\n",
    "    if op[0] == \"B\":\n",
    "        if cursor == 0:\n",
    "            continue\n",
    "        data = data[:cursor-1] + data[cursor:]\n",
    "        cursor -= 1\n",
    "print(data)"
   ]
  },
  {
   "cell_type": "code",
   "execution_count": 35,
   "metadata": {},
   "outputs": [
    {
     "name": "stdout",
     "output_type": "stream",
     "text": [
      "abc\n",
      "9\n",
      "L\n",
      "['a', 'b']['c']L\n",
      "['a']['c', 'b']L\n",
      "[]['c', 'b', 'a']L\n",
      "L\n",
      "P x\n",
      "['x']['c', 'b', 'a']L\n",
      "[]['c', 'b', 'a', 'x']B\n",
      "P y\n",
      "['y']['c', 'b', 'a', 'x']yxabc"
     ]
    }
   ],
   "source": [
    "#1406\n",
    "import sys\n",
    "# input = sys.stdin.readline\n",
    "print = sys.stdout.write\n",
    "\n",
    "data = \",\".join(input().strip()).split(\",\")\n",
    "N = int(input())\n",
    "stack = []\n",
    "\n",
    "for i in range(N):\n",
    "    op = input().split()\n",
    "    if op[0] == \"L\":\n",
    "        if len(data) == 0:\n",
    "            continue\n",
    "        stack.append(data.pop())\n",
    "    if op[0] == \"D\":\n",
    "        if len(stack) == 0:\n",
    "            continue\n",
    "        data.append(stack.pop())\n",
    "    if op[0] == \"B\":\n",
    "        if len(data) == 0:\n",
    "            continue\n",
    "        data.pop()\n",
    "    if op[0] == \"P\":\n",
    "        data.append(op[1])\n",
    "stack.reverse()\n",
    "data += stack\n",
    "\n",
    "for i in data:\n",
    "    print(str(i))"
   ]
  },
  {
   "cell_type": "code",
   "execution_count": 38,
   "metadata": {},
   "outputs": [
    {
     "name": "stdout",
     "output_type": "stream",
     "text": [
      "7 3\n",
      "<3, 6, 2, 7, 5, 1, 4>"
     ]
    }
   ],
   "source": [
    "# 1158\n",
    "\n",
    "import sys\n",
    "# input = sys.stdin.readline\n",
    "print = sys.stdout.write\n",
    "\n",
    "N, K = map(int, input().split())\n",
    "data = [ i+1 for i in range(N)]\n",
    "cursor = 0\n",
    "print(\"<\")\n",
    "for i in range(N-1):\n",
    "    cursor = (cursor + (K-1)) % len(data)\n",
    "    print(\"{}, \".format(data[cursor]))\n",
    "    data.pop(cursor)\n",
    "print(\"{}>\".format(data[0]))"
   ]
  },
  {
   "cell_type": "code",
   "execution_count": 40,
   "metadata": {},
   "outputs": [
    {
     "name": "stdout",
     "output_type": "stream",
     "text": [
      "8 9 4\n",
      "2\n",
      "1\n",
      "0\n",
      "0"
     ]
    }
   ],
   "source": [
    "#10430\n",
    "\n",
    "import sys\n",
    "# input = sys.stdin.readline\n",
    "print = sys.stdout.write\n",
    "\n",
    "a, b, c = map(int, input().split())\n",
    "\n",
    "A = (a+b) % c\n",
    "B = ((a%c) + (b%c))%c\n",
    "C = (a*b)%c\n",
    "D = ((a%c)*(b%c))%c\n",
    "\n",
    "print(str(A) + \"\\n\")\n",
    "print(str(B) + \"\\n\")\n",
    "print(str(C) + \"\\n\")\n",
    "print(str(D))"
   ]
  },
  {
   "cell_type": "code",
   "execution_count": 54,
   "metadata": {},
   "outputs": [
    {
     "name": "stdout",
     "output_type": "stream",
     "text": [
      "1000 2\n",
      "1\n",
      "1000"
     ]
    }
   ],
   "source": [
    "#2609\n",
    "import sys\n",
    "# input = sys.stdin.readline\n",
    "print = sys.stdout.write\n",
    "a, b = map(int, input().split())\n",
    "\n",
    "min_value = min(a, b)\n",
    "\n",
    "for i in range(min_value, 0, -1):\n",
    "    if a % i == 0 and b % i == 0:\n",
    "        print(str(i) +\"\\n\")\n",
    "        break\n",
    "\n",
    "max_value = max(a, b)\n",
    "\n",
    "n = 1\n",
    "while True:\n",
    "    if (max_value * n) % min_value == 0:\n",
    "        print(str(max_value * n))\n",
    "        break\n",
    "    n += 1"
   ]
  },
  {
   "cell_type": "code",
   "execution_count": 56,
   "metadata": {},
   "outputs": [
    {
     "name": "stdout",
     "output_type": "stream",
     "text": [
      "3\n",
      "1 45000\n",
      "450006 10\n",
      "3013 17\n",
      "221"
     ]
    }
   ],
   "source": [
    "#1934\n",
    "\n",
    "import sys\n",
    "# input = sys.stdin.readline\n",
    "print = sys.stdout.write\n",
    "\n",
    "N = int(input())\n",
    "for _ in range(N):\n",
    "    a, b = map(int, input().split())\n",
    "    min_value = min(a, b)\n",
    "    max_value = max(a, b)\n",
    "    n = 1\n",
    "    while True:\n",
    "        if (max_value * n) % min_value == 0:\n",
    "            print(str(max_value * n))\n",
    "            break\n",
    "        n += 1"
   ]
  },
  {
   "cell_type": "code",
   "execution_count": 59,
   "metadata": {},
   "outputs": [
    {
     "name": "stdout",
     "output_type": "stream",
     "text": [
      "500000000000000000 500000000000000002\n",
      "11"
     ]
    }
   ],
   "source": [
    "# 1850\n",
    "# 유클리드 호제법\n",
    "import sys\n",
    "# input = sys.stdin.readline\n",
    "print = sys.stdout.write\n",
    "a, b = map(int, input().split())\n",
    "\n",
    "if b > a:\n",
    "    a, b = b, a\n",
    "while b != 0:\n",
    "    a, b = b, a % b\n",
    "print(\"1\"*a)"
   ]
  },
  {
   "cell_type": "code",
   "execution_count": 60,
   "metadata": {},
   "outputs": [
    {
     "name": "stdout",
     "output_type": "stream",
     "text": [
      "3\n",
      "4 10 20 30 40\n",
      "70\n",
      "3 7 5 12\n",
      "3\n"
     ]
    },
    {
     "ename": "KeyboardInterrupt",
     "evalue": "Interrupted by user",
     "output_type": "error",
     "traceback": [
      "\u001b[1;31m---------------------------------------------------------------------------\u001b[0m",
      "\u001b[1;31mKeyboardInterrupt\u001b[0m                         Traceback (most recent call last)",
      "\u001b[1;32m<ipython-input-60-6d014cf59b29>\u001b[0m in \u001b[0;36m<module>\u001b[1;34m\u001b[0m\n\u001b[0;32m      6\u001b[0m \u001b[0mN\u001b[0m \u001b[1;33m=\u001b[0m \u001b[0mint\u001b[0m\u001b[1;33m(\u001b[0m\u001b[0minput\u001b[0m\u001b[1;33m(\u001b[0m\u001b[1;33m)\u001b[0m\u001b[1;33m)\u001b[0m\u001b[1;33m\u001b[0m\u001b[1;33m\u001b[0m\u001b[0m\n\u001b[0;32m      7\u001b[0m \u001b[1;32mfor\u001b[0m \u001b[0mi\u001b[0m \u001b[1;32min\u001b[0m \u001b[0mrange\u001b[0m\u001b[1;33m(\u001b[0m\u001b[0mN\u001b[0m\u001b[1;33m)\u001b[0m\u001b[1;33m:\u001b[0m\u001b[1;33m\u001b[0m\u001b[1;33m\u001b[0m\u001b[0m\n\u001b[1;32m----> 8\u001b[1;33m     \u001b[0mdata\u001b[0m \u001b[1;33m=\u001b[0m \u001b[0mlist\u001b[0m\u001b[1;33m(\u001b[0m\u001b[0mmap\u001b[0m\u001b[1;33m(\u001b[0m\u001b[0mint\u001b[0m\u001b[1;33m,\u001b[0m \u001b[0minput\u001b[0m\u001b[1;33m(\u001b[0m\u001b[1;33m)\u001b[0m\u001b[1;33m.\u001b[0m\u001b[0msplit\u001b[0m\u001b[1;33m(\u001b[0m\u001b[1;33m)\u001b[0m\u001b[1;33m)\u001b[0m\u001b[1;33m)\u001b[0m\u001b[1;33m\u001b[0m\u001b[1;33m\u001b[0m\u001b[0m\n\u001b[0m\u001b[0;32m      9\u001b[0m     \u001b[0msum\u001b[0m \u001b[1;33m=\u001b[0m \u001b[1;36m0\u001b[0m\u001b[1;33m\u001b[0m\u001b[1;33m\u001b[0m\u001b[0m\n\u001b[0;32m     10\u001b[0m     \u001b[1;32mfor\u001b[0m \u001b[0mi\u001b[0m \u001b[1;32min\u001b[0m \u001b[0mrange\u001b[0m\u001b[1;33m(\u001b[0m\u001b[1;36m2\u001b[0m\u001b[1;33m,\u001b[0m \u001b[0mlen\u001b[0m\u001b[1;33m(\u001b[0m\u001b[0mdata\u001b[0m\u001b[1;33m)\u001b[0m\u001b[1;33m)\u001b[0m\u001b[1;33m:\u001b[0m\u001b[1;33m\u001b[0m\u001b[1;33m\u001b[0m\u001b[0m\n",
      "\u001b[1;32m~\\Anaconda3\\Lib\\site-packages\\ipykernel\\kernelbase.py\u001b[0m in \u001b[0;36mraw_input\u001b[1;34m(self, prompt)\u001b[0m\n\u001b[0;32m    861\u001b[0m             \u001b[0mself\u001b[0m\u001b[1;33m.\u001b[0m\u001b[0m_parent_ident\u001b[0m\u001b[1;33m,\u001b[0m\u001b[1;33m\u001b[0m\u001b[1;33m\u001b[0m\u001b[0m\n\u001b[0;32m    862\u001b[0m             \u001b[0mself\u001b[0m\u001b[1;33m.\u001b[0m\u001b[0m_parent_header\u001b[0m\u001b[1;33m,\u001b[0m\u001b[1;33m\u001b[0m\u001b[1;33m\u001b[0m\u001b[0m\n\u001b[1;32m--> 863\u001b[1;33m             \u001b[0mpassword\u001b[0m\u001b[1;33m=\u001b[0m\u001b[1;32mFalse\u001b[0m\u001b[1;33m,\u001b[0m\u001b[1;33m\u001b[0m\u001b[1;33m\u001b[0m\u001b[0m\n\u001b[0m\u001b[0;32m    864\u001b[0m         )\n\u001b[0;32m    865\u001b[0m \u001b[1;33m\u001b[0m\u001b[0m\n",
      "\u001b[1;32m~\\Anaconda3\\Lib\\site-packages\\ipykernel\\kernelbase.py\u001b[0m in \u001b[0;36m_input_request\u001b[1;34m(self, prompt, ident, parent, password)\u001b[0m\n\u001b[0;32m    902\u001b[0m             \u001b[1;32mexcept\u001b[0m \u001b[0mKeyboardInterrupt\u001b[0m\u001b[1;33m:\u001b[0m\u001b[1;33m\u001b[0m\u001b[1;33m\u001b[0m\u001b[0m\n\u001b[0;32m    903\u001b[0m                 \u001b[1;31m# re-raise KeyboardInterrupt, to truncate traceback\u001b[0m\u001b[1;33m\u001b[0m\u001b[1;33m\u001b[0m\u001b[1;33m\u001b[0m\u001b[0m\n\u001b[1;32m--> 904\u001b[1;33m                 \u001b[1;32mraise\u001b[0m \u001b[0mKeyboardInterrupt\u001b[0m\u001b[1;33m(\u001b[0m\u001b[1;34m\"Interrupted by user\"\u001b[0m\u001b[1;33m)\u001b[0m \u001b[1;32mfrom\u001b[0m \u001b[1;32mNone\u001b[0m\u001b[1;33m\u001b[0m\u001b[1;33m\u001b[0m\u001b[0m\n\u001b[0m\u001b[0;32m    905\u001b[0m             \u001b[1;32mexcept\u001b[0m \u001b[0mException\u001b[0m \u001b[1;32mas\u001b[0m \u001b[0me\u001b[0m\u001b[1;33m:\u001b[0m\u001b[1;33m\u001b[0m\u001b[1;33m\u001b[0m\u001b[0m\n\u001b[0;32m    906\u001b[0m                 \u001b[0mself\u001b[0m\u001b[1;33m.\u001b[0m\u001b[0mlog\u001b[0m\u001b[1;33m.\u001b[0m\u001b[0mwarning\u001b[0m\u001b[1;33m(\u001b[0m\u001b[1;34m\"Invalid Message:\"\u001b[0m\u001b[1;33m,\u001b[0m \u001b[0mexc_info\u001b[0m\u001b[1;33m=\u001b[0m\u001b[1;32mTrue\u001b[0m\u001b[1;33m)\u001b[0m\u001b[1;33m\u001b[0m\u001b[1;33m\u001b[0m\u001b[0m\n",
      "\u001b[1;31mKeyboardInterrupt\u001b[0m: Interrupted by user"
     ]
    }
   ],
   "source": [
    "#9613\n",
    "import sys\n",
    "# input = sys.stdin.readline\n",
    "print = sys.stdout.write\n",
    "\n",
    "N = int(input())\n",
    "for i in range(N):\n",
    "    data = list(map(int, input().split()))\n",
    "    sum = 0\n",
    "    for i in range(2, len(data)):\n",
    "        for j in range(1,i):\n",
    "            a, b = data[i], data[j]\n",
    "            if b > a:\n",
    "                a, b = b, a\n",
    "            while b != 0:\n",
    "                a, b = b, a % b\n",
    "            sum+= a\n",
    "    print(str(sum)+\"\\n\")"
   ]
  },
  {
   "cell_type": "code",
   "execution_count": 72,
   "metadata": {},
   "outputs": [
    {
     "name": "stdout",
     "output_type": "stream",
     "text": [
      "7 2\n",
      "111"
     ]
    }
   ],
   "source": [
    "#11005\n",
    "import sys\n",
    "# input = sys.stdin.readline\n",
    "print = sys.stdout.write\n",
    "\n",
    "N, B = map(int, input().split())\n",
    "\n",
    "string =\"\"\n",
    "while True:\n",
    "    if N < B:\n",
    "        if N >= 10:\n",
    "            s = chr(N+55)\n",
    "        else:\n",
    "            s = str(N)\n",
    "        string = s + string\n",
    "        break;\n",
    "    tmp = N % B\n",
    "    if tmp >= 10:\n",
    "        s = chr(tmp+55)\n",
    "    else:\n",
    "        s = str(tmp)\n",
    "    string = s + string\n",
    "    N = N // B\n",
    "\n",
    "print(str(string))\n",
    "    "
   ]
  },
  {
   "cell_type": "code",
   "execution_count": 74,
   "metadata": {},
   "outputs": [
    {
     "name": "stdout",
     "output_type": "stream",
     "text": [
      "ZZZZZ 36\n",
      "60466175"
     ]
    }
   ],
   "source": [
    "#2745\n",
    "\n",
    "import sys\n",
    "# input = sys.stdin.readline\n",
    "print = sys.stdout.write\n",
    "\n",
    "N, B = input().split()\n",
    "B = int(B)\n",
    "exp = len(N) - 1\n",
    "ans = 0\n",
    "for i in range(len(N)):\n",
    "    if \"A\" <= N[i] and \"Z\" >= N[i]:\n",
    "        ans += (ord(N[i]) - 55) * (B ** exp)\n",
    "    else:\n",
    "        ans += int(N[i]) * (B**exp)\n",
    "    exp -= 1\n",
    "    \n",
    "print(str(ans))"
   ]
  },
  {
   "cell_type": "code",
   "execution_count": 78,
   "metadata": {},
   "outputs": [
    {
     "name": "stdout",
     "output_type": "stream",
     "text": [
      "11001100\n",
      "314"
     ]
    }
   ],
   "source": [
    "#1373\n",
    "\n",
    "import sys\n",
    "# input = sys.stdin.readline\n",
    "print = sys.stdout.write\n",
    "\n",
    "string = input().strip()\n",
    "ans = []\n",
    "for i in range(len(string)-1, -1, -3):\n",
    "    if i-2 < 0:\n",
    "        sub_string = string[0:i+1]\n",
    "    else:\n",
    "        sub_string = string[i-2:i+1]\n",
    "    exp = 0\n",
    "    tmp = 0\n",
    "    for i in range(len(sub_string)-1, -1, -1):\n",
    "        tmp += int(sub_string[i]) * (2 ** exp)\n",
    "        exp += 1\n",
    "    ans.append(tmp)\n",
    "for i in range(len(ans)): print(str(ans.pop()))"
   ]
  },
  {
   "cell_type": "code",
   "execution_count": 82,
   "metadata": {},
   "outputs": [
    {
     "name": "stdout",
     "output_type": "stream",
     "text": [
      "1111111\n"
     ]
    },
    {
     "data": {
      "text/plain": [
       "'177'"
      ]
     },
     "execution_count": 82,
     "metadata": {},
     "output_type": "execute_result"
    }
   ],
   "source": [
    "format(int(input(), 2), 'o')"
   ]
  },
  {
   "cell_type": "code",
   "execution_count": 8,
   "metadata": {},
   "outputs": [
    {
     "name": "stdout",
     "output_type": "stream",
     "text": [
      "145\n"
     ]
    },
    {
     "data": {
      "text/plain": [
       "'101'"
      ]
     },
     "execution_count": 8,
     "metadata": {},
     "output_type": "execute_result"
    }
   ],
   "source": [
    "#1212\n",
    "format(int(input(), 8), '2')"
   ]
  },
  {
   "cell_type": "code",
   "execution_count": 7,
   "metadata": {},
   "outputs": [
    {
     "name": "stdout",
     "output_type": "stream",
     "text": [
      "-13\n",
      "110111"
     ]
    }
   ],
   "source": [
    "#2089\n",
    "import sys\n",
    "# input = sys.stdin.readline\n",
    "print = sys.stdout.write\n",
    "\n",
    "N = int(input())\n",
    "stack = []\n",
    "\n",
    "while True:\n",
    "    if N % (-2) == 0:\n",
    "        N = N // (-2)\n",
    "        stack.append(\"0\")\n",
    "    else:\n",
    "        N = (N // (-2) )+ 1\n",
    "        stack.append(\"1\")\n",
    "    if N == 0 or N == 1:\n",
    "        if N == 1:\n",
    "            stack.append(\"1\")\n",
    "        break\n",
    "for i in range(len(stack)): print(str(stack.pop()))"
   ]
  },
  {
   "cell_type": "code",
   "execution_count": 29,
   "metadata": {
    "scrolled": true
   },
   "outputs": [
    {
     "name": "stdout",
     "output_type": "stream",
     "text": [
      "17 8\n",
      "2\n",
      "2 16\n",
      "6 2 "
     ]
    }
   ],
   "source": [
    "#11576\n",
    "\n",
    "import sys\n",
    "# input = sys.stdin.readline\n",
    "print = sys.stdout.write\n",
    "\n",
    "a, b = map(int, input().split())\n",
    "m = int(input())\n",
    "\n",
    "data = list(map(int, input().split()))\n",
    "tmp = 0\n",
    "for i in range(len(data)):\n",
    "    tmp += data[-i-1] * (a ** i)\n",
    "stack = []\n",
    "while True:\n",
    "    stack.append(tmp % b)\n",
    "    tmp = tmp // b\n",
    "    if tmp < b:\n",
    "        if tmp > 0:\n",
    "            stack.append(tmp)\n",
    "        break\n",
    "for i in range(len(stack)): print(str(stack.pop()) + \" \")"
   ]
  },
  {
   "cell_type": "code",
   "execution_count": 32,
   "metadata": {},
   "outputs": [
    {
     "name": "stdout",
     "output_type": "stream",
     "text": [
      "4\n",
      "1 3 5 7\n",
      "3"
     ]
    }
   ],
   "source": [
    "#1978\n",
    "import sys\n",
    "# input = sys.stdin.readline\n",
    "print = sys.stdout.write\n",
    "\n",
    "N = int(input())\n",
    "data = list(map(int, input().split()))\n",
    "count = 0\n",
    "\n",
    "for s in data:\n",
    "    t = True\n",
    "    for i in range(2, s//2 + 1):\n",
    "        if s % i == 0:\n",
    "            t = False\n",
    "            break\n",
    "    \n",
    "    if t and s != 1: count += 1\n",
    "        \n",
    "print(str(count))"
   ]
  },
  {
   "cell_type": "code",
   "execution_count": 41,
   "metadata": {},
   "outputs": [
    {
     "name": "stdout",
     "output_type": "stream",
     "text": [
      "1 100000000\n"
     ]
    },
    {
     "ename": "KeyboardInterrupt",
     "evalue": "",
     "output_type": "error",
     "traceback": [
      "\u001b[1;31m---------------------------------------------------------------------------\u001b[0m",
      "\u001b[1;31mKeyboardInterrupt\u001b[0m                         Traceback (most recent call last)",
      "\u001b[1;32m<ipython-input-41-1dbc90c6e12b>\u001b[0m in \u001b[0;36m<module>\u001b[1;34m\u001b[0m\n\u001b[0;32m     11\u001b[0m     \u001b[0mt\u001b[0m \u001b[1;33m=\u001b[0m \u001b[1;32mTrue\u001b[0m\u001b[1;33m\u001b[0m\u001b[1;33m\u001b[0m\u001b[0m\n\u001b[0;32m     12\u001b[0m \u001b[1;33m\u001b[0m\u001b[0m\n\u001b[1;32m---> 13\u001b[1;33m     \u001b[1;32mfor\u001b[0m \u001b[0mi\u001b[0m \u001b[1;32min\u001b[0m \u001b[0mstack\u001b[0m\u001b[1;33m:\u001b[0m\u001b[1;33m\u001b[0m\u001b[1;33m\u001b[0m\u001b[0m\n\u001b[0m\u001b[0;32m     14\u001b[0m         \u001b[1;32mif\u001b[0m \u001b[0mi\u001b[0m \u001b[1;33m>\u001b[0m \u001b[0mmath\u001b[0m\u001b[1;33m.\u001b[0m\u001b[0msqrt\u001b[0m\u001b[1;33m(\u001b[0m\u001b[0ms\u001b[0m\u001b[1;33m)\u001b[0m\u001b[1;33m:\u001b[0m\u001b[1;33m\u001b[0m\u001b[1;33m\u001b[0m\u001b[0m\n\u001b[0;32m     15\u001b[0m             \u001b[1;32mbreak\u001b[0m\u001b[1;33m\u001b[0m\u001b[1;33m\u001b[0m\u001b[0m\n",
      "\u001b[1;31mKeyboardInterrupt\u001b[0m: "
     ]
    }
   ],
   "source": [
    "#1920\n",
    "\n",
    "import sys, math\n",
    "# input = sys.stdin.readline\n",
    "print = sys.stdout.write\n",
    "\n",
    "M, N = map(int, input().split())\n",
    "stack = []\n",
    "\n",
    "for s in range(2, N+1):\n",
    "    t = True\n",
    "\n",
    "    for i in stack:\n",
    "        if i > math.sqrt(s):\n",
    "            break\n",
    "        if s % i == 0:\n",
    "            t = False\n",
    "            break\n",
    "    if t:  \n",
    "        stack.append(s)\n",
    "for i in stack: \n",
    "    if i >= M:\n",
    "        print(str(i) + \"\\n\")"
   ]
  },
  {
   "cell_type": "code",
   "execution_count": null,
   "metadata": {},
   "outputs": [],
   "source": [
    "# 소수구하기 에라토스테네스의 체\n",
    "\n",
    "import sys, math\n",
    "# input = sys.stdin.readline\n",
    "print = sys.stdout.write\n",
    "\n",
    "\n",
    "M, N = map(int, input().split())\n",
    "prime = [True for _ in range(N+1)]\n",
    "prime[1] = False\n",
    "for i in range(2, int(math.sqrt(N))+1):\n",
    "    if prime[i]:\n",
    "        for j in range(i*2, N+1, i):\n",
    "            prime[j] = False\n",
    "\n",
    "for i in range(M, N+1):\n",
    "    if prime[i]:\n",
    "        print(str())"
   ]
  },
  {
   "cell_type": "code",
   "execution_count": 44,
   "metadata": {},
   "outputs": [
    {
     "data": {
      "text/plain": [
       "3"
      ]
     },
     "execution_count": 44,
     "metadata": {},
     "output_type": "execute_result"
    }
   ],
   "source": [
    "int(math.sqrt(12))"
   ]
  },
  {
   "cell_type": "code",
   "execution_count": null,
   "metadata": {},
   "outputs": [],
   "source": []
  }
 ],
 "metadata": {
  "kernelspec": {
   "display_name": "Python 3",
   "language": "python",
   "name": "python3"
  },
  "language_info": {
   "codemirror_mode": {
    "name": "ipython",
    "version": 3
   },
   "file_extension": ".py",
   "mimetype": "text/x-python",
   "name": "python",
   "nbconvert_exporter": "python",
   "pygments_lexer": "ipython3",
   "version": "3.7.3"
  }
 },
 "nbformat": 4,
 "nbformat_minor": 4
}
