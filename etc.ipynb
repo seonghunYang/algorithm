{
 "cells": [
  {
   "cell_type": "code",
   "execution_count": 10,
   "metadata": {},
   "outputs": [
    {
     "name": "stdout",
     "output_type": "stream",
     "text": [
      "baekjoon\n",
      "1 1 0 0 1 0 0 0 0 1 1 0 0 1 2 0 0 0 0 0 0 0 0 0 0 0 "
     ]
    }
   ],
   "source": [
    "#10808\n",
    "import sys\n",
    "# input = sys.stdin.readline\n",
    "print = sys.stdout.write\n",
    "\n",
    "string = input().strip()\n",
    "\n",
    "for i in range(ord(\"a\"), ord(\"z\")+1):\n",
    "    print(str(string.count(chr(i))) + \" \")\n"
   ]
  },
  {
   "cell_type": "code",
   "execution_count": null,
   "metadata": {},
   "outputs": [],
   "source": [
    "#10809\n",
    "\n",
    "import sys\n",
    "# input = sys.stdin.readline\n",
    "print = sys.stdout.write\n",
    "\n",
    "string = input().strip()\n",
    "\n",
    "for i in range(ord(\"a\"), ord(\"z\")+1):\n",
    "    print(str(string.find(chr(i))) + \" \")"
   ]
  },
  {
   "cell_type": "code",
   "execution_count": 18,
   "metadata": {},
   "outputs": [
    {
     "name": "stdout",
     "output_type": "stream",
     "text": [
      "ad\n",
      "2 0 0 0\n"
     ]
    }
   ],
   "source": [
    "#10820\n",
    "\n",
    "import sys\n",
    "# input = sys.stdin.readline\n",
    "print = sys.stdout.write\n",
    "\n",
    "while True:\n",
    "    try:\n",
    "        string = input()\n",
    "        a, b, c, d = 0, 0, 0, 0\n",
    "        for i in range(len(string)):\n",
    "            s = string[i]\n",
    "            if s == \" \": d+=1    \n",
    "            elif s >= \"a\" and s <= \"z\": a+=1\n",
    "            elif s >= \"A\" and s <= \"Z\": b+=1\n",
    "            else:\n",
    "                c+=1\n",
    "        print(\"{0} {1} {2} {3}\".format(a,b,c,d) + \"\\n\")\n",
    "    except:\n",
    "        break\n",
    "\n",
    "## islower() isupper(), isdigit() 이라는 함수도 존재한다"
   ]
  },
  {
   "cell_type": "code",
   "execution_count": null,
   "metadata": {},
   "outputs": [],
   "source": [
    "#2743\n",
    "\n",
    "import sys\n",
    "# input = sys.stdin.readline\n",
    "print = sys.stdout.write\n",
    "\n",
    "string = input().strip()\n",
    "\n",
    "print(str(len(string)))"
   ]
  },
  {
   "cell_type": "code",
   "execution_count": 17,
   "metadata": {},
   "outputs": [
    {
     "name": "stdout",
     "output_type": "stream",
     "text": [
      "   s\n",
      "   f"
     ]
    }
   ],
   "source": [
    "#11655\n",
    "import sys\n",
    "# input = sys.stdin.readline\n",
    "print = sys.stdout.write\n",
    "\n",
    "string = input().rstrip()\n",
    "\n",
    "for i in range(len(string)):\n",
    "    s = string[i]\n",
    "    if s.islower():\n",
    "        tmp = ord(\"a\") + ((ord(s) - ord(\"a\")+13) % 26)\n",
    "        print(str(chr(tmp)))\n",
    "    elif s.isupper():\n",
    "        tmp = ord(\"A\") + ((ord(s) - ord(\"A\")+13) % 26)\n",
    "        print(str(chr(tmp)))\n",
    "    elif s.isdigit():\n",
    "        print(str(s))\n",
    "    else:\n",
    "        print(\" \")"
   ]
  },
  {
   "cell_type": "code",
   "execution_count": 4,
   "metadata": {},
   "outputs": [
    {
     "name": "stdout",
     "output_type": "stream",
     "text": [
      "10 20 30 40\n",
      "4060"
     ]
    }
   ],
   "source": [
    "#10824\n",
    "import sys\n",
    "# input = sys.stdin.readline\n",
    "print = sys.stdout.write\n",
    "\n",
    "a, b, c, d = input().split()\n",
    "\n",
    "a += b\n",
    "c += d\n",
    "\n",
    "a = int(a) + int(c)\n",
    "\n",
    "print(str(a))"
   ]
  },
  {
   "cell_type": "code",
   "execution_count": 5,
   "metadata": {},
   "outputs": [
    {
     "name": "stdout",
     "output_type": "stream",
     "text": [
      "baekjoon\n",
      "aekjoon\n",
      "baekjoon\n",
      "ekjoon\n",
      "joon\n",
      "kjoon\n",
      "n\n",
      "on\n",
      "oon\n"
     ]
    }
   ],
   "source": [
    "#11656\n",
    "import sys\n",
    "input = sys.stdin.readline\n",
    "print = sys.stdout.write\n",
    "\n",
    "string = input().strip()\n",
    "data = [string]\n",
    "for i in range(1, len(string)):\n",
    "    data.append(string[i:])\n",
    "data.sort()\n",
    "\n",
    "for i in range(len(data)): print(str(data[i]) + \"\\n\")"
   ]
  },
  {
   "cell_type": "code",
   "execution_count": 16,
   "metadata": {},
   "outputs": [
    {
     "name": "stdout",
     "output_type": "stream",
     "text": [
      "dmih\n",
      "11\n",
      "B\n",
      "B\n",
      "P x\n",
      "L\n",
      "B\n",
      "B\n",
      "B\n",
      "P y\n",
      "D\n",
      "D\n",
      "P z\n",
      "yxz"
     ]
    }
   ],
   "source": [
    "#1406\n",
    "import sys\n",
    "# input = sys.stdin.readline\n",
    "print = sys.stdout.write\n",
    "\n",
    "data = input().strip()\n",
    "N = int(input())\n",
    "cursor = len(data)\n",
    "\n",
    "for i in range(N):\n",
    "    op = input().split()\n",
    "    if op[0] == \"P\":\n",
    "        data = data[:cursor] + op[1] + data[cursor:]\n",
    "        cursor += 1\n",
    "    if op[0] == \"L\":\n",
    "        if cursor == 0:\n",
    "            continue\n",
    "        cursor -= 1\n",
    "    if op[0] == \"D\":\n",
    "        if cursor == len(data):\n",
    "            continue\n",
    "        cursor += 1\n",
    "    if op[0] == \"B\":\n",
    "        if cursor == 0:\n",
    "            continue\n",
    "        data = data[:cursor-1] + data[cursor:]\n",
    "        cursor -= 1\n",
    "print(data)"
   ]
  },
  {
   "cell_type": "code",
   "execution_count": 35,
   "metadata": {},
   "outputs": [
    {
     "name": "stdout",
     "output_type": "stream",
     "text": [
      "abc\n",
      "9\n",
      "L\n",
      "['a', 'b']['c']L\n",
      "['a']['c', 'b']L\n",
      "[]['c', 'b', 'a']L\n",
      "L\n",
      "P x\n",
      "['x']['c', 'b', 'a']L\n",
      "[]['c', 'b', 'a', 'x']B\n",
      "P y\n",
      "['y']['c', 'b', 'a', 'x']yxabc"
     ]
    }
   ],
   "source": [
    "#1406\n",
    "import sys\n",
    "# input = sys.stdin.readline\n",
    "print = sys.stdout.write\n",
    "\n",
    "data = \",\".join(input().strip()).split(\",\")\n",
    "N = int(input())\n",
    "stack = []\n",
    "\n",
    "for i in range(N):\n",
    "    op = input().split()\n",
    "    if op[0] == \"L\":\n",
    "        if len(data) == 0:\n",
    "            continue\n",
    "        stack.append(data.pop())\n",
    "    if op[0] == \"D\":\n",
    "        if len(stack) == 0:\n",
    "            continue\n",
    "        data.append(stack.pop())\n",
    "    if op[0] == \"B\":\n",
    "        if len(data) == 0:\n",
    "            continue\n",
    "        data.pop()\n",
    "    if op[0] == \"P\":\n",
    "        data.append(op[1])\n",
    "stack.reverse()\n",
    "data += stack\n",
    "\n",
    "for i in data:\n",
    "    print(str(i))"
   ]
  },
  {
   "cell_type": "code",
   "execution_count": 33,
   "metadata": {},
   "outputs": [],
   "source": [
    "a = [1, 2, 3]\n",
    "a.reverse()"
   ]
  },
  {
   "cell_type": "code",
   "execution_count": 34,
   "metadata": {},
   "outputs": [
    {
     "data": {
      "text/plain": [
       "[3, 2, 1]"
      ]
     },
     "execution_count": 34,
     "metadata": {},
     "output_type": "execute_result"
    }
   ],
   "source": [
    "a"
   ]
  },
  {
   "cell_type": "code",
   "execution_count": 30,
   "metadata": {},
   "outputs": [],
   "source": [
    "a"
   ]
  },
  {
   "cell_type": "code",
   "execution_count": null,
   "metadata": {},
   "outputs": [],
   "source": []
  }
 ],
 "metadata": {
  "kernelspec": {
   "display_name": "Python 3",
   "language": "python",
   "name": "python3"
  },
  "language_info": {
   "codemirror_mode": {
    "name": "ipython",
    "version": 3
   },
   "file_extension": ".py",
   "mimetype": "text/x-python",
   "name": "python",
   "nbconvert_exporter": "python",
   "pygments_lexer": "ipython3",
   "version": "3.7.3"
  }
 },
 "nbformat": 4,
 "nbformat_minor": 4
}
