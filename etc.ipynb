{
 "cells": [
  {
   "cell_type": "code",
   "execution_count": 10,
   "metadata": {},
   "outputs": [
    {
     "name": "stdout",
     "output_type": "stream",
     "text": [
      "baekjoon\n",
      "1 1 0 0 1 0 0 0 0 1 1 0 0 1 2 0 0 0 0 0 0 0 0 0 0 0 "
     ]
    }
   ],
   "source": [
    "#10808\n",
    "import sys\n",
    "# input = sys.stdin.readline\n",
    "print = sys.stdout.write\n",
    "\n",
    "string = input().strip()\n",
    "\n",
    "for i in range(ord(\"a\"), ord(\"z\")+1):\n",
    "    print(str(string.count(chr(i))) + \" \")\n"
   ]
  },
  {
   "cell_type": "code",
   "execution_count": null,
   "metadata": {},
   "outputs": [],
   "source": [
    "#10809\n",
    "\n",
    "import sys\n",
    "# input = sys.stdin.readline\n",
    "print = sys.stdout.write\n",
    "\n",
    "string = input().strip()\n",
    "\n",
    "for i in range(ord(\"a\"), ord(\"z\")+1):\n",
    "    print(str(string.find(chr(i))) + \" \")"
   ]
  },
  {
   "cell_type": "code",
   "execution_count": 18,
   "metadata": {},
   "outputs": [
    {
     "name": "stdout",
     "output_type": "stream",
     "text": [
      "ad\n",
      "2 0 0 0\n"
     ]
    }
   ],
   "source": [
    "#10820\n",
    "\n",
    "import sys\n",
    "# input = sys.stdin.readline\n",
    "print = sys.stdout.write\n",
    "\n",
    "while True:\n",
    "    try:\n",
    "        string = input()\n",
    "        a, b, c, d = 0, 0, 0, 0\n",
    "        for i in range(len(string)):\n",
    "            s = string[i]\n",
    "            if s == \" \": d+=1    \n",
    "            elif s >= \"a\" and s <= \"z\": a+=1\n",
    "            elif s >= \"A\" and s <= \"Z\": b+=1\n",
    "            else:\n",
    "                c+=1\n",
    "        print(\"{0} {1} {2} {3}\".format(a,b,c,d) + \"\\n\")\n",
    "    except:\n",
    "        break\n",
    "\n",
    "## islower() isupper(), isdigit() 이라는 함수도 존재한다"
   ]
  },
  {
   "cell_type": "code",
   "execution_count": null,
   "metadata": {},
   "outputs": [],
   "source": [
    "#2743\n",
    "\n",
    "import sys\n",
    "# input = sys.stdin.readline\n",
    "print = sys.stdout.write\n",
    "\n",
    "string = input().strip()\n",
    "\n",
    "print(str(len(string)))"
   ]
  },
  {
   "cell_type": "code",
   "execution_count": 17,
   "metadata": {},
   "outputs": [
    {
     "name": "stdout",
     "output_type": "stream",
     "text": [
      "   s\n",
      "   f"
     ]
    }
   ],
   "source": [
    "#11655\n",
    "import sys\n",
    "# input = sys.stdin.readline\n",
    "print = sys.stdout.write\n",
    "\n",
    "string = input().rstrip()\n",
    "\n",
    "for i in range(len(string)):\n",
    "    s = string[i]\n",
    "    if s.islower():\n",
    "        tmp = ord(\"a\") + ((ord(s) - ord(\"a\")+13) % 26)\n",
    "        print(str(chr(tmp)))\n",
    "    elif s.isupper():\n",
    "        tmp = ord(\"A\") + ((ord(s) - ord(\"A\")+13) % 26)\n",
    "        print(str(chr(tmp)))\n",
    "    elif s.isdigit():\n",
    "        print(str(s))\n",
    "    else:\n",
    "        print(\" \")"
   ]
  },
  {
   "cell_type": "code",
   "execution_count": 4,
   "metadata": {},
   "outputs": [
    {
     "name": "stdout",
     "output_type": "stream",
     "text": [
      "10 20 30 40\n",
      "4060"
     ]
    }
   ],
   "source": [
    "#10824\n",
    "import sys\n",
    "# input = sys.stdin.readline\n",
    "print = sys.stdout.write\n",
    "\n",
    "a, b, c, d = input().split()\n",
    "\n",
    "a += b\n",
    "c += d\n",
    "\n",
    "a = int(a) + int(c)\n",
    "\n",
    "print(str(a))"
   ]
  },
  {
   "cell_type": "code",
   "execution_count": 5,
   "metadata": {},
   "outputs": [
    {
     "name": "stdout",
     "output_type": "stream",
     "text": [
      "baekjoon\n",
      "aekjoon\n",
      "baekjoon\n",
      "ekjoon\n",
      "joon\n",
      "kjoon\n",
      "n\n",
      "on\n",
      "oon\n"
     ]
    }
   ],
   "source": [
    "#11656\n",
    "import sys\n",
    "input = sys.stdin.readline\n",
    "print = sys.stdout.write\n",
    "\n",
    "string = input().strip()\n",
    "data = [string]\n",
    "for i in range(1, len(string)):\n",
    "    data.append(string[i:])\n",
    "data.sort()\n",
    "\n",
    "for i in range(len(data)): print(str(data[i]) + \"\\n\")"
   ]
  },
  {
   "cell_type": "code",
   "execution_count": 16,
   "metadata": {},
   "outputs": [
    {
     "name": "stdout",
     "output_type": "stream",
     "text": [
      "dmih\n",
      "11\n",
      "B\n",
      "B\n",
      "P x\n",
      "L\n",
      "B\n",
      "B\n",
      "B\n",
      "P y\n",
      "D\n",
      "D\n",
      "P z\n",
      "yxz"
     ]
    }
   ],
   "source": [
    "#1406\n",
    "import sys\n",
    "# input = sys.stdin.readline\n",
    "print = sys.stdout.write\n",
    "\n",
    "data = input().strip()\n",
    "N = int(input())\n",
    "cursor = len(data)\n",
    "\n",
    "for i in range(N):\n",
    "    op = input().split()\n",
    "    if op[0] == \"P\":\n",
    "        data = data[:cursor] + op[1] + data[cursor:]\n",
    "        cursor += 1\n",
    "    if op[0] == \"L\":\n",
    "        if cursor == 0:\n",
    "            continue\n",
    "        cursor -= 1\n",
    "    if op[0] == \"D\":\n",
    "        if cursor == len(data):\n",
    "            continue\n",
    "        cursor += 1\n",
    "    if op[0] == \"B\":\n",
    "        if cursor == 0:\n",
    "            continue\n",
    "        data = data[:cursor-1] + data[cursor:]\n",
    "        cursor -= 1\n",
    "print(data)"
   ]
  },
  {
   "cell_type": "code",
   "execution_count": 35,
   "metadata": {},
   "outputs": [
    {
     "name": "stdout",
     "output_type": "stream",
     "text": [
      "abc\n",
      "9\n",
      "L\n",
      "['a', 'b']['c']L\n",
      "['a']['c', 'b']L\n",
      "[]['c', 'b', 'a']L\n",
      "L\n",
      "P x\n",
      "['x']['c', 'b', 'a']L\n",
      "[]['c', 'b', 'a', 'x']B\n",
      "P y\n",
      "['y']['c', 'b', 'a', 'x']yxabc"
     ]
    }
   ],
   "source": [
    "#1406\n",
    "import sys\n",
    "# input = sys.stdin.readline\n",
    "print = sys.stdout.write\n",
    "\n",
    "data = \",\".join(input().strip()).split(\",\")\n",
    "N = int(input())\n",
    "stack = []\n",
    "\n",
    "for i in range(N):\n",
    "    op = input().split()\n",
    "    if op[0] == \"L\":\n",
    "        if len(data) == 0:\n",
    "            continue\n",
    "        stack.append(data.pop())\n",
    "    if op[0] == \"D\":\n",
    "        if len(stack) == 0:\n",
    "            continue\n",
    "        data.append(stack.pop())\n",
    "    if op[0] == \"B\":\n",
    "        if len(data) == 0:\n",
    "            continue\n",
    "        data.pop()\n",
    "    if op[0] == \"P\":\n",
    "        data.append(op[1])\n",
    "stack.reverse()\n",
    "data += stack\n",
    "\n",
    "for i in data:\n",
    "    print(str(i))"
   ]
  },
  {
   "cell_type": "code",
   "execution_count": 38,
   "metadata": {},
   "outputs": [
    {
     "name": "stdout",
     "output_type": "stream",
     "text": [
      "7 3\n",
      "<3, 6, 2, 7, 5, 1, 4>"
     ]
    }
   ],
   "source": [
    "# 1158\n",
    "\n",
    "import sys\n",
    "# input = sys.stdin.readline\n",
    "print = sys.stdout.write\n",
    "\n",
    "N, K = map(int, input().split())\n",
    "data = [ i+1 for i in range(N)]\n",
    "cursor = 0\n",
    "print(\"<\")\n",
    "for i in range(N-1):\n",
    "    cursor = (cursor + (K-1)) % len(data)\n",
    "    print(\"{}, \".format(data[cursor]))\n",
    "    data.pop(cursor)\n",
    "print(\"{}>\".format(data[0]))"
   ]
  },
  {
   "cell_type": "code",
   "execution_count": 40,
   "metadata": {},
   "outputs": [
    {
     "name": "stdout",
     "output_type": "stream",
     "text": [
      "8 9 4\n",
      "2\n",
      "1\n",
      "0\n",
      "0"
     ]
    }
   ],
   "source": [
    "#10430\n",
    "\n",
    "import sys\n",
    "# input = sys.stdin.readline\n",
    "print = sys.stdout.write\n",
    "\n",
    "a, b, c = map(int, input().split())\n",
    "\n",
    "A = (a+b) % c\n",
    "B = ((a%c) + (b%c))%c\n",
    "C = (a*b)%c\n",
    "D = ((a%c)*(b%c))%c\n",
    "\n",
    "print(str(A) + \"\\n\")\n",
    "print(str(B) + \"\\n\")\n",
    "print(str(C) + \"\\n\")\n",
    "print(str(D))"
   ]
  },
  {
   "cell_type": "code",
   "execution_count": 54,
   "metadata": {},
   "outputs": [
    {
     "name": "stdout",
     "output_type": "stream",
     "text": [
      "1000 2\n",
      "1\n",
      "1000"
     ]
    }
   ],
   "source": [
    "#2609\n",
    "import sys\n",
    "# input = sys.stdin.readline\n",
    "print = sys.stdout.write\n",
    "a, b = map(int, input().split())\n",
    "\n",
    "min_value = min(a, b)\n",
    "\n",
    "for i in range(min_value, 0, -1):\n",
    "    if a % i == 0 and b % i == 0:\n",
    "        print(str(i) +\"\\n\")\n",
    "        break\n",
    "\n",
    "max_value = max(a, b)\n",
    "\n",
    "n = 1\n",
    "while True:\n",
    "    if (max_value * n) % min_value == 0:\n",
    "        print(str(max_value * n))\n",
    "        break\n",
    "    n += 1"
   ]
  },
  {
   "cell_type": "code",
   "execution_count": 56,
   "metadata": {},
   "outputs": [
    {
     "name": "stdout",
     "output_type": "stream",
     "text": [
      "3\n",
      "1 45000\n",
      "450006 10\n",
      "3013 17\n",
      "221"
     ]
    }
   ],
   "source": [
    "#1934\n",
    "\n",
    "import sys\n",
    "# input = sys.stdin.readline\n",
    "print = sys.stdout.write\n",
    "\n",
    "N = int(input())\n",
    "for _ in range(N):\n",
    "    a, b = map(int, input().split())\n",
    "    min_value = min(a, b)\n",
    "    max_value = max(a, b)\n",
    "    n = 1\n",
    "    while True:\n",
    "        if (max_value * n) % min_value == 0:\n",
    "            print(str(max_value * n))\n",
    "            break\n",
    "        n += 1"
   ]
  },
  {
   "cell_type": "code",
   "execution_count": 59,
   "metadata": {},
   "outputs": [
    {
     "name": "stdout",
     "output_type": "stream",
     "text": [
      "500000000000000000 500000000000000002\n",
      "11"
     ]
    }
   ],
   "source": [
    "# 1850\n",
    "# 유클리드 호제법\n",
    "import sys\n",
    "# input = sys.stdin.readline\n",
    "print = sys.stdout.write\n",
    "a, b = map(int, input().split())\n",
    "\n",
    "if b > a:\n",
    "    a, b = b, a\n",
    "while b != 0:\n",
    "    a, b = b, a % b\n",
    "print(\"1\"*a)"
   ]
  },
  {
   "cell_type": "code",
   "execution_count": null,
   "metadata": {},
   "outputs": [
    {
     "name": "stdout",
     "output_type": "stream",
     "text": [
      "3\n"
     ]
    }
   ],
   "source": [
    "#9613\n",
    "import sys\n",
    "# input = sys.stdin.readline\n",
    "print = sys.stdout.write\n",
    "\n",
    "N = int(input())\n",
    "for i in range(N):\n",
    "    data = list(map(int, input().split()))\n",
    "    sum = 0\n",
    "    for i in range(2, len(data)):\n",
    "        for j in range(1,i):\n",
    "            a, b = data[i], data[j]\n",
    "            if b > a:\n",
    "                a, b = b, a\n",
    "            while b != 0:\n",
    "                a, b = b, a % b\n",
    "            sum+= a\n",
    "    print(str(sum)+\"\\n\")"
   ]
  },
  {
   "cell_type": "code",
   "execution_count": null,
   "metadata": {},
   "outputs": [],
   "source": []
  }
 ],
 "metadata": {
  "kernelspec": {
   "display_name": "Python 3",
   "language": "python",
   "name": "python3"
  },
  "language_info": {
   "codemirror_mode": {
    "name": "ipython",
    "version": 3
   },
   "file_extension": ".py",
   "mimetype": "text/x-python",
   "name": "python",
   "nbconvert_exporter": "python",
   "pygments_lexer": "ipython3",
   "version": "3.7.3"
  }
 },
 "nbformat": 4,
 "nbformat_minor": 4
}
