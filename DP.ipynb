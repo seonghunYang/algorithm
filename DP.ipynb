{
 "cells": [
  {
   "cell_type": "code",
   "execution_count": null,
   "metadata": {},
   "outputs": [],
   "source": [
    "# 1463\n",
    "\n",
    "import sys\n",
    "input = sys.stdin.readline\n",
    "print = sys.stdout.write\n",
    "\n",
    "n = int(input())\n",
    "\n",
    "dp = [ 0 for _ in range(n+1)]\n",
    "\n",
    "for i in range(2, n+1):\n",
    "    if i % 2 == 0 and i % 3 == 0:\n",
    "        dp[i] = 1 + min(dp[i // 2], dp[i // 3], dp[i-1])\n",
    "    elif i % 2 == 0:\n",
    "        dp[i] = 1 + min(dp[i // 2], dp[i-1])\n",
    "    elif i % 3 == 0:\n",
    "        dp[i] = 1 + min(dp[i // 3], dp[i-1])\n",
    "    else:\n",
    "        dp[i] = 1 + dp[i-1]\n",
    "print(str(dp[n]))"
   ]
  },
  {
   "cell_type": "code",
   "execution_count": 10,
   "metadata": {},
   "outputs": [
    {
     "name": "stdout",
     "output_type": "stream",
     "text": [
      "4\n",
      "5"
     ]
    }
   ],
   "source": [
    "#11726\n",
    "import sys\n",
    "# input = sys.stdin.readline\n",
    "print = sys.stdout.write\n",
    "\n",
    "n = int(input())\n",
    "\n",
    "dp = [0 for _ in range(1001)]\n",
    "\n",
    "dp[1] = 1\n",
    "dp[2] = 2\n",
    "\n",
    "for i in range(3, n+1):\n",
    "    dp[i] = dp[i-1] + dp[i-2]\n",
    "\n",
    "print(str(dp[n] % 10007))"
   ]
  },
  {
   "cell_type": "code",
   "execution_count": null,
   "metadata": {},
   "outputs": [],
   "source": [
    "#11727\n",
    "\n",
    "import sys\n",
    "input = sys.stdin.readline\n",
    "print = sys.stdout.write\n",
    "\n",
    "n = int(input())\n",
    "\n",
    "dp = [ 0 for _ in range(1001)]\n",
    "\n",
    "dp[1] = 1\n",
    "dp[2] = 3\n",
    "\n",
    "for i in range(3, n+1):\n",
    "    dp[i] = dp[i-1] + dp[i-2] * 2\n",
    "    \n",
    "print(str(dp[n] % 10007))"
   ]
  },
  {
   "cell_type": "code",
   "execution_count": 15,
   "metadata": {},
   "outputs": [
    {
     "name": "stdout",
     "output_type": "stream",
     "text": [
      "3\n",
      "4\n",
      "7\n",
      "10\n",
      "7\n",
      "44\n",
      "274\n"
     ]
    }
   ],
   "source": [
    "#9095\n",
    "import sys\n",
    "input = sys.stdin.readline\n",
    "print = sys.stdout.write\n",
    "\n",
    "N = int(input())\n",
    "\n",
    "n_list = [ int(input()) for _ in range(N)]\n",
    "\n",
    "dp = [ 0 for _ in range(11)]\n",
    "dp[1] = 1\n",
    "dp[2] = 2\n",
    "dp[3] = 4\n",
    "\n",
    "for i in range(4, 11):\n",
    "    dp[i] = dp[i-1] + dp[i-2] + dp[i-3]\n",
    "\n",
    "for i in n_list:\n",
    "    print(str(dp[i]) + \"\\n\")"
   ]
  },
  {
   "cell_type": "code",
   "execution_count": 5,
   "metadata": {},
   "outputs": [
    {
     "name": "stdout",
     "output_type": "stream",
     "text": [
      "3\n",
      "32"
     ]
    }
   ],
   "source": [
    "#10844\n",
    "import sys\n",
    "input = sys.stdin.readline\n",
    "print = sys.stdout.write\n",
    "\n",
    "N = int(input())\n",
    "\n",
    "dp = [[1] * 10 for _ in range(N+1)]\n",
    "\n",
    "dp[1][0] = 0\n",
    "\n",
    "for i in range(2, N+1):\n",
    "    for j in range(10):\n",
    "        if j == 0:\n",
    "            dp[i][j] = dp[i-1][j+1]\n",
    "        elif j == 9:\n",
    "            dp[i][j] = dp[i-1][j-1]\n",
    "        else:\n",
    "            dp[i][j] = dp[i-1][j-1] + dp[i-1][j+1]\n",
    "print(str(sum(dp[N]) % 1000000000))"
   ]
  },
  {
   "cell_type": "code",
   "execution_count": null,
   "metadata": {},
   "outputs": [],
   "source": [
    "import sys\n",
    "input = sys.stdin.readline\n",
    "print = sys.stdout.write\n",
    "\n",
    "N = int(input())\n",
    "\n",
    "dp = [[1] * 10 for _ in range(N+1)]\n",
    "\n",
    "dp[1][0] = 0\n",
    "\n",
    "for i in range(2, N+1):\n",
    "    dp[i][0] = dp[i-1][1]\n",
    "    for j in range(1, 9):\n",
    "        dp[i][j] = dp[i-1][j-1] + dp[i-1][j+1]\n",
    "    dp[i][9] = dp[i-1][8]\n",
    "print(str(sum(dp[N]) % 1000000000))"
   ]
  },
  {
   "cell_type": "code",
   "execution_count": 10,
   "metadata": {},
   "outputs": [
    {
     "name": "stdout",
     "output_type": "stream",
     "text": [
      "3\n",
      "220"
     ]
    }
   ],
   "source": [
    "#11057\n",
    "import sys\n",
    "input = sys.stdin.readline\n",
    "print = sys.stdout.write\n",
    "\n",
    "N = int(input())\n",
    "\n",
    "dp = [[1] * 10 for _ in range(N+1)]\n",
    "\n",
    "for i in range(2, N+1):\n",
    "    dp[i][0] = dp[i-1][0]\n",
    "    for j in range(1,10):\n",
    "        dp[i][j] = dp[i][j-1] + dp[i-1][j]\n",
    "        \n",
    "print(str(sum(dp[N]) % 10007))"
   ]
  },
  {
   "cell_type": "code",
   "execution_count": 11,
   "metadata": {},
   "outputs": [
    {
     "name": "stdout",
     "output_type": "stream",
     "text": [
      "3\n",
      "2"
     ]
    }
   ],
   "source": [
    "#2193\n",
    "\n",
    "import sys\n",
    "input = sys.stdin.readline\n",
    "print = sys.stdout.write\n",
    "\n",
    "N = int(input())\n",
    "\n",
    "dp = [[0] * 2 for _ in range(N+1)]\n",
    "\n",
    "dp[1][1] = 1\n",
    "\n",
    "for i in range(2, N+1):\n",
    "    dp[i][0] = dp[i-1][1] + dp[i-1][0]\n",
    "    dp[i][1] = dp[i-1][0]\n",
    "    \n",
    "print(str(sum(dp[N])))"
   ]
  },
  {
   "cell_type": "code",
   "execution_count": 14,
   "metadata": {},
   "outputs": [
    {
     "name": "stdout",
     "output_type": "stream",
     "text": [
      "1\n",
      "7\n",
      "10 30 10 50 100 20 40\n",
      "20 40 30 50 60 20 80\n",
      "290"
     ]
    }
   ],
   "source": [
    "#9464\n",
    "import sys\n",
    "input = sys.stdin.readline\n",
    "print = sys.stdout.write\n",
    "\n",
    "N = int(input())\n",
    "\n",
    "for _ in range(N):\n",
    "    m = int(input())\n",
    "    data = [list(map(int, input().split())) for _ in range(2)]\n",
    "    dp = [[0] * m for _ in range(2)]\n",
    "    dp[0][0] = data[0][0]\n",
    "    dp[1][0] = data[1][0]\n",
    "    dp[0][1] = data[0][1] + dp[1][0]\n",
    "    dp[1][1] = data[1][1] + dp[0][0]\n",
    "    \n",
    "    for i in range(2, m):\n",
    "        dp[0][i] = data[0][i] + max(dp[1][i-1], dp[1][i-2])\n",
    "        dp[1][i] = data[1][i] + max(dp[0][i-1], dp[0][i-2])\n",
    "        \n",
    "    print(str(max(dp[0][m-1], dp[1][m-1]))+ \"\\n\")"
   ]
  },
  {
   "cell_type": "code",
   "execution_count": null,
   "metadata": {},
   "outputs": [],
   "source": [
    "import sys\n",
    "input = sys.stdin.readline\n",
    "print = sys.stdout.write\n",
    "\n",
    "N = int(input())\n",
    "\n",
    "for _ in range(N):\n",
    "    m = int(input())\n",
    "    dp = [list(map(int, input().split())) for _ in range(2)]\n",
    "    dp[0][1] += dp[1][0]\n",
    "    dp[1][1] += dp[0][0]\n",
    "    \n",
    "    for i in range(2, m):\n",
    "        for j in [0, 1]: dp[j][i] += max(dp[j-1][i-1], dp[j-1][i-2])\n",
    "    print(str(max(dp[0][-1], dp[1][-1]))+ \"\\n\")"
   ]
  },
  {
   "cell_type": "code",
   "execution_count": 27,
   "metadata": {},
   "outputs": [
    {
     "name": "stdout",
     "output_type": "stream",
     "text": [
      "3\n",
      "3\n",
      "4\n",
      "5\n",
      "8"
     ]
    }
   ],
   "source": [
    "#2156\n",
    "import sys\n",
    "# input = sys.stdin.readline\n",
    "print = sys.stdout.write\n",
    "\n",
    "N = int(input())\n",
    "\n",
    "data = [int(input()) for _ in range(N)]\n",
    "\n",
    "dp = [0 for _ in range(N+1)]\n",
    "\n",
    "dp[1] = data[0]\n",
    "\n",
    "if N >= 2: dp[2] = dp[1] + data[1]\n",
    "    \n",
    "for i in range(3, N+1):\n",
    "    dp[i] = max(dp[i-3] + data[i-2] + data[i-1], dp[i-2] + data[i-1], dp[i-1])\n",
    "\n",
    "print(str(dp[N]))"
   ]
  },
  {
   "cell_type": "code",
   "execution_count": 48,
   "metadata": {},
   "outputs": [
    {
     "name": "stdout",
     "output_type": "stream",
     "text": [
      "4\n",
      "50 20 30 10\n",
      "2"
     ]
    }
   ],
   "source": [
    "# 디폴트의 중요성\n",
    "import sys\n",
    "# input = sys.stdin.readline\n",
    "print = sys.stdout.write\n",
    "\n",
    "N = int(input())\n",
    "\n",
    "data = list(map(int, input().split()))\n",
    "\n",
    "dp = [1 for _ in range(N+1)]\n",
    "\n",
    "for i in range(2, N+1):\n",
    "    for j in range(1, i):\n",
    "        if data[i-1] > data[j-1]:\n",
    "            dp[i] = max(dp[i], dp[j] + 1)\n",
    "print(str(max(dp)))"
   ]
  },
  {
   "cell_type": "code",
   "execution_count": 1,
   "metadata": {},
   "outputs": [
    {
     "name": "stdout",
     "output_type": "stream",
     "text": [
      "10\n",
      "1 100 2 50 60 3 5 6 7 8\n",
      "113"
     ]
    }
   ],
   "source": [
    "#11055\n",
    "\n",
    "import sys\n",
    "input = sys.stdin.readline\n",
    "print = sys.stdout.write\n",
    "\n",
    "N = int(input())\n",
    "\n",
    "data = [0] + list(map(int, input().split()))\n",
    "\n",
    "dp = [ data[i] for i in range(N+1)]\n",
    "\n",
    "for i in range(2, N+1):\n",
    "    for j in range(1, i):\n",
    "        if data[i] > data[j]:\n",
    "            dp[i] = max(dp[i], dp[j] + data[i])\n",
    "print(str(max(dp)))"
   ]
  },
  {
   "cell_type": "code",
   "execution_count": 3,
   "metadata": {},
   "outputs": [
    {
     "name": "stdout",
     "output_type": "stream",
     "text": [
      "6\n",
      "10 30 10 20 20 10\n",
      "3"
     ]
    }
   ],
   "source": [
    "#11722\n",
    "\n",
    "import sys\n",
    "input = sys.stdin.readline\n",
    "print = sys.stdout.write\n",
    "\n",
    "N = int(input())\n",
    "\n",
    "data = [0] + list(map(int, input().split()))\n",
    "\n",
    "dp = [ 1 for i in range(N+1)]\n",
    "\n",
    "for i in range(2, N+1):\n",
    "    for j in range(1, i):\n",
    "        if data[i] < data[j]:\n",
    "            dp[i] = max(dp[i], dp[j] + 1)\n",
    "print(str(max(dp)))"
   ]
  },
  {
   "cell_type": "code",
   "execution_count": 2,
   "metadata": {},
   "outputs": [
    {
     "name": "stdout",
     "output_type": "stream",
     "text": [
      "10\n",
      "1 5 2 1 4 3 4 5 2 1\n",
      "8"
     ]
    }
   ],
   "source": [
    "#11054\n",
    "import sys\n",
    "# input = sys.stdin.readline\n",
    "print = sys.stdout.write\n",
    "\n",
    "N = int(input())\n",
    "\n",
    "data = [0] + list(map(int, input().split()))\n",
    "\n",
    "dp_up = [ 1 for _ in range(N+1)]\n",
    "dp_down = [ 1 for _ in range(N+1)]\n",
    "\n",
    "for i in range(2, N+1):\n",
    "    for j in range(1, i):\n",
    "        if data[i] > data[j]:\n",
    "            dp_up[i] = max(dp_up[i], dp_up[j] + 1)\n",
    "\n",
    "for i in range(N-1, 0, -1):\n",
    "    for j in range(N, i, -1):\n",
    "        if data[i] > data[j]:\n",
    "            dp_down[i] = max(dp_down[i], dp_down[j] + 1)\n",
    "\n",
    "max_value = 0        \n",
    "for i in range(1, N+1):\n",
    "    tmp = dp_up[i] + dp_down[i]\n",
    "    if max_value < tmp:\n",
    "        max_value = tmp\n",
    "        \n",
    "print(str(max_value - 1))"
   ]
  },
  {
   "cell_type": "code",
   "execution_count": null,
   "metadata": {},
   "outputs": [],
   "source": []
  }
 ],
 "metadata": {
  "kernelspec": {
   "display_name": "Python 3",
   "language": "python",
   "name": "python3"
  },
  "language_info": {
   "codemirror_mode": {
    "name": "ipython",
    "version": 3
   },
   "file_extension": ".py",
   "mimetype": "text/x-python",
   "name": "python",
   "nbconvert_exporter": "python",
   "pygments_lexer": "ipython3",
   "version": "3.7.3"
  }
 },
 "nbformat": 4,
 "nbformat_minor": 4
}
