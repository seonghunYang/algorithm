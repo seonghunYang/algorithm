{
 "cells": [
  {
   "cell_type": "code",
   "execution_count": null,
   "metadata": {},
   "outputs": [],
   "source": [
    "# 1463\n",
    "\n",
    "import sys\n",
    "input = sys.stdin.readline\n",
    "print = sys.stdout.write\n",
    "\n",
    "n = int(input())\n",
    "\n",
    "dp = [ 0 for _ in range(n+1)]\n",
    "\n",
    "for i in range(2, n+1):\n",
    "    if i % 2 == 0 and i % 3 == 0:\n",
    "        dp[i] = 1 + min(dp[i // 2], dp[i // 3], dp[i-1])\n",
    "    elif i % 2 == 0:\n",
    "        dp[i] = 1 + min(dp[i // 2], dp[i-1])\n",
    "    elif i % 3 == 0:\n",
    "        dp[i] = 1 + min(dp[i // 3], dp[i-1])\n",
    "    else:\n",
    "        dp[i] = 1 + dp[i-1]\n",
    "print(str(dp[n]))"
   ]
  },
  {
   "cell_type": "code",
   "execution_count": 10,
   "metadata": {},
   "outputs": [
    {
     "name": "stdout",
     "output_type": "stream",
     "text": [
      "4\n",
      "5"
     ]
    }
   ],
   "source": [
    "#11726\n",
    "import sys\n",
    "# input = sys.stdin.readline\n",
    "print = sys.stdout.write\n",
    "\n",
    "n = int(input())\n",
    "\n",
    "dp = [0 for _ in range(1001)]\n",
    "\n",
    "dp[1] = 1\n",
    "dp[2] = 2\n",
    "\n",
    "for i in range(3, n+1):\n",
    "    dp[i] = dp[i-1] + dp[i-2]\n",
    "\n",
    "print(str(dp[n] % 10007))"
   ]
  },
  {
   "cell_type": "code",
   "execution_count": null,
   "metadata": {},
   "outputs": [],
   "source": [
    "#11727\n",
    "\n",
    "import sys\n",
    "input = sys.stdin.readline\n",
    "print = sys.stdout.write\n",
    "\n",
    "n = int(input())\n",
    "\n",
    "dp = [ 0 for _ in range(1001)]\n",
    "\n",
    "dp[1] = 1\n",
    "dp[2] = 3\n",
    "\n",
    "for i in range(3, n+1):\n",
    "    dp[i] = dp[i-1] + dp[i-2] * 2\n",
    "    \n",
    "print(str(dp[n] % 10007))"
   ]
  },
  {
   "cell_type": "code",
   "execution_count": 15,
   "metadata": {},
   "outputs": [
    {
     "name": "stdout",
     "output_type": "stream",
     "text": [
      "3\n",
      "4\n",
      "7\n",
      "10\n",
      "7\n",
      "44\n",
      "274\n"
     ]
    }
   ],
   "source": [
    "#9095\n",
    "import sys\n",
    "input = sys.stdin.readline\n",
    "print = sys.stdout.write\n",
    "\n",
    "N = int(input())\n",
    "\n",
    "n_list = [ int(input()) for _ in range(N)]\n",
    "\n",
    "dp = [ 0 for _ in range(11)]\n",
    "dp[1] = 1\n",
    "dp[2] = 2\n",
    "dp[3] = 4\n",
    "\n",
    "for i in range(4, 11):\n",
    "    dp[i] = dp[i-1] + dp[i-2] + dp[i-3]\n",
    "\n",
    "for i in n_list:\n",
    "    print(str(dp[i]) + \"\\n\")"
   ]
  },
  {
   "cell_type": "code",
   "execution_count": 5,
   "metadata": {},
   "outputs": [
    {
     "name": "stdout",
     "output_type": "stream",
     "text": [
      "3\n",
      "32"
     ]
    }
   ],
   "source": [
    "#10844\n",
    "import sys\n",
    "input = sys.stdin.readline\n",
    "print = sys.stdout.write\n",
    "\n",
    "N = int(input())\n",
    "\n",
    "dp = [[1] * 10 for _ in range(N+1)]\n",
    "\n",
    "dp[1][0] = 0\n",
    "\n",
    "for i in range(2, N+1):\n",
    "    for j in range(10):\n",
    "        if j == 0:\n",
    "            dp[i][j] = dp[i-1][j+1]\n",
    "        elif j == 9:\n",
    "            dp[i][j] = dp[i-1][j-1]\n",
    "        else:\n",
    "            dp[i][j] = dp[i-1][j-1] + dp[i-1][j+1]\n",
    "print(str(sum(dp[N]) % 1000000000))"
   ]
  },
  {
   "cell_type": "code",
   "execution_count": null,
   "metadata": {},
   "outputs": [],
   "source": [
    "import sys\n",
    "input = sys.stdin.readline\n",
    "print = sys.stdout.write\n",
    "\n",
    "N = int(input())\n",
    "\n",
    "dp = [[1] * 10 for _ in range(N+1)]\n",
    "\n",
    "dp[1][0] = 0\n",
    "\n",
    "for i in range(2, N+1):\n",
    "    dp[i][0] = dp[i-1][1]\n",
    "    for j in range(1, 9):\n",
    "        dp[i][j] = dp[i-1][j-1] + dp[i-1][j+1]\n",
    "    dp[i][9] = dp[i-1][8]\n",
    "print(str(sum(dp[N]) % 1000000000))"
   ]
  },
  {
   "cell_type": "code",
   "execution_count": 10,
   "metadata": {},
   "outputs": [
    {
     "name": "stdout",
     "output_type": "stream",
     "text": [
      "3\n",
      "220"
     ]
    }
   ],
   "source": [
    "#11057\n",
    "import sys\n",
    "input = sys.stdin.readline\n",
    "print = sys.stdout.write\n",
    "\n",
    "N = int(input())\n",
    "\n",
    "dp = [[1] * 10 for _ in range(N+1)]\n",
    "\n",
    "for i in range(2, N+1):\n",
    "    dp[i][0] = dp[i-1][0]\n",
    "    for j in range(1,10):\n",
    "        dp[i][j] = dp[i][j-1] + dp[i-1][j]\n",
    "        \n",
    "print(str(sum(dp[N]) % 10007))"
   ]
  },
  {
   "cell_type": "code",
   "execution_count": 11,
   "metadata": {},
   "outputs": [
    {
     "name": "stdout",
     "output_type": "stream",
     "text": [
      "3\n",
      "2"
     ]
    }
   ],
   "source": [
    "#2193\n",
    "\n",
    "import sys\n",
    "input = sys.stdin.readline\n",
    "print = sys.stdout.write\n",
    "\n",
    "N = int(input())\n",
    "\n",
    "dp = [[0] * 2 for _ in range(N+1)]\n",
    "\n",
    "dp[1][1] = 1\n",
    "\n",
    "for i in range(2, N+1):\n",
    "    dp[i][0] = dp[i-1][1] + dp[i-1][0]\n",
    "    dp[i][1] = dp[i-1][0]\n",
    "    \n",
    "print(str(sum(dp[N])))"
   ]
  },
  {
   "cell_type": "code",
   "execution_count": 14,
   "metadata": {},
   "outputs": [
    {
     "name": "stdout",
     "output_type": "stream",
     "text": [
      "1\n",
      "7\n",
      "10 30 10 50 100 20 40\n",
      "20 40 30 50 60 20 80\n",
      "290"
     ]
    }
   ],
   "source": [
    "#9464\n",
    "import sys\n",
    "input = sys.stdin.readline\n",
    "print = sys.stdout.write\n",
    "\n",
    "N = int(input())\n",
    "\n",
    "for _ in range(N):\n",
    "    m = int(input())\n",
    "    data = [list(map(int, input().split())) for _ in range(2)]\n",
    "    dp = [[0] * m for _ in range(2)]\n",
    "    dp[0][0] = data[0][0]\n",
    "    dp[1][0] = data[1][0]\n",
    "    dp[0][1] = data[0][1] + dp[1][0]\n",
    "    dp[1][1] = data[1][1] + dp[0][0]\n",
    "    \n",
    "    for i in range(2, m):\n",
    "        dp[0][i] = data[0][i] + max(dp[1][i-1], dp[1][i-2])\n",
    "        dp[1][i] = data[1][i] + max(dp[0][i-1], dp[0][i-2])\n",
    "        \n",
    "    print(str(max(dp[0][m-1], dp[1][m-1]))+ \"\\n\")"
   ]
  },
  {
   "cell_type": "code",
   "execution_count": null,
   "metadata": {},
   "outputs": [],
   "source": [
    "import sys\n",
    "input = sys.stdin.readline\n",
    "print = sys.stdout.write\n",
    "\n",
    "N = int(input())\n",
    "\n",
    "for _ in range(N):\n",
    "    m = int(input())\n",
    "    dp = [list(map(int, input().split())) for _ in range(2)]\n",
    "    dp[0][1] += dp[1][0]\n",
    "    dp[1][1] += dp[0][0]\n",
    "    \n",
    "    for i in range(2, m):\n",
    "        for j in [0, 1]: dp[j][i] += max(dp[j-1][i-1], dp[j-1][i-2])\n",
    "    print(str(max(dp[0][-1], dp[1][-1]))+ \"\\n\")"
   ]
  },
  {
   "cell_type": "code",
   "execution_count": 27,
   "metadata": {},
   "outputs": [
    {
     "name": "stdout",
     "output_type": "stream",
     "text": [
      "3\n",
      "3\n",
      "4\n",
      "5\n",
      "8"
     ]
    }
   ],
   "source": [
    "#2156\n",
    "import sys\n",
    "# input = sys.stdin.readline\n",
    "print = sys.stdout.write\n",
    "\n",
    "N = int(input())\n",
    "\n",
    "data = [int(input()) for _ in range(N)]\n",
    "\n",
    "dp = [0 for _ in range(N+1)]\n",
    "\n",
    "dp[1] = data[0]\n",
    "\n",
    "if N >= 2: dp[2] = dp[1] + data[1]\n",
    "    \n",
    "for i in range(3, N+1):\n",
    "    dp[i] = max(dp[i-3] + data[i-2] + data[i-1], dp[i-2] + data[i-1], dp[i-1])\n",
    "\n",
    "print(str(dp[N]))"
   ]
  },
  {
   "cell_type": "code",
   "execution_count": 48,
   "metadata": {},
   "outputs": [
    {
     "name": "stdout",
     "output_type": "stream",
     "text": [
      "4\n",
      "50 20 30 10\n",
      "2"
     ]
    }
   ],
   "source": [
    "# 디폴트의 중요성\n",
    "import sys\n",
    "# input = sys.stdin.readline\n",
    "print = sys.stdout.write\n",
    "\n",
    "N = int(input())\n",
    "\n",
    "data = list(map(int, input().split()))\n",
    "\n",
    "dp = [1 for _ in range(N+1)]\n",
    "\n",
    "for i in range(2, N+1):\n",
    "    for j in range(1, i):\n",
    "        if data[i-1] > data[j-1]:\n",
    "            dp[i] = max(dp[i], dp[j] + 1)\n",
    "print(str(max(dp)))"
   ]
  },
  {
   "cell_type": "code",
   "execution_count": 1,
   "metadata": {},
   "outputs": [
    {
     "name": "stdout",
     "output_type": "stream",
     "text": [
      "10\n",
      "1 100 2 50 60 3 5 6 7 8\n",
      "113"
     ]
    }
   ],
   "source": [
    "#11055\n",
    "\n",
    "import sys\n",
    "input = sys.stdin.readline\n",
    "print = sys.stdout.write\n",
    "\n",
    "N = int(input())\n",
    "\n",
    "data = [0] + list(map(int, input().split()))\n",
    "\n",
    "dp = [ data[i] for i in range(N+1)]\n",
    "\n",
    "for i in range(2, N+1):\n",
    "    for j in range(1, i):\n",
    "        if data[i] > data[j]:\n",
    "            dp[i] = max(dp[i], dp[j] + data[i])\n",
    "print(str(max(dp)))"
   ]
  },
  {
   "cell_type": "code",
   "execution_count": 3,
   "metadata": {},
   "outputs": [
    {
     "name": "stdout",
     "output_type": "stream",
     "text": [
      "6\n",
      "10 30 10 20 20 10\n",
      "3"
     ]
    }
   ],
   "source": [
    "#11722\n",
    "\n",
    "import sys\n",
    "input = sys.stdin.readline\n",
    "print = sys.stdout.write\n",
    "\n",
    "N = int(input())\n",
    "\n",
    "data = [0] + list(map(int, input().split()))\n",
    "\n",
    "dp = [ 1 for i in range(N+1)]\n",
    "\n",
    "for i in range(2, N+1):\n",
    "    for j in range(1, i):\n",
    "        if data[i] < data[j]:\n",
    "            dp[i] = max(dp[i], dp[j] + 1)\n",
    "print(str(max(dp)))"
   ]
  },
  {
   "cell_type": "code",
   "execution_count": 2,
   "metadata": {},
   "outputs": [
    {
     "name": "stdout",
     "output_type": "stream",
     "text": [
      "10\n",
      "1 5 2 1 4 3 4 5 2 1\n",
      "8"
     ]
    }
   ],
   "source": [
    "#11054\n",
    "import sys\n",
    "# input = sys.stdin.readline\n",
    "print = sys.stdout.write\n",
    "\n",
    "N = int(input())\n",
    "\n",
    "data = [0] + list(map(int, input().split()))\n",
    "\n",
    "dp_up = [ 1 for _ in range(N+1)]\n",
    "dp_down = [ 1 for _ in range(N+1)]\n",
    "\n",
    "for i in range(2, N+1):\n",
    "    for j in range(1, i):\n",
    "        if data[i] > data[j]:\n",
    "            dp_up[i] = max(dp_up[i], dp_up[j] + 1)\n",
    "\n",
    "for i in range(N-1, 0, -1):\n",
    "    for j in range(N, i, -1):\n",
    "        if data[i] > data[j]:\n",
    "            dp_down[i] = max(dp_down[i], dp_down[j] + 1)\n",
    "\n",
    "max_value = 0        \n",
    "for i in range(1, N+1):\n",
    "    tmp = dp_up[i] + dp_down[i]\n",
    "    if max_value < tmp:\n",
    "        max_value = tmp\n",
    "        \n",
    "print(str(max_value - 1))"
   ]
  },
  {
   "cell_type": "code",
   "execution_count": 1,
   "metadata": {},
   "outputs": [
    {
     "name": "stdout",
     "output_type": "stream",
     "text": [
      "1\n",
      "5\n",
      "5"
     ]
    }
   ],
   "source": [
    "#1912\n",
    "import sys\n",
    "# input = sys.stdin.readline\n",
    "print = sys.stdout.write\n",
    "\n",
    "N = int(input())\n",
    "\n",
    "data = [-1001] + list(map(int, input().split()))\n",
    "\n",
    "dp = [data[i] for i in range(N+1)]\n",
    "\n",
    "for i in range(2, N+1):\n",
    "    dp[i] = max(dp[i], dp[i-1] + data[i])\n",
    "\n",
    "print(str(max(dp)))"
   ]
  },
  {
   "cell_type": "code",
   "execution_count": 3,
   "metadata": {},
   "outputs": [
    {
     "name": "stdout",
     "output_type": "stream",
     "text": [
      "6\n",
      "10\n",
      "20\n",
      "15\n",
      "25\n",
      "10\n",
      "20\n",
      "75"
     ]
    }
   ],
   "source": [
    "# 2579\n",
    "\n",
    "import sys\n",
    "input = sys.stdin.readline\n",
    "print = sys.stdout.write\n",
    "\n",
    "N = int(input())\n",
    "\n",
    "data = [0] + [int(input()) for _ in range(N)]\n",
    "\n",
    "dp = [0  for _ in range(N+1) ]\n",
    "dp[1] = data[1]\n",
    "\n",
    "if N >=2: dp[2] = data[1] + data[2]\n",
    "\n",
    "for i in range(3, N+1):\n",
    "    dp[i] = data[i] + max(dp[i-2], dp[i-3] + data[i-1])\n",
    "\n",
    "print(str(dp[N]))"
   ]
  },
  {
   "cell_type": "code",
   "execution_count": 9,
   "metadata": {},
   "outputs": [
    {
     "name": "stdout",
     "output_type": "stream",
     "text": [
      "20\n",
      "2"
     ]
    }
   ],
   "source": [
    "# 1699\n",
    "\n",
    "#느껴야 할 점이 있다 아래 코드는 dp가 아니라 그리디적 사고방식이다 이 문제는 그리디로 풀리지 않는데\n",
    "# 어느 제곱수로 뺀 값이 가장 최소일지는 알수가 없다. 가장 큰 제곱수로 빼소 최소값이 보장되지 않는다.\n",
    "import sys, math\n",
    "# input = sys.stdin.readline\n",
    "print = sys.stdout.write\n",
    "\n",
    "N = int(input())\n",
    "\n",
    "dp = [0 for _ in range(N+1)]\n",
    "dp[1] = 1\n",
    "exp = 1\n",
    "\n",
    "for i in range(2, N+1):\n",
    "    if math.sqrt(i) % 1 == 0:\n",
    "        exp = i\n",
    "        dp[i] = 1\n",
    "    else:\n",
    "        dp[i] = dp[exp] + dp[i-exp]\n",
    "print(str(dp[N]))"
   ]
  },
  {
   "cell_type": "code",
   "execution_count": 10,
   "metadata": {},
   "outputs": [
    {
     "name": "stdout",
     "output_type": "stream",
     "text": [
      "7\n",
      "4"
     ]
    }
   ],
   "source": [
    "# 1699\n",
    "\n",
    "import sys\n",
    "input = sys.stdin.readline\n",
    "print = sys.stdout.write\n",
    "\n",
    "N = int(input())\n",
    "\n",
    "dp = [0 for _ in range(N+1)]\n",
    "dp[1] = 1\n",
    "\n",
    "for i in range(2, N+1):\n",
    "    s = []\n",
    "    for j in range(1, i):\n",
    "        if j**2 > i:\n",
    "            break\n",
    "        s.append(dp[i-j**2])\n",
    "    dp[i] = min(s) + 1\n",
    "\n",
    "print(str(dp[N]))"
   ]
  },
  {
   "cell_type": "code",
   "execution_count": 11,
   "metadata": {},
   "outputs": [
    {
     "name": "stdout",
     "output_type": "stream",
     "text": [
      "7\n",
      "4"
     ]
    }
   ],
   "source": [
    "# 1699\n",
    "\n",
    "import sys\n",
    "input = sys.stdin.readline\n",
    "print = sys.stdout.write\n",
    "\n",
    "N = int(input())\n",
    "\n",
    "dp = [0] + [10 ** 7 for _ in range(N)]\n",
    "dp[1] = 1\n",
    "\n",
    "for i in range(2, N+1):\n",
    "    for j in range(1, i):\n",
    "        if j ** 2 > i:\n",
    "            break\n",
    "        dp[i] = min(dp[i], dp[i - j**2] + 1)\n",
    "print(str(dp[-1]))"
   ]
  },
  {
   "cell_type": "code",
   "execution_count": 23,
   "metadata": {},
   "outputs": [
    {
     "name": "stdout",
     "output_type": "stream",
     "text": [
      "6\n",
      "41"
     ]
    }
   ],
   "source": [
    "#2133\n",
    "import sys\n",
    "# input = sys.stdin.readline\n",
    "print = sys.stdout.write\n",
    "\n",
    "N = int(input())\n",
    "\n",
    "dp = [0 for _ in range(31)]\n",
    "dp[0] = 1\n",
    "dp[2] = 3\n",
    "\n",
    "for i in range(4, N+1):\n",
    "    dp[i] += dp[i-2] * dp[2]\n",
    "    for j in range(4, i+1, 2):\n",
    "        dp[i] += dp[i-j] * 2\n",
    "    \n",
    "print(str(dp[N]))"
   ]
  },
  {
   "cell_type": "code",
   "execution_count": 27,
   "metadata": {
    "scrolled": true
   },
   "outputs": [
    {
     "name": "stdout",
     "output_type": "stream",
     "text": [
      "2\n",
      "6\n",
      "12\n",
      "3\n",
      "16\n"
     ]
    }
   ],
   "source": [
    "#9461\n",
    "\n",
    "import sys\n",
    "# input = sys.stdin.readline\n",
    "print = sys.stdout.write\n",
    "\n",
    "N = int(input())\n",
    "n_list = [int(input()) for _ in range(N)]\n",
    "\n",
    "dp = [1 for _ in range(101)]\n",
    "dp[4] = 2\n",
    "dp[5] = 2\n",
    "\n",
    "for i in range(6, 101):\n",
    "    dp[i] = dp[i-1] + dp[i-5]\n",
    "\n",
    "for i in n_list:\n",
    "    print(str(dp[i]) + \"\\n\")"
   ]
  },
  {
   "cell_type": "code",
   "execution_count": 4,
   "metadata": {},
   "outputs": [
    {
     "name": "stdout",
     "output_type": "stream",
     "text": [
      "1 2\n",
      "2"
     ]
    }
   ],
   "source": [
    "#2225\n",
    "\n",
    "import sys\n",
    "# input = sys.stdin.readline\n",
    "print = sys.stdout.write\n",
    "\n",
    "N, K = map(int, input().split())\n",
    "\n",
    "dp = [[i for i in range(K+1)] for _ in range(N+1)]\n",
    "\n",
    "for i in range(2, N+1):\n",
    "    for j in range(2, K+1):\n",
    "        tmp = 0\n",
    "        for k in range(1, j+1):\n",
    "            tmp += dp[i-1][k]\n",
    "        dp[i][j] = tmp\n",
    "        \n",
    "print(str(dp[N][K]% 1000000000))"
   ]
  },
  {
   "cell_type": "code",
   "execution_count": null,
   "metadata": {},
   "outputs": [],
   "source": [
    "import sys\n",
    "# input = sys.stdin.readline\n",
    "print = sys.stdout.write\n",
    "\n",
    "N, K = map(int, input().split())\n",
    "\n",
    "dp = [[i for i in range(K+1)] for _ in range(N+1)]\n",
    "\n",
    "for i in range(2, N+1):\n",
    "    for j in range(2, K+1):\n",
    "        dp[i][j] = dp[i-1][j] + dp[i][j-1]\n",
    "print(str(dp[N][K] % 1000000000))"
   ]
  },
  {
   "cell_type": "code",
   "execution_count": 36,
   "metadata": {},
   "outputs": [
    {
     "name": "stdout",
     "output_type": "stream",
     "text": [
      "231073922567593310220584108577986969873573552610777215266785748559642107110848777549666583941101559587576102097794103244339116201020105920715965694831037965910672089415641620856898373669358894685443959256878420141053333652038736388358634106687699981144315575784542078877962204682072074410414744743984834256682032098675998463798578520341561064866838473207799786788889116476941693631068235325586741097738316954742320239787681389203554992262\n",
      "823808"
     ]
    }
   ],
   "source": [
    "import sys\n",
    "# input = sys.stdin.readline\n",
    "print = sys.stdout.write\n",
    "data = [0] + list(map(int, \",\".join(input().strip()).split(\",\")))\n",
    "N = len(data) - 1\n",
    "\n",
    "if data[1] == 0:\n",
    "    print(\"0\")\n",
    "else:\n",
    "    dp = [1 for _ in range(N+1)]\n",
    "\n",
    "    for i in range(2, N+1):\n",
    "        if data[i] == 0:\n",
    "            dp[i] = dp[i-2]\n",
    "        elif 10 <= data[i-1] * 10 + data[i] and 26 >= data[i-1] * 10 + data[i]:\n",
    "            dp[i] = dp[i-1] + dp[i-2]\n",
    "        else: \n",
    "            dp[i] = dp[i-1]\n",
    "\n",
    "    print(str(dp[N] % 1000000))\n",
    "\n"
   ]
  },
  {
   "cell_type": "code",
   "execution_count": 37,
   "metadata": {},
   "outputs": [
    {
     "name": "stdout",
     "output_type": "stream",
     "text": [
      "231073922567593310220584108577986969873573552610777215266785748559642107110848777549666583941101559587576102097794103244339116201020105920715965694831037965910672089415641620856898373669358894685443959256878420141053333652038736388358634106687699981144315575784542078877962204682072074410414744743984834256682032098675998463798578520341561064866838473207799786788889116476941693631068235325586741097738316954742320239787681389203554992262\n",
      "823808"
     ]
    }
   ],
   "source": [
    "import sys\n",
    "# input = sys.stdin.readline\n",
    "print = sys.stdout.write\n",
    "data = [0] + list(map(int, \",\".join(input().strip()).split(\",\")))\n",
    "N = len(data) - 1\n",
    "\n",
    "if data[1] == 0:\n",
    "    print(\"0\")\n",
    "else:\n",
    "    dp = [0 for _ in range(N+1)]\n",
    "    dp[0], dp[1] = 1, 1\n",
    "    \n",
    "    for i in range(2, N+1):\n",
    "        if data[i] > 0:\n",
    "            dp[i] += dp[i-1]\n",
    "        \n",
    "        tmp = data[i-1] * 10 + data[i]\n",
    "        if 10 <= tmp and 26 >= tmp:\n",
    "            dp[i] += dp[i-2]\n",
    "\n",
    "    print(str(dp[N] % 1000000))"
   ]
  },
  {
   "cell_type": "code",
   "execution_count": 40,
   "metadata": {},
   "outputs": [
    {
     "name": "stdout",
     "output_type": "stream",
     "text": [
      "10\n",
      "1 1 2 3 5 8 13 21 34 55\n",
      "55"
     ]
    }
   ],
   "source": [
    "#11052\n",
    "\n",
    "import sys\n",
    "input = sys.stdin.readline\n",
    "print = sys.stdout.write\n",
    "\n",
    "N = int(input())\n",
    "data = [0] + list(map(int, input().split()))\n",
    "\n",
    "dp = [data[i] for i in range(N+1)]\n",
    "\n",
    "for i in range(2, N+1):\n",
    "    for j in range(1, i):\n",
    "        dp[i] = max(dp[i], data[j] + dp[i-j])\n",
    "\n",
    "print(str(dp[-1]))"
   ]
  },
  {
   "cell_type": "code",
   "execution_count": 42,
   "metadata": {},
   "outputs": [
    {
     "name": "stdout",
     "output_type": "stream",
     "text": [
      "4\n",
      "1\n",
      "2\n",
      "3\n",
      "2\n",
      "1223"
     ]
    }
   ],
   "source": [
    "#2751\n",
    "\n",
    "import sys\n",
    "input = sys.stdin.readline\n",
    "print = sys.stdout.write\n",
    "\n",
    "N = int(input())\n",
    "data = sorted([int(input()) for _ in range(N)])\n",
    "\n",
    "for i in range(N): print(str(data[i])+\"\\n\")"
   ]
  },
  {
   "cell_type": "code",
   "execution_count": 51,
   "metadata": {},
   "outputs": [
    {
     "name": "stdout",
     "output_type": "stream",
     "text": [
      "3\n",
      "1 6\n",
      "1 4\n",
      "1 8\n",
      "1 6\n",
      "1 4\n",
      "1 8\n"
     ]
    }
   ],
   "source": [
    "#11650\n",
    "import sys\n",
    "# input = sys.stdin.readline\n",
    "print = sys.stdout.write\n",
    "\n",
    "N = int(input())\n",
    "data = sorted([list(map(int, input().split())) for _ in range(N)])\n",
    "\n",
    "for i in range(N): print(str(data[i][0]) + \" \" + str(data[i][1]) +\"\\n\")\n",
    "    \n",
    "# lamda를 쓰면 stable 유지!"
   ]
  },
  {
   "cell_type": "code",
   "execution_count": 52,
   "metadata": {},
   "outputs": [
    {
     "name": "stdout",
     "output_type": "stream",
     "text": [
      "3\n",
      "6 1\n",
      "4 1\n",
      "8 1\n",
      "4 1\n",
      "6 1\n",
      "8 1\n"
     ]
    }
   ],
   "source": [
    "#11651\n",
    "import sys\n",
    "# input = sys.stdin.readline\n",
    "print = sys.stdout.write\n",
    "\n",
    "N = int(input())\n",
    "data = sorted([list(map(int, input().strip().split())) for _ in range(N)], key=lambda x: x[0])\n",
    "data.sort(key = lambda x:x[1])\n",
    "\n",
    "\n",
    "for i in range(N): print(str(data[i][0]) + \" \" + str(data[i][1]) +\"\\n\")"
   ]
  },
  {
   "cell_type": "code",
   "execution_count": 65,
   "metadata": {
    "scrolled": true
   },
   "outputs": [
    {
     "name": "stdout",
     "output_type": "stream",
     "text": [
      "3\n",
      "9 asd\n",
      "22 qweq\n",
      "9 sax\n",
      "22 qweq\n",
      "9 asd\n",
      "9 sax\n"
     ]
    }
   ],
   "source": [
    "#10814\n",
    "import sys\n",
    "# input = sys.stdin.readline\n",
    "print = sys.stdout.write\n",
    "\n",
    "N = int(input())\n",
    "data = sorted([input().strip().split() for _ in range(N)], key=lambda x: x[0])\n",
    "\n",
    "for i in range(N): print(data[i][0] + \" \" + data[i][1] +\"\\n\")"
   ]
  },
  {
   "cell_type": "code",
   "execution_count": 63,
   "metadata": {},
   "outputs": [
    {
     "name": "stdout",
     "output_type": "stream",
     "text": [
      "3\n",
      "20 qwe\n",
      "20 asd\n",
      "19 adwq\n",
      "19 adwq\n",
      "20 qwe\n",
      "20 asd\n"
     ]
    }
   ],
   "source": [
    "import sys\n",
    "# input = sys.stdin.readline\n",
    "print = sys.stdout.write\n",
    "\n",
    "N = int(input())\n",
    "data = []\n",
    "for i in range(N):\n",
    "    age, name = input().split()\n",
    "    data.append([int(age), name])\n",
    "data.sort(key=lambda x: x[0])\n",
    "\n",
    "for i in range(N): print(str(data[i][0]) + \" \" + data[i][1] +\"\\n\")"
   ]
  },
  {
   "cell_type": "code",
   "execution_count": null,
   "metadata": {},
   "outputs": [],
   "source": [
    "import sys\n",
    "# input = sys.stdin.readline\n",
    "print = sys.stdout.write\n",
    "\n",
    "N = int(input())\n",
    "data = []\n",
    "for i in range(N):\n",
    "    name, kor, eng, math = input().split()\n",
    "    data.append([int(kor), int(eng), int(math), name])\n",
    "data.sort(key=lambda x: x[3])\n",
    "data.sort(key=lambda x: x[2], reverse=True)\n",
    "data.sort(key=lambda x: x[1])\n",
    "data.sort(key=lambda x: x[0], reverse=True)\n",
    "\n",
    "for i in range(N): print(str(data[i][3]) + \"\\n\")"
   ]
  },
  {
   "cell_type": "code",
   "execution_count": 66,
   "metadata": {},
   "outputs": [
    {
     "name": "stdout",
     "output_type": "stream",
     "text": [
      "5\n",
      "1\n",
      "3\n",
      "4\n",
      "3\n",
      "1\n",
      "1 \n",
      "1 \n",
      "3 \n",
      "3 \n",
      "4 \n"
     ]
    }
   ],
   "source": [
    "#10989\n",
    "import sys\n",
    "# input = sys.stdin.readline\n",
    "print = sys.stdout.write\n",
    "\n",
    "N = int(input())\n",
    "count = [0 for _ in range(10001)]\n",
    "\n",
    "for i in range(N):\n",
    "    n = int(input())\n",
    "    count[n] += 1\n",
    "for i in range(1, 10001):\n",
    "    for j in range(count[i]):\n",
    "        print(str(i) + \" \\n\")\n",
    "\n",
    "    "
   ]
  },
  {
   "cell_type": "code",
   "execution_count": 83,
   "metadata": {},
   "outputs": [
    {
     "name": "stdout",
     "output_type": "stream",
     "text": [
      "5\n",
      "1\n",
      "1\n",
      "-1\n",
      "-1\n",
      "2\n",
      "-1"
     ]
    }
   ],
   "source": [
    "#11652\n",
    "import sys\n",
    "# input = sys.stdin.readline\n",
    "print = sys.stdout.write\n",
    "\n",
    "N = int(input())\n",
    "\n",
    "count = {}\n",
    "\n",
    "for _ in range(N):\n",
    "    n = int(input())\n",
    "    if n in count:\n",
    "        count[n] += 1\n",
    "    else:\n",
    "        count[n] = 1\n",
    "\n",
    "data = list(count.items())\n",
    "data.sort(key=lambda x:x[0], reverse=True)\n",
    "data.sort(key=lambda x:x[1])\n",
    "    \n",
    "print(str(data[-1][0]))"
   ]
  },
  {
   "cell_type": "code",
   "execution_count": 80,
   "metadata": {},
   "outputs": [
    {
     "data": {
      "text/plain": [
       "[(1, 2), (2, 4)]"
      ]
     },
     "execution_count": 80,
     "metadata": {},
     "output_type": "execute_result"
    }
   ],
   "source": [
    "a = {1: 2, 2: 4}\n",
    "list(a.items())"
   ]
  },
  {
   "cell_type": "code",
   "execution_count": null,
   "metadata": {},
   "outputs": [],
   "source": [
    "#11004\n",
    "import sys\n",
    "# input = sys.stdin.readline\n",
    "print = sys.stdout.write\n",
    "\n",
    "n, k = map(int, input().split())\n",
    "data = sorted(list(map(int, input().split())))\n",
    "\n",
    "print(str(data[k-1]))"
   ]
  },
  {
   "cell_type": "code",
   "execution_count": 89,
   "metadata": {},
   "outputs": [
    {
     "name": "stdout",
     "output_type": "stream",
     "text": [
      "5\n",
      "push 1\n",
      "push 2\n",
      "top\n",
      "2\n",
      "size\n",
      "2\n",
      "empty\n"
     ]
    }
   ],
   "source": [
    "#10828\n",
    "\n",
    "import sys\n",
    "# input = sys.stdin.readline\n",
    "print = sys.stdout.write\n",
    "class Stack:\n",
    "    def __init__(self):\n",
    "        self.stack = []\n",
    "    \n",
    "    def push(self, value):\n",
    "        self.stack.append(value)\n",
    "    \n",
    "    def empty(self):\n",
    "        if len(self.stack) == 0:\n",
    "            return True\n",
    "        else:\n",
    "            return False\n",
    "    \n",
    "    def pop(self):\n",
    "        if self.empty():\n",
    "            print(str(-1) +\"\\n\")\n",
    "            return\n",
    "        print(str(self.stack.pop())+\"\\n\") \n",
    "    \n",
    "    def top(self):\n",
    "        if self.empty():\n",
    "            print(str(-1) +\"\\n\")\n",
    "            return\n",
    "        print(str(self.stack[-1]) +\"\\n\")\n",
    "         \n",
    "    def size(self):\n",
    "        print(str(len(self.stack))+\"\\n\")\n",
    "        \n",
    "N = int(input())\n",
    "stack = Stack()\n",
    "\n",
    "for i in range(N):\n",
    "    data = input().split()\n",
    "    if data[0] == \"push\":\n",
    "        stack.push(data[1])\n",
    "    if data[0] == \"empty\":\n",
    "        if stack.empty():\n",
    "            print(str(1) +\"\\n\")\n",
    "        else:\n",
    "            print(str(0)+\"\\n\")\n",
    "    if data[0] == \"pop\":\n",
    "        stack.pop()\n",
    "    if data[0] == \"top\":\n",
    "        stack.top()\n",
    "    if data[0] == \"size\":\n",
    "        stack.size()\n",
    "        "
   ]
  },
  {
   "cell_type": "code",
   "execution_count": 84,
   "metadata": {},
   "outputs": [
    {
     "data": {
      "text/plain": [
       "3"
      ]
     },
     "execution_count": 84,
     "metadata": {},
     "output_type": "execute_result"
    }
   ],
   "source": []
  },
  {
   "cell_type": "code",
   "execution_count": null,
   "metadata": {},
   "outputs": [],
   "source": []
  }
 ],
 "metadata": {
  "kernelspec": {
   "display_name": "Python 3",
   "language": "python",
   "name": "python3"
  },
  "language_info": {
   "codemirror_mode": {
    "name": "ipython",
    "version": 3
   },
   "file_extension": ".py",
   "mimetype": "text/x-python",
   "name": "python",
   "nbconvert_exporter": "python",
   "pygments_lexer": "ipython3",
   "version": "3.7.3"
  }
 },
 "nbformat": 4,
 "nbformat_minor": 4
}
